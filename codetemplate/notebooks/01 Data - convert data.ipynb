{
 "cells": [
  {
   "cell_type": "markdown",
   "metadata": {},
   "source": [
    "## First inspection on raw data"
   ]
  },
  {
   "cell_type": "code",
   "execution_count": 12,
   "metadata": {},
   "outputs": [
    {
     "data": {
      "text/html": [
       "<div>\n",
       "<style scoped>\n",
       "    .dataframe tbody tr th:only-of-type {\n",
       "        vertical-align: middle;\n",
       "    }\n",
       "\n",
       "    .dataframe tbody tr th {\n",
       "        vertical-align: top;\n",
       "    }\n",
       "\n",
       "    .dataframe thead th {\n",
       "        text-align: right;\n",
       "    }\n",
       "</style>\n",
       "<table border=\"1\" class=\"dataframe\">\n",
       "  <thead>\n",
       "    <tr style=\"text-align: right;\">\n",
       "      <th></th>\n",
       "      <th>source_id</th>\n",
       "      <th>datetime</th>\n",
       "      <th>property_name</th>\n",
       "      <th>temperature</th>\n",
       "    </tr>\n",
       "  </thead>\n",
       "  <tbody>\n",
       "    <tr>\n",
       "      <th>0</th>\n",
       "      <td>MICDEV001</td>\n",
       "      <td>2019-04-13T17:51:16.000+0000</td>\n",
       "      <td>heating_temperature</td>\n",
       "      <td>33.3</td>\n",
       "    </tr>\n",
       "    <tr>\n",
       "      <th>1</th>\n",
       "      <td>MICDEV001</td>\n",
       "      <td>2019-04-13T17:51:16.000+0000</td>\n",
       "      <td>cooling_temperature</td>\n",
       "      <td>15.0</td>\n",
       "    </tr>\n",
       "    <tr>\n",
       "      <th>2</th>\n",
       "      <td>MICDEV001</td>\n",
       "      <td>2019-04-13T18:51:18.000+0000</td>\n",
       "      <td>heating_temperature</td>\n",
       "      <td>34.0</td>\n",
       "    </tr>\n",
       "    <tr>\n",
       "      <th>3</th>\n",
       "      <td>MICDEV001</td>\n",
       "      <td>2019-04-13T19:51:20.000+0000</td>\n",
       "      <td>heating_temperature</td>\n",
       "      <td>33.8</td>\n",
       "    </tr>\n",
       "    <tr>\n",
       "      <th>4</th>\n",
       "      <td>MICDEV001</td>\n",
       "      <td>2019-04-13T20:51:21.000+0000</td>\n",
       "      <td>heating_temperature</td>\n",
       "      <td>34.2</td>\n",
       "    </tr>\n",
       "  </tbody>\n",
       "</table>\n",
       "</div>"
      ],
      "text/plain": [
       "   source_id                      datetime        property_name  temperature\n",
       "0  MICDEV001  2019-04-13T17:51:16.000+0000  heating_temperature         33.3\n",
       "1  MICDEV001  2019-04-13T17:51:16.000+0000  cooling_temperature         15.0\n",
       "2  MICDEV001  2019-04-13T18:51:18.000+0000  heating_temperature         34.0\n",
       "3  MICDEV001  2019-04-13T19:51:20.000+0000  heating_temperature         33.8\n",
       "4  MICDEV001  2019-04-13T20:51:21.000+0000  heating_temperature         34.2"
      ]
     },
     "execution_count": 12,
     "metadata": {},
     "output_type": "execute_result"
    }
   ],
   "source": [
    "import os\n",
    "import pandas as pd\n",
    "\n",
    "\n",
    "df = pd.read_csv(\"../../data/sample_temperature_data_for_coding_challenge.csv\")\n",
    "df.head()"
   ]
  },
  {
   "cell_type": "code",
   "execution_count": 13,
   "metadata": {},
   "outputs": [
    {
     "data": {
      "text/plain": [
       "source_id         object\n",
       "datetime          object\n",
       "property_name     object\n",
       "temperature      float64\n",
       "dtype: object"
      ]
     },
     "execution_count": 13,
     "metadata": {},
     "output_type": "execute_result"
    }
   ],
   "source": [
    "df.dtypes"
   ]
  },
  {
   "cell_type": "markdown",
   "metadata": {},
   "source": [
    "Combine datapoints with identical timestamp"
   ]
  },
  {
   "cell_type": "code",
   "execution_count": 44,
   "metadata": {},
   "outputs": [
    {
     "name": "stdout",
     "output_type": "stream",
     "text": [
      "Column names are source_id, datetime, property_name, temperature\n",
      "Processed 1001 lines.\n"
     ]
    }
   ],
   "source": [
    "import csv\n",
    "import numpy as np\n",
    "\n",
    "sample_file = \"../../data/sample_temperature_data_for_coding_challenge.csv\"\n",
    "\n",
    "with open(sample_file, \"r\") as csv_file:\n",
    "    csv_reader = csv.reader(csv_file, delimiter=',')\n",
    "    line_count = 0\n",
    "    new_table = []\n",
    "    temp_line = None\n",
    "    # iterate through rows and compare timestamp of last row (temp_line)\n",
    "    # with time stamp of current row and join if equal\n",
    "    for row in csv_reader:\n",
    "        if line_count == 0:\n",
    "            print(f'Column names are {\", \".join(row)}')\n",
    "            line_count += 1\n",
    "        else:\n",
    "            if temp_line is None:\n",
    "                if row[2] == \"heating_temperature\":\n",
    "                    temp_line = [row[1],row[3],np.nan]\n",
    "                else:\n",
    "                    temp_line = [row[1],np.nan,row[3]]\n",
    "            else:\n",
    "                if temp_line[0] == row[1]:\n",
    "                    if row[2] == \"heating_temperature\":\n",
    "                        temp_line[1] = row[3]\n",
    "                    else:\n",
    "                        temp_line[2] = row[3]\n",
    "                    new_table.append(temp_line)\n",
    "                    temp_line = None\n",
    "                else:\n",
    "                    new_table.append(temp_line)\n",
    "                    if row[2] == \"heating_temperature\":\n",
    "                        temp_line = [row[1],row[3],np.nan]\n",
    "                    else:\n",
    "                        temp_line = [row[1],np.nan,row[3]]\n",
    "            line_count += 1\n",
    "    print(f'Processed {line_count} lines.')\n",
    "    "
   ]
  },
  {
   "cell_type": "code",
   "execution_count": 46,
   "metadata": {},
   "outputs": [
    {
     "data": {
      "text/plain": [
       "716"
      ]
     },
     "execution_count": 46,
     "metadata": {},
     "output_type": "execute_result"
    }
   ],
   "source": [
    "len(new_table)"
   ]
  },
  {
   "cell_type": "code",
   "execution_count": 47,
   "metadata": {},
   "outputs": [
    {
     "data": {
      "text/html": [
       "<div>\n",
       "<style scoped>\n",
       "    .dataframe tbody tr th:only-of-type {\n",
       "        vertical-align: middle;\n",
       "    }\n",
       "\n",
       "    .dataframe tbody tr th {\n",
       "        vertical-align: top;\n",
       "    }\n",
       "\n",
       "    .dataframe thead th {\n",
       "        text-align: right;\n",
       "    }\n",
       "</style>\n",
       "<table border=\"1\" class=\"dataframe\">\n",
       "  <thead>\n",
       "    <tr style=\"text-align: right;\">\n",
       "      <th></th>\n",
       "      <th>datetime</th>\n",
       "      <th>heating_temperature</th>\n",
       "      <th>cooling_temperature</th>\n",
       "    </tr>\n",
       "  </thead>\n",
       "  <tbody>\n",
       "    <tr>\n",
       "      <th>0</th>\n",
       "      <td>2019-04-13 17:51:16</td>\n",
       "      <td>33.3</td>\n",
       "      <td>15.0</td>\n",
       "    </tr>\n",
       "    <tr>\n",
       "      <th>1</th>\n",
       "      <td>2019-04-13 18:51:18</td>\n",
       "      <td>34.0</td>\n",
       "      <td>NaN</td>\n",
       "    </tr>\n",
       "    <tr>\n",
       "      <th>2</th>\n",
       "      <td>2019-04-13 19:51:20</td>\n",
       "      <td>33.8</td>\n",
       "      <td>NaN</td>\n",
       "    </tr>\n",
       "    <tr>\n",
       "      <th>3</th>\n",
       "      <td>2019-04-13 20:51:21</td>\n",
       "      <td>34.2</td>\n",
       "      <td>NaN</td>\n",
       "    </tr>\n",
       "    <tr>\n",
       "      <th>4</th>\n",
       "      <td>2019-04-13 21:51:23</td>\n",
       "      <td>34.5</td>\n",
       "      <td>NaN</td>\n",
       "    </tr>\n",
       "  </tbody>\n",
       "</table>\n",
       "</div>"
      ],
      "text/plain": [
       "             datetime  heating_temperature  cooling_temperature\n",
       "0 2019-04-13 17:51:16                 33.3                 15.0\n",
       "1 2019-04-13 18:51:18                 34.0                  NaN\n",
       "2 2019-04-13 19:51:20                 33.8                  NaN\n",
       "3 2019-04-13 20:51:21                 34.2                  NaN\n",
       "4 2019-04-13 21:51:23                 34.5                  NaN"
      ]
     },
     "execution_count": 47,
     "metadata": {},
     "output_type": "execute_result"
    }
   ],
   "source": [
    "df = pd.DataFrame(new_table, columns =['datetime', 'heating_temperature','cooling_temperature'])\n",
    "df[\"datetime\"] = pd.to_datetime(df[\"datetime\"], format=\"%Y-%m-%dT%H:%M:%S.000+0000\")\n",
    "df[\"heating_temperature\"] = pd.to_numeric(df[\"heating_temperature\"])\n",
    "df[\"cooling_temperature\"] = pd.to_numeric(df[\"cooling_temperature\"])\n",
    "df.head()"
   ]
  }
 ],
 "metadata": {
  "kernelspec": {
   "display_name": "Python 3",
   "language": "python",
   "name": "python3"
  },
  "language_info": {
   "codemirror_mode": {
    "name": "ipython",
    "version": 3
   },
   "file_extension": ".py",
   "mimetype": "text/x-python",
   "name": "python",
   "nbconvert_exporter": "python",
   "pygments_lexer": "ipython3",
   "version": "3.7.4"
  }
 },
 "nbformat": 4,
 "nbformat_minor": 2
}
