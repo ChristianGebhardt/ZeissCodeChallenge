{
 "cells": [
  {
   "cell_type": "markdown",
   "metadata": {},
   "source": [
    "# 1. Initial Inspection\n",
    "\n",
    "- Check value types, NaN-values\n",
    "- Distributions (range, outlieres, etc.)\n",
    "- Simple correlation\n",
    "- Plot data"
   ]
  },
  {
   "cell_type": "code",
   "execution_count": 134,
   "metadata": {},
   "outputs": [
    {
     "data": {
      "text/html": [
       "<div>\n",
       "<style scoped>\n",
       "    .dataframe tbody tr th:only-of-type {\n",
       "        vertical-align: middle;\n",
       "    }\n",
       "\n",
       "    .dataframe tbody tr th {\n",
       "        vertical-align: top;\n",
       "    }\n",
       "\n",
       "    .dataframe thead th {\n",
       "        text-align: right;\n",
       "    }\n",
       "</style>\n",
       "<table border=\"1\" class=\"dataframe\">\n",
       "  <thead>\n",
       "    <tr style=\"text-align: right;\">\n",
       "      <th></th>\n",
       "      <th>datetime</th>\n",
       "      <th>heating_temperature</th>\n",
       "      <th>cooling_temperature</th>\n",
       "    </tr>\n",
       "  </thead>\n",
       "  <tbody>\n",
       "    <tr>\n",
       "      <th>0</th>\n",
       "      <td>2019-04-13 17:51:16</td>\n",
       "      <td>33.3</td>\n",
       "      <td>15.0</td>\n",
       "    </tr>\n",
       "    <tr>\n",
       "      <th>1</th>\n",
       "      <td>2019-04-13 18:51:18</td>\n",
       "      <td>34.0</td>\n",
       "      <td>NaN</td>\n",
       "    </tr>\n",
       "    <tr>\n",
       "      <th>2</th>\n",
       "      <td>2019-04-13 19:51:20</td>\n",
       "      <td>33.8</td>\n",
       "      <td>NaN</td>\n",
       "    </tr>\n",
       "    <tr>\n",
       "      <th>3</th>\n",
       "      <td>2019-04-13 20:51:21</td>\n",
       "      <td>34.2</td>\n",
       "      <td>NaN</td>\n",
       "    </tr>\n",
       "    <tr>\n",
       "      <th>4</th>\n",
       "      <td>2019-04-13 21:51:23</td>\n",
       "      <td>34.5</td>\n",
       "      <td>NaN</td>\n",
       "    </tr>\n",
       "  </tbody>\n",
       "</table>\n",
       "</div>"
      ],
      "text/plain": [
       "             datetime  heating_temperature  cooling_temperature\n",
       "0 2019-04-13 17:51:16                 33.3                 15.0\n",
       "1 2019-04-13 18:51:18                 34.0                  NaN\n",
       "2 2019-04-13 19:51:20                 33.8                  NaN\n",
       "3 2019-04-13 20:51:21                 34.2                  NaN\n",
       "4 2019-04-13 21:51:23                 34.5                  NaN"
      ]
     },
     "execution_count": 134,
     "metadata": {},
     "output_type": "execute_result"
    }
   ],
   "source": [
    "import pandas as pd\n",
    "\n",
    "df = pd.read_csv(\"../../data/\" + \"MICDEV001_2019-04-13_2020-01-24.csv\")\n",
    "df[\"datetime\"] = pd.to_datetime(df[\"datetime\"])\n",
    "\n",
    "df.head()"
   ]
  },
  {
   "cell_type": "code",
   "execution_count": 135,
   "metadata": {},
   "outputs": [
    {
     "data": {
      "text/html": [
       "<div>\n",
       "<style scoped>\n",
       "    .dataframe tbody tr th:only-of-type {\n",
       "        vertical-align: middle;\n",
       "    }\n",
       "\n",
       "    .dataframe tbody tr th {\n",
       "        vertical-align: top;\n",
       "    }\n",
       "\n",
       "    .dataframe thead th {\n",
       "        text-align: right;\n",
       "    }\n",
       "</style>\n",
       "<table border=\"1\" class=\"dataframe\">\n",
       "  <thead>\n",
       "    <tr style=\"text-align: right;\">\n",
       "      <th></th>\n",
       "      <th>heating_temperature</th>\n",
       "      <th>cooling_temperature</th>\n",
       "    </tr>\n",
       "  </thead>\n",
       "  <tbody>\n",
       "    <tr>\n",
       "      <th>count</th>\n",
       "      <td>699.000000</td>\n",
       "      <td>301.000000</td>\n",
       "    </tr>\n",
       "    <tr>\n",
       "      <th>mean</th>\n",
       "      <td>33.075393</td>\n",
       "      <td>21.295681</td>\n",
       "    </tr>\n",
       "    <tr>\n",
       "      <th>std</th>\n",
       "      <td>3.363579</td>\n",
       "      <td>6.763378</td>\n",
       "    </tr>\n",
       "    <tr>\n",
       "      <th>min</th>\n",
       "      <td>21.700000</td>\n",
       "      <td>14.900000</td>\n",
       "    </tr>\n",
       "    <tr>\n",
       "      <th>25%</th>\n",
       "      <td>32.500000</td>\n",
       "      <td>15.000000</td>\n",
       "    </tr>\n",
       "    <tr>\n",
       "      <th>50%</th>\n",
       "      <td>34.200000</td>\n",
       "      <td>20.800000</td>\n",
       "    </tr>\n",
       "    <tr>\n",
       "      <th>75%</th>\n",
       "      <td>34.800000</td>\n",
       "      <td>28.500000</td>\n",
       "    </tr>\n",
       "    <tr>\n",
       "      <th>max</th>\n",
       "      <td>39.400000</td>\n",
       "      <td>33.600000</td>\n",
       "    </tr>\n",
       "  </tbody>\n",
       "</table>\n",
       "</div>"
      ],
      "text/plain": [
       "       heating_temperature  cooling_temperature\n",
       "count           699.000000           301.000000\n",
       "mean             33.075393            21.295681\n",
       "std               3.363579             6.763378\n",
       "min              21.700000            14.900000\n",
       "25%              32.500000            15.000000\n",
       "50%              34.200000            20.800000\n",
       "75%              34.800000            28.500000\n",
       "max              39.400000            33.600000"
      ]
     },
     "execution_count": 135,
     "metadata": {},
     "output_type": "execute_result"
    }
   ],
   "source": [
    "df.describe()"
   ]
  },
  {
   "cell_type": "code",
   "execution_count": 136,
   "metadata": {},
   "outputs": [
    {
     "data": {
      "text/plain": [
       "datetime                 0\n",
       "heating_temperature     17\n",
       "cooling_temperature    415\n",
       "dtype: int64"
      ]
     },
     "execution_count": 136,
     "metadata": {},
     "output_type": "execute_result"
    }
   ],
   "source": [
    "df.isna().sum()"
   ]
  },
  {
   "cell_type": "code",
   "execution_count": 137,
   "metadata": {},
   "outputs": [
    {
     "data": {
      "text/plain": [
       "<matplotlib.axes._subplots.AxesSubplot at 0x22d244d5e48>"
      ]
     },
     "execution_count": 137,
     "metadata": {},
     "output_type": "execute_result"
    },
    {
     "data": {
      "image/png": "[encoded data removed]",
      "text/plain": [
       "<Figure size 432x288 with 1 Axes>"
      ]
     },
     "metadata": {
      "needs_background": "light"
     },
     "output_type": "display_data"
    },
    {
     "data": {
      "image/png": "[encoded data removed]",
      "text/plain": [
       "<Figure size 432x288 with 1 Axes>"
      ]
     },
     "metadata": {
      "needs_background": "light"
     },
     "output_type": "display_data"
    }
   ],
   "source": [
    "N_df = len(df)\n",
    "nan_hT = df[\"heating_temperature\"].isna().sum()\n",
    "nan_cT = df[\"cooling_temperature\"].isna().sum()\n",
    "df[['heating_temperature']].plot.hist(bins = 20, title = f'Temperature distributions (N={N_df-nan_hT}, NaN={nan_hT})')\n",
    "df[['cooling_temperature']].plot.hist(bins = 20, title = f'Temperature distributions (N={N_df-nan_cT}, NaN={nan_cT})')"
   ]
  },
  {
   "cell_type": "code",
   "execution_count": 138,
   "metadata": {
    "scrolled": false
   },
   "outputs": [
    {
     "data": {
      "text/plain": [
       "<matplotlib.axes._subplots.AxesSubplot at 0x22d245947c8>"
      ]
     },
     "execution_count": 138,
     "metadata": {},
     "output_type": "execute_result"
    },
    {
     "data": {
      "image/png": "[encoded data removed]",
      "text/plain": [
       "<Figure size 432x288 with 1 Axes>"
      ]
     },
     "metadata": {
      "needs_background": "light"
     },
     "output_type": "display_data"
    }
   ],
   "source": [
    "df.plot.scatter(x = 'heating_temperature', y = 'cooling_temperature')"
   ]
  },
  {
   "cell_type": "markdown",
   "metadata": {},
   "source": [
    "Distributions of heating/cooling temperature, when the other value is NaN"
   ]
  },
  {
   "cell_type": "code",
   "execution_count": 139,
   "metadata": {},
   "outputs": [
    {
     "data": {
      "text/plain": [
       "<matplotlib.axes._subplots.AxesSubplot at 0x22d24680388>"
      ]
     },
     "execution_count": 139,
     "metadata": {},
     "output_type": "execute_result"
    },
    {
     "data": {
      "image/png": "[encoded data removed]",
      "text/plain": [
       "<Figure size 432x288 with 1 Axes>"
      ]
     },
     "metadata": {
      "needs_background": "light"
     },
     "output_type": "display_data"
    },
    {
     "data": {
      "image/png": "[encoded data removed]",
      "text/plain": [
       "<Figure size 432x288 with 1 Axes>"
      ]
     },
     "metadata": {
      "needs_background": "light"
     },
     "output_type": "display_data"
    }
   ],
   "source": [
    "df[df['cooling_temperature'].isnull()][['heating_temperature']].plot.hist(bins = 20, title = 'Temperature distributions (cooling NaN)')\n",
    "df[df['heating_temperature'].isnull()][['cooling_temperature']].plot.hist(bins = 20, title = 'Temperature distributions (heating NaN)')"
   ]
  },
  {
   "cell_type": "markdown",
   "metadata": {},
   "source": [
    "<div class=\"alert alert-block alert-info\">\n",
    "<b>Note:</b> When cooling is NaN then heating temperature is a well-defined distribution ~ 35 °C.\n",
    "</div>"
   ]
  },
  {
   "cell_type": "markdown",
   "metadata": {},
   "source": [
    "Standard pearson correlation of temperature values (ignoring NaN)"
   ]
  },
  {
   "cell_type": "code",
   "execution_count": 140,
   "metadata": {},
   "outputs": [
    {
     "data": {
      "text/html": [
       "<div>\n",
       "<style scoped>\n",
       "    .dataframe tbody tr th:only-of-type {\n",
       "        vertical-align: middle;\n",
       "    }\n",
       "\n",
       "    .dataframe tbody tr th {\n",
       "        vertical-align: top;\n",
       "    }\n",
       "\n",
       "    .dataframe thead th {\n",
       "        text-align: right;\n",
       "    }\n",
       "</style>\n",
       "<table border=\"1\" class=\"dataframe\">\n",
       "  <thead>\n",
       "    <tr style=\"text-align: right;\">\n",
       "      <th></th>\n",
       "      <th>heating_temperature</th>\n",
       "      <th>cooling_temperature</th>\n",
       "    </tr>\n",
       "  </thead>\n",
       "  <tbody>\n",
       "    <tr>\n",
       "      <th>heating_temperature</th>\n",
       "      <td>1.000000</td>\n",
       "      <td>-0.059089</td>\n",
       "    </tr>\n",
       "    <tr>\n",
       "      <th>cooling_temperature</th>\n",
       "      <td>-0.059089</td>\n",
       "      <td>1.000000</td>\n",
       "    </tr>\n",
       "  </tbody>\n",
       "</table>\n",
       "</div>"
      ],
      "text/plain": [
       "                     heating_temperature  cooling_temperature\n",
       "heating_temperature             1.000000            -0.059089\n",
       "cooling_temperature            -0.059089             1.000000"
      ]
     },
     "execution_count": 140,
     "metadata": {},
     "output_type": "execute_result"
    }
   ],
   "source": [
    "corr = df.corr()\n",
    "corr"
   ]
  },
  {
   "cell_type": "markdown",
   "metadata": {},
   "source": [
    "Plot raw data"
   ]
  },
  {
   "cell_type": "code",
   "execution_count": 141,
   "metadata": {},
   "outputs": [
    {
     "data": {
      "application/vnd.plotly.v1+json": {
       "config": {
        "plotlyServerURL": "https://plot.ly"
       },
       "data": [
        {
         "hovertemplate": "variable=heating_temperature<br>datetime=%{x}<br>value=%{y}<extra></extra>",
         "legendgroup": "heating_temperature",
         "line": {
          "color": "#636efa",
          "dash": "solid"
         },
         "mode": "lines",
         "name": "heating_temperature",
         "showlegend": true,
         "type": "scattergl",
         "x": [
          "2019-04-13T17:51:16",
          "2019-04-13T18:51:18",
          "2019-04-13T19:51:20",
          "2019-04-13T20:51:21",
          "2019-04-13T21:51:23",
          "2019-04-13T22:51:25",
          "2019-04-13T23:51:26",
          "2019-04-14T00:51:28",
          "2019-04-14T01:51:30",
          "2019-04-14T06:51:38",
          "2019-04-14T08:51:41",
          "2019-04-14T09:51:43",
          "2019-04-14T10:25:16",
          "2019-04-14T10:43:38",
          "2019-04-14T11:39:32",
          "2019-04-14T11:52:06",
          "2019-04-14T11:58:19",
          "2019-04-14T13:24:43",
          "2019-04-14T14:38:23",
          "2019-04-14T15:00:38",
          "2019-04-14T16:00:40",
          "2019-04-14T17:00:42",
          "2019-04-14T18:00:43",
          "2019-04-14T19:00:45",
          "2019-04-14T20:00:47",
          "2019-04-14T21:00:48",
          "2019-04-14T22:00:50",
          "2019-04-14T23:00:52",
          "2019-04-15T00:00:53",
          "2019-04-15T01:00:55",
          "2019-04-15T03:00:58",
          "2019-04-15T05:01:02",
          "2019-04-15T06:01:03",
          "2019-04-15T07:01:05",
          "2019-04-15T08:01:07",
          "2019-04-15T09:01:08",
          "2019-04-15T09:57:11",
          "2019-04-15T10:57:13",
          "2019-04-15T13:57:18",
          "2019-04-15T14:57:19",
          "2019-04-15T15:57:21",
          "2019-04-15T16:57:23",
          "2019-04-15T17:57:24",
          "2019-04-15T18:57:26",
          "2019-04-15T19:57:28",
          "2019-04-15T20:57:29",
          "2019-04-15T21:57:31",
          "2019-04-15T22:57:33",
          "2019-04-15T23:57:34",
          "2019-04-16T00:57:36",
          "2019-04-16T01:57:38",
          "2019-04-16T04:57:43",
          "2019-04-16T05:57:44",
          "2019-04-16T07:57:48",
          "2019-04-16T08:58:39",
          "2019-04-16T09:58:40",
          "2019-04-16T10:58:42",
          "2019-04-16T13:58:47",
          "2019-04-16T14:58:49",
          "2019-04-16T15:58:50",
          "2019-04-16T16:58:52",
          "2019-04-17T13:55:03",
          "2019-04-17T14:01:13",
          "2019-04-17T14:49:08",
          "2019-04-17T15:49:10",
          "2019-04-17T16:49:11",
          "2019-04-23T09:31:58",
          "2019-04-23T10:32:00",
          "2019-04-23T11:32:02",
          "2019-04-23T12:32:03",
          "2019-04-23T13:32:05",
          "2019-04-23T14:30:18",
          "2019-04-23T15:30:19",
          "2019-04-23T16:30:21",
          "2019-04-23T17:30:23",
          "2019-04-26T13:20:57",
          "2019-04-26T14:20:59",
          "2019-04-26T15:21:00",
          "2019-04-26T16:21:02",
          "2019-04-26T17:31:50",
          "2019-04-29T09:20:40",
          "2019-04-29T10:20:42",
          "2019-04-29T11:20:43",
          "2019-04-29T12:20:45",
          "2019-04-29T13:20:47",
          "2019-04-29T14:20:48",
          "2019-04-29T14:39:03",
          "2019-04-29T15:17:34",
          "2019-04-29T16:17:35",
          "2019-04-29T17:08:16",
          "2019-04-29T18:08:17",
          "2019-04-30T08:37:41",
          "2019-04-30T08:52:16",
          "2019-04-30T09:52:18",
          "2019-04-30T10:52:19",
          "2019-04-30T11:52:21",
          "2019-04-30T12:52:23",
          "2019-04-30T13:52:24",
          "2019-04-30T14:52:26",
          "2019-04-30T15:52:28",
          "2019-04-30T16:52:29",
          "2019-04-30T18:52:32",
          "2019-04-30T19:52:33",
          "2019-05-02T09:33:47",
          "2019-05-02T10:33:49",
          "2019-05-02T11:33:50",
          "2019-05-02T12:33:52",
          "2019-05-02T13:33:54",
          "2019-05-02T14:33:55",
          "2019-05-02T15:33:57",
          "2019-05-02T16:33:58",
          "2019-05-02T17:34:00",
          "2019-05-02T18:34:02",
          "2019-05-02T19:34:03",
          "2019-05-06T11:02:12",
          "2019-05-06T12:02:13",
          "2019-05-06T13:02:15",
          "2019-05-06T14:02:17",
          "2019-05-06T15:02:18",
          "2019-05-06T16:02:20",
          "2019-05-06T17:02:21",
          "2019-05-06T17:31:47",
          "2019-05-06T18:31:49",
          "2019-05-06T19:51:44",
          "2019-05-06T20:51:46",
          "2019-05-07T09:04:49",
          "2019-05-07T09:37:06",
          "2019-05-07T10:37:08",
          "2019-05-07T11:37:10",
          "2019-05-07T13:14:51",
          "2019-05-07T14:14:52",
          "2019-05-07T15:14:54",
          "2019-05-07T16:14:56",
          "2019-05-07T17:14:57",
          "2019-05-07T17:32:18",
          "2019-05-07T18:32:20",
          "2019-05-08T09:53:12",
          "2019-05-08T10:53:13",
          "2019-05-08T11:53:15",
          "2019-05-08T12:53:17",
          "2019-05-08T13:53:18",
          "2019-05-08T14:53:20",
          "2019-05-08T15:53:22",
          "2019-05-08T16:53:23",
          "2019-05-08T17:47:04",
          "2019-05-08T18:07:58",
          "2019-05-08T18:38:21",
          "2019-05-08T19:38:23",
          "2019-05-08T21:36:36",
          "2019-05-08T22:36:37",
          "2019-05-08T23:36:39",
          "2019-05-09T00:36:41",
          "2019-05-09T01:36:42",
          "2019-05-09T02:36:44",
          "2019-05-09T03:36:46",
          "2019-05-09T04:36:47",
          "2019-05-09T05:36:49",
          "2019-05-09T07:36:52",
          "2019-05-09T08:36:54",
          "2019-05-09T09:36:55",
          "2019-05-09T10:38:55",
          "2019-05-09T11:38:57",
          "2019-05-09T12:38:58",
          "2019-05-09T13:39:00",
          "2019-05-09T15:39:03",
          "2019-05-09T16:39:05",
          "2019-05-10T09:25:17",
          "2019-05-10T10:25:19",
          "2019-05-10T11:25:20",
          "2019-05-10T11:48:44",
          "2019-05-10T12:48:45",
          "2019-05-10T13:48:47",
          "2019-05-10T14:48:48",
          "2019-05-10T15:48:50",
          "2019-05-10T16:48:52",
          "2019-05-10T17:48:53",
          "2019-05-14T09:08:40",
          "2019-05-14T10:08:41",
          "2019-05-14T11:08:43",
          "2019-05-14T12:08:45",
          "2019-05-14T13:08:46",
          "2019-05-14T14:08:48",
          "2019-05-14T15:08:50",
          "2019-05-14T16:08:51",
          "2019-05-14T17:08:53",
          "2019-05-15T08:36:37",
          "2019-05-15T09:36:39",
          "2019-05-15T10:36:40",
          "2019-05-15T11:36:42",
          "2019-05-15T12:36:55",
          "2019-05-15T13:36:56",
          "2019-05-15T13:40:43",
          "2019-05-15T14:08:38",
          "2019-05-15T15:08:40",
          "2019-05-15T16:08:42",
          "2019-05-15T17:08:43",
          "2019-05-20T09:56:29",
          "2019-05-20T10:56:31",
          "2019-05-20T11:56:33",
          "2019-05-20T12:56:34",
          "2019-05-20T13:56:36",
          "2019-05-20T14:56:38",
          "2019-05-20T15:56:18",
          "2019-05-20T18:04:45",
          "2019-05-21T10:13:20",
          "2019-05-21T11:13:22",
          "2019-05-21T11:49:56",
          "2019-05-21T12:49:57",
          "2019-05-21T13:49:59",
          "2019-05-21T15:50:02",
          "2019-05-21T16:50:04",
          "2019-05-21T17:50:06",
          "2019-05-23T09:10:05",
          "2019-05-23T10:10:06",
          "2019-05-23T11:10:08",
          "2019-05-23T12:10:10",
          "2019-05-23T13:10:11",
          "2019-05-23T14:05:55",
          "2019-05-23T15:05:56",
          "2019-05-23T16:05:58",
          "2019-05-23T17:06:00",
          "2019-05-23T18:06:01",
          "2019-05-23T19:06:03",
          "2019-05-24T08:53:56",
          "2019-05-24T09:53:58",
          "2019-05-24T10:54:00",
          "2019-05-24T11:54:01",
          "2019-05-24T12:54:03",
          "2019-05-24T13:19:22",
          "2019-05-24T14:19:24",
          "2019-05-24T15:19:25",
          "2019-05-24T16:19:27",
          "2019-05-27T08:21:20",
          "2019-05-27T09:21:21",
          "2019-05-27T10:21:23",
          "2019-05-27T11:21:25",
          "2019-05-27T12:21:26",
          "2019-05-27T13:21:28",
          "2019-05-27T14:21:30",
          "2019-05-27T15:21:31",
          "2019-05-28T08:35:12",
          "2019-05-28T09:35:14",
          "2019-05-28T10:35:15",
          "2019-05-28T11:35:17",
          "2019-05-28T12:35:19",
          "2019-05-28T13:35:20",
          "2019-05-28T14:35:22",
          "2019-05-28T15:35:24",
          "2019-05-28T16:35:25",
          "2019-05-28T17:35:27",
          "2019-05-28T18:35:29",
          "2019-06-03T10:32:10",
          "2019-06-03T11:32:11",
          "2019-06-03T12:32:13",
          "2019-06-03T13:32:15",
          "2019-06-03T14:32:17",
          "2019-06-03T15:32:18",
          "2019-06-04T17:28:33",
          "2019-06-04T17:43:27",
          "2019-06-04T18:43:29",
          "2019-06-04T19:43:30",
          "2019-06-04T20:43:32",
          "2019-06-04T21:43:34",
          "2019-06-04T22:43:35",
          "2019-06-04T23:43:37",
          "2019-06-05T00:43:39",
          "2019-06-05T01:43:40",
          "2019-06-05T02:43:42",
          "2019-06-05T03:43:44",
          "2019-06-05T04:43:45",
          "2019-06-05T05:43:47",
          "2019-06-05T06:43:49",
          "2019-06-05T07:43:50",
          "2019-06-05T08:43:52",
          "2019-06-05T09:43:54",
          "2019-06-05T10:43:55",
          "2019-06-05T11:43:57",
          "2019-06-05T12:43:59",
          "2019-06-05T13:44:00",
          "2019-06-05T14:44:02",
          "2019-06-05T15:44:04",
          "2019-06-05T16:44:05",
          "2019-06-05T17:44:07",
          "2019-06-06T10:35:00",
          "2019-06-06T11:35:02",
          "2019-06-06T12:35:04",
          "2019-06-06T13:35:05",
          "2019-06-06T14:35:07",
          "2019-06-07T09:50:20",
          "2019-06-07T10:50:22",
          "2019-06-07T11:50:23",
          "2019-06-07T13:50:27",
          "2019-06-14T09:01:21",
          "2019-06-14T10:01:22",
          "2019-06-14T11:01:24",
          "2019-06-14T12:01:26",
          "2019-06-14T13:01:27",
          "2019-06-14T14:01:29",
          "2019-06-14T16:02:23",
          "2019-06-14T17:02:25",
          "2019-06-14T18:02:26",
          "2019-06-17T08:19:28",
          "2019-06-17T09:19:30",
          "2019-06-17T10:19:31",
          "2019-06-17T11:19:33",
          "2019-06-17T12:19:35",
          "2019-06-17T13:19:36",
          "2019-06-17T14:19:38",
          "2019-06-17T15:19:40",
          "2019-06-17T16:19:41",
          "2019-06-18T16:31:59",
          "2019-06-18T17:32:00",
          "2019-06-18T18:32:02",
          "2019-06-19T09:22:01",
          "2019-06-19T10:22:03",
          "2019-06-19T11:00:12",
          "2019-06-19T12:00:14",
          "2019-06-19T13:00:16",
          "2019-06-19T14:00:17",
          "2019-06-19T15:52:20",
          "2019-06-19T16:52:21",
          "2019-06-19T17:52:23",
          "2019-06-19T18:52:25",
          "2019-06-28T14:02:18",
          "2019-07-01T10:12:29",
          "2019-07-01T11:12:31",
          "2019-07-01T12:12:32",
          "2019-07-01T13:12:34",
          "2019-07-01T14:12:35",
          "2019-07-01T15:12:37",
          "2019-07-01T16:12:39",
          "2019-07-01T17:12:40",
          "2019-07-01T18:12:42",
          "2019-07-01T18:43:17",
          "2019-07-02T09:36:40",
          "2019-07-02T10:36:42",
          "2019-07-02T11:36:44",
          "2019-07-02T12:36:45",
          "2019-07-02T13:36:47",
          "2019-07-02T14:24:49",
          "2019-07-02T15:24:50",
          "2019-07-02T16:01:55",
          "2019-07-02T17:01:57",
          "2019-07-02T18:01:58",
          "2019-07-02T19:02:00",
          "2019-07-02T20:02:02",
          "2019-07-02T21:02:03",
          "2019-07-02T22:02:05",
          "2019-07-02T23:02:07",
          "2019-07-03T00:02:08",
          "2019-07-03T01:02:10",
          "2019-07-03T02:02:12",
          "2019-07-03T03:02:13",
          "2019-07-03T04:02:15",
          "2019-07-03T05:02:17",
          "2019-07-03T06:02:18",
          "2019-07-03T07:02:20",
          "2019-07-03T08:02:22",
          "2019-07-03T09:02:23",
          "2019-07-03T09:39:23",
          "2019-07-03T10:39:25",
          "2019-07-03T11:39:27",
          "2019-07-03T12:39:28",
          "2019-07-03T13:39:30",
          "2019-07-03T15:39:33",
          "2019-07-03T16:39:35",
          "2019-07-03T17:39:36",
          "2019-07-03T18:39:38",
          "2019-07-03T19:39:40",
          "2019-07-03T20:39:41",
          "2019-07-03T21:39:43",
          "2019-07-03T22:39:45",
          "2019-07-03T23:39:46",
          "2019-07-04T00:39:48",
          "2019-07-04T01:39:50",
          "2019-07-04T02:39:51",
          "2019-07-04T03:39:53",
          "2019-07-04T04:39:55",
          "2019-07-04T05:39:56",
          "2019-07-04T06:39:58",
          "2019-07-04T07:40:00",
          "2019-07-04T08:40:01",
          "2019-07-04T09:11:07",
          "2019-07-04T10:11:09",
          "2019-07-04T11:11:11",
          "2019-07-04T12:13:05",
          "2019-07-04T13:21:41",
          "2019-07-04T14:25:58",
          "2019-07-04T14:46:16",
          "2019-07-04T15:15:00",
          "2019-07-04T15:21:25",
          "2019-07-04T15:26:08",
          "2019-07-04T15:41:29",
          "2019-07-04T15:55:55",
          "2019-07-04T16:20:06",
          "2019-07-05T10:59:32",
          "2019-07-05T14:08:57",
          "2019-07-05T14:30:02",
          "2019-07-09T09:51:56",
          "2019-07-09T10:43:20",
          "2019-07-09T11:43:22",
          "2019-07-09T12:43:24",
          "2019-07-09T13:43:25",
          "2019-07-09T14:43:27",
          "2019-07-09T15:11:40",
          "2019-07-09T15:39:52",
          "2019-07-09T16:46:59",
          "2019-07-09T16:59:26",
          "2019-07-09T17:24:33",
          "2019-07-09T18:13:46",
          "2019-07-10T08:33:30",
          "2019-07-10T08:43:50",
          "2019-07-10T09:24:58",
          "2019-07-10T10:04:34",
          "2019-07-10T10:22:11",
          "2019-07-10T11:22:13",
          "2019-07-10T11:46:06",
          "2019-07-10T12:05:23",
          "2019-07-10T12:17:28",
          "2019-07-10T12:51:51",
          "2019-07-10T13:16:29",
          "2019-07-10T13:41:33",
          "2019-07-10T14:41:35",
          "2019-07-10T15:22:51",
          "2019-07-10T16:16:32",
          "2019-07-10T16:32:52",
          "2019-07-10T17:55:21",
          "2019-07-10T18:55:23",
          "2019-07-11T07:57:53",
          "2019-07-11T08:57:54",
          "2019-07-11T09:59:02",
          "2019-07-11T11:09:37",
          "2019-07-11T11:45:33",
          "2019-07-11T12:04:54",
          "2019-07-11T12:24:39",
          "2019-07-11T13:18:04",
          "2019-07-12T11:48:38",
          "2019-07-12T12:23:21",
          "2019-07-12T13:23:22",
          "2019-07-12T14:23:24",
          "2019-07-12T15:23:26",
          "2019-07-12T16:23:27",
          "2019-07-23T14:00:15",
          "2019-07-23T15:00:17",
          "2019-07-23T16:00:19",
          "2019-07-23T16:08:06",
          "2019-07-24T10:31:02",
          "2019-07-24T11:31:03",
          "2019-07-24T13:13:09",
          "2019-07-24T14:13:10",
          "2019-07-24T15:13:12",
          "2019-07-24T16:12:34",
          "2019-07-24T16:54:58",
          "2019-07-24T17:43:25",
          "2019-07-24T18:43:26",
          "2019-07-25T08:03:41",
          "2019-07-25T09:03:42",
          "2019-07-25T10:03:44",
          "2019-07-25T11:03:46",
          "2019-07-25T12:03:47",
          "2019-07-25T13:03:49",
          "2019-07-25T14:03:50",
          "2019-07-25T15:03:52",
          "2019-07-25T16:03:54",
          "2019-07-25T16:49:11",
          "2019-07-25T17:49:13",
          "2019-07-25T18:49:15",
          "2019-07-25T19:49:16",
          "2019-07-26T07:58:43",
          "2019-07-26T08:58:45",
          "2019-07-26T09:58:46",
          "2019-07-26T10:58:48",
          "2019-07-26T11:58:50",
          "2019-07-26T12:58:51",
          "2019-07-26T15:02:11",
          "2019-07-29T13:29:37",
          "2019-07-29T14:29:39",
          "2019-07-29T15:29:40",
          "2019-07-29T16:29:42",
          "2019-07-29T18:29:45",
          "2019-07-29T19:29:47",
          "2019-07-29T20:29:49",
          "2019-07-29T21:29:50",
          "2019-07-29T22:29:52",
          "2019-07-29T23:29:54",
          "2019-07-30T00:29:55",
          "2019-07-30T01:29:57",
          "2019-07-30T02:29:58",
          "2019-07-30T03:30:00",
          "2019-07-30T04:30:02",
          "2019-07-30T05:30:03",
          "2019-07-30T06:30:05",
          "2019-07-30T07:30:07",
          "2019-07-30T08:30:08",
          "2019-07-30T09:08:06",
          "2019-07-30T09:41:04",
          "2019-07-30T09:48:37",
          "2019-07-30T10:48:39",
          "2019-07-30T11:48:41",
          "2019-07-30T12:48:42",
          "2019-07-30T13:48:44",
          "2019-07-30T14:48:46",
          "2019-07-30T15:34:40",
          "2019-07-30T16:34:42",
          "2019-10-09T15:25:09",
          "2019-10-09T16:25:10",
          "2019-10-09T17:25:12",
          "2019-10-09T18:25:14",
          "2019-10-09T19:25:15",
          "2019-10-09T20:25:17",
          "2019-10-09T23:25:22",
          "2019-10-10T00:25:24",
          "2019-10-10T01:25:25",
          "2019-10-10T02:25:27",
          "2019-10-10T09:31:21",
          "2019-10-10T10:31:23",
          "2019-10-10T12:31:26",
          "2019-10-10T13:31:28",
          "2019-10-10T14:31:29",
          "2019-10-10T15:31:31",
          "2019-10-10T16:31:33",
          "2019-10-11T10:17:05",
          "2019-10-11T11:17:07",
          "2019-10-11T12:17:09",
          "2019-10-11T13:17:10",
          "2019-10-11T14:17:12",
          "2019-10-11T15:17:14",
          "2019-10-11T16:17:15",
          "2019-10-14T12:14:15",
          "2019-10-14T14:58:55",
          "2019-10-14T15:58:56",
          "2019-10-23T09:17:14",
          "2019-10-23T10:17:16",
          "2019-10-23T11:17:18",
          "2019-10-23T12:17:19",
          "2019-10-23T13:17:21",
          "2019-10-23T14:17:23",
          "2019-10-23T15:17:24",
          "2019-10-24T09:41:01",
          "2019-10-24T11:05:18",
          "2019-10-24T11:26:41",
          "2019-10-24T12:26:42",
          "2019-10-24T13:26:44",
          "2019-10-24T14:26:46",
          "2019-10-24T14:57:14",
          "2019-10-24T15:18:00",
          "2019-10-24T16:18:02",
          "2019-10-25T10:25:30",
          "2019-10-25T11:25:32",
          "2019-10-25T12:25:33",
          "2019-10-25T13:25:35",
          "2019-10-25T14:21:22",
          "2019-10-25T15:21:24",
          "2019-10-25T16:21:26",
          "2019-10-28T11:04:50",
          "2019-10-28T11:31:13",
          "2019-10-28T11:42:47",
          "2019-10-28T12:42:48",
          "2019-10-28T13:42:50",
          "2019-10-28T14:42:52",
          "2019-10-28T15:42:53",
          "2019-10-28T16:42:55",
          "2019-10-28T18:42:58",
          "2019-10-29T11:11:08",
          "2019-10-29T12:11:09",
          "2019-10-29T13:11:11",
          "2019-10-29T14:11:13",
          "2019-10-29T15:11:14",
          "2019-10-29T16:14:23",
          "2019-10-30T09:49:41",
          "2019-10-30T10:49:43",
          "2019-10-30T11:49:44",
          "2019-10-30T12:35:44",
          "2019-10-30T13:35:45",
          "2019-10-30T14:35:47",
          "2019-10-30T15:35:49",
          "2019-10-30T16:35:50",
          "2019-10-31T08:01:05",
          "2019-10-31T09:01:06",
          "2019-10-31T10:01:08",
          "2019-10-31T11:01:10",
          "2019-10-31T12:01:11",
          "2019-10-31T13:01:13",
          "2019-11-04T12:26:19",
          "2019-11-04T13:26:20",
          "2019-11-04T14:26:22",
          "2019-11-04T15:26:24",
          "2019-11-05T16:39:49",
          "2019-11-06T09:21:53",
          "2019-11-06T13:04:23",
          "2019-11-06T14:04:25",
          "2019-11-06T15:04:27",
          "2019-11-06T16:04:28",
          "2019-11-06T17:04:30",
          "2019-11-06T18:04:31",
          "2019-11-06T19:04:33",
          "2019-11-06T20:04:35",
          "2019-11-06T22:04:38",
          "2019-11-06T23:04:40",
          "2019-11-07T00:04:42",
          "2019-11-07T01:04:44",
          "2019-11-07T02:04:45",
          "2019-11-07T03:04:47",
          "2019-11-07T04:04:49",
          "2019-11-07T06:04:52",
          "2019-11-07T07:04:54",
          "2019-11-07T08:04:56",
          "2019-11-07T09:04:58",
          "2019-11-07T10:04:59",
          "2019-11-07T13:05:05",
          "2019-11-07T14:05:06",
          "2019-11-07T15:05:08",
          "2019-11-07T16:05:10",
          "2019-11-07T17:05:12",
          "2019-11-07T18:05:13",
          "2019-11-08T10:41:54",
          "2019-11-11T09:53:29",
          "2019-11-25T16:10:31",
          "2019-11-25T16:22:20",
          "2019-11-25T17:22:22",
          "2019-11-25T18:22:23",
          "2019-11-25T20:22:27",
          "2019-11-25T23:22:32",
          "2019-11-26T00:22:33",
          "2019-11-26T01:22:35",
          "2019-11-26T09:22:48",
          "2019-11-26T11:03:53",
          "2019-11-26T12:10:59",
          "2019-11-26T13:11:00",
          "2019-11-26T14:11:02",
          "2019-11-26T15:11:04",
          "2019-11-26T16:11:05",
          "2019-11-26T17:11:07",
          "2019-11-27T22:55:44",
          "2019-11-27T23:55:46",
          "2019-11-28T00:55:48",
          "2019-11-28T01:55:49",
          "2019-11-28T02:55:51",
          "2019-11-28T03:55:53",
          "2019-11-28T04:55:54",
          "2019-11-28T06:55:58",
          "2019-11-28T07:55:59",
          "2019-11-28T08:56:01",
          "2019-12-03T14:26:06",
          "2019-12-03T15:26:08",
          "2019-12-03T16:26:09",
          "2019-12-03T17:26:11",
          "2019-12-04T14:01:46",
          "2019-12-04T15:01:48",
          "2019-12-04T16:01:50",
          "2019-12-04T17:01:51",
          "2019-12-04T18:01:53",
          "2019-12-04T19:01:55",
          "2019-12-04T20:01:56",
          "2019-12-04T21:01:58",
          "2019-12-04T22:02:00",
          "2019-12-04T23:02:01",
          "2019-12-05T01:02:05",
          "2019-12-05T13:02:25",
          "2019-12-05T14:02:26",
          "2019-12-05T15:02:29",
          "2019-12-05T16:02:31",
          "2019-12-05T17:02:32",
          "2019-12-05T18:02:34",
          "2019-12-05T20:02:58",
          "2019-12-05T21:03:00",
          "2019-12-05T22:03:02",
          "2019-12-05T23:03:03",
          "2019-12-06T00:03:05",
          "2019-12-06T01:03:07",
          "2019-12-06T02:03:08",
          "2019-12-06T12:03:25",
          "2019-12-06T13:03:27",
          "2019-12-06T14:03:28",
          "2019-12-06T15:03:30",
          "2019-12-06T16:03:38",
          "2019-12-06T17:03:50",
          "2019-12-06T18:04:00",
          "2019-12-06T19:04:15",
          "2019-12-06T20:04:26",
          "2019-12-06T21:04:32",
          "2019-12-06T22:04:33",
          "2019-12-07T00:04:37",
          "2019-12-07T01:04:38",
          "2019-12-07T02:04:40",
          "2019-12-07T03:04:42",
          "2019-12-07T04:04:43",
          "2019-12-07T05:04:45",
          "2019-12-07T07:04:48",
          "2019-12-07T08:04:50",
          "2019-12-08T23:05:55",
          "2019-12-09T00:05:56",
          "2019-12-09T06:06:06",
          "2019-12-09T07:06:08",
          "2019-12-09T08:06:10",
          "2019-12-09T09:06:11",
          "2019-12-10T09:02:10",
          "2019-12-11T02:45:55",
          "2019-12-11T05:46:00",
          "2019-12-11T06:46:02",
          "2019-12-11T07:46:03",
          "2019-12-11T08:46:05",
          "2020-01-20T14:13:47",
          "2020-01-20T15:13:49",
          "2020-01-20T16:13:50",
          "2020-01-20T17:13:52",
          "2020-01-20T18:00:27",
          "2020-01-20T19:00:29",
          "2020-01-21T11:28:35",
          "2020-01-21T12:28:36",
          "2020-01-21T13:28:38",
          "2020-01-21T14:28:40",
          "2020-01-21T15:28:41",
          "2020-01-21T16:28:43",
          "2020-01-21T17:28:45",
          "2020-01-24T08:56:36"
         ],
         "xaxis": "x",
         "y": [
          33.3,
          34,
          33.8,
          34.2,
          34.5,
          34.7,
          34.8,
          34.9,
          35,
          35.1,
          34.4,
          34.6,
          34.2,
          34.5,
          33.9,
          null,
          null,
          34.8,
          34.5,
          32.4,
          33.7,
          34.9,
          35.7,
          36.1,
          36.4,
          36.5,
          36.4,
          36.3,
          36.2,
          36.1,
          36,
          35.9,
          36,
          35.7,
          35,
          34.7,
          34.5,
          34.8,
          35.1,
          35.3,
          35.1,
          35,
          null,
          34.8,
          34.6,
          34.7,
          34.8,
          34.5,
          35,
          35.3,
          35.5,
          35.4,
          35.3,
          34.7,
          32.9,
          34.1,
          34.7,
          35,
          35.2,
          34.8,
          34.7,
          23.1,
          23.7,
          27,
          30.7,
          32.7,
          24.3,
          29.5,
          32.1,
          33.3,
          34.3,
          33.6,
          34.7,
          34.9,
          35.1,
          26.8,
          30.5,
          32.2,
          33.3,
          31.1,
          23.3,
          28.6,
          31.6,
          33.3,
          34.1,
          34.2,
          33.4,
          34.2,
          34.8,
          34.4,
          34.7,
          23.6,
          25,
          29.7,
          32,
          33.5,
          34.1,
          34.4,
          34.3,
          34.7,
          35.1,
          34.8,
          34.5,
          24.8,
          29.4,
          32.1,
          33.5,
          33.9,
          34.4,
          34.7,
          34.3,
          34.5,
          34,
          34.2,
          22.2,
          28,
          31.3,
          32.4,
          33.4,
          34.2,
          34.4,
          33.4,
          34.6,
          31.3,
          33,
          22.8,
          26.2,
          30.2,
          32.2,
          32.6,
          33.9,
          34.5,
          34.4,
          34.5,
          33.7,
          34.3,
          25.8,
          30.2,
          32.4,
          33,
          33.8,
          34.2,
          34.3,
          34.7,
          34,
          33.5,
          33,
          34.2,
          32.9,
          33.7,
          34.8,
          35.7,
          36.3,
          36.7,
          37,
          37.2,
          37.4,
          35.6,
          35.3,
          35.2,
          33.8,
          34.7,
          34.9,
          34.6,
          34.9,
          35,
          27,
          30.8,
          32.8,
          32.5,
          34.2,
          34.6,
          34.5,
          35.1,
          35.2,
          34.8,
          25.1,
          29.7,
          32,
          33.4,
          33.5,
          33.9,
          34,
          34.1,
          34.6,
          24.6,
          29.5,
          32.4,
          33.8,
          32.1,
          33.7,
          33.6,
          33.8,
          35,
          34.9,
          35.3,
          23.1,
          28.7,
          31.6,
          33.3,
          34.1,
          34.3,
          32.3,
          33.2,
          28.7,
          32,
          null,
          33.9,
          34.6,
          34.8,
          35.2,
          35.5,
          24.2,
          29.1,
          32.2,
          33.7,
          34.2,
          null,
          35,
          34.4,
          34.3,
          34.5,
          34.1,
          22.7,
          28.2,
          31.5,
          33.3,
          34,
          33.6,
          34.5,
          34.4,
          34.5,
          22.7,
          28.3,
          31.5,
          32.9,
          33.7,
          34.3,
          null,
          null,
          22.9,
          28.2,
          31.4,
          32.7,
          33.6,
          34.2,
          34.1,
          34.6,
          34.2,
          34.5,
          34.1,
          23,
          28.7,
          31.8,
          33.2,
          33.8,
          34,
          29.6,
          30.3,
          32.5,
          33.2,
          33.8,
          34.4,
          34.6,
          34.9,
          35.6,
          36.2,
          36.6,
          36.7,
          37,
          37.2,
          37.1,
          35.4,
          35.2,
          35.1,
          34.1,
          34.6,
          34.1,
          34.3,
          34.5,
          34.2,
          34.7,
          34.2,
          22.5,
          28.2,
          31.2,
          32.8,
          33.4,
          32.4,
          33.2,
          34.2,
          34.5,
          22.4,
          28.2,
          31.4,
          33,
          33.4,
          33.7,
          33.6,
          34.3,
          34.4,
          22.9,
          28.5,
          31.8,
          33.5,
          34.1,
          34.5,
          34.8,
          34.6,
          34.8,
          22.7,
          28.6,
          31.8,
          24.5,
          29.4,
          30.9,
          32.8,
          34.1,
          34.4,
          32.6,
          32.5,
          33,
          33.6,
          29.5,
          25.4,
          29.4,
          32.2,
          33,
          33.5,
          34.2,
          34,
          34.3,
          34.6,
          34.2,
          32.2,
          33.8,
          34.5,
          35.2,
          34.8,
          null,
          35.2,
          34.2,
          35.4,
          34.7,
          34.5,
          34.8,
          35.2,
          35,
          34.9,
          35.9,
          37,
          37.8,
          38.4,
          38.8,
          39.1,
          39.4,
          37.8,
          36.6,
          35.6,
          35.2,
          35.6,
          35.4,
          35.6,
          35.1,
          35.4,
          35.2,
          34.9,
          35.3,
          35.5,
          35.4,
          35.3,
          null,
          36.1,
          36.9,
          37.5,
          37.8,
          38.1,
          38.3,
          38.4,
          38.2,
          36.2,
          35.8,
          35.5,
          35.4,
          35.3,
          34.4,
          33.4,
          33,
          31.9,
          32,
          32.4,
          32.8,
          32.5,
          32.2,
          null,
          22.7,
          31.7,
          32.2,
          26.5,
          29.8,
          32.3,
          33.2,
          33.8,
          34.8,
          32.8,
          33.1,
          32.8,
          33,
          33.2,
          33,
          22.2,
          23.2,
          24.9,
          27.5,
          28.7,
          31.7,
          32,
          32.5,
          32.3,
          29.7,
          30.7,
          31.7,
          33.7,
          33.4,
          33.6,
          33.1,
          32.9,
          34.2,
          22.6,
          28.6,
          31.1,
          32.3,
          32.4,
          null,
          32.8,
          32.9,
          23.3,
          26.2,
          30.3,
          32.6,
          33.8,
          34.1,
          26.8,
          30.9,
          33,
          32.7,
          22.7,
          28.3,
          29.9,
          32.4,
          33.6,
          null,
          34.3,
          33.9,
          34.6,
          23.3,
          28.7,
          31.8,
          32.7,
          33.4,
          34,
          33.8,
          34.5,
          34,
          32.9,
          34.1,
          34.7,
          35.3,
          23.2,
          28.8,
          32,
          33,
          34.1,
          34.6,
          31.4,
          29.6,
          31.8,
          32.8,
          33.8,
          34.1,
          34,
          34.5,
          34.6,
          34.5,
          34.8,
          35.8,
          36.6,
          37.2,
          37.7,
          37.9,
          38.2,
          38.3,
          35.7,
          35.5,
          34,
          null,
          34.7,
          34.3,
          34.6,
          34.7,
          34.5,
          34.7,
          34.2,
          34.9,
          22.3,
          27.9,
          31,
          32.8,
          33.2,
          34,
          34.4,
          34.8,
          35,
          35.2,
          32.6,
          34,
          33.9,
          34.2,
          34.4,
          34,
          34.3,
          22.5,
          28.4,
          31.6,
          32.8,
          33.5,
          34.3,
          34.5,
          23.5,
          31.4,
          32.9,
          23.2,
          28.5,
          31.8,
          33,
          33.8,
          34.9,
          34.8,
          23.3,
          29.7,
          30.6,
          33,
          33.6,
          34,
          33.5,
          33.4,
          34.1,
          23,
          28.6,
          31.7,
          33,
          32.7,
          34.2,
          34.5,
          22.9,
          25.5,
          25.8,
          30.2,
          32.1,
          33.1,
          34,
          34.1,
          34.4,
          27.4,
          31.1,
          32.5,
          33.5,
          34.2,
          30.6,
          24.8,
          29.3,
          32.3,
          33.4,
          34.2,
          34.6,
          35,
          34.7,
          22.7,
          28.5,
          31.3,
          32.6,
          33.5,
          34.1,
          22.2,
          28.3,
          31.4,
          32.6,
          32,
          22.7,
          33.6,
          34.1,
          34,
          34.3,
          34.7,
          null,
          null,
          35.3,
          35.2,
          35.8,
          36.4,
          36.8,
          37.1,
          37.3,
          37.5,
          37.1,
          36.2,
          35.7,
          36,
          35.2,
          35.2,
          34.7,
          34.9,
          34.6,
          34.3,
          34.6,
          22.3,
          31.6,
          35.5,
          35.1,
          35.7,
          35.9,
          35.8,
          35.6,
          35.5,
          35.4,
          35.5,
          34.4,
          34.6,
          36,
          36.5,
          36.8,
          35.8,
          34.9,
          35.3,
          35.8,
          36.1,
          36.4,
          36.5,
          36.7,
          36.8,
          35.5,
          35.6,
          35.4,
          31.6,
          32.8,
          33.7,
          34.3,
          32.5,
          33.5,
          34.4,
          34.1,
          34.3,
          34.6,
          34.5,
          35,
          34.8,
          35.1,
          35.2,
          34.2,
          34.5,
          34.4,
          34.1,
          34.5,
          34.2,
          34.3,
          34.1,
          34.5,
          34.3,
          34.5,
          34.6,
          34.7,
          34.3,
          34.2,
          34.6,
          34.4,
          34.2,
          34.4,
          34.3,
          34.1,
          34.4,
          34.2,
          34.6,
          34.8,
          35.1,
          35.2,
          35.4,
          35.6,
          35.8,
          35,
          35.1,
          36.4,
          36.5,
          36.1,
          35.3,
          35.1,
          35,
          22.1,
          34.4,
          34.3,
          34.5,
          34.3,
          34.4,
          29.2,
          32,
          32.9,
          33.5,
          33.8,
          null,
          null,
          33.9,
          34.4,
          34.3,
          34,
          34.1,
          34.4,
          21.7
         ],
         "yaxis": "y"
        },
        {
         "hovertemplate": "variable=cooling_temperature<br>datetime=%{x}<br>value=%{y}<extra></extra>",
         "legendgroup": "cooling_temperature",
         "line": {
          "color": "#EF553B",
          "dash": "solid"
         },
         "mode": "lines",
         "name": "cooling_temperature",
         "showlegend": true,
         "type": "scattergl",
         "x": [
          "2019-04-13T17:51:16",
          "2019-04-13T18:51:18",
          "2019-04-13T19:51:20",
          "2019-04-13T20:51:21",
          "2019-04-13T21:51:23",
          "2019-04-13T22:51:25",
          "2019-04-13T23:51:26",
          "2019-04-14T00:51:28",
          "2019-04-14T01:51:30",
          "2019-04-14T06:51:38",
          "2019-04-14T08:51:41",
          "2019-04-14T09:51:43",
          "2019-04-14T10:25:16",
          "2019-04-14T10:43:38",
          "2019-04-14T11:39:32",
          "2019-04-14T11:52:06",
          "2019-04-14T11:58:19",
          "2019-04-14T13:24:43",
          "2019-04-14T14:38:23",
          "2019-04-14T15:00:38",
          "2019-04-14T16:00:40",
          "2019-04-14T17:00:42",
          "2019-04-14T18:00:43",
          "2019-04-14T19:00:45",
          "2019-04-14T20:00:47",
          "2019-04-14T21:00:48",
          "2019-04-14T22:00:50",
          "2019-04-14T23:00:52",
          "2019-04-15T00:00:53",
          "2019-04-15T01:00:55",
          "2019-04-15T03:00:58",
          "2019-04-15T05:01:02",
          "2019-04-15T06:01:03",
          "2019-04-15T07:01:05",
          "2019-04-15T08:01:07",
          "2019-04-15T09:01:08",
          "2019-04-15T09:57:11",
          "2019-04-15T10:57:13",
          "2019-04-15T13:57:18",
          "2019-04-15T14:57:19",
          "2019-04-15T15:57:21",
          "2019-04-15T16:57:23",
          "2019-04-15T17:57:24",
          "2019-04-15T18:57:26",
          "2019-04-15T19:57:28",
          "2019-04-15T20:57:29",
          "2019-04-15T21:57:31",
          "2019-04-15T22:57:33",
          "2019-04-15T23:57:34",
          "2019-04-16T00:57:36",
          "2019-04-16T01:57:38",
          "2019-04-16T04:57:43",
          "2019-04-16T05:57:44",
          "2019-04-16T07:57:48",
          "2019-04-16T08:58:39",
          "2019-04-16T09:58:40",
          "2019-04-16T10:58:42",
          "2019-04-16T13:58:47",
          "2019-04-16T14:58:49",
          "2019-04-16T15:58:50",
          "2019-04-16T16:58:52",
          "2019-04-17T13:55:03",
          "2019-04-17T14:01:13",
          "2019-04-17T14:49:08",
          "2019-04-17T15:49:10",
          "2019-04-17T16:49:11",
          "2019-04-23T09:31:58",
          "2019-04-23T10:32:00",
          "2019-04-23T11:32:02",
          "2019-04-23T12:32:03",
          "2019-04-23T13:32:05",
          "2019-04-23T14:30:18",
          "2019-04-23T15:30:19",
          "2019-04-23T16:30:21",
          "2019-04-23T17:30:23",
          "2019-04-26T13:20:57",
          "2019-04-26T14:20:59",
          "2019-04-26T15:21:00",
          "2019-04-26T16:21:02",
          "2019-04-26T17:31:50",
          "2019-04-29T09:20:40",
          "2019-04-29T10:20:42",
          "2019-04-29T11:20:43",
          "2019-04-29T12:20:45",
          "2019-04-29T13:20:47",
          "2019-04-29T14:20:48",
          "2019-04-29T14:39:03",
          "2019-04-29T15:17:34",
          "2019-04-29T16:17:35",
          "2019-04-29T17:08:16",
          "2019-04-29T18:08:17",
          "2019-04-30T08:37:41",
          "2019-04-30T08:52:16",
          "2019-04-30T09:52:18",
          "2019-04-30T10:52:19",
          "2019-04-30T11:52:21",
          "2019-04-30T12:52:23",
          "2019-04-30T13:52:24",
          "2019-04-30T14:52:26",
          "2019-04-30T15:52:28",
          "2019-04-30T16:52:29",
          "2019-04-30T18:52:32",
          "2019-04-30T19:52:33",
          "2019-05-02T09:33:47",
          "2019-05-02T10:33:49",
          "2019-05-02T11:33:50",
          "2019-05-02T12:33:52",
          "2019-05-02T13:33:54",
          "2019-05-02T14:33:55",
          "2019-05-02T15:33:57",
          "2019-05-02T16:33:58",
          "2019-05-02T17:34:00",
          "2019-05-02T18:34:02",
          "2019-05-02T19:34:03",
          "2019-05-06T11:02:12",
          "2019-05-06T12:02:13",
          "2019-05-06T13:02:15",
          "2019-05-06T14:02:17",
          "2019-05-06T15:02:18",
          "2019-05-06T16:02:20",
          "2019-05-06T17:02:21",
          "2019-05-06T17:31:47",
          "2019-05-06T18:31:49",
          "2019-05-06T19:51:44",
          "2019-05-06T20:51:46",
          "2019-05-07T09:04:49",
          "2019-05-07T09:37:06",
          "2019-05-07T10:37:08",
          "2019-05-07T11:37:10",
          "2019-05-07T13:14:51",
          "2019-05-07T14:14:52",
          "2019-05-07T15:14:54",
          "2019-05-07T16:14:56",
          "2019-05-07T17:14:57",
          "2019-05-07T17:32:18",
          "2019-05-07T18:32:20",
          "2019-05-08T09:53:12",
          "2019-05-08T10:53:13",
          "2019-05-08T11:53:15",
          "2019-05-08T12:53:17",
          "2019-05-08T13:53:18",
          "2019-05-08T14:53:20",
          "2019-05-08T15:53:22",
          "2019-05-08T16:53:23",
          "2019-05-08T17:47:04",
          "2019-05-08T18:07:58",
          "2019-05-08T18:38:21",
          "2019-05-08T19:38:23",
          "2019-05-08T21:36:36",
          "2019-05-08T22:36:37",
          "2019-05-08T23:36:39",
          "2019-05-09T00:36:41",
          "2019-05-09T01:36:42",
          "2019-05-09T02:36:44",
          "2019-05-09T03:36:46",
          "2019-05-09T04:36:47",
          "2019-05-09T05:36:49",
          "2019-05-09T07:36:52",
          "2019-05-09T08:36:54",
          "2019-05-09T09:36:55",
          "2019-05-09T10:38:55",
          "2019-05-09T11:38:57",
          "2019-05-09T12:38:58",
          "2019-05-09T13:39:00",
          "2019-05-09T15:39:03",
          "2019-05-09T16:39:05",
          "2019-05-10T09:25:17",
          "2019-05-10T10:25:19",
          "2019-05-10T11:25:20",
          "2019-05-10T11:48:44",
          "2019-05-10T12:48:45",
          "2019-05-10T13:48:47",
          "2019-05-10T14:48:48",
          "2019-05-10T15:48:50",
          "2019-05-10T16:48:52",
          "2019-05-10T17:48:53",
          "2019-05-14T09:08:40",
          "2019-05-14T10:08:41",
          "2019-05-14T11:08:43",
          "2019-05-14T12:08:45",
          "2019-05-14T13:08:46",
          "2019-05-14T14:08:48",
          "2019-05-14T15:08:50",
          "2019-05-14T16:08:51",
          "2019-05-14T17:08:53",
          "2019-05-15T08:36:37",
          "2019-05-15T09:36:39",
          "2019-05-15T10:36:40",
          "2019-05-15T11:36:42",
          "2019-05-15T12:36:55",
          "2019-05-15T13:36:56",
          "2019-05-15T13:40:43",
          "2019-05-15T14:08:38",
          "2019-05-15T15:08:40",
          "2019-05-15T16:08:42",
          "2019-05-15T17:08:43",
          "2019-05-20T09:56:29",
          "2019-05-20T10:56:31",
          "2019-05-20T11:56:33",
          "2019-05-20T12:56:34",
          "2019-05-20T13:56:36",
          "2019-05-20T14:56:38",
          "2019-05-20T15:56:18",
          "2019-05-20T18:04:45",
          "2019-05-21T10:13:20",
          "2019-05-21T11:13:22",
          "2019-05-21T11:49:56",
          "2019-05-21T12:49:57",
          "2019-05-21T13:49:59",
          "2019-05-21T15:50:02",
          "2019-05-21T16:50:04",
          "2019-05-21T17:50:06",
          "2019-05-23T09:10:05",
          "2019-05-23T10:10:06",
          "2019-05-23T11:10:08",
          "2019-05-23T12:10:10",
          "2019-05-23T13:10:11",
          "2019-05-23T14:05:55",
          "2019-05-23T15:05:56",
          "2019-05-23T16:05:58",
          "2019-05-23T17:06:00",
          "2019-05-23T18:06:01",
          "2019-05-23T19:06:03",
          "2019-05-24T08:53:56",
          "2019-05-24T09:53:58",
          "2019-05-24T10:54:00",
          "2019-05-24T11:54:01",
          "2019-05-24T12:54:03",
          "2019-05-24T13:19:22",
          "2019-05-24T14:19:24",
          "2019-05-24T15:19:25",
          "2019-05-24T16:19:27",
          "2019-05-27T08:21:20",
          "2019-05-27T09:21:21",
          "2019-05-27T10:21:23",
          "2019-05-27T11:21:25",
          "2019-05-27T12:21:26",
          "2019-05-27T13:21:28",
          "2019-05-27T14:21:30",
          "2019-05-27T15:21:31",
          "2019-05-28T08:35:12",
          "2019-05-28T09:35:14",
          "2019-05-28T10:35:15",
          "2019-05-28T11:35:17",
          "2019-05-28T12:35:19",
          "2019-05-28T13:35:20",
          "2019-05-28T14:35:22",
          "2019-05-28T15:35:24",
          "2019-05-28T16:35:25",
          "2019-05-28T17:35:27",
          "2019-05-28T18:35:29",
          "2019-06-03T10:32:10",
          "2019-06-03T11:32:11",
          "2019-06-03T12:32:13",
          "2019-06-03T13:32:15",
          "2019-06-03T14:32:17",
          "2019-06-03T15:32:18",
          "2019-06-04T17:28:33",
          "2019-06-04T17:43:27",
          "2019-06-04T18:43:29",
          "2019-06-04T19:43:30",
          "2019-06-04T20:43:32",
          "2019-06-04T21:43:34",
          "2019-06-04T22:43:35",
          "2019-06-04T23:43:37",
          "2019-06-05T00:43:39",
          "2019-06-05T01:43:40",
          "2019-06-05T02:43:42",
          "2019-06-05T03:43:44",
          "2019-06-05T04:43:45",
          "2019-06-05T05:43:47",
          "2019-06-05T06:43:49",
          "2019-06-05T07:43:50",
          "2019-06-05T08:43:52",
          "2019-06-05T09:43:54",
          "2019-06-05T10:43:55",
          "2019-06-05T11:43:57",
          "2019-06-05T12:43:59",
          "2019-06-05T13:44:00",
          "2019-06-05T14:44:02",
          "2019-06-05T15:44:04",
          "2019-06-05T16:44:05",
          "2019-06-05T17:44:07",
          "2019-06-06T10:35:00",
          "2019-06-06T11:35:02",
          "2019-06-06T12:35:04",
          "2019-06-06T13:35:05",
          "2019-06-06T14:35:07",
          "2019-06-07T09:50:20",
          "2019-06-07T10:50:22",
          "2019-06-07T11:50:23",
          "2019-06-07T13:50:27",
          "2019-06-14T09:01:21",
          "2019-06-14T10:01:22",
          "2019-06-14T11:01:24",
          "2019-06-14T12:01:26",
          "2019-06-14T13:01:27",
          "2019-06-14T14:01:29",
          "2019-06-14T16:02:23",
          "2019-06-14T17:02:25",
          "2019-06-14T18:02:26",
          "2019-06-17T08:19:28",
          "2019-06-17T09:19:30",
          "2019-06-17T10:19:31",
          "2019-06-17T11:19:33",
          "2019-06-17T12:19:35",
          "2019-06-17T13:19:36",
          "2019-06-17T14:19:38",
          "2019-06-17T15:19:40",
          "2019-06-17T16:19:41",
          "2019-06-18T16:31:59",
          "2019-06-18T17:32:00",
          "2019-06-18T18:32:02",
          "2019-06-19T09:22:01",
          "2019-06-19T10:22:03",
          "2019-06-19T11:00:12",
          "2019-06-19T12:00:14",
          "2019-06-19T13:00:16",
          "2019-06-19T14:00:17",
          "2019-06-19T15:52:20",
          "2019-06-19T16:52:21",
          "2019-06-19T17:52:23",
          "2019-06-19T18:52:25",
          "2019-06-28T14:02:18",
          "2019-07-01T10:12:29",
          "2019-07-01T11:12:31",
          "2019-07-01T12:12:32",
          "2019-07-01T13:12:34",
          "2019-07-01T14:12:35",
          "2019-07-01T15:12:37",
          "2019-07-01T16:12:39",
          "2019-07-01T17:12:40",
          "2019-07-01T18:12:42",
          "2019-07-01T18:43:17",
          "2019-07-02T09:36:40",
          "2019-07-02T10:36:42",
          "2019-07-02T11:36:44",
          "2019-07-02T12:36:45",
          "2019-07-02T13:36:47",
          "2019-07-02T14:24:49",
          "2019-07-02T15:24:50",
          "2019-07-02T16:01:55",
          "2019-07-02T17:01:57",
          "2019-07-02T18:01:58",
          "2019-07-02T19:02:00",
          "2019-07-02T20:02:02",
          "2019-07-02T21:02:03",
          "2019-07-02T22:02:05",
          "2019-07-02T23:02:07",
          "2019-07-03T00:02:08",
          "2019-07-03T01:02:10",
          "2019-07-03T02:02:12",
          "2019-07-03T03:02:13",
          "2019-07-03T04:02:15",
          "2019-07-03T05:02:17",
          "2019-07-03T06:02:18",
          "2019-07-03T07:02:20",
          "2019-07-03T08:02:22",
          "2019-07-03T09:02:23",
          "2019-07-03T09:39:23",
          "2019-07-03T10:39:25",
          "2019-07-03T11:39:27",
          "2019-07-03T12:39:28",
          "2019-07-03T13:39:30",
          "2019-07-03T15:39:33",
          "2019-07-03T16:39:35",
          "2019-07-03T17:39:36",
          "2019-07-03T18:39:38",
          "2019-07-03T19:39:40",
          "2019-07-03T20:39:41",
          "2019-07-03T21:39:43",
          "2019-07-03T22:39:45",
          "2019-07-03T23:39:46",
          "2019-07-04T00:39:48",
          "2019-07-04T01:39:50",
          "2019-07-04T02:39:51",
          "2019-07-04T03:39:53",
          "2019-07-04T04:39:55",
          "2019-07-04T05:39:56",
          "2019-07-04T06:39:58",
          "2019-07-04T07:40:00",
          "2019-07-04T08:40:01",
          "2019-07-04T09:11:07",
          "2019-07-04T10:11:09",
          "2019-07-04T11:11:11",
          "2019-07-04T12:13:05",
          "2019-07-04T13:21:41",
          "2019-07-04T14:25:58",
          "2019-07-04T14:46:16",
          "2019-07-04T15:15:00",
          "2019-07-04T15:21:25",
          "2019-07-04T15:26:08",
          "2019-07-04T15:41:29",
          "2019-07-04T15:55:55",
          "2019-07-04T16:20:06",
          "2019-07-05T10:59:32",
          "2019-07-05T14:08:57",
          "2019-07-05T14:30:02",
          "2019-07-09T09:51:56",
          "2019-07-09T10:43:20",
          "2019-07-09T11:43:22",
          "2019-07-09T12:43:24",
          "2019-07-09T13:43:25",
          "2019-07-09T14:43:27",
          "2019-07-09T15:11:40",
          "2019-07-09T15:39:52",
          "2019-07-09T16:46:59",
          "2019-07-09T16:59:26",
          "2019-07-09T17:24:33",
          "2019-07-09T18:13:46",
          "2019-07-10T08:33:30",
          "2019-07-10T08:43:50",
          "2019-07-10T09:24:58",
          "2019-07-10T10:04:34",
          "2019-07-10T10:22:11",
          "2019-07-10T11:22:13",
          "2019-07-10T11:46:06",
          "2019-07-10T12:05:23",
          "2019-07-10T12:17:28",
          "2019-07-10T12:51:51",
          "2019-07-10T13:16:29",
          "2019-07-10T13:41:33",
          "2019-07-10T14:41:35",
          "2019-07-10T15:22:51",
          "2019-07-10T16:16:32",
          "2019-07-10T16:32:52",
          "2019-07-10T17:55:21",
          "2019-07-10T18:55:23",
          "2019-07-11T07:57:53",
          "2019-07-11T08:57:54",
          "2019-07-11T09:59:02",
          "2019-07-11T11:09:37",
          "2019-07-11T11:45:33",
          "2019-07-11T12:04:54",
          "2019-07-11T12:24:39",
          "2019-07-11T13:18:04",
          "2019-07-12T11:48:38",
          "2019-07-12T12:23:21",
          "2019-07-12T13:23:22",
          "2019-07-12T14:23:24",
          "2019-07-12T15:23:26",
          "2019-07-12T16:23:27",
          "2019-07-23T14:00:15",
          "2019-07-23T15:00:17",
          "2019-07-23T16:00:19",
          "2019-07-23T16:08:06",
          "2019-07-24T10:31:02",
          "2019-07-24T11:31:03",
          "2019-07-24T13:13:09",
          "2019-07-24T14:13:10",
          "2019-07-24T15:13:12",
          "2019-07-24T16:12:34",
          "2019-07-24T16:54:58",
          "2019-07-24T17:43:25",
          "2019-07-24T18:43:26",
          "2019-07-25T08:03:41",
          "2019-07-25T09:03:42",
          "2019-07-25T10:03:44",
          "2019-07-25T11:03:46",
          "2019-07-25T12:03:47",
          "2019-07-25T13:03:49",
          "2019-07-25T14:03:50",
          "2019-07-25T15:03:52",
          "2019-07-25T16:03:54",
          "2019-07-25T16:49:11",
          "2019-07-25T17:49:13",
          "2019-07-25T18:49:15",
          "2019-07-25T19:49:16",
          "2019-07-26T07:58:43",
          "2019-07-26T08:58:45",
          "2019-07-26T09:58:46",
          "2019-07-26T10:58:48",
          "2019-07-26T11:58:50",
          "2019-07-26T12:58:51",
          "2019-07-26T15:02:11",
          "2019-07-29T13:29:37",
          "2019-07-29T14:29:39",
          "2019-07-29T15:29:40",
          "2019-07-29T16:29:42",
          "2019-07-29T18:29:45",
          "2019-07-29T19:29:47",
          "2019-07-29T20:29:49",
          "2019-07-29T21:29:50",
          "2019-07-29T22:29:52",
          "2019-07-29T23:29:54",
          "2019-07-30T00:29:55",
          "2019-07-30T01:29:57",
          "2019-07-30T02:29:58",
          "2019-07-30T03:30:00",
          "2019-07-30T04:30:02",
          "2019-07-30T05:30:03",
          "2019-07-30T06:30:05",
          "2019-07-30T07:30:07",
          "2019-07-30T08:30:08",
          "2019-07-30T09:08:06",
          "2019-07-30T09:41:04",
          "2019-07-30T09:48:37",
          "2019-07-30T10:48:39",
          "2019-07-30T11:48:41",
          "2019-07-30T12:48:42",
          "2019-07-30T13:48:44",
          "2019-07-30T14:48:46",
          "2019-07-30T15:34:40",
          "2019-07-30T16:34:42",
          "2019-10-09T15:25:09",
          "2019-10-09T16:25:10",
          "2019-10-09T17:25:12",
          "2019-10-09T18:25:14",
          "2019-10-09T19:25:15",
          "2019-10-09T20:25:17",
          "2019-10-09T23:25:22",
          "2019-10-10T00:25:24",
          "2019-10-10T01:25:25",
          "2019-10-10T02:25:27",
          "2019-10-10T09:31:21",
          "2019-10-10T10:31:23",
          "2019-10-10T12:31:26",
          "2019-10-10T13:31:28",
          "2019-10-10T14:31:29",
          "2019-10-10T15:31:31",
          "2019-10-10T16:31:33",
          "2019-10-11T10:17:05",
          "2019-10-11T11:17:07",
          "2019-10-11T12:17:09",
          "2019-10-11T13:17:10",
          "2019-10-11T14:17:12",
          "2019-10-11T15:17:14",
          "2019-10-11T16:17:15",
          "2019-10-14T12:14:15",
          "2019-10-14T14:58:55",
          "2019-10-14T15:58:56",
          "2019-10-23T09:17:14",
          "2019-10-23T10:17:16",
          "2019-10-23T11:17:18",
          "2019-10-23T12:17:19",
          "2019-10-23T13:17:21",
          "2019-10-23T14:17:23",
          "2019-10-23T15:17:24",
          "2019-10-24T09:41:01",
          "2019-10-24T11:05:18",
          "2019-10-24T11:26:41",
          "2019-10-24T12:26:42",
          "2019-10-24T13:26:44",
          "2019-10-24T14:26:46",
          "2019-10-24T14:57:14",
          "2019-10-24T15:18:00",
          "2019-10-24T16:18:02",
          "2019-10-25T10:25:30",
          "2019-10-25T11:25:32",
          "2019-10-25T12:25:33",
          "2019-10-25T13:25:35",
          "2019-10-25T14:21:22",
          "2019-10-25T15:21:24",
          "2019-10-25T16:21:26",
          "2019-10-28T11:04:50",
          "2019-10-28T11:31:13",
          "2019-10-28T11:42:47",
          "2019-10-28T12:42:48",
          "2019-10-28T13:42:50",
          "2019-10-28T14:42:52",
          "2019-10-28T15:42:53",
          "2019-10-28T16:42:55",
          "2019-10-28T18:42:58",
          "2019-10-29T11:11:08",
          "2019-10-29T12:11:09",
          "2019-10-29T13:11:11",
          "2019-10-29T14:11:13",
          "2019-10-29T15:11:14",
          "2019-10-29T16:14:23",
          "2019-10-30T09:49:41",
          "2019-10-30T10:49:43",
          "2019-10-30T11:49:44",
          "2019-10-30T12:35:44",
          "2019-10-30T13:35:45",
          "2019-10-30T14:35:47",
          "2019-10-30T15:35:49",
          "2019-10-30T16:35:50",
          "2019-10-31T08:01:05",
          "2019-10-31T09:01:06",
          "2019-10-31T10:01:08",
          "2019-10-31T11:01:10",
          "2019-10-31T12:01:11",
          "2019-10-31T13:01:13",
          "2019-11-04T12:26:19",
          "2019-11-04T13:26:20",
          "2019-11-04T14:26:22",
          "2019-11-04T15:26:24",
          "2019-11-05T16:39:49",
          "2019-11-06T09:21:53",
          "2019-11-06T13:04:23",
          "2019-11-06T14:04:25",
          "2019-11-06T15:04:27",
          "2019-11-06T16:04:28",
          "2019-11-06T17:04:30",
          "2019-11-06T18:04:31",
          "2019-11-06T19:04:33",
          "2019-11-06T20:04:35",
          "2019-11-06T22:04:38",
          "2019-11-06T23:04:40",
          "2019-11-07T00:04:42",
          "2019-11-07T01:04:44",
          "2019-11-07T02:04:45",
          "2019-11-07T03:04:47",
          "2019-11-07T04:04:49",
          "2019-11-07T06:04:52",
          "2019-11-07T07:04:54",
          "2019-11-07T08:04:56",
          "2019-11-07T09:04:58",
          "2019-11-07T10:04:59",
          "2019-11-07T13:05:05",
          "2019-11-07T14:05:06",
          "2019-11-07T15:05:08",
          "2019-11-07T16:05:10",
          "2019-11-07T17:05:12",
          "2019-11-07T18:05:13",
          "2019-11-08T10:41:54",
          "2019-11-11T09:53:29",
          "2019-11-25T16:10:31",
          "2019-11-25T16:22:20",
          "2019-11-25T17:22:22",
          "2019-11-25T18:22:23",
          "2019-11-25T20:22:27",
          "2019-11-25T23:22:32",
          "2019-11-26T00:22:33",
          "2019-11-26T01:22:35",
          "2019-11-26T09:22:48",
          "2019-11-26T11:03:53",
          "2019-11-26T12:10:59",
          "2019-11-26T13:11:00",
          "2019-11-26T14:11:02",
          "2019-11-26T15:11:04",
          "2019-11-26T16:11:05",
          "2019-11-26T17:11:07",
          "2019-11-27T22:55:44",
          "2019-11-27T23:55:46",
          "2019-11-28T00:55:48",
          "2019-11-28T01:55:49",
          "2019-11-28T02:55:51",
          "2019-11-28T03:55:53",
          "2019-11-28T04:55:54",
          "2019-11-28T06:55:58",
          "2019-11-28T07:55:59",
          "2019-11-28T08:56:01",
          "2019-12-03T14:26:06",
          "2019-12-03T15:26:08",
          "2019-12-03T16:26:09",
          "2019-12-03T17:26:11",
          "2019-12-04T14:01:46",
          "2019-12-04T15:01:48",
          "2019-12-04T16:01:50",
          "2019-12-04T17:01:51",
          "2019-12-04T18:01:53",
          "2019-12-04T19:01:55",
          "2019-12-04T20:01:56",
          "2019-12-04T21:01:58",
          "2019-12-04T22:02:00",
          "2019-12-04T23:02:01",
          "2019-12-05T01:02:05",
          "2019-12-05T13:02:25",
          "2019-12-05T14:02:26",
          "2019-12-05T15:02:29",
          "2019-12-05T16:02:31",
          "2019-12-05T17:02:32",
          "2019-12-05T18:02:34",
          "2019-12-05T20:02:58",
          "2019-12-05T21:03:00",
          "2019-12-05T22:03:02",
          "2019-12-05T23:03:03",
          "2019-12-06T00:03:05",
          "2019-12-06T01:03:07",
          "2019-12-06T02:03:08",
          "2019-12-06T12:03:25",
          "2019-12-06T13:03:27",
          "2019-12-06T14:03:28",
          "2019-12-06T15:03:30",
          "2019-12-06T16:03:38",
          "2019-12-06T17:03:50",
          "2019-12-06T18:04:00",
          "2019-12-06T19:04:15",
          "2019-12-06T20:04:26",
          "2019-12-06T21:04:32",
          "2019-12-06T22:04:33",
          "2019-12-07T00:04:37",
          "2019-12-07T01:04:38",
          "2019-12-07T02:04:40",
          "2019-12-07T03:04:42",
          "2019-12-07T04:04:43",
          "2019-12-07T05:04:45",
          "2019-12-07T07:04:48",
          "2019-12-07T08:04:50",
          "2019-12-08T23:05:55",
          "2019-12-09T00:05:56",
          "2019-12-09T06:06:06",
          "2019-12-09T07:06:08",
          "2019-12-09T08:06:10",
          "2019-12-09T09:06:11",
          "2019-12-10T09:02:10",
          "2019-12-11T02:45:55",
          "2019-12-11T05:46:00",
          "2019-12-11T06:46:02",
          "2019-12-11T07:46:03",
          "2019-12-11T08:46:05",
          "2020-01-20T14:13:47",
          "2020-01-20T15:13:49",
          "2020-01-20T16:13:50",
          "2020-01-20T17:13:52",
          "2020-01-20T18:00:27",
          "2020-01-20T19:00:29",
          "2020-01-21T11:28:35",
          "2020-01-21T12:28:36",
          "2020-01-21T13:28:38",
          "2020-01-21T14:28:40",
          "2020-01-21T15:28:41",
          "2020-01-21T16:28:43",
          "2020-01-21T17:28:45",
          "2020-01-24T08:56:36"
         ],
         "xaxis": "x",
         "y": [
          15,
          null,
          null,
          null,
          null,
          null,
          null,
          null,
          null,
          null,
          null,
          null,
          20.9,
          20.4,
          32.3,
          32.4,
          31.7,
          15,
          17,
          31.6,
          15,
          null,
          null,
          15.1,
          15,
          null,
          null,
          null,
          null,
          null,
          null,
          null,
          null,
          null,
          null,
          null,
          19.7,
          15,
          null,
          null,
          null,
          null,
          14.9,
          15,
          null,
          null,
          null,
          null,
          null,
          null,
          null,
          null,
          null,
          null,
          31.8,
          15,
          null,
          null,
          null,
          null,
          null,
          21.6,
          21.1,
          26,
          15,
          null,
          23.1,
          15,
          null,
          null,
          null,
          32,
          15,
          15.1,
          15,
          25.8,
          15,
          15.1,
          15,
          30.1,
          22.2,
          15,
          null,
          null,
          null,
          null,
          32.3,
          15,
          null,
          23.8,
          15,
          22.4,
          24,
          15,
          null,
          null,
          null,
          null,
          null,
          null,
          null,
          null,
          null,
          23.6,
          15,
          null,
          null,
          null,
          null,
          null,
          null,
          null,
          null,
          null,
          20.9,
          15,
          null,
          null,
          null,
          null,
          null,
          31.9,
          15,
          30.3,
          15,
          21.5,
          20.9,
          15.1,
          15,
          31,
          15,
          null,
          null,
          null,
          32.2,
          15,
          24.6,
          15,
          null,
          null,
          null,
          null,
          null,
          null,
          32.6,
          32.3,
          31.4,
          15,
          31.9,
          15,
          null,
          null,
          null,
          null,
          null,
          null,
          null,
          null,
          null,
          null,
          32.4,
          15,
          null,
          null,
          null,
          null,
          25.9,
          15,
          null,
          31,
          15,
          null,
          null,
          null,
          null,
          null,
          24.1,
          15,
          null,
          null,
          null,
          null,
          15.1,
          15,
          null,
          23.2,
          15.1,
          15,
          null,
          31.2,
          15,
          19.5,
          20.6,
          15,
          null,
          null,
          22.1,
          15,
          null,
          15.1,
          15,
          null,
          31.5,
          32.3,
          15,
          null,
          29,
          15,
          null,
          null,
          null,
          null,
          23.2,
          15,
          null,
          null,
          null,
          22.1,
          15,
          null,
          null,
          null,
          null,
          21.6,
          15,
          15.1,
          15,
          null,
          26,
          15,
          15.1,
          15,
          21.7,
          15,
          null,
          15.1,
          15,
          null,
          15.1,
          15,
          21.5,
          15,
          null,
          null,
          null,
          null,
          15.1,
          15,
          null,
          null,
          null,
          21.6,
          15,
          null,
          null,
          null,
          null,
          28.8,
          21.4,
          15,
          null,
          null,
          null,
          null,
          null,
          null,
          null,
          null,
          null,
          null,
          null,
          null,
          null,
          null,
          null,
          null,
          null,
          null,
          null,
          null,
          null,
          null,
          null,
          21.2,
          15,
          null,
          null,
          null,
          31.4,
          15,
          null,
          null,
          21.2,
          15,
          null,
          null,
          null,
          null,
          20.8,
          15,
          null,
          21.6,
          15,
          null,
          null,
          null,
          null,
          null,
          null,
          null,
          21.5,
          15,
          15.1,
          23.5,
          15,
          29.8,
          15,
          null,
          null,
          31.4,
          15,
          null,
          null,
          28.5,
          24.2,
          15,
          null,
          null,
          null,
          null,
          null,
          null,
          null,
          23.3,
          31.4,
          15,
          null,
          null,
          null,
          25.3,
          15,
          33.1,
          15,
          null,
          null,
          null,
          null,
          15.1,
          15,
          null,
          null,
          null,
          null,
          null,
          null,
          null,
          null,
          null,
          null,
          25.8,
          15,
          null,
          null,
          null,
          null,
          null,
          null,
          null,
          null,
          null,
          15.1,
          15,
          null,
          null,
          null,
          null,
          null,
          null,
          null,
          null,
          null,
          null,
          21.3,
          15,
          null,
          33.2,
          32.6,
          32.1,
          30.8,
          null,
          25.1,
          19.9,
          31.4,
          31.2,
          31.1,
          21.5,
          30.7,
          31.2,
          25.5,
          28.8,
          15,
          null,
          null,
          null,
          31.8,
          32.1,
          31.8,
          32,
          32.2,
          32.1,
          21.2,
          20.9,
          24.2,
          26.7,
          21.3,
          15,
          29.9,
          31.4,
          null,
          29.1,
          27.8,
          25.5,
          15,
          20,
          31.4,
          32,
          32.1,
          15,
          21.7,
          15.1,
          30.2,
          31.5,
          null,
          30.3,
          31.4,
          31.8,
          22.3,
          23.1,
          15,
          null,
          null,
          null,
          25.9,
          15,
          null,
          24.7,
          21.8,
          15,
          29.2,
          15.1,
          15,
          32.5,
          20.3,
          29.2,
          15,
          22.5,
          15,
          null,
          null,
          null,
          null,
          null,
          null,
          null,
          32,
          15,
          null,
          null,
          22.3,
          15.1,
          null,
          15,
          null,
          null,
          30.6,
          28.9,
          15,
          null,
          null,
          null,
          null,
          null,
          null,
          null,
          null,
          null,
          null,
          null,
          null,
          null,
          null,
          null,
          null,
          null,
          33,
          30.8,
          14.9,
          15,
          null,
          15.1,
          15,
          null,
          33,
          15,
          21.2,
          15.1,
          15,
          null,
          null,
          null,
          null,
          null,
          null,
          null,
          31.8,
          15,
          null,
          null,
          null,
          null,
          null,
          21.3,
          15,
          15.1,
          null,
          15,
          null,
          null,
          22.4,
          30.6,
          15,
          22.1,
          15,
          15.1,
          15,
          null,
          null,
          null,
          22.2,
          28.8,
          22.1,
          15,
          null,
          null,
          32.6,
          32.4,
          15,
          21.9,
          15,
          null,
          null,
          31.3,
          15,
          null,
          21.8,
          21.2,
          24.8,
          15,
          null,
          null,
          null,
          null,
          null,
          26.5,
          15,
          null,
          null,
          null,
          29.8,
          23.9,
          15,
          null,
          19.6,
          15,
          null,
          null,
          null,
          21.6,
          15,
          null,
          null,
          null,
          null,
          21.1,
          15,
          null,
          null,
          31.1,
          21.6,
          15,
          null,
          null,
          null,
          null,
          15.1,
          15,
          null,
          null,
          null,
          null,
          null,
          null,
          null,
          null,
          null,
          null,
          null,
          null,
          null,
          null,
          null,
          null,
          null,
          null,
          null,
          21.2,
          30.8,
          null,
          23.9,
          15,
          null,
          null,
          null,
          null,
          null,
          null,
          33.4,
          33.6,
          15,
          null,
          null,
          null,
          null,
          null,
          null,
          null,
          null,
          null,
          null,
          null,
          null,
          null,
          null,
          15,
          null,
          null,
          null,
          15,
          null,
          null,
          null,
          14.9,
          15,
          null,
          null,
          null,
          null,
          null,
          null,
          null,
          null,
          null,
          null,
          null,
          null,
          null,
          null,
          null,
          null,
          null,
          null,
          null,
          null,
          null,
          null,
          null,
          null,
          null,
          null,
          null,
          null,
          null,
          null,
          null,
          null,
          null,
          null,
          null,
          null,
          null,
          null,
          null,
          null,
          null,
          null,
          null,
          21,
          null,
          null,
          null,
          null,
          null,
          28.5,
          15,
          null,
          null,
          18.9,
          15,
          19.5,
          15,
          null,
          null,
          null,
          null,
          null,
          20.6
         ],
         "yaxis": "y"
        }
       ],
       "layout": {
        "legend": {
         "title": {
          "text": "variable"
         },
         "tracegroupgap": 0
        },
        "margin": {
         "t": 60
        },
        "template": {
         "data": {
          "bar": [
           {
            "error_x": {
             "color": "#2a3f5f"
            },
            "error_y": {
             "color": "#2a3f5f"
            },
            "marker": {
             "line": {
              "color": "#E5ECF6",
              "width": 0.5
             },
             "pattern": {
              "fillmode": "overlay",
              "size": 10,
              "solidity": 0.2
             }
            },
            "type": "bar"
           }
          ],
          "barpolar": [
           {
            "marker": {
             "line": {
              "color": "#E5ECF6",
              "width": 0.5
             },
             "pattern": {
              "fillmode": "overlay",
              "size": 10,
              "solidity": 0.2
             }
            },
            "type": "barpolar"
           }
          ],
          "carpet": [
           {
            "aaxis": {
             "endlinecolor": "#2a3f5f",
             "gridcolor": "white",
             "linecolor": "white",
             "minorgridcolor": "white",
             "startlinecolor": "#2a3f5f"
            },
            "baxis": {
             "endlinecolor": "#2a3f5f",
             "gridcolor": "white",
             "linecolor": "white",
             "minorgridcolor": "white",
             "startlinecolor": "#2a3f5f"
            },
            "type": "carpet"
           }
          ],
          "choropleth": [
           {
            "colorbar": {
             "outlinewidth": 0,
             "ticks": ""
            },
            "type": "choropleth"
           }
          ],
          "contour": [
           {
            "colorbar": {
             "outlinewidth": 0,
             "ticks": ""
            },
            "colorscale": [
             [
              0,
              "#0d0887"
             ],
             [
              0.1111111111111111,
              "#46039f"
             ],
             [
              0.2222222222222222,
              "#7201a8"
             ],
             [
              0.3333333333333333,
              "#9c179e"
             ],
             [
              0.4444444444444444,
              "#bd3786"
             ],
             [
              0.5555555555555556,
              "#d8576b"
             ],
             [
              0.6666666666666666,
              "#ed7953"
             ],
             [
              0.7777777777777778,
              "#fb9f3a"
             ],
             [
              0.8888888888888888,
              "#fdca26"
             ],
             [
              1,
              "#f0f921"
             ]
            ],
            "type": "contour"
           }
          ],
          "contourcarpet": [
           {
            "colorbar": {
             "outlinewidth": 0,
             "ticks": ""
            },
            "type": "contourcarpet"
           }
          ],
          "heatmap": [
           {
            "colorbar": {
             "outlinewidth": 0,
             "ticks": ""
            },
            "colorscale": [
             [
              0,
              "#0d0887"
             ],
             [
              0.1111111111111111,
              "#46039f"
             ],
             [
              0.2222222222222222,
              "#7201a8"
             ],
             [
              0.3333333333333333,
              "#9c179e"
             ],
             [
              0.4444444444444444,
              "#bd3786"
             ],
             [
              0.5555555555555556,
              "#d8576b"
             ],
             [
              0.6666666666666666,
              "#ed7953"
             ],
             [
              0.7777777777777778,
              "#fb9f3a"
             ],
             [
              0.8888888888888888,
              "#fdca26"
             ],
             [
              1,
              "#f0f921"
             ]
            ],
            "type": "heatmap"
           }
          ],
          "heatmapgl": [
           {
            "colorbar": {
             "outlinewidth": 0,
             "ticks": ""
            },
            "colorscale": [
             [
              0,
              "#0d0887"
             ],
             [
              0.1111111111111111,
              "#46039f"
             ],
             [
              0.2222222222222222,
              "#7201a8"
             ],
             [
              0.3333333333333333,
              "#9c179e"
             ],
             [
              0.4444444444444444,
              "#bd3786"
             ],
             [
              0.5555555555555556,
              "#d8576b"
             ],
             [
              0.6666666666666666,
              "#ed7953"
             ],
             [
              0.7777777777777778,
              "#fb9f3a"
             ],
             [
              0.8888888888888888,
              "#fdca26"
             ],
             [
              1,
              "#f0f921"
             ]
            ],
            "type": "heatmapgl"
           }
          ],
          "histogram": [
           {
            "marker": {
             "pattern": {
              "fillmode": "overlay",
              "size": 10,
              "solidity": 0.2
             }
            },
            "type": "histogram"
           }
          ],
          "histogram2d": [
           {
            "colorbar": {
             "outlinewidth": 0,
             "ticks": ""
            },
            "colorscale": [
             [
              0,
              "#0d0887"
             ],
             [
              0.1111111111111111,
              "#46039f"
             ],
             [
              0.2222222222222222,
              "#7201a8"
             ],
             [
              0.3333333333333333,
              "#9c179e"
             ],
             [
              0.4444444444444444,
              "#bd3786"
             ],
             [
              0.5555555555555556,
              "#d8576b"
             ],
             [
              0.6666666666666666,
              "#ed7953"
             ],
             [
              0.7777777777777778,
              "#fb9f3a"
             ],
             [
              0.8888888888888888,
              "#fdca26"
             ],
             [
              1,
              "#f0f921"
             ]
            ],
            "type": "histogram2d"
           }
          ],
          "histogram2dcontour": [
           {
            "colorbar": {
             "outlinewidth": 0,
             "ticks": ""
            },
            "colorscale": [
             [
              0,
              "#0d0887"
             ],
             [
              0.1111111111111111,
              "#46039f"
             ],
             [
              0.2222222222222222,
              "#7201a8"
             ],
             [
              0.3333333333333333,
              "#9c179e"
             ],
             [
              0.4444444444444444,
              "#bd3786"
             ],
             [
              0.5555555555555556,
              "#d8576b"
             ],
             [
              0.6666666666666666,
              "#ed7953"
             ],
             [
              0.7777777777777778,
              "#fb9f3a"
             ],
             [
              0.8888888888888888,
              "#fdca26"
             ],
             [
              1,
              "#f0f921"
             ]
            ],
            "type": "histogram2dcontour"
           }
          ],
          "mesh3d": [
           {
            "colorbar": {
             "outlinewidth": 0,
             "ticks": ""
            },
            "type": "mesh3d"
           }
          ],
          "parcoords": [
           {
            "line": {
             "colorbar": {
              "outlinewidth": 0,
              "ticks": ""
             }
            },
            "type": "parcoords"
           }
          ],
          "pie": [
           {
            "automargin": true,
            "type": "pie"
           }
          ],
          "scatter": [
           {
            "marker": {
             "colorbar": {
              "outlinewidth": 0,
              "ticks": ""
             }
            },
            "type": "scatter"
           }
          ],
          "scatter3d": [
           {
            "line": {
             "colorbar": {
              "outlinewidth": 0,
              "ticks": ""
             }
            },
            "marker": {
             "colorbar": {
              "outlinewidth": 0,
              "ticks": ""
             }
            },
            "type": "scatter3d"
           }
          ],
          "scattercarpet": [
           {
            "marker": {
             "colorbar": {
              "outlinewidth": 0,
              "ticks": ""
             }
            },
            "type": "scattercarpet"
           }
          ],
          "scattergeo": [
           {
            "marker": {
             "colorbar": {
              "outlinewidth": 0,
              "ticks": ""
             }
            },
            "type": "scattergeo"
           }
          ],
          "scattergl": [
           {
            "marker": {
             "colorbar": {
              "outlinewidth": 0,
              "ticks": ""
             }
            },
            "type": "scattergl"
           }
          ],
          "scattermapbox": [
           {
            "marker": {
             "colorbar": {
              "outlinewidth": 0,
              "ticks": ""
             }
            },
            "type": "scattermapbox"
           }
          ],
          "scatterpolar": [
           {
            "marker": {
             "colorbar": {
              "outlinewidth": 0,
              "ticks": ""
             }
            },
            "type": "scatterpolar"
           }
          ],
          "scatterpolargl": [
           {
            "marker": {
             "colorbar": {
              "outlinewidth": 0,
              "ticks": ""
             }
            },
            "type": "scatterpolargl"
           }
          ],
          "scatterternary": [
           {
            "marker": {
             "colorbar": {
              "outlinewidth": 0,
              "ticks": ""
             }
            },
            "type": "scatterternary"
           }
          ],
          "surface": [
           {
            "colorbar": {
             "outlinewidth": 0,
             "ticks": ""
            },
            "colorscale": [
             [
              0,
              "#0d0887"
             ],
             [
              0.1111111111111111,
              "#46039f"
             ],
             [
              0.2222222222222222,
              "#7201a8"
             ],
             [
              0.3333333333333333,
              "#9c179e"
             ],
             [
              0.4444444444444444,
              "#bd3786"
             ],
             [
              0.5555555555555556,
              "#d8576b"
             ],
             [
              0.6666666666666666,
              "#ed7953"
             ],
             [
              0.7777777777777778,
              "#fb9f3a"
             ],
             [
              0.8888888888888888,
              "#fdca26"
             ],
             [
              1,
              "#f0f921"
             ]
            ],
            "type": "surface"
           }
          ],
          "table": [
           {
            "cells": {
             "fill": {
              "color": "#EBF0F8"
             },
             "line": {
              "color": "white"
             }
            },
            "header": {
             "fill": {
              "color": "#C8D4E3"
             },
             "line": {
              "color": "white"
             }
            },
            "type": "table"
           }
          ]
         },
         "layout": {
          "annotationdefaults": {
           "arrowcolor": "#2a3f5f",
           "arrowhead": 0,
           "arrowwidth": 1
          },
          "autotypenumbers": "strict",
          "coloraxis": {
           "colorbar": {
            "outlinewidth": 0,
            "ticks": ""
           }
          },
          "colorscale": {
           "diverging": [
            [
             0,
             "#8e0152"
            ],
            [
             0.1,
             "#c51b7d"
            ],
            [
             0.2,
             "#de77ae"
            ],
            [
             0.3,
             "#f1b6da"
            ],
            [
             0.4,
             "#fde0ef"
            ],
            [
             0.5,
             "#f7f7f7"
            ],
            [
             0.6,
             "#e6f5d0"
            ],
            [
             0.7,
             "#b8e186"
            ],
            [
             0.8,
             "#7fbc41"
            ],
            [
             0.9,
             "#4d9221"
            ],
            [
             1,
             "#276419"
            ]
           ],
           "sequential": [
            [
             0,
             "#0d0887"
            ],
            [
             0.1111111111111111,
             "#46039f"
            ],
            [
             0.2222222222222222,
             "#7201a8"
            ],
            [
             0.3333333333333333,
             "#9c179e"
            ],
            [
             0.4444444444444444,
             "#bd3786"
            ],
            [
             0.5555555555555556,
             "#d8576b"
            ],
            [
             0.6666666666666666,
             "#ed7953"
            ],
            [
             0.7777777777777778,
             "#fb9f3a"
            ],
            [
             0.8888888888888888,
             "#fdca26"
            ],
            [
             1,
             "#f0f921"
            ]
           ],
           "sequentialminus": [
            [
             0,
             "#0d0887"
            ],
            [
             0.1111111111111111,
             "#46039f"
            ],
            [
             0.2222222222222222,
             "#7201a8"
            ],
            [
             0.3333333333333333,
             "#9c179e"
            ],
            [
             0.4444444444444444,
             "#bd3786"
            ],
            [
             0.5555555555555556,
             "#d8576b"
            ],
            [
             0.6666666666666666,
             "#ed7953"
            ],
            [
             0.7777777777777778,
             "#fb9f3a"
            ],
            [
             0.8888888888888888,
             "#fdca26"
            ],
            [
             1,
             "#f0f921"
            ]
           ]
          },
          "colorway": [
           "#636efa",
           "#EF553B",
           "#00cc96",
           "#ab63fa",
           "#FFA15A",
           "#19d3f3",
           "#FF6692",
           "#B6E880",
           "#FF97FF",
           "#FECB52"
          ],
          "font": {
           "color": "#2a3f5f"
          },
          "geo": {
           "bgcolor": "white",
           "lakecolor": "white",
           "landcolor": "#E5ECF6",
           "showlakes": true,
           "showland": true,
           "subunitcolor": "white"
          },
          "hoverlabel": {
           "align": "left"
          },
          "hovermode": "closest",
          "mapbox": {
           "style": "light"
          },
          "paper_bgcolor": "white",
          "plot_bgcolor": "#E5ECF6",
          "polar": {
           "angularaxis": {
            "gridcolor": "white",
            "linecolor": "white",
            "ticks": ""
           },
           "bgcolor": "#E5ECF6",
           "radialaxis": {
            "gridcolor": "white",
            "linecolor": "white",
            "ticks": ""
           }
          },
          "scene": {
           "xaxis": {
            "backgroundcolor": "#E5ECF6",
            "gridcolor": "white",
            "gridwidth": 2,
            "linecolor": "white",
            "showbackground": true,
            "ticks": "",
            "zerolinecolor": "white"
           },
           "yaxis": {
            "backgroundcolor": "#E5ECF6",
            "gridcolor": "white",
            "gridwidth": 2,
            "linecolor": "white",
            "showbackground": true,
            "ticks": "",
            "zerolinecolor": "white"
           },
           "zaxis": {
            "backgroundcolor": "#E5ECF6",
            "gridcolor": "white",
            "gridwidth": 2,
            "linecolor": "white",
            "showbackground": true,
            "ticks": "",
            "zerolinecolor": "white"
           }
          },
          "shapedefaults": {
           "line": {
            "color": "#2a3f5f"
           }
          },
          "ternary": {
           "aaxis": {
            "gridcolor": "white",
            "linecolor": "white",
            "ticks": ""
           },
           "baxis": {
            "gridcolor": "white",
            "linecolor": "white",
            "ticks": ""
           },
           "bgcolor": "#E5ECF6",
           "caxis": {
            "gridcolor": "white",
            "linecolor": "white",
            "ticks": ""
           }
          },
          "title": {
           "x": 0.05
          },
          "xaxis": {
           "automargin": true,
           "gridcolor": "white",
           "linecolor": "white",
           "ticks": "",
           "title": {
            "standoff": 15
           },
           "zerolinecolor": "white",
           "zerolinewidth": 2
          },
          "yaxis": {
           "automargin": true,
           "gridcolor": "white",
           "linecolor": "white",
           "ticks": "",
           "title": {
            "standoff": 15
           },
           "zerolinecolor": "white",
           "zerolinewidth": 2
          }
         }
        },
        "xaxis": {
         "anchor": "y",
         "domain": [
          0,
          1
         ],
         "title": {
          "text": "datetime"
         }
        },
        "yaxis": {
         "anchor": "x",
         "domain": [
          0,
          1
         ],
         "title": {
          "text": "value"
         }
        }
       }
      },
      "text/html": [
       "<div>                            <div id=\"fd293754-e7d1-42b5-b9ce-bde7dc631114\" class=\"plotly-graph-div\" style=\"height:525px; width:100%;\"></div>            <script type=\"text/javascript\">                require([\"plotly\"], function(Plotly) {                    window.PLOTLYENV=window.PLOTLYENV || {};                                    if (document.getElementById(\"fd293754-e7d1-42b5-b9ce-bde7dc631114\")) {                    Plotly.newPlot(                        \"fd293754-e7d1-42b5-b9ce-bde7dc631114\",                        [{\"hovertemplate\":\"variable=heating_temperature<br>datetime=%{x}<br>value=%{y}<extra></extra>\",\"legendgroup\":\"heating_temperature\",\"line\":{\"color\":\"#636efa\",\"dash\":\"solid\"},\"mode\":\"lines\",\"name\":\"heating_temperature\",\"showlegend\":true,\"type\":\"scattergl\",\"x\":[\"2019-04-13T17:51:16\",\"2019-04-13T18:51:18\",\"2019-04-13T19:51:20\",\"2019-04-13T20:51:21\",\"2019-04-13T21:51:23\",\"2019-04-13T22:51:25\",\"2019-04-13T23:51:26\",\"2019-04-14T00:51:28\",\"2019-04-14T01:51:30\",\"2019-04-14T06:51:38\",\"2019-04-14T08:51:41\",\"2019-04-14T09:51:43\",\"2019-04-14T10:25:16\",\"2019-04-14T10:43:38\",\"2019-04-14T11:39:32\",\"2019-04-14T11:52:06\",\"2019-04-14T11:58:19\",\"2019-04-14T13:24:43\",\"2019-04-14T14:38:23\",\"2019-04-14T15:00:38\",\"2019-04-14T16:00:40\",\"2019-04-14T17:00:42\",\"2019-04-14T18:00:43\",\"2019-04-14T19:00:45\",\"2019-04-14T20:00:47\",\"2019-04-14T21:00:48\",\"2019-04-14T22:00:50\",\"2019-04-14T23:00:52\",\"2019-04-15T00:00:53\",\"2019-04-15T01:00:55\",\"2019-04-15T03:00:58\",\"2019-04-15T05:01:02\",\"2019-04-15T06:01:03\",\"2019-04-15T07:01:05\",\"2019-04-15T08:01:07\",\"2019-04-15T09:01:08\",\"2019-04-15T09:57:11\",\"2019-04-15T10:57:13\",\"2019-04-15T13:57:18\",\"2019-04-15T14:57:19\",\"2019-04-15T15:57:21\",\"2019-04-15T16:57:23\",\"2019-04-15T17:57:24\",\"2019-04-15T18:57:26\",\"2019-04-15T19:57:28\",\"2019-04-15T20:57:29\",\"2019-04-15T21:57:31\",\"2019-04-15T22:57:33\",\"2019-04-15T23:57:34\",\"2019-04-16T00:57:36\",\"2019-04-16T01:57:38\",\"2019-04-16T04:57:43\",\"2019-04-16T05:57:44\",\"2019-04-16T07:57:48\",\"2019-04-16T08:58:39\",\"2019-04-16T09:58:40\",\"2019-04-16T10:58:42\",\"2019-04-16T13:58:47\",\"2019-04-16T14:58:49\",\"2019-04-16T15:58:50\",\"2019-04-16T16:58:52\",\"2019-04-17T13:55:03\",\"2019-04-17T14:01:13\",\"2019-04-17T14:49:08\",\"2019-04-17T15:49:10\",\"2019-04-17T16:49:11\",\"2019-04-23T09:31:58\",\"2019-04-23T10:32:00\",\"2019-04-23T11:32:02\",\"2019-04-23T12:32:03\",\"2019-04-23T13:32:05\",\"2019-04-23T14:30:18\",\"2019-04-23T15:30:19\",\"2019-04-23T16:30:21\",\"2019-04-23T17:30:23\",\"2019-04-26T13:20:57\",\"2019-04-26T14:20:59\",\"2019-04-26T15:21:00\",\"2019-04-26T16:21:02\",\"2019-04-26T17:31:50\",\"2019-04-29T09:20:40\",\"2019-04-29T10:20:42\",\"2019-04-29T11:20:43\",\"2019-04-29T12:20:45\",\"2019-04-29T13:20:47\",\"2019-04-29T14:20:48\",\"2019-04-29T14:39:03\",\"2019-04-29T15:17:34\",\"2019-04-29T16:17:35\",\"2019-04-29T17:08:16\",\"2019-04-29T18:08:17\",\"2019-04-30T08:37:41\",\"2019-04-30T08:52:16\",\"2019-04-30T09:52:18\",\"2019-04-30T10:52:19\",\"2019-04-30T11:52:21\",\"2019-04-30T12:52:23\",\"2019-04-30T13:52:24\",\"2019-04-30T14:52:26\",\"2019-04-30T15:52:28\",\"2019-04-30T16:52:29\",\"2019-04-30T18:52:32\",\"2019-04-30T19:52:33\",\"2019-05-02T09:33:47\",\"2019-05-02T10:33:49\",\"2019-05-02T11:33:50\",\"2019-05-02T12:33:52\",\"2019-05-02T13:33:54\",\"2019-05-02T14:33:55\",\"2019-05-02T15:33:57\",\"2019-05-02T16:33:58\",\"2019-05-02T17:34:00\",\"2019-05-02T18:34:02\",\"2019-05-02T19:34:03\",\"2019-05-06T11:02:12\",\"2019-05-06T12:02:13\",\"2019-05-06T13:02:15\",\"2019-05-06T14:02:17\",\"2019-05-06T15:02:18\",\"2019-05-06T16:02:20\",\"2019-05-06T17:02:21\",\"2019-05-06T17:31:47\",\"2019-05-06T18:31:49\",\"2019-05-06T19:51:44\",\"2019-05-06T20:51:46\",\"2019-05-07T09:04:49\",\"2019-05-07T09:37:06\",\"2019-05-07T10:37:08\",\"2019-05-07T11:37:10\",\"2019-05-07T13:14:51\",\"2019-05-07T14:14:52\",\"2019-05-07T15:14:54\",\"2019-05-07T16:14:56\",\"2019-05-07T17:14:57\",\"2019-05-07T17:32:18\",\"2019-05-07T18:32:20\",\"2019-05-08T09:53:12\",\"2019-05-08T10:53:13\",\"2019-05-08T11:53:15\",\"2019-05-08T12:53:17\",\"2019-05-08T13:53:18\",\"2019-05-08T14:53:20\",\"2019-05-08T15:53:22\",\"2019-05-08T16:53:23\",\"2019-05-08T17:47:04\",\"2019-05-08T18:07:58\",\"2019-05-08T18:38:21\",\"2019-05-08T19:38:23\",\"2019-05-08T21:36:36\",\"2019-05-08T22:36:37\",\"2019-05-08T23:36:39\",\"2019-05-09T00:36:41\",\"2019-05-09T01:36:42\",\"2019-05-09T02:36:44\",\"2019-05-09T03:36:46\",\"2019-05-09T04:36:47\",\"2019-05-09T05:36:49\",\"2019-05-09T07:36:52\",\"2019-05-09T08:36:54\",\"2019-05-09T09:36:55\",\"2019-05-09T10:38:55\",\"2019-05-09T11:38:57\",\"2019-05-09T12:38:58\",\"2019-05-09T13:39:00\",\"2019-05-09T15:39:03\",\"2019-05-09T16:39:05\",\"2019-05-10T09:25:17\",\"2019-05-10T10:25:19\",\"2019-05-10T11:25:20\",\"2019-05-10T11:48:44\",\"2019-05-10T12:48:45\",\"2019-05-10T13:48:47\",\"2019-05-10T14:48:48\",\"2019-05-10T15:48:50\",\"2019-05-10T16:48:52\",\"2019-05-10T17:48:53\",\"2019-05-14T09:08:40\",\"2019-05-14T10:08:41\",\"2019-05-14T11:08:43\",\"2019-05-14T12:08:45\",\"2019-05-14T13:08:46\",\"2019-05-14T14:08:48\",\"2019-05-14T15:08:50\",\"2019-05-14T16:08:51\",\"2019-05-14T17:08:53\",\"2019-05-15T08:36:37\",\"2019-05-15T09:36:39\",\"2019-05-15T10:36:40\",\"2019-05-15T11:36:42\",\"2019-05-15T12:36:55\",\"2019-05-15T13:36:56\",\"2019-05-15T13:40:43\",\"2019-05-15T14:08:38\",\"2019-05-15T15:08:40\",\"2019-05-15T16:08:42\",\"2019-05-15T17:08:43\",\"2019-05-20T09:56:29\",\"2019-05-20T10:56:31\",\"2019-05-20T11:56:33\",\"2019-05-20T12:56:34\",\"2019-05-20T13:56:36\",\"2019-05-20T14:56:38\",\"2019-05-20T15:56:18\",\"2019-05-20T18:04:45\",\"2019-05-21T10:13:20\",\"2019-05-21T11:13:22\",\"2019-05-21T11:49:56\",\"2019-05-21T12:49:57\",\"2019-05-21T13:49:59\",\"2019-05-21T15:50:02\",\"2019-05-21T16:50:04\",\"2019-05-21T17:50:06\",\"2019-05-23T09:10:05\",\"2019-05-23T10:10:06\",\"2019-05-23T11:10:08\",\"2019-05-23T12:10:10\",\"2019-05-23T13:10:11\",\"2019-05-23T14:05:55\",\"2019-05-23T15:05:56\",\"2019-05-23T16:05:58\",\"2019-05-23T17:06:00\",\"2019-05-23T18:06:01\",\"2019-05-23T19:06:03\",\"2019-05-24T08:53:56\",\"2019-05-24T09:53:58\",\"2019-05-24T10:54:00\",\"2019-05-24T11:54:01\",\"2019-05-24T12:54:03\",\"2019-05-24T13:19:22\",\"2019-05-24T14:19:24\",\"2019-05-24T15:19:25\",\"2019-05-24T16:19:27\",\"2019-05-27T08:21:20\",\"2019-05-27T09:21:21\",\"2019-05-27T10:21:23\",\"2019-05-27T11:21:25\",\"2019-05-27T12:21:26\",\"2019-05-27T13:21:28\",\"2019-05-27T14:21:30\",\"2019-05-27T15:21:31\",\"2019-05-28T08:35:12\",\"2019-05-28T09:35:14\",\"2019-05-28T10:35:15\",\"2019-05-28T11:35:17\",\"2019-05-28T12:35:19\",\"2019-05-28T13:35:20\",\"2019-05-28T14:35:22\",\"2019-05-28T15:35:24\",\"2019-05-28T16:35:25\",\"2019-05-28T17:35:27\",\"2019-05-28T18:35:29\",\"2019-06-03T10:32:10\",\"2019-06-03T11:32:11\",\"2019-06-03T12:32:13\",\"2019-06-03T13:32:15\",\"2019-06-03T14:32:17\",\"2019-06-03T15:32:18\",\"2019-06-04T17:28:33\",\"2019-06-04T17:43:27\",\"2019-06-04T18:43:29\",\"2019-06-04T19:43:30\",\"2019-06-04T20:43:32\",\"2019-06-04T21:43:34\",\"2019-06-04T22:43:35\",\"2019-06-04T23:43:37\",\"2019-06-05T00:43:39\",\"2019-06-05T01:43:40\",\"2019-06-05T02:43:42\",\"2019-06-05T03:43:44\",\"2019-06-05T04:43:45\",\"2019-06-05T05:43:47\",\"2019-06-05T06:43:49\",\"2019-06-05T07:43:50\",\"2019-06-05T08:43:52\",\"2019-06-05T09:43:54\",\"2019-06-05T10:43:55\",\"2019-06-05T11:43:57\",\"2019-06-05T12:43:59\",\"2019-06-05T13:44:00\",\"2019-06-05T14:44:02\",\"2019-06-05T15:44:04\",\"2019-06-05T16:44:05\",\"2019-06-05T17:44:07\",\"2019-06-06T10:35:00\",\"2019-06-06T11:35:02\",\"2019-06-06T12:35:04\",\"2019-06-06T13:35:05\",\"2019-06-06T14:35:07\",\"2019-06-07T09:50:20\",\"2019-06-07T10:50:22\",\"2019-06-07T11:50:23\",\"2019-06-07T13:50:27\",\"2019-06-14T09:01:21\",\"2019-06-14T10:01:22\",\"2019-06-14T11:01:24\",\"2019-06-14T12:01:26\",\"2019-06-14T13:01:27\",\"2019-06-14T14:01:29\",\"2019-06-14T16:02:23\",\"2019-06-14T17:02:25\",\"2019-06-14T18:02:26\",\"2019-06-17T08:19:28\",\"2019-06-17T09:19:30\",\"2019-06-17T10:19:31\",\"2019-06-17T11:19:33\",\"2019-06-17T12:19:35\",\"2019-06-17T13:19:36\",\"2019-06-17T14:19:38\",\"2019-06-17T15:19:40\",\"2019-06-17T16:19:41\",\"2019-06-18T16:31:59\",\"2019-06-18T17:32:00\",\"2019-06-18T18:32:02\",\"2019-06-19T09:22:01\",\"2019-06-19T10:22:03\",\"2019-06-19T11:00:12\",\"2019-06-19T12:00:14\",\"2019-06-19T13:00:16\",\"2019-06-19T14:00:17\",\"2019-06-19T15:52:20\",\"2019-06-19T16:52:21\",\"2019-06-19T17:52:23\",\"2019-06-19T18:52:25\",\"2019-06-28T14:02:18\",\"2019-07-01T10:12:29\",\"2019-07-01T11:12:31\",\"2019-07-01T12:12:32\",\"2019-07-01T13:12:34\",\"2019-07-01T14:12:35\",\"2019-07-01T15:12:37\",\"2019-07-01T16:12:39\",\"2019-07-01T17:12:40\",\"2019-07-01T18:12:42\",\"2019-07-01T18:43:17\",\"2019-07-02T09:36:40\",\"2019-07-02T10:36:42\",\"2019-07-02T11:36:44\",\"2019-07-02T12:36:45\",\"2019-07-02T13:36:47\",\"2019-07-02T14:24:49\",\"2019-07-02T15:24:50\",\"2019-07-02T16:01:55\",\"2019-07-02T17:01:57\",\"2019-07-02T18:01:58\",\"2019-07-02T19:02:00\",\"2019-07-02T20:02:02\",\"2019-07-02T21:02:03\",\"2019-07-02T22:02:05\",\"2019-07-02T23:02:07\",\"2019-07-03T00:02:08\",\"2019-07-03T01:02:10\",\"2019-07-03T02:02:12\",\"2019-07-03T03:02:13\",\"2019-07-03T04:02:15\",\"2019-07-03T05:02:17\",\"2019-07-03T06:02:18\",\"2019-07-03T07:02:20\",\"2019-07-03T08:02:22\",\"2019-07-03T09:02:23\",\"2019-07-03T09:39:23\",\"2019-07-03T10:39:25\",\"2019-07-03T11:39:27\",\"2019-07-03T12:39:28\",\"2019-07-03T13:39:30\",\"2019-07-03T15:39:33\",\"2019-07-03T16:39:35\",\"2019-07-03T17:39:36\",\"2019-07-03T18:39:38\",\"2019-07-03T19:39:40\",\"2019-07-03T20:39:41\",\"2019-07-03T21:39:43\",\"2019-07-03T22:39:45\",\"2019-07-03T23:39:46\",\"2019-07-04T00:39:48\",\"2019-07-04T01:39:50\",\"2019-07-04T02:39:51\",\"2019-07-04T03:39:53\",\"2019-07-04T04:39:55\",\"2019-07-04T05:39:56\",\"2019-07-04T06:39:58\",\"2019-07-04T07:40:00\",\"2019-07-04T08:40:01\",\"2019-07-04T09:11:07\",\"2019-07-04T10:11:09\",\"2019-07-04T11:11:11\",\"2019-07-04T12:13:05\",\"2019-07-04T13:21:41\",\"2019-07-04T14:25:58\",\"2019-07-04T14:46:16\",\"2019-07-04T15:15:00\",\"2019-07-04T15:21:25\",\"2019-07-04T15:26:08\",\"2019-07-04T15:41:29\",\"2019-07-04T15:55:55\",\"2019-07-04T16:20:06\",\"2019-07-05T10:59:32\",\"2019-07-05T14:08:57\",\"2019-07-05T14:30:02\",\"2019-07-09T09:51:56\",\"2019-07-09T10:43:20\",\"2019-07-09T11:43:22\",\"2019-07-09T12:43:24\",\"2019-07-09T13:43:25\",\"2019-07-09T14:43:27\",\"2019-07-09T15:11:40\",\"2019-07-09T15:39:52\",\"2019-07-09T16:46:59\",\"2019-07-09T16:59:26\",\"2019-07-09T17:24:33\",\"2019-07-09T18:13:46\",\"2019-07-10T08:33:30\",\"2019-07-10T08:43:50\",\"2019-07-10T09:24:58\",\"2019-07-10T10:04:34\",\"2019-07-10T10:22:11\",\"2019-07-10T11:22:13\",\"2019-07-10T11:46:06\",\"2019-07-10T12:05:23\",\"2019-07-10T12:17:28\",\"2019-07-10T12:51:51\",\"2019-07-10T13:16:29\",\"2019-07-10T13:41:33\",\"2019-07-10T14:41:35\",\"2019-07-10T15:22:51\",\"2019-07-10T16:16:32\",\"2019-07-10T16:32:52\",\"2019-07-10T17:55:21\",\"2019-07-10T18:55:23\",\"2019-07-11T07:57:53\",\"2019-07-11T08:57:54\",\"2019-07-11T09:59:02\",\"2019-07-11T11:09:37\",\"2019-07-11T11:45:33\",\"2019-07-11T12:04:54\",\"2019-07-11T12:24:39\",\"2019-07-11T13:18:04\",\"2019-07-12T11:48:38\",\"2019-07-12T12:23:21\",\"2019-07-12T13:23:22\",\"2019-07-12T14:23:24\",\"2019-07-12T15:23:26\",\"2019-07-12T16:23:27\",\"2019-07-23T14:00:15\",\"2019-07-23T15:00:17\",\"2019-07-23T16:00:19\",\"2019-07-23T16:08:06\",\"2019-07-24T10:31:02\",\"2019-07-24T11:31:03\",\"2019-07-24T13:13:09\",\"2019-07-24T14:13:10\",\"2019-07-24T15:13:12\",\"2019-07-24T16:12:34\",\"2019-07-24T16:54:58\",\"2019-07-24T17:43:25\",\"2019-07-24T18:43:26\",\"2019-07-25T08:03:41\",\"2019-07-25T09:03:42\",\"2019-07-25T10:03:44\",\"2019-07-25T11:03:46\",\"2019-07-25T12:03:47\",\"2019-07-25T13:03:49\",\"2019-07-25T14:03:50\",\"2019-07-25T15:03:52\",\"2019-07-25T16:03:54\",\"2019-07-25T16:49:11\",\"2019-07-25T17:49:13\",\"2019-07-25T18:49:15\",\"2019-07-25T19:49:16\",\"2019-07-26T07:58:43\",\"2019-07-26T08:58:45\",\"2019-07-26T09:58:46\",\"2019-07-26T10:58:48\",\"2019-07-26T11:58:50\",\"2019-07-26T12:58:51\",\"2019-07-26T15:02:11\",\"2019-07-29T13:29:37\",\"2019-07-29T14:29:39\",\"2019-07-29T15:29:40\",\"2019-07-29T16:29:42\",\"2019-07-29T18:29:45\",\"2019-07-29T19:29:47\",\"2019-07-29T20:29:49\",\"2019-07-29T21:29:50\",\"2019-07-29T22:29:52\",\"2019-07-29T23:29:54\",\"2019-07-30T00:29:55\",\"2019-07-30T01:29:57\",\"2019-07-30T02:29:58\",\"2019-07-30T03:30:00\",\"2019-07-30T04:30:02\",\"2019-07-30T05:30:03\",\"2019-07-30T06:30:05\",\"2019-07-30T07:30:07\",\"2019-07-30T08:30:08\",\"2019-07-30T09:08:06\",\"2019-07-30T09:41:04\",\"2019-07-30T09:48:37\",\"2019-07-30T10:48:39\",\"2019-07-30T11:48:41\",\"2019-07-30T12:48:42\",\"2019-07-30T13:48:44\",\"2019-07-30T14:48:46\",\"2019-07-30T15:34:40\",\"2019-07-30T16:34:42\",\"2019-10-09T15:25:09\",\"2019-10-09T16:25:10\",\"2019-10-09T17:25:12\",\"2019-10-09T18:25:14\",\"2019-10-09T19:25:15\",\"2019-10-09T20:25:17\",\"2019-10-09T23:25:22\",\"2019-10-10T00:25:24\",\"2019-10-10T01:25:25\",\"2019-10-10T02:25:27\",\"2019-10-10T09:31:21\",\"2019-10-10T10:31:23\",\"2019-10-10T12:31:26\",\"2019-10-10T13:31:28\",\"2019-10-10T14:31:29\",\"2019-10-10T15:31:31\",\"2019-10-10T16:31:33\",\"2019-10-11T10:17:05\",\"2019-10-11T11:17:07\",\"2019-10-11T12:17:09\",\"2019-10-11T13:17:10\",\"2019-10-11T14:17:12\",\"2019-10-11T15:17:14\",\"2019-10-11T16:17:15\",\"2019-10-14T12:14:15\",\"2019-10-14T14:58:55\",\"2019-10-14T15:58:56\",\"2019-10-23T09:17:14\",\"2019-10-23T10:17:16\",\"2019-10-23T11:17:18\",\"2019-10-23T12:17:19\",\"2019-10-23T13:17:21\",\"2019-10-23T14:17:23\",\"2019-10-23T15:17:24\",\"2019-10-24T09:41:01\",\"2019-10-24T11:05:18\",\"2019-10-24T11:26:41\",\"2019-10-24T12:26:42\",\"2019-10-24T13:26:44\",\"2019-10-24T14:26:46\",\"2019-10-24T14:57:14\",\"2019-10-24T15:18:00\",\"2019-10-24T16:18:02\",\"2019-10-25T10:25:30\",\"2019-10-25T11:25:32\",\"2019-10-25T12:25:33\",\"2019-10-25T13:25:35\",\"2019-10-25T14:21:22\",\"2019-10-25T15:21:24\",\"2019-10-25T16:21:26\",\"2019-10-28T11:04:50\",\"2019-10-28T11:31:13\",\"2019-10-28T11:42:47\",\"2019-10-28T12:42:48\",\"2019-10-28T13:42:50\",\"2019-10-28T14:42:52\",\"2019-10-28T15:42:53\",\"2019-10-28T16:42:55\",\"2019-10-28T18:42:58\",\"2019-10-29T11:11:08\",\"2019-10-29T12:11:09\",\"2019-10-29T13:11:11\",\"2019-10-29T14:11:13\",\"2019-10-29T15:11:14\",\"2019-10-29T16:14:23\",\"2019-10-30T09:49:41\",\"2019-10-30T10:49:43\",\"2019-10-30T11:49:44\",\"2019-10-30T12:35:44\",\"2019-10-30T13:35:45\",\"2019-10-30T14:35:47\",\"2019-10-30T15:35:49\",\"2019-10-30T16:35:50\",\"2019-10-31T08:01:05\",\"2019-10-31T09:01:06\",\"2019-10-31T10:01:08\",\"2019-10-31T11:01:10\",\"2019-10-31T12:01:11\",\"2019-10-31T13:01:13\",\"2019-11-04T12:26:19\",\"2019-11-04T13:26:20\",\"2019-11-04T14:26:22\",\"2019-11-04T15:26:24\",\"2019-11-05T16:39:49\",\"2019-11-06T09:21:53\",\"2019-11-06T13:04:23\",\"2019-11-06T14:04:25\",\"2019-11-06T15:04:27\",\"2019-11-06T16:04:28\",\"2019-11-06T17:04:30\",\"2019-11-06T18:04:31\",\"2019-11-06T19:04:33\",\"2019-11-06T20:04:35\",\"2019-11-06T22:04:38\",\"2019-11-06T23:04:40\",\"2019-11-07T00:04:42\",\"2019-11-07T01:04:44\",\"2019-11-07T02:04:45\",\"2019-11-07T03:04:47\",\"2019-11-07T04:04:49\",\"2019-11-07T06:04:52\",\"2019-11-07T07:04:54\",\"2019-11-07T08:04:56\",\"2019-11-07T09:04:58\",\"2019-11-07T10:04:59\",\"2019-11-07T13:05:05\",\"2019-11-07T14:05:06\",\"2019-11-07T15:05:08\",\"2019-11-07T16:05:10\",\"2019-11-07T17:05:12\",\"2019-11-07T18:05:13\",\"2019-11-08T10:41:54\",\"2019-11-11T09:53:29\",\"2019-11-25T16:10:31\",\"2019-11-25T16:22:20\",\"2019-11-25T17:22:22\",\"2019-11-25T18:22:23\",\"2019-11-25T20:22:27\",\"2019-11-25T23:22:32\",\"2019-11-26T00:22:33\",\"2019-11-26T01:22:35\",\"2019-11-26T09:22:48\",\"2019-11-26T11:03:53\",\"2019-11-26T12:10:59\",\"2019-11-26T13:11:00\",\"2019-11-26T14:11:02\",\"2019-11-26T15:11:04\",\"2019-11-26T16:11:05\",\"2019-11-26T17:11:07\",\"2019-11-27T22:55:44\",\"2019-11-27T23:55:46\",\"2019-11-28T00:55:48\",\"2019-11-28T01:55:49\",\"2019-11-28T02:55:51\",\"2019-11-28T03:55:53\",\"2019-11-28T04:55:54\",\"2019-11-28T06:55:58\",\"2019-11-28T07:55:59\",\"2019-11-28T08:56:01\",\"2019-12-03T14:26:06\",\"2019-12-03T15:26:08\",\"2019-12-03T16:26:09\",\"2019-12-03T17:26:11\",\"2019-12-04T14:01:46\",\"2019-12-04T15:01:48\",\"2019-12-04T16:01:50\",\"2019-12-04T17:01:51\",\"2019-12-04T18:01:53\",\"2019-12-04T19:01:55\",\"2019-12-04T20:01:56\",\"2019-12-04T21:01:58\",\"2019-12-04T22:02:00\",\"2019-12-04T23:02:01\",\"2019-12-05T01:02:05\",\"2019-12-05T13:02:25\",\"2019-12-05T14:02:26\",\"2019-12-05T15:02:29\",\"2019-12-05T16:02:31\",\"2019-12-05T17:02:32\",\"2019-12-05T18:02:34\",\"2019-12-05T20:02:58\",\"2019-12-05T21:03:00\",\"2019-12-05T22:03:02\",\"2019-12-05T23:03:03\",\"2019-12-06T00:03:05\",\"2019-12-06T01:03:07\",\"2019-12-06T02:03:08\",\"2019-12-06T12:03:25\",\"2019-12-06T13:03:27\",\"2019-12-06T14:03:28\",\"2019-12-06T15:03:30\",\"2019-12-06T16:03:38\",\"2019-12-06T17:03:50\",\"2019-12-06T18:04:00\",\"2019-12-06T19:04:15\",\"2019-12-06T20:04:26\",\"2019-12-06T21:04:32\",\"2019-12-06T22:04:33\",\"2019-12-07T00:04:37\",\"2019-12-07T01:04:38\",\"2019-12-07T02:04:40\",\"2019-12-07T03:04:42\",\"2019-12-07T04:04:43\",\"2019-12-07T05:04:45\",\"2019-12-07T07:04:48\",\"2019-12-07T08:04:50\",\"2019-12-08T23:05:55\",\"2019-12-09T00:05:56\",\"2019-12-09T06:06:06\",\"2019-12-09T07:06:08\",\"2019-12-09T08:06:10\",\"2019-12-09T09:06:11\",\"2019-12-10T09:02:10\",\"2019-12-11T02:45:55\",\"2019-12-11T05:46:00\",\"2019-12-11T06:46:02\",\"2019-12-11T07:46:03\",\"2019-12-11T08:46:05\",\"2020-01-20T14:13:47\",\"2020-01-20T15:13:49\",\"2020-01-20T16:13:50\",\"2020-01-20T17:13:52\",\"2020-01-20T18:00:27\",\"2020-01-20T19:00:29\",\"2020-01-21T11:28:35\",\"2020-01-21T12:28:36\",\"2020-01-21T13:28:38\",\"2020-01-21T14:28:40\",\"2020-01-21T15:28:41\",\"2020-01-21T16:28:43\",\"2020-01-21T17:28:45\",\"2020-01-24T08:56:36\"],\"xaxis\":\"x\",\"y\":[33.3,34.0,33.8,34.2,34.5,34.7,34.8,34.9,35.0,35.1,34.4,34.6,34.2,34.5,33.9,null,null,34.8,34.5,32.4,33.7,34.9,35.7,36.1,36.4,36.5,36.4,36.3,36.2,36.1,36.0,35.9,36.0,35.7,35.0,34.7,34.5,34.8,35.1,35.3,35.1,35.0,null,34.8,34.6,34.7,34.8,34.5,35.0,35.3,35.5,35.4,35.3,34.7,32.9,34.1,34.7,35.0,35.2,34.8,34.7,23.1,23.7,27.0,30.7,32.7,24.3,29.5,32.1,33.3,34.3,33.6,34.7,34.9,35.1,26.8,30.5,32.2,33.3,31.1,23.3,28.6,31.6,33.3,34.1,34.2,33.4,34.2,34.8,34.4,34.7,23.6,25.0,29.7,32.0,33.5,34.1,34.4,34.3,34.7,35.1,34.8,34.5,24.8,29.4,32.1,33.5,33.9,34.4,34.7,34.3,34.5,34.0,34.2,22.2,28.0,31.3,32.4,33.4,34.2,34.4,33.4,34.6,31.3,33.0,22.8,26.2,30.2,32.2,32.6,33.9,34.5,34.4,34.5,33.7,34.3,25.8,30.2,32.4,33.0,33.8,34.2,34.3,34.7,34.0,33.5,33.0,34.2,32.9,33.7,34.8,35.7,36.3,36.7,37.0,37.2,37.4,35.6,35.3,35.2,33.8,34.7,34.9,34.6,34.9,35.0,27.0,30.8,32.8,32.5,34.2,34.6,34.5,35.1,35.2,34.8,25.1,29.7,32.0,33.4,33.5,33.9,34.0,34.1,34.6,24.6,29.5,32.4,33.8,32.1,33.7,33.6,33.8,35.0,34.9,35.3,23.1,28.7,31.6,33.3,34.1,34.3,32.3,33.2,28.7,32.0,null,33.9,34.6,34.8,35.2,35.5,24.2,29.1,32.2,33.7,34.2,null,35.0,34.4,34.3,34.5,34.1,22.7,28.2,31.5,33.3,34.0,33.6,34.5,34.4,34.5,22.7,28.3,31.5,32.9,33.7,34.3,null,null,22.9,28.2,31.4,32.7,33.6,34.2,34.1,34.6,34.2,34.5,34.1,23.0,28.7,31.8,33.2,33.8,34.0,29.6,30.3,32.5,33.2,33.8,34.4,34.6,34.9,35.6,36.2,36.6,36.7,37.0,37.2,37.1,35.4,35.2,35.1,34.1,34.6,34.1,34.3,34.5,34.2,34.7,34.2,22.5,28.2,31.2,32.8,33.4,32.4,33.2,34.2,34.5,22.4,28.2,31.4,33.0,33.4,33.7,33.6,34.3,34.4,22.9,28.5,31.8,33.5,34.1,34.5,34.8,34.6,34.8,22.7,28.6,31.8,24.5,29.4,30.9,32.8,34.1,34.4,32.6,32.5,33.0,33.6,29.5,25.4,29.4,32.2,33.0,33.5,34.2,34.0,34.3,34.6,34.2,32.2,33.8,34.5,35.2,34.8,null,35.2,34.2,35.4,34.7,34.5,34.8,35.2,35.0,34.9,35.9,37.0,37.8,38.4,38.8,39.1,39.4,37.8,36.6,35.6,35.2,35.6,35.4,35.6,35.1,35.4,35.2,34.9,35.3,35.5,35.4,35.3,null,36.1,36.9,37.5,37.8,38.1,38.3,38.4,38.2,36.2,35.8,35.5,35.4,35.3,34.4,33.4,33.0,31.9,32.0,32.4,32.8,32.5,32.2,null,22.7,31.7,32.2,26.5,29.8,32.3,33.2,33.8,34.8,32.8,33.1,32.8,33.0,33.2,33.0,22.2,23.2,24.9,27.5,28.7,31.7,32.0,32.5,32.3,29.7,30.7,31.7,33.7,33.4,33.6,33.1,32.9,34.2,22.6,28.6,31.1,32.3,32.4,null,32.8,32.9,23.3,26.2,30.3,32.6,33.8,34.1,26.8,30.9,33.0,32.7,22.7,28.3,29.9,32.4,33.6,null,34.3,33.9,34.6,23.3,28.7,31.8,32.7,33.4,34.0,33.8,34.5,34.0,32.9,34.1,34.7,35.3,23.2,28.8,32.0,33.0,34.1,34.6,31.4,29.6,31.8,32.8,33.8,34.1,34.0,34.5,34.6,34.5,34.8,35.8,36.6,37.2,37.7,37.9,38.2,38.3,35.7,35.5,34.0,null,34.7,34.3,34.6,34.7,34.5,34.7,34.2,34.9,22.3,27.9,31.0,32.8,33.2,34.0,34.4,34.8,35.0,35.2,32.6,34.0,33.9,34.2,34.4,34.0,34.3,22.5,28.4,31.6,32.8,33.5,34.3,34.5,23.5,31.4,32.9,23.2,28.5,31.8,33.0,33.8,34.9,34.8,23.3,29.7,30.6,33.0,33.6,34.0,33.5,33.4,34.1,23.0,28.6,31.7,33.0,32.7,34.2,34.5,22.9,25.5,25.8,30.2,32.1,33.1,34.0,34.1,34.4,27.4,31.1,32.5,33.5,34.2,30.6,24.8,29.3,32.3,33.4,34.2,34.6,35.0,34.7,22.7,28.5,31.3,32.6,33.5,34.1,22.2,28.3,31.4,32.6,32.0,22.7,33.6,34.1,34.0,34.3,34.7,null,null,35.3,35.2,35.8,36.4,36.8,37.1,37.3,37.5,37.1,36.2,35.7,36.0,35.2,35.2,34.7,34.9,34.6,34.3,34.6,22.3,31.6,35.5,35.1,35.7,35.9,35.8,35.6,35.5,35.4,35.5,34.4,34.6,36.0,36.5,36.8,35.8,34.9,35.3,35.8,36.1,36.4,36.5,36.7,36.8,35.5,35.6,35.4,31.6,32.8,33.7,34.3,32.5,33.5,34.4,34.1,34.3,34.6,34.5,35.0,34.8,35.1,35.2,34.2,34.5,34.4,34.1,34.5,34.2,34.3,34.1,34.5,34.3,34.5,34.6,34.7,34.3,34.2,34.6,34.4,34.2,34.4,34.3,34.1,34.4,34.2,34.6,34.8,35.1,35.2,35.4,35.6,35.8,35.0,35.1,36.4,36.5,36.1,35.3,35.1,35.0,22.1,34.4,34.3,34.5,34.3,34.4,29.2,32.0,32.9,33.5,33.8,null,null,33.9,34.4,34.3,34.0,34.1,34.4,21.7],\"yaxis\":\"y\"},{\"hovertemplate\":\"variable=cooling_temperature<br>datetime=%{x}<br>value=%{y}<extra></extra>\",\"legendgroup\":\"cooling_temperature\",\"line\":{\"color\":\"#EF553B\",\"dash\":\"solid\"},\"mode\":\"lines\",\"name\":\"cooling_temperature\",\"showlegend\":true,\"type\":\"scattergl\",\"x\":[\"2019-04-13T17:51:16\",\"2019-04-13T18:51:18\",\"2019-04-13T19:51:20\",\"2019-04-13T20:51:21\",\"2019-04-13T21:51:23\",\"2019-04-13T22:51:25\",\"2019-04-13T23:51:26\",\"2019-04-14T00:51:28\",\"2019-04-14T01:51:30\",\"2019-04-14T06:51:38\",\"2019-04-14T08:51:41\",\"2019-04-14T09:51:43\",\"2019-04-14T10:25:16\",\"2019-04-14T10:43:38\",\"2019-04-14T11:39:32\",\"2019-04-14T11:52:06\",\"2019-04-14T11:58:19\",\"2019-04-14T13:24:43\",\"2019-04-14T14:38:23\",\"2019-04-14T15:00:38\",\"2019-04-14T16:00:40\",\"2019-04-14T17:00:42\",\"2019-04-14T18:00:43\",\"2019-04-14T19:00:45\",\"2019-04-14T20:00:47\",\"2019-04-14T21:00:48\",\"2019-04-14T22:00:50\",\"2019-04-14T23:00:52\",\"2019-04-15T00:00:53\",\"2019-04-15T01:00:55\",\"2019-04-15T03:00:58\",\"2019-04-15T05:01:02\",\"2019-04-15T06:01:03\",\"2019-04-15T07:01:05\",\"2019-04-15T08:01:07\",\"2019-04-15T09:01:08\",\"2019-04-15T09:57:11\",\"2019-04-15T10:57:13\",\"2019-04-15T13:57:18\",\"2019-04-15T14:57:19\",\"2019-04-15T15:57:21\",\"2019-04-15T16:57:23\",\"2019-04-15T17:57:24\",\"2019-04-15T18:57:26\",\"2019-04-15T19:57:28\",\"2019-04-15T20:57:29\",\"2019-04-15T21:57:31\",\"2019-04-15T22:57:33\",\"2019-04-15T23:57:34\",\"2019-04-16T00:57:36\",\"2019-04-16T01:57:38\",\"2019-04-16T04:57:43\",\"2019-04-16T05:57:44\",\"2019-04-16T07:57:48\",\"2019-04-16T08:58:39\",\"2019-04-16T09:58:40\",\"2019-04-16T10:58:42\",\"2019-04-16T13:58:47\",\"2019-04-16T14:58:49\",\"2019-04-16T15:58:50\",\"2019-04-16T16:58:52\",\"2019-04-17T13:55:03\",\"2019-04-17T14:01:13\",\"2019-04-17T14:49:08\",\"2019-04-17T15:49:10\",\"2019-04-17T16:49:11\",\"2019-04-23T09:31:58\",\"2019-04-23T10:32:00\",\"2019-04-23T11:32:02\",\"2019-04-23T12:32:03\",\"2019-04-23T13:32:05\",\"2019-04-23T14:30:18\",\"2019-04-23T15:30:19\",\"2019-04-23T16:30:21\",\"2019-04-23T17:30:23\",\"2019-04-26T13:20:57\",\"2019-04-26T14:20:59\",\"2019-04-26T15:21:00\",\"2019-04-26T16:21:02\",\"2019-04-26T17:31:50\",\"2019-04-29T09:20:40\",\"2019-04-29T10:20:42\",\"2019-04-29T11:20:43\",\"2019-04-29T12:20:45\",\"2019-04-29T13:20:47\",\"2019-04-29T14:20:48\",\"2019-04-29T14:39:03\",\"2019-04-29T15:17:34\",\"2019-04-29T16:17:35\",\"2019-04-29T17:08:16\",\"2019-04-29T18:08:17\",\"2019-04-30T08:37:41\",\"2019-04-30T08:52:16\",\"2019-04-30T09:52:18\",\"2019-04-30T10:52:19\",\"2019-04-30T11:52:21\",\"2019-04-30T12:52:23\",\"2019-04-30T13:52:24\",\"2019-04-30T14:52:26\",\"2019-04-30T15:52:28\",\"2019-04-30T16:52:29\",\"2019-04-30T18:52:32\",\"2019-04-30T19:52:33\",\"2019-05-02T09:33:47\",\"2019-05-02T10:33:49\",\"2019-05-02T11:33:50\",\"2019-05-02T12:33:52\",\"2019-05-02T13:33:54\",\"2019-05-02T14:33:55\",\"2019-05-02T15:33:57\",\"2019-05-02T16:33:58\",\"2019-05-02T17:34:00\",\"2019-05-02T18:34:02\",\"2019-05-02T19:34:03\",\"2019-05-06T11:02:12\",\"2019-05-06T12:02:13\",\"2019-05-06T13:02:15\",\"2019-05-06T14:02:17\",\"2019-05-06T15:02:18\",\"2019-05-06T16:02:20\",\"2019-05-06T17:02:21\",\"2019-05-06T17:31:47\",\"2019-05-06T18:31:49\",\"2019-05-06T19:51:44\",\"2019-05-06T20:51:46\",\"2019-05-07T09:04:49\",\"2019-05-07T09:37:06\",\"2019-05-07T10:37:08\",\"2019-05-07T11:37:10\",\"2019-05-07T13:14:51\",\"2019-05-07T14:14:52\",\"2019-05-07T15:14:54\",\"2019-05-07T16:14:56\",\"2019-05-07T17:14:57\",\"2019-05-07T17:32:18\",\"2019-05-07T18:32:20\",\"2019-05-08T09:53:12\",\"2019-05-08T10:53:13\",\"2019-05-08T11:53:15\",\"2019-05-08T12:53:17\",\"2019-05-08T13:53:18\",\"2019-05-08T14:53:20\",\"2019-05-08T15:53:22\",\"2019-05-08T16:53:23\",\"2019-05-08T17:47:04\",\"2019-05-08T18:07:58\",\"2019-05-08T18:38:21\",\"2019-05-08T19:38:23\",\"2019-05-08T21:36:36\",\"2019-05-08T22:36:37\",\"2019-05-08T23:36:39\",\"2019-05-09T00:36:41\",\"2019-05-09T01:36:42\",\"2019-05-09T02:36:44\",\"2019-05-09T03:36:46\",\"2019-05-09T04:36:47\",\"2019-05-09T05:36:49\",\"2019-05-09T07:36:52\",\"2019-05-09T08:36:54\",\"2019-05-09T09:36:55\",\"2019-05-09T10:38:55\",\"2019-05-09T11:38:57\",\"2019-05-09T12:38:58\",\"2019-05-09T13:39:00\",\"2019-05-09T15:39:03\",\"2019-05-09T16:39:05\",\"2019-05-10T09:25:17\",\"2019-05-10T10:25:19\",\"2019-05-10T11:25:20\",\"2019-05-10T11:48:44\",\"2019-05-10T12:48:45\",\"2019-05-10T13:48:47\",\"2019-05-10T14:48:48\",\"2019-05-10T15:48:50\",\"2019-05-10T16:48:52\",\"2019-05-10T17:48:53\",\"2019-05-14T09:08:40\",\"2019-05-14T10:08:41\",\"2019-05-14T11:08:43\",\"2019-05-14T12:08:45\",\"2019-05-14T13:08:46\",\"2019-05-14T14:08:48\",\"2019-05-14T15:08:50\",\"2019-05-14T16:08:51\",\"2019-05-14T17:08:53\",\"2019-05-15T08:36:37\",\"2019-05-15T09:36:39\",\"2019-05-15T10:36:40\",\"2019-05-15T11:36:42\",\"2019-05-15T12:36:55\",\"2019-05-15T13:36:56\",\"2019-05-15T13:40:43\",\"2019-05-15T14:08:38\",\"2019-05-15T15:08:40\",\"2019-05-15T16:08:42\",\"2019-05-15T17:08:43\",\"2019-05-20T09:56:29\",\"2019-05-20T10:56:31\",\"2019-05-20T11:56:33\",\"2019-05-20T12:56:34\",\"2019-05-20T13:56:36\",\"2019-05-20T14:56:38\",\"2019-05-20T15:56:18\",\"2019-05-20T18:04:45\",\"2019-05-21T10:13:20\",\"2019-05-21T11:13:22\",\"2019-05-21T11:49:56\",\"2019-05-21T12:49:57\",\"2019-05-21T13:49:59\",\"2019-05-21T15:50:02\",\"2019-05-21T16:50:04\",\"2019-05-21T17:50:06\",\"2019-05-23T09:10:05\",\"2019-05-23T10:10:06\",\"2019-05-23T11:10:08\",\"2019-05-23T12:10:10\",\"2019-05-23T13:10:11\",\"2019-05-23T14:05:55\",\"2019-05-23T15:05:56\",\"2019-05-23T16:05:58\",\"2019-05-23T17:06:00\",\"2019-05-23T18:06:01\",\"2019-05-23T19:06:03\",\"2019-05-24T08:53:56\",\"2019-05-24T09:53:58\",\"2019-05-24T10:54:00\",\"2019-05-24T11:54:01\",\"2019-05-24T12:54:03\",\"2019-05-24T13:19:22\",\"2019-05-24T14:19:24\",\"2019-05-24T15:19:25\",\"2019-05-24T16:19:27\",\"2019-05-27T08:21:20\",\"2019-05-27T09:21:21\",\"2019-05-27T10:21:23\",\"2019-05-27T11:21:25\",\"2019-05-27T12:21:26\",\"2019-05-27T13:21:28\",\"2019-05-27T14:21:30\",\"2019-05-27T15:21:31\",\"2019-05-28T08:35:12\",\"2019-05-28T09:35:14\",\"2019-05-28T10:35:15\",\"2019-05-28T11:35:17\",\"2019-05-28T12:35:19\",\"2019-05-28T13:35:20\",\"2019-05-28T14:35:22\",\"2019-05-28T15:35:24\",\"2019-05-28T16:35:25\",\"2019-05-28T17:35:27\",\"2019-05-28T18:35:29\",\"2019-06-03T10:32:10\",\"2019-06-03T11:32:11\",\"2019-06-03T12:32:13\",\"2019-06-03T13:32:15\",\"2019-06-03T14:32:17\",\"2019-06-03T15:32:18\",\"2019-06-04T17:28:33\",\"2019-06-04T17:43:27\",\"2019-06-04T18:43:29\",\"2019-06-04T19:43:30\",\"2019-06-04T20:43:32\",\"2019-06-04T21:43:34\",\"2019-06-04T22:43:35\",\"2019-06-04T23:43:37\",\"2019-06-05T00:43:39\",\"2019-06-05T01:43:40\",\"2019-06-05T02:43:42\",\"2019-06-05T03:43:44\",\"2019-06-05T04:43:45\",\"2019-06-05T05:43:47\",\"2019-06-05T06:43:49\",\"2019-06-05T07:43:50\",\"2019-06-05T08:43:52\",\"2019-06-05T09:43:54\",\"2019-06-05T10:43:55\",\"2019-06-05T11:43:57\",\"2019-06-05T12:43:59\",\"2019-06-05T13:44:00\",\"2019-06-05T14:44:02\",\"2019-06-05T15:44:04\",\"2019-06-05T16:44:05\",\"2019-06-05T17:44:07\",\"2019-06-06T10:35:00\",\"2019-06-06T11:35:02\",\"2019-06-06T12:35:04\",\"2019-06-06T13:35:05\",\"2019-06-06T14:35:07\",\"2019-06-07T09:50:20\",\"2019-06-07T10:50:22\",\"2019-06-07T11:50:23\",\"2019-06-07T13:50:27\",\"2019-06-14T09:01:21\",\"2019-06-14T10:01:22\",\"2019-06-14T11:01:24\",\"2019-06-14T12:01:26\",\"2019-06-14T13:01:27\",\"2019-06-14T14:01:29\",\"2019-06-14T16:02:23\",\"2019-06-14T17:02:25\",\"2019-06-14T18:02:26\",\"2019-06-17T08:19:28\",\"2019-06-17T09:19:30\",\"2019-06-17T10:19:31\",\"2019-06-17T11:19:33\",\"2019-06-17T12:19:35\",\"2019-06-17T13:19:36\",\"2019-06-17T14:19:38\",\"2019-06-17T15:19:40\",\"2019-06-17T16:19:41\",\"2019-06-18T16:31:59\",\"2019-06-18T17:32:00\",\"2019-06-18T18:32:02\",\"2019-06-19T09:22:01\",\"2019-06-19T10:22:03\",\"2019-06-19T11:00:12\",\"2019-06-19T12:00:14\",\"2019-06-19T13:00:16\",\"2019-06-19T14:00:17\",\"2019-06-19T15:52:20\",\"2019-06-19T16:52:21\",\"2019-06-19T17:52:23\",\"2019-06-19T18:52:25\",\"2019-06-28T14:02:18\",\"2019-07-01T10:12:29\",\"2019-07-01T11:12:31\",\"2019-07-01T12:12:32\",\"2019-07-01T13:12:34\",\"2019-07-01T14:12:35\",\"2019-07-01T15:12:37\",\"2019-07-01T16:12:39\",\"2019-07-01T17:12:40\",\"2019-07-01T18:12:42\",\"2019-07-01T18:43:17\",\"2019-07-02T09:36:40\",\"2019-07-02T10:36:42\",\"2019-07-02T11:36:44\",\"2019-07-02T12:36:45\",\"2019-07-02T13:36:47\",\"2019-07-02T14:24:49\",\"2019-07-02T15:24:50\",\"2019-07-02T16:01:55\",\"2019-07-02T17:01:57\",\"2019-07-02T18:01:58\",\"2019-07-02T19:02:00\",\"2019-07-02T20:02:02\",\"2019-07-02T21:02:03\",\"2019-07-02T22:02:05\",\"2019-07-02T23:02:07\",\"2019-07-03T00:02:08\",\"2019-07-03T01:02:10\",\"2019-07-03T02:02:12\",\"2019-07-03T03:02:13\",\"2019-07-03T04:02:15\",\"2019-07-03T05:02:17\",\"2019-07-03T06:02:18\",\"2019-07-03T07:02:20\",\"2019-07-03T08:02:22\",\"2019-07-03T09:02:23\",\"2019-07-03T09:39:23\",\"2019-07-03T10:39:25\",\"2019-07-03T11:39:27\",\"2019-07-03T12:39:28\",\"2019-07-03T13:39:30\",\"2019-07-03T15:39:33\",\"2019-07-03T16:39:35\",\"2019-07-03T17:39:36\",\"2019-07-03T18:39:38\",\"2019-07-03T19:39:40\",\"2019-07-03T20:39:41\",\"2019-07-03T21:39:43\",\"2019-07-03T22:39:45\",\"2019-07-03T23:39:46\",\"2019-07-04T00:39:48\",\"2019-07-04T01:39:50\",\"2019-07-04T02:39:51\",\"2019-07-04T03:39:53\",\"2019-07-04T04:39:55\",\"2019-07-04T05:39:56\",\"2019-07-04T06:39:58\",\"2019-07-04T07:40:00\",\"2019-07-04T08:40:01\",\"2019-07-04T09:11:07\",\"2019-07-04T10:11:09\",\"2019-07-04T11:11:11\",\"2019-07-04T12:13:05\",\"2019-07-04T13:21:41\",\"2019-07-04T14:25:58\",\"2019-07-04T14:46:16\",\"2019-07-04T15:15:00\",\"2019-07-04T15:21:25\",\"2019-07-04T15:26:08\",\"2019-07-04T15:41:29\",\"2019-07-04T15:55:55\",\"2019-07-04T16:20:06\",\"2019-07-05T10:59:32\",\"2019-07-05T14:08:57\",\"2019-07-05T14:30:02\",\"2019-07-09T09:51:56\",\"2019-07-09T10:43:20\",\"2019-07-09T11:43:22\",\"2019-07-09T12:43:24\",\"2019-07-09T13:43:25\",\"2019-07-09T14:43:27\",\"2019-07-09T15:11:40\",\"2019-07-09T15:39:52\",\"2019-07-09T16:46:59\",\"2019-07-09T16:59:26\",\"2019-07-09T17:24:33\",\"2019-07-09T18:13:46\",\"2019-07-10T08:33:30\",\"2019-07-10T08:43:50\",\"2019-07-10T09:24:58\",\"2019-07-10T10:04:34\",\"2019-07-10T10:22:11\",\"2019-07-10T11:22:13\",\"2019-07-10T11:46:06\",\"2019-07-10T12:05:23\",\"2019-07-10T12:17:28\",\"2019-07-10T12:51:51\",\"2019-07-10T13:16:29\",\"2019-07-10T13:41:33\",\"2019-07-10T14:41:35\",\"2019-07-10T15:22:51\",\"2019-07-10T16:16:32\",\"2019-07-10T16:32:52\",\"2019-07-10T17:55:21\",\"2019-07-10T18:55:23\",\"2019-07-11T07:57:53\",\"2019-07-11T08:57:54\",\"2019-07-11T09:59:02\",\"2019-07-11T11:09:37\",\"2019-07-11T11:45:33\",\"2019-07-11T12:04:54\",\"2019-07-11T12:24:39\",\"2019-07-11T13:18:04\",\"2019-07-12T11:48:38\",\"2019-07-12T12:23:21\",\"2019-07-12T13:23:22\",\"2019-07-12T14:23:24\",\"2019-07-12T15:23:26\",\"2019-07-12T16:23:27\",\"2019-07-23T14:00:15\",\"2019-07-23T15:00:17\",\"2019-07-23T16:00:19\",\"2019-07-23T16:08:06\",\"2019-07-24T10:31:02\",\"2019-07-24T11:31:03\",\"2019-07-24T13:13:09\",\"2019-07-24T14:13:10\",\"2019-07-24T15:13:12\",\"2019-07-24T16:12:34\",\"2019-07-24T16:54:58\",\"2019-07-24T17:43:25\",\"2019-07-24T18:43:26\",\"2019-07-25T08:03:41\",\"2019-07-25T09:03:42\",\"2019-07-25T10:03:44\",\"2019-07-25T11:03:46\",\"2019-07-25T12:03:47\",\"2019-07-25T13:03:49\",\"2019-07-25T14:03:50\",\"2019-07-25T15:03:52\",\"2019-07-25T16:03:54\",\"2019-07-25T16:49:11\",\"2019-07-25T17:49:13\",\"2019-07-25T18:49:15\",\"2019-07-25T19:49:16\",\"2019-07-26T07:58:43\",\"2019-07-26T08:58:45\",\"2019-07-26T09:58:46\",\"2019-07-26T10:58:48\",\"2019-07-26T11:58:50\",\"2019-07-26T12:58:51\",\"2019-07-26T15:02:11\",\"2019-07-29T13:29:37\",\"2019-07-29T14:29:39\",\"2019-07-29T15:29:40\",\"2019-07-29T16:29:42\",\"2019-07-29T18:29:45\",\"2019-07-29T19:29:47\",\"2019-07-29T20:29:49\",\"2019-07-29T21:29:50\",\"2019-07-29T22:29:52\",\"2019-07-29T23:29:54\",\"2019-07-30T00:29:55\",\"2019-07-30T01:29:57\",\"2019-07-30T02:29:58\",\"2019-07-30T03:30:00\",\"2019-07-30T04:30:02\",\"2019-07-30T05:30:03\",\"2019-07-30T06:30:05\",\"2019-07-30T07:30:07\",\"2019-07-30T08:30:08\",\"2019-07-30T09:08:06\",\"2019-07-30T09:41:04\",\"2019-07-30T09:48:37\",\"2019-07-30T10:48:39\",\"2019-07-30T11:48:41\",\"2019-07-30T12:48:42\",\"2019-07-30T13:48:44\",\"2019-07-30T14:48:46\",\"2019-07-30T15:34:40\",\"2019-07-30T16:34:42\",\"2019-10-09T15:25:09\",\"2019-10-09T16:25:10\",\"2019-10-09T17:25:12\",\"2019-10-09T18:25:14\",\"2019-10-09T19:25:15\",\"2019-10-09T20:25:17\",\"2019-10-09T23:25:22\",\"2019-10-10T00:25:24\",\"2019-10-10T01:25:25\",\"2019-10-10T02:25:27\",\"2019-10-10T09:31:21\",\"2019-10-10T10:31:23\",\"2019-10-10T12:31:26\",\"2019-10-10T13:31:28\",\"2019-10-10T14:31:29\",\"2019-10-10T15:31:31\",\"2019-10-10T16:31:33\",\"2019-10-11T10:17:05\",\"2019-10-11T11:17:07\",\"2019-10-11T12:17:09\",\"2019-10-11T13:17:10\",\"2019-10-11T14:17:12\",\"2019-10-11T15:17:14\",\"2019-10-11T16:17:15\",\"2019-10-14T12:14:15\",\"2019-10-14T14:58:55\",\"2019-10-14T15:58:56\",\"2019-10-23T09:17:14\",\"2019-10-23T10:17:16\",\"2019-10-23T11:17:18\",\"2019-10-23T12:17:19\",\"2019-10-23T13:17:21\",\"2019-10-23T14:17:23\",\"2019-10-23T15:17:24\",\"2019-10-24T09:41:01\",\"2019-10-24T11:05:18\",\"2019-10-24T11:26:41\",\"2019-10-24T12:26:42\",\"2019-10-24T13:26:44\",\"2019-10-24T14:26:46\",\"2019-10-24T14:57:14\",\"2019-10-24T15:18:00\",\"2019-10-24T16:18:02\",\"2019-10-25T10:25:30\",\"2019-10-25T11:25:32\",\"2019-10-25T12:25:33\",\"2019-10-25T13:25:35\",\"2019-10-25T14:21:22\",\"2019-10-25T15:21:24\",\"2019-10-25T16:21:26\",\"2019-10-28T11:04:50\",\"2019-10-28T11:31:13\",\"2019-10-28T11:42:47\",\"2019-10-28T12:42:48\",\"2019-10-28T13:42:50\",\"2019-10-28T14:42:52\",\"2019-10-28T15:42:53\",\"2019-10-28T16:42:55\",\"2019-10-28T18:42:58\",\"2019-10-29T11:11:08\",\"2019-10-29T12:11:09\",\"2019-10-29T13:11:11\",\"2019-10-29T14:11:13\",\"2019-10-29T15:11:14\",\"2019-10-29T16:14:23\",\"2019-10-30T09:49:41\",\"2019-10-30T10:49:43\",\"2019-10-30T11:49:44\",\"2019-10-30T12:35:44\",\"2019-10-30T13:35:45\",\"2019-10-30T14:35:47\",\"2019-10-30T15:35:49\",\"2019-10-30T16:35:50\",\"2019-10-31T08:01:05\",\"2019-10-31T09:01:06\",\"2019-10-31T10:01:08\",\"2019-10-31T11:01:10\",\"2019-10-31T12:01:11\",\"2019-10-31T13:01:13\",\"2019-11-04T12:26:19\",\"2019-11-04T13:26:20\",\"2019-11-04T14:26:22\",\"2019-11-04T15:26:24\",\"2019-11-05T16:39:49\",\"2019-11-06T09:21:53\",\"2019-11-06T13:04:23\",\"2019-11-06T14:04:25\",\"2019-11-06T15:04:27\",\"2019-11-06T16:04:28\",\"2019-11-06T17:04:30\",\"2019-11-06T18:04:31\",\"2019-11-06T19:04:33\",\"2019-11-06T20:04:35\",\"2019-11-06T22:04:38\",\"2019-11-06T23:04:40\",\"2019-11-07T00:04:42\",\"2019-11-07T01:04:44\",\"2019-11-07T02:04:45\",\"2019-11-07T03:04:47\",\"2019-11-07T04:04:49\",\"2019-11-07T06:04:52\",\"2019-11-07T07:04:54\",\"2019-11-07T08:04:56\",\"2019-11-07T09:04:58\",\"2019-11-07T10:04:59\",\"2019-11-07T13:05:05\",\"2019-11-07T14:05:06\",\"2019-11-07T15:05:08\",\"2019-11-07T16:05:10\",\"2019-11-07T17:05:12\",\"2019-11-07T18:05:13\",\"2019-11-08T10:41:54\",\"2019-11-11T09:53:29\",\"2019-11-25T16:10:31\",\"2019-11-25T16:22:20\",\"2019-11-25T17:22:22\",\"2019-11-25T18:22:23\",\"2019-11-25T20:22:27\",\"2019-11-25T23:22:32\",\"2019-11-26T00:22:33\",\"2019-11-26T01:22:35\",\"2019-11-26T09:22:48\",\"2019-11-26T11:03:53\",\"2019-11-26T12:10:59\",\"2019-11-26T13:11:00\",\"2019-11-26T14:11:02\",\"2019-11-26T15:11:04\",\"2019-11-26T16:11:05\",\"2019-11-26T17:11:07\",\"2019-11-27T22:55:44\",\"2019-11-27T23:55:46\",\"2019-11-28T00:55:48\",\"2019-11-28T01:55:49\",\"2019-11-28T02:55:51\",\"2019-11-28T03:55:53\",\"2019-11-28T04:55:54\",\"2019-11-28T06:55:58\",\"2019-11-28T07:55:59\",\"2019-11-28T08:56:01\",\"2019-12-03T14:26:06\",\"2019-12-03T15:26:08\",\"2019-12-03T16:26:09\",\"2019-12-03T17:26:11\",\"2019-12-04T14:01:46\",\"2019-12-04T15:01:48\",\"2019-12-04T16:01:50\",\"2019-12-04T17:01:51\",\"2019-12-04T18:01:53\",\"2019-12-04T19:01:55\",\"2019-12-04T20:01:56\",\"2019-12-04T21:01:58\",\"2019-12-04T22:02:00\",\"2019-12-04T23:02:01\",\"2019-12-05T01:02:05\",\"2019-12-05T13:02:25\",\"2019-12-05T14:02:26\",\"2019-12-05T15:02:29\",\"2019-12-05T16:02:31\",\"2019-12-05T17:02:32\",\"2019-12-05T18:02:34\",\"2019-12-05T20:02:58\",\"2019-12-05T21:03:00\",\"2019-12-05T22:03:02\",\"2019-12-05T23:03:03\",\"2019-12-06T00:03:05\",\"2019-12-06T01:03:07\",\"2019-12-06T02:03:08\",\"2019-12-06T12:03:25\",\"2019-12-06T13:03:27\",\"2019-12-06T14:03:28\",\"2019-12-06T15:03:30\",\"2019-12-06T16:03:38\",\"2019-12-06T17:03:50\",\"2019-12-06T18:04:00\",\"2019-12-06T19:04:15\",\"2019-12-06T20:04:26\",\"2019-12-06T21:04:32\",\"2019-12-06T22:04:33\",\"2019-12-07T00:04:37\",\"2019-12-07T01:04:38\",\"2019-12-07T02:04:40\",\"2019-12-07T03:04:42\",\"2019-12-07T04:04:43\",\"2019-12-07T05:04:45\",\"2019-12-07T07:04:48\",\"2019-12-07T08:04:50\",\"2019-12-08T23:05:55\",\"2019-12-09T00:05:56\",\"2019-12-09T06:06:06\",\"2019-12-09T07:06:08\",\"2019-12-09T08:06:10\",\"2019-12-09T09:06:11\",\"2019-12-10T09:02:10\",\"2019-12-11T02:45:55\",\"2019-12-11T05:46:00\",\"2019-12-11T06:46:02\",\"2019-12-11T07:46:03\",\"2019-12-11T08:46:05\",\"2020-01-20T14:13:47\",\"2020-01-20T15:13:49\",\"2020-01-20T16:13:50\",\"2020-01-20T17:13:52\",\"2020-01-20T18:00:27\",\"2020-01-20T19:00:29\",\"2020-01-21T11:28:35\",\"2020-01-21T12:28:36\",\"2020-01-21T13:28:38\",\"2020-01-21T14:28:40\",\"2020-01-21T15:28:41\",\"2020-01-21T16:28:43\",\"2020-01-21T17:28:45\",\"2020-01-24T08:56:36\"],\"xaxis\":\"x\",\"y\":[15.0,null,null,null,null,null,null,null,null,null,null,null,20.9,20.4,32.3,32.4,31.7,15.0,17.0,31.6,15.0,null,null,15.1,15.0,null,null,null,null,null,null,null,null,null,null,null,19.7,15.0,null,null,null,null,14.9,15.0,null,null,null,null,null,null,null,null,null,null,31.8,15.0,null,null,null,null,null,21.6,21.1,26.0,15.0,null,23.1,15.0,null,null,null,32.0,15.0,15.1,15.0,25.8,15.0,15.1,15.0,30.1,22.2,15.0,null,null,null,null,32.3,15.0,null,23.8,15.0,22.4,24.0,15.0,null,null,null,null,null,null,null,null,null,23.6,15.0,null,null,null,null,null,null,null,null,null,20.9,15.0,null,null,null,null,null,31.9,15.0,30.3,15.0,21.5,20.9,15.1,15.0,31.0,15.0,null,null,null,32.2,15.0,24.6,15.0,null,null,null,null,null,null,32.6,32.3,31.4,15.0,31.9,15.0,null,null,null,null,null,null,null,null,null,null,32.4,15.0,null,null,null,null,25.9,15.0,null,31.0,15.0,null,null,null,null,null,24.1,15.0,null,null,null,null,15.1,15.0,null,23.2,15.1,15.0,null,31.2,15.0,19.5,20.6,15.0,null,null,22.1,15.0,null,15.1,15.0,null,31.5,32.3,15.0,null,29.0,15.0,null,null,null,null,23.2,15.0,null,null,null,22.1,15.0,null,null,null,null,21.6,15.0,15.1,15.0,null,26.0,15.0,15.1,15.0,21.7,15.0,null,15.1,15.0,null,15.1,15.0,21.5,15.0,null,null,null,null,15.1,15.0,null,null,null,21.6,15.0,null,null,null,null,28.8,21.4,15.0,null,null,null,null,null,null,null,null,null,null,null,null,null,null,null,null,null,null,null,null,null,null,null,21.2,15.0,null,null,null,31.4,15.0,null,null,21.2,15.0,null,null,null,null,20.8,15.0,null,21.6,15.0,null,null,null,null,null,null,null,21.5,15.0,15.1,23.5,15.0,29.8,15.0,null,null,31.4,15.0,null,null,28.5,24.2,15.0,null,null,null,null,null,null,null,23.3,31.4,15.0,null,null,null,25.3,15.0,33.1,15.0,null,null,null,null,15.1,15.0,null,null,null,null,null,null,null,null,null,null,25.8,15.0,null,null,null,null,null,null,null,null,null,15.1,15.0,null,null,null,null,null,null,null,null,null,null,21.3,15.0,null,33.2,32.6,32.1,30.8,null,25.1,19.9,31.4,31.2,31.1,21.5,30.7,31.2,25.5,28.8,15.0,null,null,null,31.8,32.1,31.8,32.0,32.2,32.1,21.2,20.9,24.2,26.7,21.3,15.0,29.9,31.4,null,29.1,27.8,25.5,15.0,20.0,31.4,32.0,32.1,15.0,21.7,15.1,30.2,31.5,null,30.3,31.4,31.8,22.3,23.1,15.0,null,null,null,25.9,15.0,null,24.7,21.8,15.0,29.2,15.1,15.0,32.5,20.3,29.2,15.0,22.5,15.0,null,null,null,null,null,null,null,32.0,15.0,null,null,22.3,15.1,null,15.0,null,null,30.6,28.9,15.0,null,null,null,null,null,null,null,null,null,null,null,null,null,null,null,null,null,33.0,30.8,14.9,15.0,null,15.1,15.0,null,33.0,15.0,21.2,15.1,15.0,null,null,null,null,null,null,null,31.8,15.0,null,null,null,null,null,21.3,15.0,15.1,null,15.0,null,null,22.4,30.6,15.0,22.1,15.0,15.1,15.0,null,null,null,22.2,28.8,22.1,15.0,null,null,32.6,32.4,15.0,21.9,15.0,null,null,31.3,15.0,null,21.8,21.2,24.8,15.0,null,null,null,null,null,26.5,15.0,null,null,null,29.8,23.9,15.0,null,19.6,15.0,null,null,null,21.6,15.0,null,null,null,null,21.1,15.0,null,null,31.1,21.6,15.0,null,null,null,null,15.1,15.0,null,null,null,null,null,null,null,null,null,null,null,null,null,null,null,null,null,null,null,21.2,30.8,null,23.9,15.0,null,null,null,null,null,null,33.4,33.6,15.0,null,null,null,null,null,null,null,null,null,null,null,null,null,null,15.0,null,null,null,15.0,null,null,null,14.9,15.0,null,null,null,null,null,null,null,null,null,null,null,null,null,null,null,null,null,null,null,null,null,null,null,null,null,null,null,null,null,null,null,null,null,null,null,null,null,null,null,null,null,null,null,21.0,null,null,null,null,null,28.5,15.0,null,null,18.9,15.0,19.5,15.0,null,null,null,null,null,20.6],\"yaxis\":\"y\"}],                        {\"legend\":{\"title\":{\"text\":\"variable\"},\"tracegroupgap\":0},\"margin\":{\"t\":60},\"template\":{\"data\":{\"bar\":[{\"error_x\":{\"color\":\"#2a3f5f\"},\"error_y\":{\"color\":\"#2a3f5f\"},\"marker\":{\"line\":{\"color\":\"#E5ECF6\",\"width\":0.5},\"pattern\":{\"fillmode\":\"overlay\",\"size\":10,\"solidity\":0.2}},\"type\":\"bar\"}],\"barpolar\":[{\"marker\":{\"line\":{\"color\":\"#E5ECF6\",\"width\":0.5},\"pattern\":{\"fillmode\":\"overlay\",\"size\":10,\"solidity\":0.2}},\"type\":\"barpolar\"}],\"carpet\":[{\"aaxis\":{\"endlinecolor\":\"#2a3f5f\",\"gridcolor\":\"white\",\"linecolor\":\"white\",\"minorgridcolor\":\"white\",\"startlinecolor\":\"#2a3f5f\"},\"baxis\":{\"endlinecolor\":\"#2a3f5f\",\"gridcolor\":\"white\",\"linecolor\":\"white\",\"minorgridcolor\":\"white\",\"startlinecolor\":\"#2a3f5f\"},\"type\":\"carpet\"}],\"choropleth\":[{\"colorbar\":{\"outlinewidth\":0,\"ticks\":\"\"},\"type\":\"choropleth\"}],\"contour\":[{\"colorbar\":{\"outlinewidth\":0,\"ticks\":\"\"},\"colorscale\":[[0.0,\"#0d0887\"],[0.1111111111111111,\"#46039f\"],[0.2222222222222222,\"#7201a8\"],[0.3333333333333333,\"#9c179e\"],[0.4444444444444444,\"#bd3786\"],[0.5555555555555556,\"#d8576b\"],[0.6666666666666666,\"#ed7953\"],[0.7777777777777778,\"#fb9f3a\"],[0.8888888888888888,\"#fdca26\"],[1.0,\"#f0f921\"]],\"type\":\"contour\"}],\"contourcarpet\":[{\"colorbar\":{\"outlinewidth\":0,\"ticks\":\"\"},\"type\":\"contourcarpet\"}],\"heatmap\":[{\"colorbar\":{\"outlinewidth\":0,\"ticks\":\"\"},\"colorscale\":[[0.0,\"#0d0887\"],[0.1111111111111111,\"#46039f\"],[0.2222222222222222,\"#7201a8\"],[0.3333333333333333,\"#9c179e\"],[0.4444444444444444,\"#bd3786\"],[0.5555555555555556,\"#d8576b\"],[0.6666666666666666,\"#ed7953\"],[0.7777777777777778,\"#fb9f3a\"],[0.8888888888888888,\"#fdca26\"],[1.0,\"#f0f921\"]],\"type\":\"heatmap\"}],\"heatmapgl\":[{\"colorbar\":{\"outlinewidth\":0,\"ticks\":\"\"},\"colorscale\":[[0.0,\"#0d0887\"],[0.1111111111111111,\"#46039f\"],[0.2222222222222222,\"#7201a8\"],[0.3333333333333333,\"#9c179e\"],[0.4444444444444444,\"#bd3786\"],[0.5555555555555556,\"#d8576b\"],[0.6666666666666666,\"#ed7953\"],[0.7777777777777778,\"#fb9f3a\"],[0.8888888888888888,\"#fdca26\"],[1.0,\"#f0f921\"]],\"type\":\"heatmapgl\"}],\"histogram\":[{\"marker\":{\"pattern\":{\"fillmode\":\"overlay\",\"size\":10,\"solidity\":0.2}},\"type\":\"histogram\"}],\"histogram2d\":[{\"colorbar\":{\"outlinewidth\":0,\"ticks\":\"\"},\"colorscale\":[[0.0,\"#0d0887\"],[0.1111111111111111,\"#46039f\"],[0.2222222222222222,\"#7201a8\"],[0.3333333333333333,\"#9c179e\"],[0.4444444444444444,\"#bd3786\"],[0.5555555555555556,\"#d8576b\"],[0.6666666666666666,\"#ed7953\"],[0.7777777777777778,\"#fb9f3a\"],[0.8888888888888888,\"#fdca26\"],[1.0,\"#f0f921\"]],\"type\":\"histogram2d\"}],\"histogram2dcontour\":[{\"colorbar\":{\"outlinewidth\":0,\"ticks\":\"\"},\"colorscale\":[[0.0,\"#0d0887\"],[0.1111111111111111,\"#46039f\"],[0.2222222222222222,\"#7201a8\"],[0.3333333333333333,\"#9c179e\"],[0.4444444444444444,\"#bd3786\"],[0.5555555555555556,\"#d8576b\"],[0.6666666666666666,\"#ed7953\"],[0.7777777777777778,\"#fb9f3a\"],[0.8888888888888888,\"#fdca26\"],[1.0,\"#f0f921\"]],\"type\":\"histogram2dcontour\"}],\"mesh3d\":[{\"colorbar\":{\"outlinewidth\":0,\"ticks\":\"\"},\"type\":\"mesh3d\"}],\"parcoords\":[{\"line\":{\"colorbar\":{\"outlinewidth\":0,\"ticks\":\"\"}},\"type\":\"parcoords\"}],\"pie\":[{\"automargin\":true,\"type\":\"pie\"}],\"scatter\":[{\"marker\":{\"colorbar\":{\"outlinewidth\":0,\"ticks\":\"\"}},\"type\":\"scatter\"}],\"scatter3d\":[{\"line\":{\"colorbar\":{\"outlinewidth\":0,\"ticks\":\"\"}},\"marker\":{\"colorbar\":{\"outlinewidth\":0,\"ticks\":\"\"}},\"type\":\"scatter3d\"}],\"scattercarpet\":[{\"marker\":{\"colorbar\":{\"outlinewidth\":0,\"ticks\":\"\"}},\"type\":\"scattercarpet\"}],\"scattergeo\":[{\"marker\":{\"colorbar\":{\"outlinewidth\":0,\"ticks\":\"\"}},\"type\":\"scattergeo\"}],\"scattergl\":[{\"marker\":{\"colorbar\":{\"outlinewidth\":0,\"ticks\":\"\"}},\"type\":\"scattergl\"}],\"scattermapbox\":[{\"marker\":{\"colorbar\":{\"outlinewidth\":0,\"ticks\":\"\"}},\"type\":\"scattermapbox\"}],\"scatterpolar\":[{\"marker\":{\"colorbar\":{\"outlinewidth\":0,\"ticks\":\"\"}},\"type\":\"scatterpolar\"}],\"scatterpolargl\":[{\"marker\":{\"colorbar\":{\"outlinewidth\":0,\"ticks\":\"\"}},\"type\":\"scatterpolargl\"}],\"scatterternary\":[{\"marker\":{\"colorbar\":{\"outlinewidth\":0,\"ticks\":\"\"}},\"type\":\"scatterternary\"}],\"surface\":[{\"colorbar\":{\"outlinewidth\":0,\"ticks\":\"\"},\"colorscale\":[[0.0,\"#0d0887\"],[0.1111111111111111,\"#46039f\"],[0.2222222222222222,\"#7201a8\"],[0.3333333333333333,\"#9c179e\"],[0.4444444444444444,\"#bd3786\"],[0.5555555555555556,\"#d8576b\"],[0.6666666666666666,\"#ed7953\"],[0.7777777777777778,\"#fb9f3a\"],[0.8888888888888888,\"#fdca26\"],[1.0,\"#f0f921\"]],\"type\":\"surface\"}],\"table\":[{\"cells\":{\"fill\":{\"color\":\"#EBF0F8\"},\"line\":{\"color\":\"white\"}},\"header\":{\"fill\":{\"color\":\"#C8D4E3\"},\"line\":{\"color\":\"white\"}},\"type\":\"table\"}]},\"layout\":{\"annotationdefaults\":{\"arrowcolor\":\"#2a3f5f\",\"arrowhead\":0,\"arrowwidth\":1},\"autotypenumbers\":\"strict\",\"coloraxis\":{\"colorbar\":{\"outlinewidth\":0,\"ticks\":\"\"}},\"colorscale\":{\"diverging\":[[0,\"#8e0152\"],[0.1,\"#c51b7d\"],[0.2,\"#de77ae\"],[0.3,\"#f1b6da\"],[0.4,\"#fde0ef\"],[0.5,\"#f7f7f7\"],[0.6,\"#e6f5d0\"],[0.7,\"#b8e186\"],[0.8,\"#7fbc41\"],[0.9,\"#4d9221\"],[1,\"#276419\"]],\"sequential\":[[0.0,\"#0d0887\"],[0.1111111111111111,\"#46039f\"],[0.2222222222222222,\"#7201a8\"],[0.3333333333333333,\"#9c179e\"],[0.4444444444444444,\"#bd3786\"],[0.5555555555555556,\"#d8576b\"],[0.6666666666666666,\"#ed7953\"],[0.7777777777777778,\"#fb9f3a\"],[0.8888888888888888,\"#fdca26\"],[1.0,\"#f0f921\"]],\"sequentialminus\":[[0.0,\"#0d0887\"],[0.1111111111111111,\"#46039f\"],[0.2222222222222222,\"#7201a8\"],[0.3333333333333333,\"#9c179e\"],[0.4444444444444444,\"#bd3786\"],[0.5555555555555556,\"#d8576b\"],[0.6666666666666666,\"#ed7953\"],[0.7777777777777778,\"#fb9f3a\"],[0.8888888888888888,\"#fdca26\"],[1.0,\"#f0f921\"]]},\"colorway\":[\"#636efa\",\"#EF553B\",\"#00cc96\",\"#ab63fa\",\"#FFA15A\",\"#19d3f3\",\"#FF6692\",\"#B6E880\",\"#FF97FF\",\"#FECB52\"],\"font\":{\"color\":\"#2a3f5f\"},\"geo\":{\"bgcolor\":\"white\",\"lakecolor\":\"white\",\"landcolor\":\"#E5ECF6\",\"showlakes\":true,\"showland\":true,\"subunitcolor\":\"white\"},\"hoverlabel\":{\"align\":\"left\"},\"hovermode\":\"closest\",\"mapbox\":{\"style\":\"light\"},\"paper_bgcolor\":\"white\",\"plot_bgcolor\":\"#E5ECF6\",\"polar\":{\"angularaxis\":{\"gridcolor\":\"white\",\"linecolor\":\"white\",\"ticks\":\"\"},\"bgcolor\":\"#E5ECF6\",\"radialaxis\":{\"gridcolor\":\"white\",\"linecolor\":\"white\",\"ticks\":\"\"}},\"scene\":{\"xaxis\":{\"backgroundcolor\":\"#E5ECF6\",\"gridcolor\":\"white\",\"gridwidth\":2,\"linecolor\":\"white\",\"showbackground\":true,\"ticks\":\"\",\"zerolinecolor\":\"white\"},\"yaxis\":{\"backgroundcolor\":\"#E5ECF6\",\"gridcolor\":\"white\",\"gridwidth\":2,\"linecolor\":\"white\",\"showbackground\":true,\"ticks\":\"\",\"zerolinecolor\":\"white\"},\"zaxis\":{\"backgroundcolor\":\"#E5ECF6\",\"gridcolor\":\"white\",\"gridwidth\":2,\"linecolor\":\"white\",\"showbackground\":true,\"ticks\":\"\",\"zerolinecolor\":\"white\"}},\"shapedefaults\":{\"line\":{\"color\":\"#2a3f5f\"}},\"ternary\":{\"aaxis\":{\"gridcolor\":\"white\",\"linecolor\":\"white\",\"ticks\":\"\"},\"baxis\":{\"gridcolor\":\"white\",\"linecolor\":\"white\",\"ticks\":\"\"},\"bgcolor\":\"#E5ECF6\",\"caxis\":{\"gridcolor\":\"white\",\"linecolor\":\"white\",\"ticks\":\"\"}},\"title\":{\"x\":0.05},\"xaxis\":{\"automargin\":true,\"gridcolor\":\"white\",\"linecolor\":\"white\",\"ticks\":\"\",\"title\":{\"standoff\":15},\"zerolinecolor\":\"white\",\"zerolinewidth\":2},\"yaxis\":{\"automargin\":true,\"gridcolor\":\"white\",\"linecolor\":\"white\",\"ticks\":\"\",\"title\":{\"standoff\":15},\"zerolinecolor\":\"white\",\"zerolinewidth\":2}}},\"xaxis\":{\"anchor\":\"y\",\"domain\":[0.0,1.0],\"title\":{\"text\":\"datetime\"}},\"yaxis\":{\"anchor\":\"x\",\"domain\":[0.0,1.0],\"title\":{\"text\":\"value\"}}},                        {\"responsive\": true}                    ).then(function(){\n",
       "                            \n",
       "var gd = document.getElementById('fd293754-e7d1-42b5-b9ce-bde7dc631114');\n",
       "var x = new MutationObserver(function (mutations, observer) {{\n",
       "        var display = window.getComputedStyle(gd).display;\n",
       "        if (!display || display === 'none') {{\n",
       "            console.log([gd, 'removed!']);\n",
       "            Plotly.purge(gd);\n",
       "            observer.disconnect();\n",
       "        }}\n",
       "}});\n",
       "\n",
       "// Listen for the removal of the full notebook cells\n",
       "var notebookContainer = gd.closest('#notebook-container');\n",
       "if (notebookContainer) {{\n",
       "    x.observe(notebookContainer, {childList: true});\n",
       "}}\n",
       "\n",
       "// Listen for the clearing of the current output cell\n",
       "var outputEl = gd.closest('.output');\n",
       "if (outputEl) {{\n",
       "    x.observe(outputEl, {childList: true});\n",
       "}}\n",
       "\n",
       "                        })                };                });            </script>        </div>"
      ]
     },
     "metadata": {},
     "output_type": "display_data"
    }
   ],
   "source": [
    "import plotly.express as px\n",
    "\n",
    "fig = px.line(df, x='datetime', y=[\"heating_temperature\",\"cooling_temperature\"])\n",
    "fig.show()"
   ]
  },
  {
   "cell_type": "markdown",
   "metadata": {},
   "source": [
    "Plot without time information"
   ]
  },
  {
   "cell_type": "code",
   "execution_count": 142,
   "metadata": {},
   "outputs": [
    {
     "data": {
      "application/vnd.plotly.v1+json": {
       "config": {
        "plotlyServerURL": "https://plot.ly"
       },
       "data": [
        {
         "hovertemplate": "variable=heating_temperature<br>index=%{x}<br>value=%{y}<extra></extra>",
         "legendgroup": "heating_temperature",
         "line": {
          "color": "#636efa",
          "dash": "solid"
         },
         "mode": "lines",
         "name": "heating_temperature",
         "showlegend": true,
         "type": "scattergl",
         "x": [
          0,
          1,
          2,
          3,
          4,
          5,
          6,
          7,
          8,
          9,
          10,
          11,
          12,
          13,
          14,
          15,
          16,
          17,
          18,
          19,
          20,
          21,
          22,
          23,
          24,
          25,
          26,
          27,
          28,
          29,
          30,
          31,
          32,
          33,
          34,
          35,
          36,
          37,
          38,
          39,
          40,
          41,
          42,
          43,
          44,
          45,
          46,
          47,
          48,
          49,
          50,
          51,
          52,
          53,
          54,
          55,
          56,
          57,
          58,
          59,
          60,
          61,
          62,
          63,
          64,
          65,
          66,
          67,
          68,
          69,
          70,
          71,
          72,
          73,
          74,
          75,
          76,
          77,
          78,
          79,
          80,
          81,
          82,
          83,
          84,
          85,
          86,
          87,
          88,
          89,
          90,
          91,
          92,
          93,
          94,
          95,
          96,
          97,
          98,
          99,
          100,
          101,
          102,
          103,
          104,
          105,
          106,
          107,
          108,
          109,
          110,
          111,
          112,
          113,
          114,
          115,
          116,
          117,
          118,
          119,
          120,
          121,
          122,
          123,
          124,
          125,
          126,
          127,
          128,
          129,
          130,
          131,
          132,
          133,
          134,
          135,
          136,
          137,
          138,
          139,
          140,
          141,
          142,
          143,
          144,
          145,
          146,
          147,
          148,
          149,
          150,
          151,
          152,
          153,
          154,
          155,
          156,
          157,
          158,
          159,
          160,
          161,
          162,
          163,
          164,
          165,
          166,
          167,
          168,
          169,
          170,
          171,
          172,
          173,
          174,
          175,
          176,
          177,
          178,
          179,
          180,
          181,
          182,
          183,
          184,
          185,
          186,
          187,
          188,
          189,
          190,
          191,
          192,
          193,
          194,
          195,
          196,
          197,
          198,
          199,
          200,
          201,
          202,
          203,
          204,
          205,
          206,
          207,
          208,
          209,
          210,
          211,
          212,
          213,
          214,
          215,
          216,
          217,
          218,
          219,
          220,
          221,
          222,
          223,
          224,
          225,
          226,
          227,
          228,
          229,
          230,
          231,
          232,
          233,
          234,
          235,
          236,
          237,
          238,
          239,
          240,
          241,
          242,
          243,
          244,
          245,
          246,
          247,
          248,
          249,
          250,
          251,
          252,
          253,
          254,
          255,
          256,
          257,
          258,
          259,
          260,
          261,
          262,
          263,
          264,
          265,
          266,
          267,
          268,
          269,
          270,
          271,
          272,
          273,
          274,
          275,
          276,
          277,
          278,
          279,
          280,
          281,
          282,
          283,
          284,
          285,
          286,
          287,
          288,
          289,
          290,
          291,
          292,
          293,
          294,
          295,
          296,
          297,
          298,
          299,
          300,
          301,
          302,
          303,
          304,
          305,
          306,
          307,
          308,
          309,
          310,
          311,
          312,
          313,
          314,
          315,
          316,
          317,
          318,
          319,
          320,
          321,
          322,
          323,
          324,
          325,
          326,
          327,
          328,
          329,
          330,
          331,
          332,
          333,
          334,
          335,
          336,
          337,
          338,
          339,
          340,
          341,
          342,
          343,
          344,
          345,
          346,
          347,
          348,
          349,
          350,
          351,
          352,
          353,
          354,
          355,
          356,
          357,
          358,
          359,
          360,
          361,
          362,
          363,
          364,
          365,
          366,
          367,
          368,
          369,
          370,
          371,
          372,
          373,
          374,
          375,
          376,
          377,
          378,
          379,
          380,
          381,
          382,
          383,
          384,
          385,
          386,
          387,
          388,
          389,
          390,
          391,
          392,
          393,
          394,
          395,
          396,
          397,
          398,
          399,
          400,
          401,
          402,
          403,
          404,
          405,
          406,
          407,
          408,
          409,
          410,
          411,
          412,
          413,
          414,
          415,
          416,
          417,
          418,
          419,
          420,
          421,
          422,
          423,
          424,
          425,
          426,
          427,
          428,
          429,
          430,
          431,
          432,
          433,
          434,
          435,
          436,
          437,
          438,
          439,
          440,
          441,
          442,
          443,
          444,
          445,
          446,
          447,
          448,
          449,
          450,
          451,
          452,
          453,
          454,
          455,
          456,
          457,
          458,
          459,
          460,
          461,
          462,
          463,
          464,
          465,
          466,
          467,
          468,
          469,
          470,
          471,
          472,
          473,
          474,
          475,
          476,
          477,
          478,
          479,
          480,
          481,
          482,
          483,
          484,
          485,
          486,
          487,
          488,
          489,
          490,
          491,
          492,
          493,
          494,
          495,
          496,
          497,
          498,
          499,
          500,
          501,
          502,
          503,
          504,
          505,
          506,
          507,
          508,
          509,
          510,
          511,
          512,
          513,
          514,
          515,
          516,
          517,
          518,
          519,
          520,
          521,
          522,
          523,
          524,
          525,
          526,
          527,
          528,
          529,
          530,
          531,
          532,
          533,
          534,
          535,
          536,
          537,
          538,
          539,
          540,
          541,
          542,
          543,
          544,
          545,
          546,
          547,
          548,
          549,
          550,
          551,
          552,
          553,
          554,
          555,
          556,
          557,
          558,
          559,
          560,
          561,
          562,
          563,
          564,
          565,
          566,
          567,
          568,
          569,
          570,
          571,
          572,
          573,
          574,
          575,
          576,
          577,
          578,
          579,
          580,
          581,
          582,
          583,
          584,
          585,
          586,
          587,
          588,
          589,
          590,
          591,
          592,
          593,
          594,
          595,
          596,
          597,
          598,
          599,
          600,
          601,
          602,
          603,
          604,
          605,
          606,
          607,
          608,
          609,
          610,
          611,
          612,
          613,
          614,
          615,
          616,
          617,
          618,
          619,
          620,
          621,
          622,
          623,
          624,
          625,
          626,
          627,
          628,
          629,
          630,
          631,
          632,
          633,
          634,
          635,
          636,
          637,
          638,
          639,
          640,
          641,
          642,
          643,
          644,
          645,
          646,
          647,
          648,
          649,
          650,
          651,
          652,
          653,
          654,
          655,
          656,
          657,
          658,
          659,
          660,
          661,
          662,
          663,
          664,
          665,
          666,
          667,
          668,
          669,
          670,
          671,
          672,
          673,
          674,
          675,
          676,
          677,
          678,
          679,
          680,
          681,
          682,
          683,
          684,
          685,
          686,
          687,
          688,
          689,
          690,
          691,
          692,
          693,
          694,
          695,
          696,
          697,
          698,
          699,
          700,
          701,
          702,
          703,
          704,
          705,
          706,
          707,
          708,
          709,
          710,
          711,
          712,
          713,
          714,
          715
         ],
         "xaxis": "x",
         "y": [
          33.3,
          34,
          33.8,
          34.2,
          34.5,
          34.7,
          34.8,
          34.9,
          35,
          35.1,
          34.4,
          34.6,
          34.2,
          34.5,
          33.9,
          null,
          null,
          34.8,
          34.5,
          32.4,
          33.7,
          34.9,
          35.7,
          36.1,
          36.4,
          36.5,
          36.4,
          36.3,
          36.2,
          36.1,
          36,
          35.9,
          36,
          35.7,
          35,
          34.7,
          34.5,
          34.8,
          35.1,
          35.3,
          35.1,
          35,
          null,
          34.8,
          34.6,
          34.7,
          34.8,
          34.5,
          35,
          35.3,
          35.5,
          35.4,
          35.3,
          34.7,
          32.9,
          34.1,
          34.7,
          35,
          35.2,
          34.8,
          34.7,
          23.1,
          23.7,
          27,
          30.7,
          32.7,
          24.3,
          29.5,
          32.1,
          33.3,
          34.3,
          33.6,
          34.7,
          34.9,
          35.1,
          26.8,
          30.5,
          32.2,
          33.3,
          31.1,
          23.3,
          28.6,
          31.6,
          33.3,
          34.1,
          34.2,
          33.4,
          34.2,
          34.8,
          34.4,
          34.7,
          23.6,
          25,
          29.7,
          32,
          33.5,
          34.1,
          34.4,
          34.3,
          34.7,
          35.1,
          34.8,
          34.5,
          24.8,
          29.4,
          32.1,
          33.5,
          33.9,
          34.4,
          34.7,
          34.3,
          34.5,
          34,
          34.2,
          22.2,
          28,
          31.3,
          32.4,
          33.4,
          34.2,
          34.4,
          33.4,
          34.6,
          31.3,
          33,
          22.8,
          26.2,
          30.2,
          32.2,
          32.6,
          33.9,
          34.5,
          34.4,
          34.5,
          33.7,
          34.3,
          25.8,
          30.2,
          32.4,
          33,
          33.8,
          34.2,
          34.3,
          34.7,
          34,
          33.5,
          33,
          34.2,
          32.9,
          33.7,
          34.8,
          35.7,
          36.3,
          36.7,
          37,
          37.2,
          37.4,
          35.6,
          35.3,
          35.2,
          33.8,
          34.7,
          34.9,
          34.6,
          34.9,
          35,
          27,
          30.8,
          32.8,
          32.5,
          34.2,
          34.6,
          34.5,
          35.1,
          35.2,
          34.8,
          25.1,
          29.7,
          32,
          33.4,
          33.5,
          33.9,
          34,
          34.1,
          34.6,
          24.6,
          29.5,
          32.4,
          33.8,
          32.1,
          33.7,
          33.6,
          33.8,
          35,
          34.9,
          35.3,
          23.1,
          28.7,
          31.6,
          33.3,
          34.1,
          34.3,
          32.3,
          33.2,
          28.7,
          32,
          null,
          33.9,
          34.6,
          34.8,
          35.2,
          35.5,
          24.2,
          29.1,
          32.2,
          33.7,
          34.2,
          null,
          35,
          34.4,
          34.3,
          34.5,
          34.1,
          22.7,
          28.2,
          31.5,
          33.3,
          34,
          33.6,
          34.5,
          34.4,
          34.5,
          22.7,
          28.3,
          31.5,
          32.9,
          33.7,
          34.3,
          null,
          null,
          22.9,
          28.2,
          31.4,
          32.7,
          33.6,
          34.2,
          34.1,
          34.6,
          34.2,
          34.5,
          34.1,
          23,
          28.7,
          31.8,
          33.2,
          33.8,
          34,
          29.6,
          30.3,
          32.5,
          33.2,
          33.8,
          34.4,
          34.6,
          34.9,
          35.6,
          36.2,
          36.6,
          36.7,
          37,
          37.2,
          37.1,
          35.4,
          35.2,
          35.1,
          34.1,
          34.6,
          34.1,
          34.3,
          34.5,
          34.2,
          34.7,
          34.2,
          22.5,
          28.2,
          31.2,
          32.8,
          33.4,
          32.4,
          33.2,
          34.2,
          34.5,
          22.4,
          28.2,
          31.4,
          33,
          33.4,
          33.7,
          33.6,
          34.3,
          34.4,
          22.9,
          28.5,
          31.8,
          33.5,
          34.1,
          34.5,
          34.8,
          34.6,
          34.8,
          22.7,
          28.6,
          31.8,
          24.5,
          29.4,
          30.9,
          32.8,
          34.1,
          34.4,
          32.6,
          32.5,
          33,
          33.6,
          29.5,
          25.4,
          29.4,
          32.2,
          33,
          33.5,
          34.2,
          34,
          34.3,
          34.6,
          34.2,
          32.2,
          33.8,
          34.5,
          35.2,
          34.8,
          null,
          35.2,
          34.2,
          35.4,
          34.7,
          34.5,
          34.8,
          35.2,
          35,
          34.9,
          35.9,
          37,
          37.8,
          38.4,
          38.8,
          39.1,
          39.4,
          37.8,
          36.6,
          35.6,
          35.2,
          35.6,
          35.4,
          35.6,
          35.1,
          35.4,
          35.2,
          34.9,
          35.3,
          35.5,
          35.4,
          35.3,
          null,
          36.1,
          36.9,
          37.5,
          37.8,
          38.1,
          38.3,
          38.4,
          38.2,
          36.2,
          35.8,
          35.5,
          35.4,
          35.3,
          34.4,
          33.4,
          33,
          31.9,
          32,
          32.4,
          32.8,
          32.5,
          32.2,
          null,
          22.7,
          31.7,
          32.2,
          26.5,
          29.8,
          32.3,
          33.2,
          33.8,
          34.8,
          32.8,
          33.1,
          32.8,
          33,
          33.2,
          33,
          22.2,
          23.2,
          24.9,
          27.5,
          28.7,
          31.7,
          32,
          32.5,
          32.3,
          29.7,
          30.7,
          31.7,
          33.7,
          33.4,
          33.6,
          33.1,
          32.9,
          34.2,
          22.6,
          28.6,
          31.1,
          32.3,
          32.4,
          null,
          32.8,
          32.9,
          23.3,
          26.2,
          30.3,
          32.6,
          33.8,
          34.1,
          26.8,
          30.9,
          33,
          32.7,
          22.7,
          28.3,
          29.9,
          32.4,
          33.6,
          null,
          34.3,
          33.9,
          34.6,
          23.3,
          28.7,
          31.8,
          32.7,
          33.4,
          34,
          33.8,
          34.5,
          34,
          32.9,
          34.1,
          34.7,
          35.3,
          23.2,
          28.8,
          32,
          33,
          34.1,
          34.6,
          31.4,
          29.6,
          31.8,
          32.8,
          33.8,
          34.1,
          34,
          34.5,
          34.6,
          34.5,
          34.8,
          35.8,
          36.6,
          37.2,
          37.7,
          37.9,
          38.2,
          38.3,
          35.7,
          35.5,
          34,
          null,
          34.7,
          34.3,
          34.6,
          34.7,
          34.5,
          34.7,
          34.2,
          34.9,
          22.3,
          27.9,
          31,
          32.8,
          33.2,
          34,
          34.4,
          34.8,
          35,
          35.2,
          32.6,
          34,
          33.9,
          34.2,
          34.4,
          34,
          34.3,
          22.5,
          28.4,
          31.6,
          32.8,
          33.5,
          34.3,
          34.5,
          23.5,
          31.4,
          32.9,
          23.2,
          28.5,
          31.8,
          33,
          33.8,
          34.9,
          34.8,
          23.3,
          29.7,
          30.6,
          33,
          33.6,
          34,
          33.5,
          33.4,
          34.1,
          23,
          28.6,
          31.7,
          33,
          32.7,
          34.2,
          34.5,
          22.9,
          25.5,
          25.8,
          30.2,
          32.1,
          33.1,
          34,
          34.1,
          34.4,
          27.4,
          31.1,
          32.5,
          33.5,
          34.2,
          30.6,
          24.8,
          29.3,
          32.3,
          33.4,
          34.2,
          34.6,
          35,
          34.7,
          22.7,
          28.5,
          31.3,
          32.6,
          33.5,
          34.1,
          22.2,
          28.3,
          31.4,
          32.6,
          32,
          22.7,
          33.6,
          34.1,
          34,
          34.3,
          34.7,
          null,
          null,
          35.3,
          35.2,
          35.8,
          36.4,
          36.8,
          37.1,
          37.3,
          37.5,
          37.1,
          36.2,
          35.7,
          36,
          35.2,
          35.2,
          34.7,
          34.9,
          34.6,
          34.3,
          34.6,
          22.3,
          31.6,
          35.5,
          35.1,
          35.7,
          35.9,
          35.8,
          35.6,
          35.5,
          35.4,
          35.5,
          34.4,
          34.6,
          36,
          36.5,
          36.8,
          35.8,
          34.9,
          35.3,
          35.8,
          36.1,
          36.4,
          36.5,
          36.7,
          36.8,
          35.5,
          35.6,
          35.4,
          31.6,
          32.8,
          33.7,
          34.3,
          32.5,
          33.5,
          34.4,
          34.1,
          34.3,
          34.6,
          34.5,
          35,
          34.8,
          35.1,
          35.2,
          34.2,
          34.5,
          34.4,
          34.1,
          34.5,
          34.2,
          34.3,
          34.1,
          34.5,
          34.3,
          34.5,
          34.6,
          34.7,
          34.3,
          34.2,
          34.6,
          34.4,
          34.2,
          34.4,
          34.3,
          34.1,
          34.4,
          34.2,
          34.6,
          34.8,
          35.1,
          35.2,
          35.4,
          35.6,
          35.8,
          35,
          35.1,
          36.4,
          36.5,
          36.1,
          35.3,
          35.1,
          35,
          22.1,
          34.4,
          34.3,
          34.5,
          34.3,
          34.4,
          29.2,
          32,
          32.9,
          33.5,
          33.8,
          null,
          null,
          33.9,
          34.4,
          34.3,
          34,
          34.1,
          34.4,
          21.7
         ],
         "yaxis": "y"
        },
        {
         "hovertemplate": "variable=cooling_temperature<br>index=%{x}<br>value=%{y}<extra></extra>",
         "legendgroup": "cooling_temperature",
         "line": {
          "color": "#EF553B",
          "dash": "solid"
         },
         "mode": "lines",
         "name": "cooling_temperature",
         "showlegend": true,
         "type": "scattergl",
         "x": [
          0,
          1,
          2,
          3,
          4,
          5,
          6,
          7,
          8,
          9,
          10,
          11,
          12,
          13,
          14,
          15,
          16,
          17,
          18,
          19,
          20,
          21,
          22,
          23,
          24,
          25,
          26,
          27,
          28,
          29,
          30,
          31,
          32,
          33,
          34,
          35,
          36,
          37,
          38,
          39,
          40,
          41,
          42,
          43,
          44,
          45,
          46,
          47,
          48,
          49,
          50,
          51,
          52,
          53,
          54,
          55,
          56,
          57,
          58,
          59,
          60,
          61,
          62,
          63,
          64,
          65,
          66,
          67,
          68,
          69,
          70,
          71,
          72,
          73,
          74,
          75,
          76,
          77,
          78,
          79,
          80,
          81,
          82,
          83,
          84,
          85,
          86,
          87,
          88,
          89,
          90,
          91,
          92,
          93,
          94,
          95,
          96,
          97,
          98,
          99,
          100,
          101,
          102,
          103,
          104,
          105,
          106,
          107,
          108,
          109,
          110,
          111,
          112,
          113,
          114,
          115,
          116,
          117,
          118,
          119,
          120,
          121,
          122,
          123,
          124,
          125,
          126,
          127,
          128,
          129,
          130,
          131,
          132,
          133,
          134,
          135,
          136,
          137,
          138,
          139,
          140,
          141,
          142,
          143,
          144,
          145,
          146,
          147,
          148,
          149,
          150,
          151,
          152,
          153,
          154,
          155,
          156,
          157,
          158,
          159,
          160,
          161,
          162,
          163,
          164,
          165,
          166,
          167,
          168,
          169,
          170,
          171,
          172,
          173,
          174,
          175,
          176,
          177,
          178,
          179,
          180,
          181,
          182,
          183,
          184,
          185,
          186,
          187,
          188,
          189,
          190,
          191,
          192,
          193,
          194,
          195,
          196,
          197,
          198,
          199,
          200,
          201,
          202,
          203,
          204,
          205,
          206,
          207,
          208,
          209,
          210,
          211,
          212,
          213,
          214,
          215,
          216,
          217,
          218,
          219,
          220,
          221,
          222,
          223,
          224,
          225,
          226,
          227,
          228,
          229,
          230,
          231,
          232,
          233,
          234,
          235,
          236,
          237,
          238,
          239,
          240,
          241,
          242,
          243,
          244,
          245,
          246,
          247,
          248,
          249,
          250,
          251,
          252,
          253,
          254,
          255,
          256,
          257,
          258,
          259,
          260,
          261,
          262,
          263,
          264,
          265,
          266,
          267,
          268,
          269,
          270,
          271,
          272,
          273,
          274,
          275,
          276,
          277,
          278,
          279,
          280,
          281,
          282,
          283,
          284,
          285,
          286,
          287,
          288,
          289,
          290,
          291,
          292,
          293,
          294,
          295,
          296,
          297,
          298,
          299,
          300,
          301,
          302,
          303,
          304,
          305,
          306,
          307,
          308,
          309,
          310,
          311,
          312,
          313,
          314,
          315,
          316,
          317,
          318,
          319,
          320,
          321,
          322,
          323,
          324,
          325,
          326,
          327,
          328,
          329,
          330,
          331,
          332,
          333,
          334,
          335,
          336,
          337,
          338,
          339,
          340,
          341,
          342,
          343,
          344,
          345,
          346,
          347,
          348,
          349,
          350,
          351,
          352,
          353,
          354,
          355,
          356,
          357,
          358,
          359,
          360,
          361,
          362,
          363,
          364,
          365,
          366,
          367,
          368,
          369,
          370,
          371,
          372,
          373,
          374,
          375,
          376,
          377,
          378,
          379,
          380,
          381,
          382,
          383,
          384,
          385,
          386,
          387,
          388,
          389,
          390,
          391,
          392,
          393,
          394,
          395,
          396,
          397,
          398,
          399,
          400,
          401,
          402,
          403,
          404,
          405,
          406,
          407,
          408,
          409,
          410,
          411,
          412,
          413,
          414,
          415,
          416,
          417,
          418,
          419,
          420,
          421,
          422,
          423,
          424,
          425,
          426,
          427,
          428,
          429,
          430,
          431,
          432,
          433,
          434,
          435,
          436,
          437,
          438,
          439,
          440,
          441,
          442,
          443,
          444,
          445,
          446,
          447,
          448,
          449,
          450,
          451,
          452,
          453,
          454,
          455,
          456,
          457,
          458,
          459,
          460,
          461,
          462,
          463,
          464,
          465,
          466,
          467,
          468,
          469,
          470,
          471,
          472,
          473,
          474,
          475,
          476,
          477,
          478,
          479,
          480,
          481,
          482,
          483,
          484,
          485,
          486,
          487,
          488,
          489,
          490,
          491,
          492,
          493,
          494,
          495,
          496,
          497,
          498,
          499,
          500,
          501,
          502,
          503,
          504,
          505,
          506,
          507,
          508,
          509,
          510,
          511,
          512,
          513,
          514,
          515,
          516,
          517,
          518,
          519,
          520,
          521,
          522,
          523,
          524,
          525,
          526,
          527,
          528,
          529,
          530,
          531,
          532,
          533,
          534,
          535,
          536,
          537,
          538,
          539,
          540,
          541,
          542,
          543,
          544,
          545,
          546,
          547,
          548,
          549,
          550,
          551,
          552,
          553,
          554,
          555,
          556,
          557,
          558,
          559,
          560,
          561,
          562,
          563,
          564,
          565,
          566,
          567,
          568,
          569,
          570,
          571,
          572,
          573,
          574,
          575,
          576,
          577,
          578,
          579,
          580,
          581,
          582,
          583,
          584,
          585,
          586,
          587,
          588,
          589,
          590,
          591,
          592,
          593,
          594,
          595,
          596,
          597,
          598,
          599,
          600,
          601,
          602,
          603,
          604,
          605,
          606,
          607,
          608,
          609,
          610,
          611,
          612,
          613,
          614,
          615,
          616,
          617,
          618,
          619,
          620,
          621,
          622,
          623,
          624,
          625,
          626,
          627,
          628,
          629,
          630,
          631,
          632,
          633,
          634,
          635,
          636,
          637,
          638,
          639,
          640,
          641,
          642,
          643,
          644,
          645,
          646,
          647,
          648,
          649,
          650,
          651,
          652,
          653,
          654,
          655,
          656,
          657,
          658,
          659,
          660,
          661,
          662,
          663,
          664,
          665,
          666,
          667,
          668,
          669,
          670,
          671,
          672,
          673,
          674,
          675,
          676,
          677,
          678,
          679,
          680,
          681,
          682,
          683,
          684,
          685,
          686,
          687,
          688,
          689,
          690,
          691,
          692,
          693,
          694,
          695,
          696,
          697,
          698,
          699,
          700,
          701,
          702,
          703,
          704,
          705,
          706,
          707,
          708,
          709,
          710,
          711,
          712,
          713,
          714,
          715
         ],
         "xaxis": "x",
         "y": [
          15,
          null,
          null,
          null,
          null,
          null,
          null,
          null,
          null,
          null,
          null,
          null,
          20.9,
          20.4,
          32.3,
          32.4,
          31.7,
          15,
          17,
          31.6,
          15,
          null,
          null,
          15.1,
          15,
          null,
          null,
          null,
          null,
          null,
          null,
          null,
          null,
          null,
          null,
          null,
          19.7,
          15,
          null,
          null,
          null,
          null,
          14.9,
          15,
          null,
          null,
          null,
          null,
          null,
          null,
          null,
          null,
          null,
          null,
          31.8,
          15,
          null,
          null,
          null,
          null,
          null,
          21.6,
          21.1,
          26,
          15,
          null,
          23.1,
          15,
          null,
          null,
          null,
          32,
          15,
          15.1,
          15,
          25.8,
          15,
          15.1,
          15,
          30.1,
          22.2,
          15,
          null,
          null,
          null,
          null,
          32.3,
          15,
          null,
          23.8,
          15,
          22.4,
          24,
          15,
          null,
          null,
          null,
          null,
          null,
          null,
          null,
          null,
          null,
          23.6,
          15,
          null,
          null,
          null,
          null,
          null,
          null,
          null,
          null,
          null,
          20.9,
          15,
          null,
          null,
          null,
          null,
          null,
          31.9,
          15,
          30.3,
          15,
          21.5,
          20.9,
          15.1,
          15,
          31,
          15,
          null,
          null,
          null,
          32.2,
          15,
          24.6,
          15,
          null,
          null,
          null,
          null,
          null,
          null,
          32.6,
          32.3,
          31.4,
          15,
          31.9,
          15,
          null,
          null,
          null,
          null,
          null,
          null,
          null,
          null,
          null,
          null,
          32.4,
          15,
          null,
          null,
          null,
          null,
          25.9,
          15,
          null,
          31,
          15,
          null,
          null,
          null,
          null,
          null,
          24.1,
          15,
          null,
          null,
          null,
          null,
          15.1,
          15,
          null,
          23.2,
          15.1,
          15,
          null,
          31.2,
          15,
          19.5,
          20.6,
          15,
          null,
          null,
          22.1,
          15,
          null,
          15.1,
          15,
          null,
          31.5,
          32.3,
          15,
          null,
          29,
          15,
          null,
          null,
          null,
          null,
          23.2,
          15,
          null,
          null,
          null,
          22.1,
          15,
          null,
          null,
          null,
          null,
          21.6,
          15,
          15.1,
          15,
          null,
          26,
          15,
          15.1,
          15,
          21.7,
          15,
          null,
          15.1,
          15,
          null,
          15.1,
          15,
          21.5,
          15,
          null,
          null,
          null,
          null,
          15.1,
          15,
          null,
          null,
          null,
          21.6,
          15,
          null,
          null,
          null,
          null,
          28.8,
          21.4,
          15,
          null,
          null,
          null,
          null,
          null,
          null,
          null,
          null,
          null,
          null,
          null,
          null,
          null,
          null,
          null,
          null,
          null,
          null,
          null,
          null,
          null,
          null,
          null,
          21.2,
          15,
          null,
          null,
          null,
          31.4,
          15,
          null,
          null,
          21.2,
          15,
          null,
          null,
          null,
          null,
          20.8,
          15,
          null,
          21.6,
          15,
          null,
          null,
          null,
          null,
          null,
          null,
          null,
          21.5,
          15,
          15.1,
          23.5,
          15,
          29.8,
          15,
          null,
          null,
          31.4,
          15,
          null,
          null,
          28.5,
          24.2,
          15,
          null,
          null,
          null,
          null,
          null,
          null,
          null,
          23.3,
          31.4,
          15,
          null,
          null,
          null,
          25.3,
          15,
          33.1,
          15,
          null,
          null,
          null,
          null,
          15.1,
          15,
          null,
          null,
          null,
          null,
          null,
          null,
          null,
          null,
          null,
          null,
          25.8,
          15,
          null,
          null,
          null,
          null,
          null,
          null,
          null,
          null,
          null,
          15.1,
          15,
          null,
          null,
          null,
          null,
          null,
          null,
          null,
          null,
          null,
          null,
          21.3,
          15,
          null,
          33.2,
          32.6,
          32.1,
          30.8,
          null,
          25.1,
          19.9,
          31.4,
          31.2,
          31.1,
          21.5,
          30.7,
          31.2,
          25.5,
          28.8,
          15,
          null,
          null,
          null,
          31.8,
          32.1,
          31.8,
          32,
          32.2,
          32.1,
          21.2,
          20.9,
          24.2,
          26.7,
          21.3,
          15,
          29.9,
          31.4,
          null,
          29.1,
          27.8,
          25.5,
          15,
          20,
          31.4,
          32,
          32.1,
          15,
          21.7,
          15.1,
          30.2,
          31.5,
          null,
          30.3,
          31.4,
          31.8,
          22.3,
          23.1,
          15,
          null,
          null,
          null,
          25.9,
          15,
          null,
          24.7,
          21.8,
          15,
          29.2,
          15.1,
          15,
          32.5,
          20.3,
          29.2,
          15,
          22.5,
          15,
          null,
          null,
          null,
          null,
          null,
          null,
          null,
          32,
          15,
          null,
          null,
          22.3,
          15.1,
          null,
          15,
          null,
          null,
          30.6,
          28.9,
          15,
          null,
          null,
          null,
          null,
          null,
          null,
          null,
          null,
          null,
          null,
          null,
          null,
          null,
          null,
          null,
          null,
          null,
          33,
          30.8,
          14.9,
          15,
          null,
          15.1,
          15,
          null,
          33,
          15,
          21.2,
          15.1,
          15,
          null,
          null,
          null,
          null,
          null,
          null,
          null,
          31.8,
          15,
          null,
          null,
          null,
          null,
          null,
          21.3,
          15,
          15.1,
          null,
          15,
          null,
          null,
          22.4,
          30.6,
          15,
          22.1,
          15,
          15.1,
          15,
          null,
          null,
          null,
          22.2,
          28.8,
          22.1,
          15,
          null,
          null,
          32.6,
          32.4,
          15,
          21.9,
          15,
          null,
          null,
          31.3,
          15,
          null,
          21.8,
          21.2,
          24.8,
          15,
          null,
          null,
          null,
          null,
          null,
          26.5,
          15,
          null,
          null,
          null,
          29.8,
          23.9,
          15,
          null,
          19.6,
          15,
          null,
          null,
          null,
          21.6,
          15,
          null,
          null,
          null,
          null,
          21.1,
          15,
          null,
          null,
          31.1,
          21.6,
          15,
          null,
          null,
          null,
          null,
          15.1,
          15,
          null,
          null,
          null,
          null,
          null,
          null,
          null,
          null,
          null,
          null,
          null,
          null,
          null,
          null,
          null,
          null,
          null,
          null,
          null,
          21.2,
          30.8,
          null,
          23.9,
          15,
          null,
          null,
          null,
          null,
          null,
          null,
          33.4,
          33.6,
          15,
          null,
          null,
          null,
          null,
          null,
          null,
          null,
          null,
          null,
          null,
          null,
          null,
          null,
          null,
          15,
          null,
          null,
          null,
          15,
          null,
          null,
          null,
          14.9,
          15,
          null,
          null,
          null,
          null,
          null,
          null,
          null,
          null,
          null,
          null,
          null,
          null,
          null,
          null,
          null,
          null,
          null,
          null,
          null,
          null,
          null,
          null,
          null,
          null,
          null,
          null,
          null,
          null,
          null,
          null,
          null,
          null,
          null,
          null,
          null,
          null,
          null,
          null,
          null,
          null,
          null,
          null,
          null,
          21,
          null,
          null,
          null,
          null,
          null,
          28.5,
          15,
          null,
          null,
          18.9,
          15,
          19.5,
          15,
          null,
          null,
          null,
          null,
          null,
          20.6
         ],
         "yaxis": "y"
        }
       ],
       "layout": {
        "legend": {
         "title": {
          "text": "variable"
         },
         "tracegroupgap": 0
        },
        "margin": {
         "t": 60
        },
        "template": {
         "data": {
          "bar": [
           {
            "error_x": {
             "color": "#2a3f5f"
            },
            "error_y": {
             "color": "#2a3f5f"
            },
            "marker": {
             "line": {
              "color": "#E5ECF6",
              "width": 0.5
             },
             "pattern": {
              "fillmode": "overlay",
              "size": 10,
              "solidity": 0.2
             }
            },
            "type": "bar"
           }
          ],
          "barpolar": [
           {
            "marker": {
             "line": {
              "color": "#E5ECF6",
              "width": 0.5
             },
             "pattern": {
              "fillmode": "overlay",
              "size": 10,
              "solidity": 0.2
             }
            },
            "type": "barpolar"
           }
          ],
          "carpet": [
           {
            "aaxis": {
             "endlinecolor": "#2a3f5f",
             "gridcolor": "white",
             "linecolor": "white",
             "minorgridcolor": "white",
             "startlinecolor": "#2a3f5f"
            },
            "baxis": {
             "endlinecolor": "#2a3f5f",
             "gridcolor": "white",
             "linecolor": "white",
             "minorgridcolor": "white",
             "startlinecolor": "#2a3f5f"
            },
            "type": "carpet"
           }
          ],
          "choropleth": [
           {
            "colorbar": {
             "outlinewidth": 0,
             "ticks": ""
            },
            "type": "choropleth"
           }
          ],
          "contour": [
           {
            "colorbar": {
             "outlinewidth": 0,
             "ticks": ""
            },
            "colorscale": [
             [
              0,
              "#0d0887"
             ],
             [
              0.1111111111111111,
              "#46039f"
             ],
             [
              0.2222222222222222,
              "#7201a8"
             ],
             [
              0.3333333333333333,
              "#9c179e"
             ],
             [
              0.4444444444444444,
              "#bd3786"
             ],
             [
              0.5555555555555556,
              "#d8576b"
             ],
             [
              0.6666666666666666,
              "#ed7953"
             ],
             [
              0.7777777777777778,
              "#fb9f3a"
             ],
             [
              0.8888888888888888,
              "#fdca26"
             ],
             [
              1,
              "#f0f921"
             ]
            ],
            "type": "contour"
           }
          ],
          "contourcarpet": [
           {
            "colorbar": {
             "outlinewidth": 0,
             "ticks": ""
            },
            "type": "contourcarpet"
           }
          ],
          "heatmap": [
           {
            "colorbar": {
             "outlinewidth": 0,
             "ticks": ""
            },
            "colorscale": [
             [
              0,
              "#0d0887"
             ],
             [
              0.1111111111111111,
              "#46039f"
             ],
             [
              0.2222222222222222,
              "#7201a8"
             ],
             [
              0.3333333333333333,
              "#9c179e"
             ],
             [
              0.4444444444444444,
              "#bd3786"
             ],
             [
              0.5555555555555556,
              "#d8576b"
             ],
             [
              0.6666666666666666,
              "#ed7953"
             ],
             [
              0.7777777777777778,
              "#fb9f3a"
             ],
             [
              0.8888888888888888,
              "#fdca26"
             ],
             [
              1,
              "#f0f921"
             ]
            ],
            "type": "heatmap"
           }
          ],
          "heatmapgl": [
           {
            "colorbar": {
             "outlinewidth": 0,
             "ticks": ""
            },
            "colorscale": [
             [
              0,
              "#0d0887"
             ],
             [
              0.1111111111111111,
              "#46039f"
             ],
             [
              0.2222222222222222,
              "#7201a8"
             ],
             [
              0.3333333333333333,
              "#9c179e"
             ],
             [
              0.4444444444444444,
              "#bd3786"
             ],
             [
              0.5555555555555556,
              "#d8576b"
             ],
             [
              0.6666666666666666,
              "#ed7953"
             ],
             [
              0.7777777777777778,
              "#fb9f3a"
             ],
             [
              0.8888888888888888,
              "#fdca26"
             ],
             [
              1,
              "#f0f921"
             ]
            ],
            "type": "heatmapgl"
           }
          ],
          "histogram": [
           {
            "marker": {
             "pattern": {
              "fillmode": "overlay",
              "size": 10,
              "solidity": 0.2
             }
            },
            "type": "histogram"
           }
          ],
          "histogram2d": [
           {
            "colorbar": {
             "outlinewidth": 0,
             "ticks": ""
            },
            "colorscale": [
             [
              0,
              "#0d0887"
             ],
             [
              0.1111111111111111,
              "#46039f"
             ],
             [
              0.2222222222222222,
              "#7201a8"
             ],
             [
              0.3333333333333333,
              "#9c179e"
             ],
             [
              0.4444444444444444,
              "#bd3786"
             ],
             [
              0.5555555555555556,
              "#d8576b"
             ],
             [
              0.6666666666666666,
              "#ed7953"
             ],
             [
              0.7777777777777778,
              "#fb9f3a"
             ],
             [
              0.8888888888888888,
              "#fdca26"
             ],
             [
              1,
              "#f0f921"
             ]
            ],
            "type": "histogram2d"
           }
          ],
          "histogram2dcontour": [
           {
            "colorbar": {
             "outlinewidth": 0,
             "ticks": ""
            },
            "colorscale": [
             [
              0,
              "#0d0887"
             ],
             [
              0.1111111111111111,
              "#46039f"
             ],
             [
              0.2222222222222222,
              "#7201a8"
             ],
             [
              0.3333333333333333,
              "#9c179e"
             ],
             [
              0.4444444444444444,
              "#bd3786"
             ],
             [
              0.5555555555555556,
              "#d8576b"
             ],
             [
              0.6666666666666666,
              "#ed7953"
             ],
             [
              0.7777777777777778,
              "#fb9f3a"
             ],
             [
              0.8888888888888888,
              "#fdca26"
             ],
             [
              1,
              "#f0f921"
             ]
            ],
            "type": "histogram2dcontour"
           }
          ],
          "mesh3d": [
           {
            "colorbar": {
             "outlinewidth": 0,
             "ticks": ""
            },
            "type": "mesh3d"
           }
          ],
          "parcoords": [
           {
            "line": {
             "colorbar": {
              "outlinewidth": 0,
              "ticks": ""
             }
            },
            "type": "parcoords"
           }
          ],
          "pie": [
           {
            "automargin": true,
            "type": "pie"
           }
          ],
          "scatter": [
           {
            "marker": {
             "colorbar": {
              "outlinewidth": 0,
              "ticks": ""
             }
            },
            "type": "scatter"
           }
          ],
          "scatter3d": [
           {
            "line": {
             "colorbar": {
              "outlinewidth": 0,
              "ticks": ""
             }
            },
            "marker": {
             "colorbar": {
              "outlinewidth": 0,
              "ticks": ""
             }
            },
            "type": "scatter3d"
           }
          ],
          "scattercarpet": [
           {
            "marker": {
             "colorbar": {
              "outlinewidth": 0,
              "ticks": ""
             }
            },
            "type": "scattercarpet"
           }
          ],
          "scattergeo": [
           {
            "marker": {
             "colorbar": {
              "outlinewidth": 0,
              "ticks": ""
             }
            },
            "type": "scattergeo"
           }
          ],
          "scattergl": [
           {
            "marker": {
             "colorbar": {
              "outlinewidth": 0,
              "ticks": ""
             }
            },
            "type": "scattergl"
           }
          ],
          "scattermapbox": [
           {
            "marker": {
             "colorbar": {
              "outlinewidth": 0,
              "ticks": ""
             }
            },
            "type": "scattermapbox"
           }
          ],
          "scatterpolar": [
           {
            "marker": {
             "colorbar": {
              "outlinewidth": 0,
              "ticks": ""
             }
            },
            "type": "scatterpolar"
           }
          ],
          "scatterpolargl": [
           {
            "marker": {
             "colorbar": {
              "outlinewidth": 0,
              "ticks": ""
             }
            },
            "type": "scatterpolargl"
           }
          ],
          "scatterternary": [
           {
            "marker": {
             "colorbar": {
              "outlinewidth": 0,
              "ticks": ""
             }
            },
            "type": "scatterternary"
           }
          ],
          "surface": [
           {
            "colorbar": {
             "outlinewidth": 0,
             "ticks": ""
            },
            "colorscale": [
             [
              0,
              "#0d0887"
             ],
             [
              0.1111111111111111,
              "#46039f"
             ],
             [
              0.2222222222222222,
              "#7201a8"
             ],
             [
              0.3333333333333333,
              "#9c179e"
             ],
             [
              0.4444444444444444,
              "#bd3786"
             ],
             [
              0.5555555555555556,
              "#d8576b"
             ],
             [
              0.6666666666666666,
              "#ed7953"
             ],
             [
              0.7777777777777778,
              "#fb9f3a"
             ],
             [
              0.8888888888888888,
              "#fdca26"
             ],
             [
              1,
              "#f0f921"
             ]
            ],
            "type": "surface"
           }
          ],
          "table": [
           {
            "cells": {
             "fill": {
              "color": "#EBF0F8"
             },
             "line": {
              "color": "white"
             }
            },
            "header": {
             "fill": {
              "color": "#C8D4E3"
             },
             "line": {
              "color": "white"
             }
            },
            "type": "table"
           }
          ]
         },
         "layout": {
          "annotationdefaults": {
           "arrowcolor": "#2a3f5f",
           "arrowhead": 0,
           "arrowwidth": 1
          },
          "autotypenumbers": "strict",
          "coloraxis": {
           "colorbar": {
            "outlinewidth": 0,
            "ticks": ""
           }
          },
          "colorscale": {
           "diverging": [
            [
             0,
             "#8e0152"
            ],
            [
             0.1,
             "#c51b7d"
            ],
            [
             0.2,
             "#de77ae"
            ],
            [
             0.3,
             "#f1b6da"
            ],
            [
             0.4,
             "#fde0ef"
            ],
            [
             0.5,
             "#f7f7f7"
            ],
            [
             0.6,
             "#e6f5d0"
            ],
            [
             0.7,
             "#b8e186"
            ],
            [
             0.8,
             "#7fbc41"
            ],
            [
             0.9,
             "#4d9221"
            ],
            [
             1,
             "#276419"
            ]
           ],
           "sequential": [
            [
             0,
             "#0d0887"
            ],
            [
             0.1111111111111111,
             "#46039f"
            ],
            [
             0.2222222222222222,
             "#7201a8"
            ],
            [
             0.3333333333333333,
             "#9c179e"
            ],
            [
             0.4444444444444444,
             "#bd3786"
            ],
            [
             0.5555555555555556,
             "#d8576b"
            ],
            [
             0.6666666666666666,
             "#ed7953"
            ],
            [
             0.7777777777777778,
             "#fb9f3a"
            ],
            [
             0.8888888888888888,
             "#fdca26"
            ],
            [
             1,
             "#f0f921"
            ]
           ],
           "sequentialminus": [
            [
             0,
             "#0d0887"
            ],
            [
             0.1111111111111111,
             "#46039f"
            ],
            [
             0.2222222222222222,
             "#7201a8"
            ],
            [
             0.3333333333333333,
             "#9c179e"
            ],
            [
             0.4444444444444444,
             "#bd3786"
            ],
            [
             0.5555555555555556,
             "#d8576b"
            ],
            [
             0.6666666666666666,
             "#ed7953"
            ],
            [
             0.7777777777777778,
             "#fb9f3a"
            ],
            [
             0.8888888888888888,
             "#fdca26"
            ],
            [
             1,
             "#f0f921"
            ]
           ]
          },
          "colorway": [
           "#636efa",
           "#EF553B",
           "#00cc96",
           "#ab63fa",
           "#FFA15A",
           "#19d3f3",
           "#FF6692",
           "#B6E880",
           "#FF97FF",
           "#FECB52"
          ],
          "font": {
           "color": "#2a3f5f"
          },
          "geo": {
           "bgcolor": "white",
           "lakecolor": "white",
           "landcolor": "#E5ECF6",
           "showlakes": true,
           "showland": true,
           "subunitcolor": "white"
          },
          "hoverlabel": {
           "align": "left"
          },
          "hovermode": "closest",
          "mapbox": {
           "style": "light"
          },
          "paper_bgcolor": "white",
          "plot_bgcolor": "#E5ECF6",
          "polar": {
           "angularaxis": {
            "gridcolor": "white",
            "linecolor": "white",
            "ticks": ""
           },
           "bgcolor": "#E5ECF6",
           "radialaxis": {
            "gridcolor": "white",
            "linecolor": "white",
            "ticks": ""
           }
          },
          "scene": {
           "xaxis": {
            "backgroundcolor": "#E5ECF6",
            "gridcolor": "white",
            "gridwidth": 2,
            "linecolor": "white",
            "showbackground": true,
            "ticks": "",
            "zerolinecolor": "white"
           },
           "yaxis": {
            "backgroundcolor": "#E5ECF6",
            "gridcolor": "white",
            "gridwidth": 2,
            "linecolor": "white",
            "showbackground": true,
            "ticks": "",
            "zerolinecolor": "white"
           },
           "zaxis": {
            "backgroundcolor": "#E5ECF6",
            "gridcolor": "white",
            "gridwidth": 2,
            "linecolor": "white",
            "showbackground": true,
            "ticks": "",
            "zerolinecolor": "white"
           }
          },
          "shapedefaults": {
           "line": {
            "color": "#2a3f5f"
           }
          },
          "ternary": {
           "aaxis": {
            "gridcolor": "white",
            "linecolor": "white",
            "ticks": ""
           },
           "baxis": {
            "gridcolor": "white",
            "linecolor": "white",
            "ticks": ""
           },
           "bgcolor": "#E5ECF6",
           "caxis": {
            "gridcolor": "white",
            "linecolor": "white",
            "ticks": ""
           }
          },
          "title": {
           "x": 0.05
          },
          "xaxis": {
           "automargin": true,
           "gridcolor": "white",
           "linecolor": "white",
           "ticks": "",
           "title": {
            "standoff": 15
           },
           "zerolinecolor": "white",
           "zerolinewidth": 2
          },
          "yaxis": {
           "automargin": true,
           "gridcolor": "white",
           "linecolor": "white",
           "ticks": "",
           "title": {
            "standoff": 15
           },
           "zerolinecolor": "white",
           "zerolinewidth": 2
          }
         }
        },
        "xaxis": {
         "anchor": "y",
         "domain": [
          0,
          1
         ],
         "title": {
          "text": "index"
         }
        },
        "yaxis": {
         "anchor": "x",
         "domain": [
          0,
          1
         ],
         "title": {
          "text": "value"
         }
        }
       }
      },
      "text/html": [
       "<div>                            <div id=\"07dca3e6-5c6e-42df-890f-c29330b85a04\" class=\"plotly-graph-div\" style=\"height:525px; width:100%;\"></div>            <script type=\"text/javascript\">                require([\"plotly\"], function(Plotly) {                    window.PLOTLYENV=window.PLOTLYENV || {};                                    if (document.getElementById(\"07dca3e6-5c6e-42df-890f-c29330b85a04\")) {                    Plotly.newPlot(                        \"07dca3e6-5c6e-42df-890f-c29330b85a04\",                        [{\"hovertemplate\":\"variable=heating_temperature<br>index=%{x}<br>value=%{y}<extra></extra>\",\"legendgroup\":\"heating_temperature\",\"line\":{\"color\":\"#636efa\",\"dash\":\"solid\"},\"mode\":\"lines\",\"name\":\"heating_temperature\",\"showlegend\":true,\"type\":\"scattergl\",\"x\":[0,1,2,3,4,5,6,7,8,9,10,11,12,13,14,15,16,17,18,19,20,21,22,23,24,25,26,27,28,29,30,31,32,33,34,35,36,37,38,39,40,41,42,43,44,45,46,47,48,49,50,51,52,53,54,55,56,57,58,59,60,61,62,63,64,65,66,67,68,69,70,71,72,73,74,75,76,77,78,79,80,81,82,83,84,85,86,87,88,89,90,91,92,93,94,95,96,97,98,99,100,101,102,103,104,105,106,107,108,109,110,111,112,113,114,115,116,117,118,119,120,121,122,123,124,125,126,127,128,129,130,131,132,133,134,135,136,137,138,139,140,141,142,143,144,145,146,147,148,149,150,151,152,153,154,155,156,157,158,159,160,161,162,163,164,165,166,167,168,169,170,171,172,173,174,175,176,177,178,179,180,181,182,183,184,185,186,187,188,189,190,191,192,193,194,195,196,197,198,199,200,201,202,203,204,205,206,207,208,209,210,211,212,213,214,215,216,217,218,219,220,221,222,223,224,225,226,227,228,229,230,231,232,233,234,235,236,237,238,239,240,241,242,243,244,245,246,247,248,249,250,251,252,253,254,255,256,257,258,259,260,261,262,263,264,265,266,267,268,269,270,271,272,273,274,275,276,277,278,279,280,281,282,283,284,285,286,287,288,289,290,291,292,293,294,295,296,297,298,299,300,301,302,303,304,305,306,307,308,309,310,311,312,313,314,315,316,317,318,319,320,321,322,323,324,325,326,327,328,329,330,331,332,333,334,335,336,337,338,339,340,341,342,343,344,345,346,347,348,349,350,351,352,353,354,355,356,357,358,359,360,361,362,363,364,365,366,367,368,369,370,371,372,373,374,375,376,377,378,379,380,381,382,383,384,385,386,387,388,389,390,391,392,393,394,395,396,397,398,399,400,401,402,403,404,405,406,407,408,409,410,411,412,413,414,415,416,417,418,419,420,421,422,423,424,425,426,427,428,429,430,431,432,433,434,435,436,437,438,439,440,441,442,443,444,445,446,447,448,449,450,451,452,453,454,455,456,457,458,459,460,461,462,463,464,465,466,467,468,469,470,471,472,473,474,475,476,477,478,479,480,481,482,483,484,485,486,487,488,489,490,491,492,493,494,495,496,497,498,499,500,501,502,503,504,505,506,507,508,509,510,511,512,513,514,515,516,517,518,519,520,521,522,523,524,525,526,527,528,529,530,531,532,533,534,535,536,537,538,539,540,541,542,543,544,545,546,547,548,549,550,551,552,553,554,555,556,557,558,559,560,561,562,563,564,565,566,567,568,569,570,571,572,573,574,575,576,577,578,579,580,581,582,583,584,585,586,587,588,589,590,591,592,593,594,595,596,597,598,599,600,601,602,603,604,605,606,607,608,609,610,611,612,613,614,615,616,617,618,619,620,621,622,623,624,625,626,627,628,629,630,631,632,633,634,635,636,637,638,639,640,641,642,643,644,645,646,647,648,649,650,651,652,653,654,655,656,657,658,659,660,661,662,663,664,665,666,667,668,669,670,671,672,673,674,675,676,677,678,679,680,681,682,683,684,685,686,687,688,689,690,691,692,693,694,695,696,697,698,699,700,701,702,703,704,705,706,707,708,709,710,711,712,713,714,715],\"xaxis\":\"x\",\"y\":[33.3,34.0,33.8,34.2,34.5,34.7,34.8,34.9,35.0,35.1,34.4,34.6,34.2,34.5,33.9,null,null,34.8,34.5,32.4,33.7,34.9,35.7,36.1,36.4,36.5,36.4,36.3,36.2,36.1,36.0,35.9,36.0,35.7,35.0,34.7,34.5,34.8,35.1,35.3,35.1,35.0,null,34.8,34.6,34.7,34.8,34.5,35.0,35.3,35.5,35.4,35.3,34.7,32.9,34.1,34.7,35.0,35.2,34.8,34.7,23.1,23.7,27.0,30.7,32.7,24.3,29.5,32.1,33.3,34.3,33.6,34.7,34.9,35.1,26.8,30.5,32.2,33.3,31.1,23.3,28.6,31.6,33.3,34.1,34.2,33.4,34.2,34.8,34.4,34.7,23.6,25.0,29.7,32.0,33.5,34.1,34.4,34.3,34.7,35.1,34.8,34.5,24.8,29.4,32.1,33.5,33.9,34.4,34.7,34.3,34.5,34.0,34.2,22.2,28.0,31.3,32.4,33.4,34.2,34.4,33.4,34.6,31.3,33.0,22.8,26.2,30.2,32.2,32.6,33.9,34.5,34.4,34.5,33.7,34.3,25.8,30.2,32.4,33.0,33.8,34.2,34.3,34.7,34.0,33.5,33.0,34.2,32.9,33.7,34.8,35.7,36.3,36.7,37.0,37.2,37.4,35.6,35.3,35.2,33.8,34.7,34.9,34.6,34.9,35.0,27.0,30.8,32.8,32.5,34.2,34.6,34.5,35.1,35.2,34.8,25.1,29.7,32.0,33.4,33.5,33.9,34.0,34.1,34.6,24.6,29.5,32.4,33.8,32.1,33.7,33.6,33.8,35.0,34.9,35.3,23.1,28.7,31.6,33.3,34.1,34.3,32.3,33.2,28.7,32.0,null,33.9,34.6,34.8,35.2,35.5,24.2,29.1,32.2,33.7,34.2,null,35.0,34.4,34.3,34.5,34.1,22.7,28.2,31.5,33.3,34.0,33.6,34.5,34.4,34.5,22.7,28.3,31.5,32.9,33.7,34.3,null,null,22.9,28.2,31.4,32.7,33.6,34.2,34.1,34.6,34.2,34.5,34.1,23.0,28.7,31.8,33.2,33.8,34.0,29.6,30.3,32.5,33.2,33.8,34.4,34.6,34.9,35.6,36.2,36.6,36.7,37.0,37.2,37.1,35.4,35.2,35.1,34.1,34.6,34.1,34.3,34.5,34.2,34.7,34.2,22.5,28.2,31.2,32.8,33.4,32.4,33.2,34.2,34.5,22.4,28.2,31.4,33.0,33.4,33.7,33.6,34.3,34.4,22.9,28.5,31.8,33.5,34.1,34.5,34.8,34.6,34.8,22.7,28.6,31.8,24.5,29.4,30.9,32.8,34.1,34.4,32.6,32.5,33.0,33.6,29.5,25.4,29.4,32.2,33.0,33.5,34.2,34.0,34.3,34.6,34.2,32.2,33.8,34.5,35.2,34.8,null,35.2,34.2,35.4,34.7,34.5,34.8,35.2,35.0,34.9,35.9,37.0,37.8,38.4,38.8,39.1,39.4,37.8,36.6,35.6,35.2,35.6,35.4,35.6,35.1,35.4,35.2,34.9,35.3,35.5,35.4,35.3,null,36.1,36.9,37.5,37.8,38.1,38.3,38.4,38.2,36.2,35.8,35.5,35.4,35.3,34.4,33.4,33.0,31.9,32.0,32.4,32.8,32.5,32.2,null,22.7,31.7,32.2,26.5,29.8,32.3,33.2,33.8,34.8,32.8,33.1,32.8,33.0,33.2,33.0,22.2,23.2,24.9,27.5,28.7,31.7,32.0,32.5,32.3,29.7,30.7,31.7,33.7,33.4,33.6,33.1,32.9,34.2,22.6,28.6,31.1,32.3,32.4,null,32.8,32.9,23.3,26.2,30.3,32.6,33.8,34.1,26.8,30.9,33.0,32.7,22.7,28.3,29.9,32.4,33.6,null,34.3,33.9,34.6,23.3,28.7,31.8,32.7,33.4,34.0,33.8,34.5,34.0,32.9,34.1,34.7,35.3,23.2,28.8,32.0,33.0,34.1,34.6,31.4,29.6,31.8,32.8,33.8,34.1,34.0,34.5,34.6,34.5,34.8,35.8,36.6,37.2,37.7,37.9,38.2,38.3,35.7,35.5,34.0,null,34.7,34.3,34.6,34.7,34.5,34.7,34.2,34.9,22.3,27.9,31.0,32.8,33.2,34.0,34.4,34.8,35.0,35.2,32.6,34.0,33.9,34.2,34.4,34.0,34.3,22.5,28.4,31.6,32.8,33.5,34.3,34.5,23.5,31.4,32.9,23.2,28.5,31.8,33.0,33.8,34.9,34.8,23.3,29.7,30.6,33.0,33.6,34.0,33.5,33.4,34.1,23.0,28.6,31.7,33.0,32.7,34.2,34.5,22.9,25.5,25.8,30.2,32.1,33.1,34.0,34.1,34.4,27.4,31.1,32.5,33.5,34.2,30.6,24.8,29.3,32.3,33.4,34.2,34.6,35.0,34.7,22.7,28.5,31.3,32.6,33.5,34.1,22.2,28.3,31.4,32.6,32.0,22.7,33.6,34.1,34.0,34.3,34.7,null,null,35.3,35.2,35.8,36.4,36.8,37.1,37.3,37.5,37.1,36.2,35.7,36.0,35.2,35.2,34.7,34.9,34.6,34.3,34.6,22.3,31.6,35.5,35.1,35.7,35.9,35.8,35.6,35.5,35.4,35.5,34.4,34.6,36.0,36.5,36.8,35.8,34.9,35.3,35.8,36.1,36.4,36.5,36.7,36.8,35.5,35.6,35.4,31.6,32.8,33.7,34.3,32.5,33.5,34.4,34.1,34.3,34.6,34.5,35.0,34.8,35.1,35.2,34.2,34.5,34.4,34.1,34.5,34.2,34.3,34.1,34.5,34.3,34.5,34.6,34.7,34.3,34.2,34.6,34.4,34.2,34.4,34.3,34.1,34.4,34.2,34.6,34.8,35.1,35.2,35.4,35.6,35.8,35.0,35.1,36.4,36.5,36.1,35.3,35.1,35.0,22.1,34.4,34.3,34.5,34.3,34.4,29.2,32.0,32.9,33.5,33.8,null,null,33.9,34.4,34.3,34.0,34.1,34.4,21.7],\"yaxis\":\"y\"},{\"hovertemplate\":\"variable=cooling_temperature<br>index=%{x}<br>value=%{y}<extra></extra>\",\"legendgroup\":\"cooling_temperature\",\"line\":{\"color\":\"#EF553B\",\"dash\":\"solid\"},\"mode\":\"lines\",\"name\":\"cooling_temperature\",\"showlegend\":true,\"type\":\"scattergl\",\"x\":[0,1,2,3,4,5,6,7,8,9,10,11,12,13,14,15,16,17,18,19,20,21,22,23,24,25,26,27,28,29,30,31,32,33,34,35,36,37,38,39,40,41,42,43,44,45,46,47,48,49,50,51,52,53,54,55,56,57,58,59,60,61,62,63,64,65,66,67,68,69,70,71,72,73,74,75,76,77,78,79,80,81,82,83,84,85,86,87,88,89,90,91,92,93,94,95,96,97,98,99,100,101,102,103,104,105,106,107,108,109,110,111,112,113,114,115,116,117,118,119,120,121,122,123,124,125,126,127,128,129,130,131,132,133,134,135,136,137,138,139,140,141,142,143,144,145,146,147,148,149,150,151,152,153,154,155,156,157,158,159,160,161,162,163,164,165,166,167,168,169,170,171,172,173,174,175,176,177,178,179,180,181,182,183,184,185,186,187,188,189,190,191,192,193,194,195,196,197,198,199,200,201,202,203,204,205,206,207,208,209,210,211,212,213,214,215,216,217,218,219,220,221,222,223,224,225,226,227,228,229,230,231,232,233,234,235,236,237,238,239,240,241,242,243,244,245,246,247,248,249,250,251,252,253,254,255,256,257,258,259,260,261,262,263,264,265,266,267,268,269,270,271,272,273,274,275,276,277,278,279,280,281,282,283,284,285,286,287,288,289,290,291,292,293,294,295,296,297,298,299,300,301,302,303,304,305,306,307,308,309,310,311,312,313,314,315,316,317,318,319,320,321,322,323,324,325,326,327,328,329,330,331,332,333,334,335,336,337,338,339,340,341,342,343,344,345,346,347,348,349,350,351,352,353,354,355,356,357,358,359,360,361,362,363,364,365,366,367,368,369,370,371,372,373,374,375,376,377,378,379,380,381,382,383,384,385,386,387,388,389,390,391,392,393,394,395,396,397,398,399,400,401,402,403,404,405,406,407,408,409,410,411,412,413,414,415,416,417,418,419,420,421,422,423,424,425,426,427,428,429,430,431,432,433,434,435,436,437,438,439,440,441,442,443,444,445,446,447,448,449,450,451,452,453,454,455,456,457,458,459,460,461,462,463,464,465,466,467,468,469,470,471,472,473,474,475,476,477,478,479,480,481,482,483,484,485,486,487,488,489,490,491,492,493,494,495,496,497,498,499,500,501,502,503,504,505,506,507,508,509,510,511,512,513,514,515,516,517,518,519,520,521,522,523,524,525,526,527,528,529,530,531,532,533,534,535,536,537,538,539,540,541,542,543,544,545,546,547,548,549,550,551,552,553,554,555,556,557,558,559,560,561,562,563,564,565,566,567,568,569,570,571,572,573,574,575,576,577,578,579,580,581,582,583,584,585,586,587,588,589,590,591,592,593,594,595,596,597,598,599,600,601,602,603,604,605,606,607,608,609,610,611,612,613,614,615,616,617,618,619,620,621,622,623,624,625,626,627,628,629,630,631,632,633,634,635,636,637,638,639,640,641,642,643,644,645,646,647,648,649,650,651,652,653,654,655,656,657,658,659,660,661,662,663,664,665,666,667,668,669,670,671,672,673,674,675,676,677,678,679,680,681,682,683,684,685,686,687,688,689,690,691,692,693,694,695,696,697,698,699,700,701,702,703,704,705,706,707,708,709,710,711,712,713,714,715],\"xaxis\":\"x\",\"y\":[15.0,null,null,null,null,null,null,null,null,null,null,null,20.9,20.4,32.3,32.4,31.7,15.0,17.0,31.6,15.0,null,null,15.1,15.0,null,null,null,null,null,null,null,null,null,null,null,19.7,15.0,null,null,null,null,14.9,15.0,null,null,null,null,null,null,null,null,null,null,31.8,15.0,null,null,null,null,null,21.6,21.1,26.0,15.0,null,23.1,15.0,null,null,null,32.0,15.0,15.1,15.0,25.8,15.0,15.1,15.0,30.1,22.2,15.0,null,null,null,null,32.3,15.0,null,23.8,15.0,22.4,24.0,15.0,null,null,null,null,null,null,null,null,null,23.6,15.0,null,null,null,null,null,null,null,null,null,20.9,15.0,null,null,null,null,null,31.9,15.0,30.3,15.0,21.5,20.9,15.1,15.0,31.0,15.0,null,null,null,32.2,15.0,24.6,15.0,null,null,null,null,null,null,32.6,32.3,31.4,15.0,31.9,15.0,null,null,null,null,null,null,null,null,null,null,32.4,15.0,null,null,null,null,25.9,15.0,null,31.0,15.0,null,null,null,null,null,24.1,15.0,null,null,null,null,15.1,15.0,null,23.2,15.1,15.0,null,31.2,15.0,19.5,20.6,15.0,null,null,22.1,15.0,null,15.1,15.0,null,31.5,32.3,15.0,null,29.0,15.0,null,null,null,null,23.2,15.0,null,null,null,22.1,15.0,null,null,null,null,21.6,15.0,15.1,15.0,null,26.0,15.0,15.1,15.0,21.7,15.0,null,15.1,15.0,null,15.1,15.0,21.5,15.0,null,null,null,null,15.1,15.0,null,null,null,21.6,15.0,null,null,null,null,28.8,21.4,15.0,null,null,null,null,null,null,null,null,null,null,null,null,null,null,null,null,null,null,null,null,null,null,null,21.2,15.0,null,null,null,31.4,15.0,null,null,21.2,15.0,null,null,null,null,20.8,15.0,null,21.6,15.0,null,null,null,null,null,null,null,21.5,15.0,15.1,23.5,15.0,29.8,15.0,null,null,31.4,15.0,null,null,28.5,24.2,15.0,null,null,null,null,null,null,null,23.3,31.4,15.0,null,null,null,25.3,15.0,33.1,15.0,null,null,null,null,15.1,15.0,null,null,null,null,null,null,null,null,null,null,25.8,15.0,null,null,null,null,null,null,null,null,null,15.1,15.0,null,null,null,null,null,null,null,null,null,null,21.3,15.0,null,33.2,32.6,32.1,30.8,null,25.1,19.9,31.4,31.2,31.1,21.5,30.7,31.2,25.5,28.8,15.0,null,null,null,31.8,32.1,31.8,32.0,32.2,32.1,21.2,20.9,24.2,26.7,21.3,15.0,29.9,31.4,null,29.1,27.8,25.5,15.0,20.0,31.4,32.0,32.1,15.0,21.7,15.1,30.2,31.5,null,30.3,31.4,31.8,22.3,23.1,15.0,null,null,null,25.9,15.0,null,24.7,21.8,15.0,29.2,15.1,15.0,32.5,20.3,29.2,15.0,22.5,15.0,null,null,null,null,null,null,null,32.0,15.0,null,null,22.3,15.1,null,15.0,null,null,30.6,28.9,15.0,null,null,null,null,null,null,null,null,null,null,null,null,null,null,null,null,null,33.0,30.8,14.9,15.0,null,15.1,15.0,null,33.0,15.0,21.2,15.1,15.0,null,null,null,null,null,null,null,31.8,15.0,null,null,null,null,null,21.3,15.0,15.1,null,15.0,null,null,22.4,30.6,15.0,22.1,15.0,15.1,15.0,null,null,null,22.2,28.8,22.1,15.0,null,null,32.6,32.4,15.0,21.9,15.0,null,null,31.3,15.0,null,21.8,21.2,24.8,15.0,null,null,null,null,null,26.5,15.0,null,null,null,29.8,23.9,15.0,null,19.6,15.0,null,null,null,21.6,15.0,null,null,null,null,21.1,15.0,null,null,31.1,21.6,15.0,null,null,null,null,15.1,15.0,null,null,null,null,null,null,null,null,null,null,null,null,null,null,null,null,null,null,null,21.2,30.8,null,23.9,15.0,null,null,null,null,null,null,33.4,33.6,15.0,null,null,null,null,null,null,null,null,null,null,null,null,null,null,15.0,null,null,null,15.0,null,null,null,14.9,15.0,null,null,null,null,null,null,null,null,null,null,null,null,null,null,null,null,null,null,null,null,null,null,null,null,null,null,null,null,null,null,null,null,null,null,null,null,null,null,null,null,null,null,null,21.0,null,null,null,null,null,28.5,15.0,null,null,18.9,15.0,19.5,15.0,null,null,null,null,null,20.6],\"yaxis\":\"y\"}],                        {\"legend\":{\"title\":{\"text\":\"variable\"},\"tracegroupgap\":0},\"margin\":{\"t\":60},\"template\":{\"data\":{\"bar\":[{\"error_x\":{\"color\":\"#2a3f5f\"},\"error_y\":{\"color\":\"#2a3f5f\"},\"marker\":{\"line\":{\"color\":\"#E5ECF6\",\"width\":0.5},\"pattern\":{\"fillmode\":\"overlay\",\"size\":10,\"solidity\":0.2}},\"type\":\"bar\"}],\"barpolar\":[{\"marker\":{\"line\":{\"color\":\"#E5ECF6\",\"width\":0.5},\"pattern\":{\"fillmode\":\"overlay\",\"size\":10,\"solidity\":0.2}},\"type\":\"barpolar\"}],\"carpet\":[{\"aaxis\":{\"endlinecolor\":\"#2a3f5f\",\"gridcolor\":\"white\",\"linecolor\":\"white\",\"minorgridcolor\":\"white\",\"startlinecolor\":\"#2a3f5f\"},\"baxis\":{\"endlinecolor\":\"#2a3f5f\",\"gridcolor\":\"white\",\"linecolor\":\"white\",\"minorgridcolor\":\"white\",\"startlinecolor\":\"#2a3f5f\"},\"type\":\"carpet\"}],\"choropleth\":[{\"colorbar\":{\"outlinewidth\":0,\"ticks\":\"\"},\"type\":\"choropleth\"}],\"contour\":[{\"colorbar\":{\"outlinewidth\":0,\"ticks\":\"\"},\"colorscale\":[[0.0,\"#0d0887\"],[0.1111111111111111,\"#46039f\"],[0.2222222222222222,\"#7201a8\"],[0.3333333333333333,\"#9c179e\"],[0.4444444444444444,\"#bd3786\"],[0.5555555555555556,\"#d8576b\"],[0.6666666666666666,\"#ed7953\"],[0.7777777777777778,\"#fb9f3a\"],[0.8888888888888888,\"#fdca26\"],[1.0,\"#f0f921\"]],\"type\":\"contour\"}],\"contourcarpet\":[{\"colorbar\":{\"outlinewidth\":0,\"ticks\":\"\"},\"type\":\"contourcarpet\"}],\"heatmap\":[{\"colorbar\":{\"outlinewidth\":0,\"ticks\":\"\"},\"colorscale\":[[0.0,\"#0d0887\"],[0.1111111111111111,\"#46039f\"],[0.2222222222222222,\"#7201a8\"],[0.3333333333333333,\"#9c179e\"],[0.4444444444444444,\"#bd3786\"],[0.5555555555555556,\"#d8576b\"],[0.6666666666666666,\"#ed7953\"],[0.7777777777777778,\"#fb9f3a\"],[0.8888888888888888,\"#fdca26\"],[1.0,\"#f0f921\"]],\"type\":\"heatmap\"}],\"heatmapgl\":[{\"colorbar\":{\"outlinewidth\":0,\"ticks\":\"\"},\"colorscale\":[[0.0,\"#0d0887\"],[0.1111111111111111,\"#46039f\"],[0.2222222222222222,\"#7201a8\"],[0.3333333333333333,\"#9c179e\"],[0.4444444444444444,\"#bd3786\"],[0.5555555555555556,\"#d8576b\"],[0.6666666666666666,\"#ed7953\"],[0.7777777777777778,\"#fb9f3a\"],[0.8888888888888888,\"#fdca26\"],[1.0,\"#f0f921\"]],\"type\":\"heatmapgl\"}],\"histogram\":[{\"marker\":{\"pattern\":{\"fillmode\":\"overlay\",\"size\":10,\"solidity\":0.2}},\"type\":\"histogram\"}],\"histogram2d\":[{\"colorbar\":{\"outlinewidth\":0,\"ticks\":\"\"},\"colorscale\":[[0.0,\"#0d0887\"],[0.1111111111111111,\"#46039f\"],[0.2222222222222222,\"#7201a8\"],[0.3333333333333333,\"#9c179e\"],[0.4444444444444444,\"#bd3786\"],[0.5555555555555556,\"#d8576b\"],[0.6666666666666666,\"#ed7953\"],[0.7777777777777778,\"#fb9f3a\"],[0.8888888888888888,\"#fdca26\"],[1.0,\"#f0f921\"]],\"type\":\"histogram2d\"}],\"histogram2dcontour\":[{\"colorbar\":{\"outlinewidth\":0,\"ticks\":\"\"},\"colorscale\":[[0.0,\"#0d0887\"],[0.1111111111111111,\"#46039f\"],[0.2222222222222222,\"#7201a8\"],[0.3333333333333333,\"#9c179e\"],[0.4444444444444444,\"#bd3786\"],[0.5555555555555556,\"#d8576b\"],[0.6666666666666666,\"#ed7953\"],[0.7777777777777778,\"#fb9f3a\"],[0.8888888888888888,\"#fdca26\"],[1.0,\"#f0f921\"]],\"type\":\"histogram2dcontour\"}],\"mesh3d\":[{\"colorbar\":{\"outlinewidth\":0,\"ticks\":\"\"},\"type\":\"mesh3d\"}],\"parcoords\":[{\"line\":{\"colorbar\":{\"outlinewidth\":0,\"ticks\":\"\"}},\"type\":\"parcoords\"}],\"pie\":[{\"automargin\":true,\"type\":\"pie\"}],\"scatter\":[{\"marker\":{\"colorbar\":{\"outlinewidth\":0,\"ticks\":\"\"}},\"type\":\"scatter\"}],\"scatter3d\":[{\"line\":{\"colorbar\":{\"outlinewidth\":0,\"ticks\":\"\"}},\"marker\":{\"colorbar\":{\"outlinewidth\":0,\"ticks\":\"\"}},\"type\":\"scatter3d\"}],\"scattercarpet\":[{\"marker\":{\"colorbar\":{\"outlinewidth\":0,\"ticks\":\"\"}},\"type\":\"scattercarpet\"}],\"scattergeo\":[{\"marker\":{\"colorbar\":{\"outlinewidth\":0,\"ticks\":\"\"}},\"type\":\"scattergeo\"}],\"scattergl\":[{\"marker\":{\"colorbar\":{\"outlinewidth\":0,\"ticks\":\"\"}},\"type\":\"scattergl\"}],\"scattermapbox\":[{\"marker\":{\"colorbar\":{\"outlinewidth\":0,\"ticks\":\"\"}},\"type\":\"scattermapbox\"}],\"scatterpolar\":[{\"marker\":{\"colorbar\":{\"outlinewidth\":0,\"ticks\":\"\"}},\"type\":\"scatterpolar\"}],\"scatterpolargl\":[{\"marker\":{\"colorbar\":{\"outlinewidth\":0,\"ticks\":\"\"}},\"type\":\"scatterpolargl\"}],\"scatterternary\":[{\"marker\":{\"colorbar\":{\"outlinewidth\":0,\"ticks\":\"\"}},\"type\":\"scatterternary\"}],\"surface\":[{\"colorbar\":{\"outlinewidth\":0,\"ticks\":\"\"},\"colorscale\":[[0.0,\"#0d0887\"],[0.1111111111111111,\"#46039f\"],[0.2222222222222222,\"#7201a8\"],[0.3333333333333333,\"#9c179e\"],[0.4444444444444444,\"#bd3786\"],[0.5555555555555556,\"#d8576b\"],[0.6666666666666666,\"#ed7953\"],[0.7777777777777778,\"#fb9f3a\"],[0.8888888888888888,\"#fdca26\"],[1.0,\"#f0f921\"]],\"type\":\"surface\"}],\"table\":[{\"cells\":{\"fill\":{\"color\":\"#EBF0F8\"},\"line\":{\"color\":\"white\"}},\"header\":{\"fill\":{\"color\":\"#C8D4E3\"},\"line\":{\"color\":\"white\"}},\"type\":\"table\"}]},\"layout\":{\"annotationdefaults\":{\"arrowcolor\":\"#2a3f5f\",\"arrowhead\":0,\"arrowwidth\":1},\"autotypenumbers\":\"strict\",\"coloraxis\":{\"colorbar\":{\"outlinewidth\":0,\"ticks\":\"\"}},\"colorscale\":{\"diverging\":[[0,\"#8e0152\"],[0.1,\"#c51b7d\"],[0.2,\"#de77ae\"],[0.3,\"#f1b6da\"],[0.4,\"#fde0ef\"],[0.5,\"#f7f7f7\"],[0.6,\"#e6f5d0\"],[0.7,\"#b8e186\"],[0.8,\"#7fbc41\"],[0.9,\"#4d9221\"],[1,\"#276419\"]],\"sequential\":[[0.0,\"#0d0887\"],[0.1111111111111111,\"#46039f\"],[0.2222222222222222,\"#7201a8\"],[0.3333333333333333,\"#9c179e\"],[0.4444444444444444,\"#bd3786\"],[0.5555555555555556,\"#d8576b\"],[0.6666666666666666,\"#ed7953\"],[0.7777777777777778,\"#fb9f3a\"],[0.8888888888888888,\"#fdca26\"],[1.0,\"#f0f921\"]],\"sequentialminus\":[[0.0,\"#0d0887\"],[0.1111111111111111,\"#46039f\"],[0.2222222222222222,\"#7201a8\"],[0.3333333333333333,\"#9c179e\"],[0.4444444444444444,\"#bd3786\"],[0.5555555555555556,\"#d8576b\"],[0.6666666666666666,\"#ed7953\"],[0.7777777777777778,\"#fb9f3a\"],[0.8888888888888888,\"#fdca26\"],[1.0,\"#f0f921\"]]},\"colorway\":[\"#636efa\",\"#EF553B\",\"#00cc96\",\"#ab63fa\",\"#FFA15A\",\"#19d3f3\",\"#FF6692\",\"#B6E880\",\"#FF97FF\",\"#FECB52\"],\"font\":{\"color\":\"#2a3f5f\"},\"geo\":{\"bgcolor\":\"white\",\"lakecolor\":\"white\",\"landcolor\":\"#E5ECF6\",\"showlakes\":true,\"showland\":true,\"subunitcolor\":\"white\"},\"hoverlabel\":{\"align\":\"left\"},\"hovermode\":\"closest\",\"mapbox\":{\"style\":\"light\"},\"paper_bgcolor\":\"white\",\"plot_bgcolor\":\"#E5ECF6\",\"polar\":{\"angularaxis\":{\"gridcolor\":\"white\",\"linecolor\":\"white\",\"ticks\":\"\"},\"bgcolor\":\"#E5ECF6\",\"radialaxis\":{\"gridcolor\":\"white\",\"linecolor\":\"white\",\"ticks\":\"\"}},\"scene\":{\"xaxis\":{\"backgroundcolor\":\"#E5ECF6\",\"gridcolor\":\"white\",\"gridwidth\":2,\"linecolor\":\"white\",\"showbackground\":true,\"ticks\":\"\",\"zerolinecolor\":\"white\"},\"yaxis\":{\"backgroundcolor\":\"#E5ECF6\",\"gridcolor\":\"white\",\"gridwidth\":2,\"linecolor\":\"white\",\"showbackground\":true,\"ticks\":\"\",\"zerolinecolor\":\"white\"},\"zaxis\":{\"backgroundcolor\":\"#E5ECF6\",\"gridcolor\":\"white\",\"gridwidth\":2,\"linecolor\":\"white\",\"showbackground\":true,\"ticks\":\"\",\"zerolinecolor\":\"white\"}},\"shapedefaults\":{\"line\":{\"color\":\"#2a3f5f\"}},\"ternary\":{\"aaxis\":{\"gridcolor\":\"white\",\"linecolor\":\"white\",\"ticks\":\"\"},\"baxis\":{\"gridcolor\":\"white\",\"linecolor\":\"white\",\"ticks\":\"\"},\"bgcolor\":\"#E5ECF6\",\"caxis\":{\"gridcolor\":\"white\",\"linecolor\":\"white\",\"ticks\":\"\"}},\"title\":{\"x\":0.05},\"xaxis\":{\"automargin\":true,\"gridcolor\":\"white\",\"linecolor\":\"white\",\"ticks\":\"\",\"title\":{\"standoff\":15},\"zerolinecolor\":\"white\",\"zerolinewidth\":2},\"yaxis\":{\"automargin\":true,\"gridcolor\":\"white\",\"linecolor\":\"white\",\"ticks\":\"\",\"title\":{\"standoff\":15},\"zerolinecolor\":\"white\",\"zerolinewidth\":2}}},\"xaxis\":{\"anchor\":\"y\",\"domain\":[0.0,1.0],\"title\":{\"text\":\"index\"}},\"yaxis\":{\"anchor\":\"x\",\"domain\":[0.0,1.0],\"title\":{\"text\":\"value\"}}},                        {\"responsive\": true}                    ).then(function(){\n",
       "                            \n",
       "var gd = document.getElementById('07dca3e6-5c6e-42df-890f-c29330b85a04');\n",
       "var x = new MutationObserver(function (mutations, observer) {{\n",
       "        var display = window.getComputedStyle(gd).display;\n",
       "        if (!display || display === 'none') {{\n",
       "            console.log([gd, 'removed!']);\n",
       "            Plotly.purge(gd);\n",
       "            observer.disconnect();\n",
       "        }}\n",
       "}});\n",
       "\n",
       "// Listen for the removal of the full notebook cells\n",
       "var notebookContainer = gd.closest('#notebook-container');\n",
       "if (notebookContainer) {{\n",
       "    x.observe(notebookContainer, {childList: true});\n",
       "}}\n",
       "\n",
       "// Listen for the clearing of the current output cell\n",
       "var outputEl = gd.closest('.output');\n",
       "if (outputEl) {{\n",
       "    x.observe(outputEl, {childList: true});\n",
       "}}\n",
       "\n",
       "                        })                };                });            </script>        </div>"
      ]
     },
     "metadata": {},
     "output_type": "display_data"
    }
   ],
   "source": [
    "import plotly.express as px\n",
    "\n",
    "fig = px.line(df, y=[\"heating_temperature\",\"cooling_temperature\"])\n",
    "fig.show()"
   ]
  },
  {
   "cell_type": "markdown",
   "metadata": {},
   "source": [
    "Zoom into data"
   ]
  },
  {
   "cell_type": "code",
   "execution_count": 143,
   "metadata": {},
   "outputs": [
    {
     "data": {
      "application/vnd.jupyter.widget-view+json": {
       "model_id": "662ef55beb544e7b94e61f67c720ed2c",
       "version_major": 2,
       "version_minor": 0
      },
      "text/plain": [
       "VBox(children=(HBox(children=(Button(description='Previous', style=ButtonStyle()), Button(description='Next', …"
      ]
     },
     "metadata": {},
     "output_type": "display_data"
    }
   ],
   "source": [
    "import ipywidgets\n",
    "from ipywidgets import widgets\n",
    "from IPython.display import display,clear_output\n",
    "import datetime\n",
    "import plotly.express as px\n",
    "\n",
    "# === PLOTTING ===\n",
    "start_year = 2019\n",
    "start_month = 5\n",
    "trace_idx = 0  #start trace\n",
    "\n",
    "out=widgets.Output()\n",
    "info = widgets.Output()\n",
    "\n",
    "# Plot first traces\n",
    "with info:\n",
    "    start = datetime.datetime(start_year+((trace_idx+start_month)//12),(trace_idx+start_month)%12,1)\n",
    "    end = datetime.datetime(start_year+((trace_idx+start_month+1)//12),(trace_idx+start_month+1)%12,1)\n",
    "    print(\"Date {0} - {1}\".format(start,end))    \n",
    "with out:\n",
    "    fig = px.line(df, x='datetime', y=[\"heating_temperature\",\"cooling_temperature\"])\n",
    "    start_date = start.strftime('%Y-%m-%d')\n",
    "    end_date = end.strftime('%Y-%m-%d')\n",
    "    fig.update_xaxes(type=\"date\", range=[start_date, end_date])\n",
    "    fig.show()\n",
    "\n",
    "# Arrange output (buttons + text + plot)\n",
    "b_prev=widgets.Button(description='Previous')\n",
    "b_next=widgets.Button(description='Next')\n",
    "hbox = widgets.HBox(children=(b_prev,b_next,info))\n",
    "vbox=widgets.VBox(children=(hbox,out))\n",
    "display(vbox)\n",
    "\n",
    "# Define button events (recalculate trace plots)\n",
    "def click(direction):\n",
    "    global trace_idx\n",
    "    if direction=='next':\n",
    "        trace_idx += 1\n",
    "    elif direction=='back':\n",
    "        trace_idx -= 1\n",
    "    else:\n",
    "        raise Exception(\"Command not defined\")\n",
    "    with info:\n",
    "        clear_output(wait=True)\n",
    "        start = datetime.datetime(start_year+((trace_idx+start_month-1)//12),(trace_idx+start_month-1)%12+1,1)\n",
    "        end = datetime.datetime(start_year+((trace_idx+start_month)//12),(trace_idx+start_month)%12+1,1)\n",
    "        print(\"Date {0} - {1}\".format(start,end))  \n",
    "    with out:\n",
    "        clear_output()\n",
    "        fig = px.line(df, x='datetime', y=[\"heating_temperature\",\"cooling_temperature\"])\n",
    "        start_date = start.strftime('%Y-%m-%d')\n",
    "        end_date = end.strftime('%Y-%m-%d')\n",
    "        fig.update_xaxes(type=\"date\", range=[start_date, end_date])\n",
    "        fig.show()\n",
    "def click_p(b):\n",
    "    click('back')\n",
    "def click_n(b):\n",
    "    click('next')    \n",
    "b_prev.on_click(click_p)\n",
    "b_next.on_click(click_n)"
   ]
  },
  {
   "cell_type": "markdown",
   "metadata": {},
   "source": [
    "# 2. Inspect Time Axis\n",
    "- Periodicity\n",
    "- Jumps / missing values\n",
    "- delta-T distribution"
   ]
  },
  {
   "cell_type": "code",
   "execution_count": 144,
   "metadata": {
    "scrolled": true
   },
   "outputs": [
    {
     "data": {
      "text/html": [
       "<div>\n",
       "<style scoped>\n",
       "    .dataframe tbody tr th:only-of-type {\n",
       "        vertical-align: middle;\n",
       "    }\n",
       "\n",
       "    .dataframe tbody tr th {\n",
       "        vertical-align: top;\n",
       "    }\n",
       "\n",
       "    .dataframe thead th {\n",
       "        text-align: right;\n",
       "    }\n",
       "</style>\n",
       "<table border=\"1\" class=\"dataframe\">\n",
       "  <thead>\n",
       "    <tr style=\"text-align: right;\">\n",
       "      <th></th>\n",
       "      <th>datetime</th>\n",
       "      <th>heating_temperature</th>\n",
       "      <th>cooling_temperature</th>\n",
       "      <th>delta_T</th>\n",
       "    </tr>\n",
       "  </thead>\n",
       "  <tbody>\n",
       "    <tr>\n",
       "      <th>0</th>\n",
       "      <td>2019-04-13 17:51:16</td>\n",
       "      <td>33.3</td>\n",
       "      <td>15.0</td>\n",
       "      <td>NaN</td>\n",
       "    </tr>\n",
       "    <tr>\n",
       "      <th>1</th>\n",
       "      <td>2019-04-13 18:51:18</td>\n",
       "      <td>34.0</td>\n",
       "      <td>NaN</td>\n",
       "      <td>3602.0</td>\n",
       "    </tr>\n",
       "    <tr>\n",
       "      <th>2</th>\n",
       "      <td>2019-04-13 19:51:20</td>\n",
       "      <td>33.8</td>\n",
       "      <td>NaN</td>\n",
       "      <td>3602.0</td>\n",
       "    </tr>\n",
       "    <tr>\n",
       "      <th>3</th>\n",
       "      <td>2019-04-13 20:51:21</td>\n",
       "      <td>34.2</td>\n",
       "      <td>NaN</td>\n",
       "      <td>3601.0</td>\n",
       "    </tr>\n",
       "    <tr>\n",
       "      <th>4</th>\n",
       "      <td>2019-04-13 21:51:23</td>\n",
       "      <td>34.5</td>\n",
       "      <td>NaN</td>\n",
       "      <td>3602.0</td>\n",
       "    </tr>\n",
       "    <tr>\n",
       "      <th>5</th>\n",
       "      <td>2019-04-13 22:51:25</td>\n",
       "      <td>34.7</td>\n",
       "      <td>NaN</td>\n",
       "      <td>3602.0</td>\n",
       "    </tr>\n",
       "    <tr>\n",
       "      <th>6</th>\n",
       "      <td>2019-04-13 23:51:26</td>\n",
       "      <td>34.8</td>\n",
       "      <td>NaN</td>\n",
       "      <td>3601.0</td>\n",
       "    </tr>\n",
       "    <tr>\n",
       "      <th>7</th>\n",
       "      <td>2019-04-14 00:51:28</td>\n",
       "      <td>34.9</td>\n",
       "      <td>NaN</td>\n",
       "      <td>3602.0</td>\n",
       "    </tr>\n",
       "    <tr>\n",
       "      <th>8</th>\n",
       "      <td>2019-04-14 01:51:30</td>\n",
       "      <td>35.0</td>\n",
       "      <td>NaN</td>\n",
       "      <td>3602.0</td>\n",
       "    </tr>\n",
       "    <tr>\n",
       "      <th>9</th>\n",
       "      <td>2019-04-14 06:51:38</td>\n",
       "      <td>35.1</td>\n",
       "      <td>NaN</td>\n",
       "      <td>18008.0</td>\n",
       "    </tr>\n",
       "    <tr>\n",
       "      <th>10</th>\n",
       "      <td>2019-04-14 08:51:41</td>\n",
       "      <td>34.4</td>\n",
       "      <td>NaN</td>\n",
       "      <td>7203.0</td>\n",
       "    </tr>\n",
       "    <tr>\n",
       "      <th>11</th>\n",
       "      <td>2019-04-14 09:51:43</td>\n",
       "      <td>34.6</td>\n",
       "      <td>NaN</td>\n",
       "      <td>3602.0</td>\n",
       "    </tr>\n",
       "    <tr>\n",
       "      <th>12</th>\n",
       "      <td>2019-04-14 10:25:16</td>\n",
       "      <td>34.2</td>\n",
       "      <td>20.9</td>\n",
       "      <td>2013.0</td>\n",
       "    </tr>\n",
       "    <tr>\n",
       "      <th>13</th>\n",
       "      <td>2019-04-14 10:43:38</td>\n",
       "      <td>34.5</td>\n",
       "      <td>20.4</td>\n",
       "      <td>1102.0</td>\n",
       "    </tr>\n",
       "    <tr>\n",
       "      <th>14</th>\n",
       "      <td>2019-04-14 11:39:32</td>\n",
       "      <td>33.9</td>\n",
       "      <td>32.3</td>\n",
       "      <td>3354.0</td>\n",
       "    </tr>\n",
       "    <tr>\n",
       "      <th>15</th>\n",
       "      <td>2019-04-14 11:52:06</td>\n",
       "      <td>NaN</td>\n",
       "      <td>32.4</td>\n",
       "      <td>754.0</td>\n",
       "    </tr>\n",
       "    <tr>\n",
       "      <th>16</th>\n",
       "      <td>2019-04-14 11:58:19</td>\n",
       "      <td>NaN</td>\n",
       "      <td>31.7</td>\n",
       "      <td>373.0</td>\n",
       "    </tr>\n",
       "    <tr>\n",
       "      <th>17</th>\n",
       "      <td>2019-04-14 13:24:43</td>\n",
       "      <td>34.8</td>\n",
       "      <td>15.0</td>\n",
       "      <td>5184.0</td>\n",
       "    </tr>\n",
       "    <tr>\n",
       "      <th>18</th>\n",
       "      <td>2019-04-14 14:38:23</td>\n",
       "      <td>34.5</td>\n",
       "      <td>17.0</td>\n",
       "      <td>4420.0</td>\n",
       "    </tr>\n",
       "    <tr>\n",
       "      <th>19</th>\n",
       "      <td>2019-04-14 15:00:38</td>\n",
       "      <td>32.4</td>\n",
       "      <td>31.6</td>\n",
       "      <td>1335.0</td>\n",
       "    </tr>\n",
       "    <tr>\n",
       "      <th>20</th>\n",
       "      <td>2019-04-14 16:00:40</td>\n",
       "      <td>33.7</td>\n",
       "      <td>15.0</td>\n",
       "      <td>3602.0</td>\n",
       "    </tr>\n",
       "    <tr>\n",
       "      <th>21</th>\n",
       "      <td>2019-04-14 17:00:42</td>\n",
       "      <td>34.9</td>\n",
       "      <td>NaN</td>\n",
       "      <td>3602.0</td>\n",
       "    </tr>\n",
       "    <tr>\n",
       "      <th>22</th>\n",
       "      <td>2019-04-14 18:00:43</td>\n",
       "      <td>35.7</td>\n",
       "      <td>NaN</td>\n",
       "      <td>3601.0</td>\n",
       "    </tr>\n",
       "    <tr>\n",
       "      <th>23</th>\n",
       "      <td>2019-04-14 19:00:45</td>\n",
       "      <td>36.1</td>\n",
       "      <td>15.1</td>\n",
       "      <td>3602.0</td>\n",
       "    </tr>\n",
       "    <tr>\n",
       "      <th>24</th>\n",
       "      <td>2019-04-14 20:00:47</td>\n",
       "      <td>36.4</td>\n",
       "      <td>15.0</td>\n",
       "      <td>3602.0</td>\n",
       "    </tr>\n",
       "    <tr>\n",
       "      <th>25</th>\n",
       "      <td>2019-04-14 21:00:48</td>\n",
       "      <td>36.5</td>\n",
       "      <td>NaN</td>\n",
       "      <td>3601.0</td>\n",
       "    </tr>\n",
       "    <tr>\n",
       "      <th>26</th>\n",
       "      <td>2019-04-14 22:00:50</td>\n",
       "      <td>36.4</td>\n",
       "      <td>NaN</td>\n",
       "      <td>3602.0</td>\n",
       "    </tr>\n",
       "    <tr>\n",
       "      <th>27</th>\n",
       "      <td>2019-04-14 23:00:52</td>\n",
       "      <td>36.3</td>\n",
       "      <td>NaN</td>\n",
       "      <td>3602.0</td>\n",
       "    </tr>\n",
       "    <tr>\n",
       "      <th>28</th>\n",
       "      <td>2019-04-15 00:00:53</td>\n",
       "      <td>36.2</td>\n",
       "      <td>NaN</td>\n",
       "      <td>3601.0</td>\n",
       "    </tr>\n",
       "    <tr>\n",
       "      <th>29</th>\n",
       "      <td>2019-04-15 01:00:55</td>\n",
       "      <td>36.1</td>\n",
       "      <td>NaN</td>\n",
       "      <td>3602.0</td>\n",
       "    </tr>\n",
       "    <tr>\n",
       "      <th>30</th>\n",
       "      <td>2019-04-15 03:00:58</td>\n",
       "      <td>36.0</td>\n",
       "      <td>NaN</td>\n",
       "      <td>7203.0</td>\n",
       "    </tr>\n",
       "    <tr>\n",
       "      <th>31</th>\n",
       "      <td>2019-04-15 05:01:02</td>\n",
       "      <td>35.9</td>\n",
       "      <td>NaN</td>\n",
       "      <td>7204.0</td>\n",
       "    </tr>\n",
       "    <tr>\n",
       "      <th>32</th>\n",
       "      <td>2019-04-15 06:01:03</td>\n",
       "      <td>36.0</td>\n",
       "      <td>NaN</td>\n",
       "      <td>3601.0</td>\n",
       "    </tr>\n",
       "    <tr>\n",
       "      <th>33</th>\n",
       "      <td>2019-04-15 07:01:05</td>\n",
       "      <td>35.7</td>\n",
       "      <td>NaN</td>\n",
       "      <td>3602.0</td>\n",
       "    </tr>\n",
       "    <tr>\n",
       "      <th>34</th>\n",
       "      <td>2019-04-15 08:01:07</td>\n",
       "      <td>35.0</td>\n",
       "      <td>NaN</td>\n",
       "      <td>3602.0</td>\n",
       "    </tr>\n",
       "    <tr>\n",
       "      <th>35</th>\n",
       "      <td>2019-04-15 09:01:08</td>\n",
       "      <td>34.7</td>\n",
       "      <td>NaN</td>\n",
       "      <td>3601.0</td>\n",
       "    </tr>\n",
       "    <tr>\n",
       "      <th>36</th>\n",
       "      <td>2019-04-15 09:57:11</td>\n",
       "      <td>34.5</td>\n",
       "      <td>19.7</td>\n",
       "      <td>3363.0</td>\n",
       "    </tr>\n",
       "    <tr>\n",
       "      <th>37</th>\n",
       "      <td>2019-04-15 10:57:13</td>\n",
       "      <td>34.8</td>\n",
       "      <td>15.0</td>\n",
       "      <td>3602.0</td>\n",
       "    </tr>\n",
       "    <tr>\n",
       "      <th>38</th>\n",
       "      <td>2019-04-15 13:57:18</td>\n",
       "      <td>35.1</td>\n",
       "      <td>NaN</td>\n",
       "      <td>10805.0</td>\n",
       "    </tr>\n",
       "    <tr>\n",
       "      <th>39</th>\n",
       "      <td>2019-04-15 14:57:19</td>\n",
       "      <td>35.3</td>\n",
       "      <td>NaN</td>\n",
       "      <td>3601.0</td>\n",
       "    </tr>\n",
       "    <tr>\n",
       "      <th>40</th>\n",
       "      <td>2019-04-15 15:57:21</td>\n",
       "      <td>35.1</td>\n",
       "      <td>NaN</td>\n",
       "      <td>3602.0</td>\n",
       "    </tr>\n",
       "    <tr>\n",
       "      <th>41</th>\n",
       "      <td>2019-04-15 16:57:23</td>\n",
       "      <td>35.0</td>\n",
       "      <td>NaN</td>\n",
       "      <td>3602.0</td>\n",
       "    </tr>\n",
       "    <tr>\n",
       "      <th>42</th>\n",
       "      <td>2019-04-15 17:57:24</td>\n",
       "      <td>NaN</td>\n",
       "      <td>14.9</td>\n",
       "      <td>3601.0</td>\n",
       "    </tr>\n",
       "    <tr>\n",
       "      <th>43</th>\n",
       "      <td>2019-04-15 18:57:26</td>\n",
       "      <td>34.8</td>\n",
       "      <td>15.0</td>\n",
       "      <td>3602.0</td>\n",
       "    </tr>\n",
       "    <tr>\n",
       "      <th>44</th>\n",
       "      <td>2019-04-15 19:57:28</td>\n",
       "      <td>34.6</td>\n",
       "      <td>NaN</td>\n",
       "      <td>3602.0</td>\n",
       "    </tr>\n",
       "    <tr>\n",
       "      <th>45</th>\n",
       "      <td>2019-04-15 20:57:29</td>\n",
       "      <td>34.7</td>\n",
       "      <td>NaN</td>\n",
       "      <td>3601.0</td>\n",
       "    </tr>\n",
       "    <tr>\n",
       "      <th>46</th>\n",
       "      <td>2019-04-15 21:57:31</td>\n",
       "      <td>34.8</td>\n",
       "      <td>NaN</td>\n",
       "      <td>3602.0</td>\n",
       "    </tr>\n",
       "    <tr>\n",
       "      <th>47</th>\n",
       "      <td>2019-04-15 22:57:33</td>\n",
       "      <td>34.5</td>\n",
       "      <td>NaN</td>\n",
       "      <td>3602.0</td>\n",
       "    </tr>\n",
       "    <tr>\n",
       "      <th>48</th>\n",
       "      <td>2019-04-15 23:57:34</td>\n",
       "      <td>35.0</td>\n",
       "      <td>NaN</td>\n",
       "      <td>3601.0</td>\n",
       "    </tr>\n",
       "    <tr>\n",
       "      <th>49</th>\n",
       "      <td>2019-04-16 00:57:36</td>\n",
       "      <td>35.3</td>\n",
       "      <td>NaN</td>\n",
       "      <td>3602.0</td>\n",
       "    </tr>\n",
       "  </tbody>\n",
       "</table>\n",
       "</div>"
      ],
      "text/plain": [
       "              datetime  heating_temperature  cooling_temperature  delta_T\n",
       "0  2019-04-13 17:51:16                 33.3                 15.0      NaN\n",
       "1  2019-04-13 18:51:18                 34.0                  NaN   3602.0\n",
       "2  2019-04-13 19:51:20                 33.8                  NaN   3602.0\n",
       "3  2019-04-13 20:51:21                 34.2                  NaN   3601.0\n",
       "4  2019-04-13 21:51:23                 34.5                  NaN   3602.0\n",
       "5  2019-04-13 22:51:25                 34.7                  NaN   3602.0\n",
       "6  2019-04-13 23:51:26                 34.8                  NaN   3601.0\n",
       "7  2019-04-14 00:51:28                 34.9                  NaN   3602.0\n",
       "8  2019-04-14 01:51:30                 35.0                  NaN   3602.0\n",
       "9  2019-04-14 06:51:38                 35.1                  NaN  18008.0\n",
       "10 2019-04-14 08:51:41                 34.4                  NaN   7203.0\n",
       "11 2019-04-14 09:51:43                 34.6                  NaN   3602.0\n",
       "12 2019-04-14 10:25:16                 34.2                 20.9   2013.0\n",
       "13 2019-04-14 10:43:38                 34.5                 20.4   1102.0\n",
       "14 2019-04-14 11:39:32                 33.9                 32.3   3354.0\n",
       "15 2019-04-14 11:52:06                  NaN                 32.4    754.0\n",
       "16 2019-04-14 11:58:19                  NaN                 31.7    373.0\n",
       "17 2019-04-14 13:24:43                 34.8                 15.0   5184.0\n",
       "18 2019-04-14 14:38:23                 34.5                 17.0   4420.0\n",
       "19 2019-04-14 15:00:38                 32.4                 31.6   1335.0\n",
       "20 2019-04-14 16:00:40                 33.7                 15.0   3602.0\n",
       "21 2019-04-14 17:00:42                 34.9                  NaN   3602.0\n",
       "22 2019-04-14 18:00:43                 35.7                  NaN   3601.0\n",
       "23 2019-04-14 19:00:45                 36.1                 15.1   3602.0\n",
       "24 2019-04-14 20:00:47                 36.4                 15.0   3602.0\n",
       "25 2019-04-14 21:00:48                 36.5                  NaN   3601.0\n",
       "26 2019-04-14 22:00:50                 36.4                  NaN   3602.0\n",
       "27 2019-04-14 23:00:52                 36.3                  NaN   3602.0\n",
       "28 2019-04-15 00:00:53                 36.2                  NaN   3601.0\n",
       "29 2019-04-15 01:00:55                 36.1                  NaN   3602.0\n",
       "30 2019-04-15 03:00:58                 36.0                  NaN   7203.0\n",
       "31 2019-04-15 05:01:02                 35.9                  NaN   7204.0\n",
       "32 2019-04-15 06:01:03                 36.0                  NaN   3601.0\n",
       "33 2019-04-15 07:01:05                 35.7                  NaN   3602.0\n",
       "34 2019-04-15 08:01:07                 35.0                  NaN   3602.0\n",
       "35 2019-04-15 09:01:08                 34.7                  NaN   3601.0\n",
       "36 2019-04-15 09:57:11                 34.5                 19.7   3363.0\n",
       "37 2019-04-15 10:57:13                 34.8                 15.0   3602.0\n",
       "38 2019-04-15 13:57:18                 35.1                  NaN  10805.0\n",
       "39 2019-04-15 14:57:19                 35.3                  NaN   3601.0\n",
       "40 2019-04-15 15:57:21                 35.1                  NaN   3602.0\n",
       "41 2019-04-15 16:57:23                 35.0                  NaN   3602.0\n",
       "42 2019-04-15 17:57:24                  NaN                 14.9   3601.0\n",
       "43 2019-04-15 18:57:26                 34.8                 15.0   3602.0\n",
       "44 2019-04-15 19:57:28                 34.6                  NaN   3602.0\n",
       "45 2019-04-15 20:57:29                 34.7                  NaN   3601.0\n",
       "46 2019-04-15 21:57:31                 34.8                  NaN   3602.0\n",
       "47 2019-04-15 22:57:33                 34.5                  NaN   3602.0\n",
       "48 2019-04-15 23:57:34                 35.0                  NaN   3601.0\n",
       "49 2019-04-16 00:57:36                 35.3                  NaN   3602.0"
      ]
     },
     "execution_count": 144,
     "metadata": {},
     "output_type": "execute_result"
    }
   ],
   "source": [
    "import numpy as np\n",
    "\n",
    "df[\"delta_T\"] = df[\"datetime\"].diff() / np.timedelta64(1, 's')\n",
    "\n",
    "pd.set_option('display.max_rows', None)\n",
    "\n",
    "df.head(50)"
   ]
  },
  {
   "cell_type": "code",
   "execution_count": 145,
   "metadata": {},
   "outputs": [
    {
     "data": {
      "text/plain": [
       "<matplotlib.axes._subplots.AxesSubplot at 0x22d2496ba88>"
      ]
     },
     "execution_count": 145,
     "metadata": {},
     "output_type": "execute_result"
    },
    {
     "data": {
      "image/png": "[encoded data removed]",
      "text/plain": [
       "<Figure size 432x288 with 1 Axes>"
      ]
     },
     "metadata": {
      "needs_background": "light"
     },
     "output_type": "display_data"
    }
   ],
   "source": [
    "df[['delta_T']].plot.hist(bins = 20, title = f'Time interval')"
   ]
  },
  {
   "cell_type": "code",
   "execution_count": 146,
   "metadata": {},
   "outputs": [
    {
     "data": {
      "text/plain": [
       "<matplotlib.axes._subplots.AxesSubplot at 0x22d24715188>"
      ]
     },
     "execution_count": 146,
     "metadata": {},
     "output_type": "execute_result"
    },
    {
     "data": {
      "image/png": "[encoded data removed]",
      "text/plain": [
       "<Figure size 432x288 with 1 Axes>"
      ]
     },
     "metadata": {
      "needs_background": "light"
     },
     "output_type": "display_data"
    }
   ],
   "source": [
    "bin_range = np.array([0,1800,3595,3605,7200,18000,10000000])\n",
    "out, bins  = pd.cut(df['delta_T'], bins=bin_range, include_lowest=True, right=False, retbins=True)\n",
    "out.value_counts(sort=False).plot.bar()"
   ]
  },
  {
   "cell_type": "markdown",
   "metadata": {},
   "source": [
    "<div class=\"alert alert-block alert-info\">\n",
    "<b>Note:</b> Most time intervals are ~3600 s (deviation to smaller and much larger values posible).\n",
    "</div>"
   ]
  },
  {
   "cell_type": "markdown",
   "metadata": {},
   "source": [
    "# 3. Seasonality\n",
    "- Yearly, monthly, weekly, daily"
   ]
  },
  {
   "cell_type": "code",
   "execution_count": 170,
   "metadata": {},
   "outputs": [
    {
     "data": {
      "application/vnd.plotly.v1+json": {
       "config": {
        "plotlyServerURL": "https://plot.ly"
       },
       "data": [
        {
         "hovertemplate": "variable=heating_temperature<br>month=%{x}<br>value=%{y}<extra></extra>",
         "legendgroup": "heating_temperature",
         "line": {
          "color": "#636efa",
          "dash": "solid"
         },
         "mode": "lines",
         "name": "heating_temperature",
         "orientation": "v",
         "showlegend": true,
         "type": "scatter",
         "x": [
          1,
          4,
          5,
          6,
          7,
          10,
          11,
          12
         ],
         "xaxis": "x",
         "y": [
          32.35,
          33.501999999999995,
          32.65416666666666,
          32.48356164383563,
          33.28103448275862,
          31.50253164556961,
          34.53103448275862,
          34.32881355932203
         ],
         "yaxis": "y"
        },
        {
         "hovertemplate": "variable=cooling_temperature<br>month=%{x}<br>value=%{y}<extra></extra>",
         "legendgroup": "cooling_temperature",
         "line": {
          "color": "#EF553B",
          "dash": "solid"
         },
         "mode": "lines",
         "name": "cooling_temperature",
         "orientation": "v",
         "showlegend": true,
         "type": "scatter",
         "x": [
          1,
          4,
          5,
          6,
          7,
          10,
          11,
          12
         ],
         "xaxis": "x",
         "y": [
          18.928571428571427,
          20.414285714285715,
          19.930136986301363,
          20.112000000000002,
          23.78421052631579,
          20.38,
          21.914285714285715,
          16.18
         ],
         "yaxis": "y"
        }
       ],
       "layout": {
        "legend": {
         "title": {
          "text": "variable"
         },
         "tracegroupgap": 0
        },
        "margin": {
         "t": 60
        },
        "template": {
         "data": {
          "bar": [
           {
            "error_x": {
             "color": "#2a3f5f"
            },
            "error_y": {
             "color": "#2a3f5f"
            },
            "marker": {
             "line": {
              "color": "#E5ECF6",
              "width": 0.5
             },
             "pattern": {
              "fillmode": "overlay",
              "size": 10,
              "solidity": 0.2
             }
            },
            "type": "bar"
           }
          ],
          "barpolar": [
           {
            "marker": {
             "line": {
              "color": "#E5ECF6",
              "width": 0.5
             },
             "pattern": {
              "fillmode": "overlay",
              "size": 10,
              "solidity": 0.2
             }
            },
            "type": "barpolar"
           }
          ],
          "carpet": [
           {
            "aaxis": {
             "endlinecolor": "#2a3f5f",
             "gridcolor": "white",
             "linecolor": "white",
             "minorgridcolor": "white",
             "startlinecolor": "#2a3f5f"
            },
            "baxis": {
             "endlinecolor": "#2a3f5f",
             "gridcolor": "white",
             "linecolor": "white",
             "minorgridcolor": "white",
             "startlinecolor": "#2a3f5f"
            },
            "type": "carpet"
           }
          ],
          "choropleth": [
           {
            "colorbar": {
             "outlinewidth": 0,
             "ticks": ""
            },
            "type": "choropleth"
           }
          ],
          "contour": [
           {
            "colorbar": {
             "outlinewidth": 0,
             "ticks": ""
            },
            "colorscale": [
             [
              0,
              "#0d0887"
             ],
             [
              0.1111111111111111,
              "#46039f"
             ],
             [
              0.2222222222222222,
              "#7201a8"
             ],
             [
              0.3333333333333333,
              "#9c179e"
             ],
             [
              0.4444444444444444,
              "#bd3786"
             ],
             [
              0.5555555555555556,
              "#d8576b"
             ],
             [
              0.6666666666666666,
              "#ed7953"
             ],
             [
              0.7777777777777778,
              "#fb9f3a"
             ],
             [
              0.8888888888888888,
              "#fdca26"
             ],
             [
              1,
              "#f0f921"
             ]
            ],
            "type": "contour"
           }
          ],
          "contourcarpet": [
           {
            "colorbar": {
             "outlinewidth": 0,
             "ticks": ""
            },
            "type": "contourcarpet"
           }
          ],
          "heatmap": [
           {
            "colorbar": {
             "outlinewidth": 0,
             "ticks": ""
            },
            "colorscale": [
             [
              0,
              "#0d0887"
             ],
             [
              0.1111111111111111,
              "#46039f"
             ],
             [
              0.2222222222222222,
              "#7201a8"
             ],
             [
              0.3333333333333333,
              "#9c179e"
             ],
             [
              0.4444444444444444,
              "#bd3786"
             ],
             [
              0.5555555555555556,
              "#d8576b"
             ],
             [
              0.6666666666666666,
              "#ed7953"
             ],
             [
              0.7777777777777778,
              "#fb9f3a"
             ],
             [
              0.8888888888888888,
              "#fdca26"
             ],
             [
              1,
              "#f0f921"
             ]
            ],
            "type": "heatmap"
           }
          ],
          "heatmapgl": [
           {
            "colorbar": {
             "outlinewidth": 0,
             "ticks": ""
            },
            "colorscale": [
             [
              0,
              "#0d0887"
             ],
             [
              0.1111111111111111,
              "#46039f"
             ],
             [
              0.2222222222222222,
              "#7201a8"
             ],
             [
              0.3333333333333333,
              "#9c179e"
             ],
             [
              0.4444444444444444,
              "#bd3786"
             ],
             [
              0.5555555555555556,
              "#d8576b"
             ],
             [
              0.6666666666666666,
              "#ed7953"
             ],
             [
              0.7777777777777778,
              "#fb9f3a"
             ],
             [
              0.8888888888888888,
              "#fdca26"
             ],
             [
              1,
              "#f0f921"
             ]
            ],
            "type": "heatmapgl"
           }
          ],
          "histogram": [
           {
            "marker": {
             "pattern": {
              "fillmode": "overlay",
              "size": 10,
              "solidity": 0.2
             }
            },
            "type": "histogram"
           }
          ],
          "histogram2d": [
           {
            "colorbar": {
             "outlinewidth": 0,
             "ticks": ""
            },
            "colorscale": [
             [
              0,
              "#0d0887"
             ],
             [
              0.1111111111111111,
              "#46039f"
             ],
             [
              0.2222222222222222,
              "#7201a8"
             ],
             [
              0.3333333333333333,
              "#9c179e"
             ],
             [
              0.4444444444444444,
              "#bd3786"
             ],
             [
              0.5555555555555556,
              "#d8576b"
             ],
             [
              0.6666666666666666,
              "#ed7953"
             ],
             [
              0.7777777777777778,
              "#fb9f3a"
             ],
             [
              0.8888888888888888,
              "#fdca26"
             ],
             [
              1,
              "#f0f921"
             ]
            ],
            "type": "histogram2d"
           }
          ],
          "histogram2dcontour": [
           {
            "colorbar": {
             "outlinewidth": 0,
             "ticks": ""
            },
            "colorscale": [
             [
              0,
              "#0d0887"
             ],
             [
              0.1111111111111111,
              "#46039f"
             ],
             [
              0.2222222222222222,
              "#7201a8"
             ],
             [
              0.3333333333333333,
              "#9c179e"
             ],
             [
              0.4444444444444444,
              "#bd3786"
             ],
             [
              0.5555555555555556,
              "#d8576b"
             ],
             [
              0.6666666666666666,
              "#ed7953"
             ],
             [
              0.7777777777777778,
              "#fb9f3a"
             ],
             [
              0.8888888888888888,
              "#fdca26"
             ],
             [
              1,
              "#f0f921"
             ]
            ],
            "type": "histogram2dcontour"
           }
          ],
          "mesh3d": [
           {
            "colorbar": {
             "outlinewidth": 0,
             "ticks": ""
            },
            "type": "mesh3d"
           }
          ],
          "parcoords": [
           {
            "line": {
             "colorbar": {
              "outlinewidth": 0,
              "ticks": ""
             }
            },
            "type": "parcoords"
           }
          ],
          "pie": [
           {
            "automargin": true,
            "type": "pie"
           }
          ],
          "scatter": [
           {
            "marker": {
             "colorbar": {
              "outlinewidth": 0,
              "ticks": ""
             }
            },
            "type": "scatter"
           }
          ],
          "scatter3d": [
           {
            "line": {
             "colorbar": {
              "outlinewidth": 0,
              "ticks": ""
             }
            },
            "marker": {
             "colorbar": {
              "outlinewidth": 0,
              "ticks": ""
             }
            },
            "type": "scatter3d"
           }
          ],
          "scattercarpet": [
           {
            "marker": {
             "colorbar": {
              "outlinewidth": 0,
              "ticks": ""
             }
            },
            "type": "scattercarpet"
           }
          ],
          "scattergeo": [
           {
            "marker": {
             "colorbar": {
              "outlinewidth": 0,
              "ticks": ""
             }
            },
            "type": "scattergeo"
           }
          ],
          "scattergl": [
           {
            "marker": {
             "colorbar": {
              "outlinewidth": 0,
              "ticks": ""
             }
            },
            "type": "scattergl"
           }
          ],
          "scattermapbox": [
           {
            "marker": {
             "colorbar": {
              "outlinewidth": 0,
              "ticks": ""
             }
            },
            "type": "scattermapbox"
           }
          ],
          "scatterpolar": [
           {
            "marker": {
             "colorbar": {
              "outlinewidth": 0,
              "ticks": ""
             }
            },
            "type": "scatterpolar"
           }
          ],
          "scatterpolargl": [
           {
            "marker": {
             "colorbar": {
              "outlinewidth": 0,
              "ticks": ""
             }
            },
            "type": "scatterpolargl"
           }
          ],
          "scatterternary": [
           {
            "marker": {
             "colorbar": {
              "outlinewidth": 0,
              "ticks": ""
             }
            },
            "type": "scatterternary"
           }
          ],
          "surface": [
           {
            "colorbar": {
             "outlinewidth": 0,
             "ticks": ""
            },
            "colorscale": [
             [
              0,
              "#0d0887"
             ],
             [
              0.1111111111111111,
              "#46039f"
             ],
             [
              0.2222222222222222,
              "#7201a8"
             ],
             [
              0.3333333333333333,
              "#9c179e"
             ],
             [
              0.4444444444444444,
              "#bd3786"
             ],
             [
              0.5555555555555556,
              "#d8576b"
             ],
             [
              0.6666666666666666,
              "#ed7953"
             ],
             [
              0.7777777777777778,
              "#fb9f3a"
             ],
             [
              0.8888888888888888,
              "#fdca26"
             ],
             [
              1,
              "#f0f921"
             ]
            ],
            "type": "surface"
           }
          ],
          "table": [
           {
            "cells": {
             "fill": {
              "color": "#EBF0F8"
             },
             "line": {
              "color": "white"
             }
            },
            "header": {
             "fill": {
              "color": "#C8D4E3"
             },
             "line": {
              "color": "white"
             }
            },
            "type": "table"
           }
          ]
         },
         "layout": {
          "annotationdefaults": {
           "arrowcolor": "#2a3f5f",
           "arrowhead": 0,
           "arrowwidth": 1
          },
          "autotypenumbers": "strict",
          "coloraxis": {
           "colorbar": {
            "outlinewidth": 0,
            "ticks": ""
           }
          },
          "colorscale": {
           "diverging": [
            [
             0,
             "#8e0152"
            ],
            [
             0.1,
             "#c51b7d"
            ],
            [
             0.2,
             "#de77ae"
            ],
            [
             0.3,
             "#f1b6da"
            ],
            [
             0.4,
             "#fde0ef"
            ],
            [
             0.5,
             "#f7f7f7"
            ],
            [
             0.6,
             "#e6f5d0"
            ],
            [
             0.7,
             "#b8e186"
            ],
            [
             0.8,
             "#7fbc41"
            ],
            [
             0.9,
             "#4d9221"
            ],
            [
             1,
             "#276419"
            ]
           ],
           "sequential": [
            [
             0,
             "#0d0887"
            ],
            [
             0.1111111111111111,
             "#46039f"
            ],
            [
             0.2222222222222222,
             "#7201a8"
            ],
            [
             0.3333333333333333,
             "#9c179e"
            ],
            [
             0.4444444444444444,
             "#bd3786"
            ],
            [
             0.5555555555555556,
             "#d8576b"
            ],
            [
             0.6666666666666666,
             "#ed7953"
            ],
            [
             0.7777777777777778,
             "#fb9f3a"
            ],
            [
             0.8888888888888888,
             "#fdca26"
            ],
            [
             1,
             "#f0f921"
            ]
           ],
           "sequentialminus": [
            [
             0,
             "#0d0887"
            ],
            [
             0.1111111111111111,
             "#46039f"
            ],
            [
             0.2222222222222222,
             "#7201a8"
            ],
            [
             0.3333333333333333,
             "#9c179e"
            ],
            [
             0.4444444444444444,
             "#bd3786"
            ],
            [
             0.5555555555555556,
             "#d8576b"
            ],
            [
             0.6666666666666666,
             "#ed7953"
            ],
            [
             0.7777777777777778,
             "#fb9f3a"
            ],
            [
             0.8888888888888888,
             "#fdca26"
            ],
            [
             1,
             "#f0f921"
            ]
           ]
          },
          "colorway": [
           "#636efa",
           "#EF553B",
           "#00cc96",
           "#ab63fa",
           "#FFA15A",
           "#19d3f3",
           "#FF6692",
           "#B6E880",
           "#FF97FF",
           "#FECB52"
          ],
          "font": {
           "color": "#2a3f5f"
          },
          "geo": {
           "bgcolor": "white",
           "lakecolor": "white",
           "landcolor": "#E5ECF6",
           "showlakes": true,
           "showland": true,
           "subunitcolor": "white"
          },
          "hoverlabel": {
           "align": "left"
          },
          "hovermode": "closest",
          "mapbox": {
           "style": "light"
          },
          "paper_bgcolor": "white",
          "plot_bgcolor": "#E5ECF6",
          "polar": {
           "angularaxis": {
            "gridcolor": "white",
            "linecolor": "white",
            "ticks": ""
           },
           "bgcolor": "#E5ECF6",
           "radialaxis": {
            "gridcolor": "white",
            "linecolor": "white",
            "ticks": ""
           }
          },
          "scene": {
           "xaxis": {
            "backgroundcolor": "#E5ECF6",
            "gridcolor": "white",
            "gridwidth": 2,
            "linecolor": "white",
            "showbackground": true,
            "ticks": "",
            "zerolinecolor": "white"
           },
           "yaxis": {
            "backgroundcolor": "#E5ECF6",
            "gridcolor": "white",
            "gridwidth": 2,
            "linecolor": "white",
            "showbackground": true,
            "ticks": "",
            "zerolinecolor": "white"
           },
           "zaxis": {
            "backgroundcolor": "#E5ECF6",
            "gridcolor": "white",
            "gridwidth": 2,
            "linecolor": "white",
            "showbackground": true,
            "ticks": "",
            "zerolinecolor": "white"
           }
          },
          "shapedefaults": {
           "line": {
            "color": "#2a3f5f"
           }
          },
          "ternary": {
           "aaxis": {
            "gridcolor": "white",
            "linecolor": "white",
            "ticks": ""
           },
           "baxis": {
            "gridcolor": "white",
            "linecolor": "white",
            "ticks": ""
           },
           "bgcolor": "#E5ECF6",
           "caxis": {
            "gridcolor": "white",
            "linecolor": "white",
            "ticks": ""
           }
          },
          "title": {
           "x": 0.05
          },
          "xaxis": {
           "automargin": true,
           "gridcolor": "white",
           "linecolor": "white",
           "ticks": "",
           "title": {
            "standoff": 15
           },
           "zerolinecolor": "white",
           "zerolinewidth": 2
          },
          "yaxis": {
           "automargin": true,
           "gridcolor": "white",
           "linecolor": "white",
           "ticks": "",
           "title": {
            "standoff": 15
           },
           "zerolinecolor": "white",
           "zerolinewidth": 2
          }
         }
        },
        "xaxis": {
         "anchor": "y",
         "domain": [
          0,
          1
         ],
         "title": {
          "text": "month"
         }
        },
        "yaxis": {
         "anchor": "x",
         "domain": [
          0,
          1
         ],
         "title": {
          "text": "value"
         }
        }
       }
      },
      "text/html": [
       "<div>                            <div id=\"764711f8-caf2-4c26-b18f-ae9df7f5622f\" class=\"plotly-graph-div\" style=\"height:525px; width:100%;\"></div>            <script type=\"text/javascript\">                require([\"plotly\"], function(Plotly) {                    window.PLOTLYENV=window.PLOTLYENV || {};                                    if (document.getElementById(\"764711f8-caf2-4c26-b18f-ae9df7f5622f\")) {                    Plotly.newPlot(                        \"764711f8-caf2-4c26-b18f-ae9df7f5622f\",                        [{\"hovertemplate\":\"variable=heating_temperature<br>month=%{x}<br>value=%{y}<extra></extra>\",\"legendgroup\":\"heating_temperature\",\"line\":{\"color\":\"#636efa\",\"dash\":\"solid\"},\"mode\":\"lines\",\"name\":\"heating_temperature\",\"orientation\":\"v\",\"showlegend\":true,\"type\":\"scatter\",\"x\":[1,4,5,6,7,10,11,12],\"xaxis\":\"x\",\"y\":[32.35,33.501999999999995,32.65416666666666,32.48356164383563,33.28103448275862,31.50253164556961,34.53103448275862,34.32881355932203],\"yaxis\":\"y\"},{\"hovertemplate\":\"variable=cooling_temperature<br>month=%{x}<br>value=%{y}<extra></extra>\",\"legendgroup\":\"cooling_temperature\",\"line\":{\"color\":\"#EF553B\",\"dash\":\"solid\"},\"mode\":\"lines\",\"name\":\"cooling_temperature\",\"orientation\":\"v\",\"showlegend\":true,\"type\":\"scatter\",\"x\":[1,4,5,6,7,10,11,12],\"xaxis\":\"x\",\"y\":[18.928571428571427,20.414285714285715,19.930136986301363,20.112000000000002,23.78421052631579,20.38,21.914285714285715,16.18],\"yaxis\":\"y\"}],                        {\"legend\":{\"title\":{\"text\":\"variable\"},\"tracegroupgap\":0},\"margin\":{\"t\":60},\"template\":{\"data\":{\"bar\":[{\"error_x\":{\"color\":\"#2a3f5f\"},\"error_y\":{\"color\":\"#2a3f5f\"},\"marker\":{\"line\":{\"color\":\"#E5ECF6\",\"width\":0.5},\"pattern\":{\"fillmode\":\"overlay\",\"size\":10,\"solidity\":0.2}},\"type\":\"bar\"}],\"barpolar\":[{\"marker\":{\"line\":{\"color\":\"#E5ECF6\",\"width\":0.5},\"pattern\":{\"fillmode\":\"overlay\",\"size\":10,\"solidity\":0.2}},\"type\":\"barpolar\"}],\"carpet\":[{\"aaxis\":{\"endlinecolor\":\"#2a3f5f\",\"gridcolor\":\"white\",\"linecolor\":\"white\",\"minorgridcolor\":\"white\",\"startlinecolor\":\"#2a3f5f\"},\"baxis\":{\"endlinecolor\":\"#2a3f5f\",\"gridcolor\":\"white\",\"linecolor\":\"white\",\"minorgridcolor\":\"white\",\"startlinecolor\":\"#2a3f5f\"},\"type\":\"carpet\"}],\"choropleth\":[{\"colorbar\":{\"outlinewidth\":0,\"ticks\":\"\"},\"type\":\"choropleth\"}],\"contour\":[{\"colorbar\":{\"outlinewidth\":0,\"ticks\":\"\"},\"colorscale\":[[0.0,\"#0d0887\"],[0.1111111111111111,\"#46039f\"],[0.2222222222222222,\"#7201a8\"],[0.3333333333333333,\"#9c179e\"],[0.4444444444444444,\"#bd3786\"],[0.5555555555555556,\"#d8576b\"],[0.6666666666666666,\"#ed7953\"],[0.7777777777777778,\"#fb9f3a\"],[0.8888888888888888,\"#fdca26\"],[1.0,\"#f0f921\"]],\"type\":\"contour\"}],\"contourcarpet\":[{\"colorbar\":{\"outlinewidth\":0,\"ticks\":\"\"},\"type\":\"contourcarpet\"}],\"heatmap\":[{\"colorbar\":{\"outlinewidth\":0,\"ticks\":\"\"},\"colorscale\":[[0.0,\"#0d0887\"],[0.1111111111111111,\"#46039f\"],[0.2222222222222222,\"#7201a8\"],[0.3333333333333333,\"#9c179e\"],[0.4444444444444444,\"#bd3786\"],[0.5555555555555556,\"#d8576b\"],[0.6666666666666666,\"#ed7953\"],[0.7777777777777778,\"#fb9f3a\"],[0.8888888888888888,\"#fdca26\"],[1.0,\"#f0f921\"]],\"type\":\"heatmap\"}],\"heatmapgl\":[{\"colorbar\":{\"outlinewidth\":0,\"ticks\":\"\"},\"colorscale\":[[0.0,\"#0d0887\"],[0.1111111111111111,\"#46039f\"],[0.2222222222222222,\"#7201a8\"],[0.3333333333333333,\"#9c179e\"],[0.4444444444444444,\"#bd3786\"],[0.5555555555555556,\"#d8576b\"],[0.6666666666666666,\"#ed7953\"],[0.7777777777777778,\"#fb9f3a\"],[0.8888888888888888,\"#fdca26\"],[1.0,\"#f0f921\"]],\"type\":\"heatmapgl\"}],\"histogram\":[{\"marker\":{\"pattern\":{\"fillmode\":\"overlay\",\"size\":10,\"solidity\":0.2}},\"type\":\"histogram\"}],\"histogram2d\":[{\"colorbar\":{\"outlinewidth\":0,\"ticks\":\"\"},\"colorscale\":[[0.0,\"#0d0887\"],[0.1111111111111111,\"#46039f\"],[0.2222222222222222,\"#7201a8\"],[0.3333333333333333,\"#9c179e\"],[0.4444444444444444,\"#bd3786\"],[0.5555555555555556,\"#d8576b\"],[0.6666666666666666,\"#ed7953\"],[0.7777777777777778,\"#fb9f3a\"],[0.8888888888888888,\"#fdca26\"],[1.0,\"#f0f921\"]],\"type\":\"histogram2d\"}],\"histogram2dcontour\":[{\"colorbar\":{\"outlinewidth\":0,\"ticks\":\"\"},\"colorscale\":[[0.0,\"#0d0887\"],[0.1111111111111111,\"#46039f\"],[0.2222222222222222,\"#7201a8\"],[0.3333333333333333,\"#9c179e\"],[0.4444444444444444,\"#bd3786\"],[0.5555555555555556,\"#d8576b\"],[0.6666666666666666,\"#ed7953\"],[0.7777777777777778,\"#fb9f3a\"],[0.8888888888888888,\"#fdca26\"],[1.0,\"#f0f921\"]],\"type\":\"histogram2dcontour\"}],\"mesh3d\":[{\"colorbar\":{\"outlinewidth\":0,\"ticks\":\"\"},\"type\":\"mesh3d\"}],\"parcoords\":[{\"line\":{\"colorbar\":{\"outlinewidth\":0,\"ticks\":\"\"}},\"type\":\"parcoords\"}],\"pie\":[{\"automargin\":true,\"type\":\"pie\"}],\"scatter\":[{\"marker\":{\"colorbar\":{\"outlinewidth\":0,\"ticks\":\"\"}},\"type\":\"scatter\"}],\"scatter3d\":[{\"line\":{\"colorbar\":{\"outlinewidth\":0,\"ticks\":\"\"}},\"marker\":{\"colorbar\":{\"outlinewidth\":0,\"ticks\":\"\"}},\"type\":\"scatter3d\"}],\"scattercarpet\":[{\"marker\":{\"colorbar\":{\"outlinewidth\":0,\"ticks\":\"\"}},\"type\":\"scattercarpet\"}],\"scattergeo\":[{\"marker\":{\"colorbar\":{\"outlinewidth\":0,\"ticks\":\"\"}},\"type\":\"scattergeo\"}],\"scattergl\":[{\"marker\":{\"colorbar\":{\"outlinewidth\":0,\"ticks\":\"\"}},\"type\":\"scattergl\"}],\"scattermapbox\":[{\"marker\":{\"colorbar\":{\"outlinewidth\":0,\"ticks\":\"\"}},\"type\":\"scattermapbox\"}],\"scatterpolar\":[{\"marker\":{\"colorbar\":{\"outlinewidth\":0,\"ticks\":\"\"}},\"type\":\"scatterpolar\"}],\"scatterpolargl\":[{\"marker\":{\"colorbar\":{\"outlinewidth\":0,\"ticks\":\"\"}},\"type\":\"scatterpolargl\"}],\"scatterternary\":[{\"marker\":{\"colorbar\":{\"outlinewidth\":0,\"ticks\":\"\"}},\"type\":\"scatterternary\"}],\"surface\":[{\"colorbar\":{\"outlinewidth\":0,\"ticks\":\"\"},\"colorscale\":[[0.0,\"#0d0887\"],[0.1111111111111111,\"#46039f\"],[0.2222222222222222,\"#7201a8\"],[0.3333333333333333,\"#9c179e\"],[0.4444444444444444,\"#bd3786\"],[0.5555555555555556,\"#d8576b\"],[0.6666666666666666,\"#ed7953\"],[0.7777777777777778,\"#fb9f3a\"],[0.8888888888888888,\"#fdca26\"],[1.0,\"#f0f921\"]],\"type\":\"surface\"}],\"table\":[{\"cells\":{\"fill\":{\"color\":\"#EBF0F8\"},\"line\":{\"color\":\"white\"}},\"header\":{\"fill\":{\"color\":\"#C8D4E3\"},\"line\":{\"color\":\"white\"}},\"type\":\"table\"}]},\"layout\":{\"annotationdefaults\":{\"arrowcolor\":\"#2a3f5f\",\"arrowhead\":0,\"arrowwidth\":1},\"autotypenumbers\":\"strict\",\"coloraxis\":{\"colorbar\":{\"outlinewidth\":0,\"ticks\":\"\"}},\"colorscale\":{\"diverging\":[[0,\"#8e0152\"],[0.1,\"#c51b7d\"],[0.2,\"#de77ae\"],[0.3,\"#f1b6da\"],[0.4,\"#fde0ef\"],[0.5,\"#f7f7f7\"],[0.6,\"#e6f5d0\"],[0.7,\"#b8e186\"],[0.8,\"#7fbc41\"],[0.9,\"#4d9221\"],[1,\"#276419\"]],\"sequential\":[[0.0,\"#0d0887\"],[0.1111111111111111,\"#46039f\"],[0.2222222222222222,\"#7201a8\"],[0.3333333333333333,\"#9c179e\"],[0.4444444444444444,\"#bd3786\"],[0.5555555555555556,\"#d8576b\"],[0.6666666666666666,\"#ed7953\"],[0.7777777777777778,\"#fb9f3a\"],[0.8888888888888888,\"#fdca26\"],[1.0,\"#f0f921\"]],\"sequentialminus\":[[0.0,\"#0d0887\"],[0.1111111111111111,\"#46039f\"],[0.2222222222222222,\"#7201a8\"],[0.3333333333333333,\"#9c179e\"],[0.4444444444444444,\"#bd3786\"],[0.5555555555555556,\"#d8576b\"],[0.6666666666666666,\"#ed7953\"],[0.7777777777777778,\"#fb9f3a\"],[0.8888888888888888,\"#fdca26\"],[1.0,\"#f0f921\"]]},\"colorway\":[\"#636efa\",\"#EF553B\",\"#00cc96\",\"#ab63fa\",\"#FFA15A\",\"#19d3f3\",\"#FF6692\",\"#B6E880\",\"#FF97FF\",\"#FECB52\"],\"font\":{\"color\":\"#2a3f5f\"},\"geo\":{\"bgcolor\":\"white\",\"lakecolor\":\"white\",\"landcolor\":\"#E5ECF6\",\"showlakes\":true,\"showland\":true,\"subunitcolor\":\"white\"},\"hoverlabel\":{\"align\":\"left\"},\"hovermode\":\"closest\",\"mapbox\":{\"style\":\"light\"},\"paper_bgcolor\":\"white\",\"plot_bgcolor\":\"#E5ECF6\",\"polar\":{\"angularaxis\":{\"gridcolor\":\"white\",\"linecolor\":\"white\",\"ticks\":\"\"},\"bgcolor\":\"#E5ECF6\",\"radialaxis\":{\"gridcolor\":\"white\",\"linecolor\":\"white\",\"ticks\":\"\"}},\"scene\":{\"xaxis\":{\"backgroundcolor\":\"#E5ECF6\",\"gridcolor\":\"white\",\"gridwidth\":2,\"linecolor\":\"white\",\"showbackground\":true,\"ticks\":\"\",\"zerolinecolor\":\"white\"},\"yaxis\":{\"backgroundcolor\":\"#E5ECF6\",\"gridcolor\":\"white\",\"gridwidth\":2,\"linecolor\":\"white\",\"showbackground\":true,\"ticks\":\"\",\"zerolinecolor\":\"white\"},\"zaxis\":{\"backgroundcolor\":\"#E5ECF6\",\"gridcolor\":\"white\",\"gridwidth\":2,\"linecolor\":\"white\",\"showbackground\":true,\"ticks\":\"\",\"zerolinecolor\":\"white\"}},\"shapedefaults\":{\"line\":{\"color\":\"#2a3f5f\"}},\"ternary\":{\"aaxis\":{\"gridcolor\":\"white\",\"linecolor\":\"white\",\"ticks\":\"\"},\"baxis\":{\"gridcolor\":\"white\",\"linecolor\":\"white\",\"ticks\":\"\"},\"bgcolor\":\"#E5ECF6\",\"caxis\":{\"gridcolor\":\"white\",\"linecolor\":\"white\",\"ticks\":\"\"}},\"title\":{\"x\":0.05},\"xaxis\":{\"automargin\":true,\"gridcolor\":\"white\",\"linecolor\":\"white\",\"ticks\":\"\",\"title\":{\"standoff\":15},\"zerolinecolor\":\"white\",\"zerolinewidth\":2},\"yaxis\":{\"automargin\":true,\"gridcolor\":\"white\",\"linecolor\":\"white\",\"ticks\":\"\",\"title\":{\"standoff\":15},\"zerolinecolor\":\"white\",\"zerolinewidth\":2}}},\"xaxis\":{\"anchor\":\"y\",\"domain\":[0.0,1.0],\"title\":{\"text\":\"month\"}},\"yaxis\":{\"anchor\":\"x\",\"domain\":[0.0,1.0],\"title\":{\"text\":\"value\"}}},                        {\"responsive\": true}                    ).then(function(){\n",
       "                            \n",
       "var gd = document.getElementById('764711f8-caf2-4c26-b18f-ae9df7f5622f');\n",
       "var x = new MutationObserver(function (mutations, observer) {{\n",
       "        var display = window.getComputedStyle(gd).display;\n",
       "        if (!display || display === 'none') {{\n",
       "            console.log([gd, 'removed!']);\n",
       "            Plotly.purge(gd);\n",
       "            observer.disconnect();\n",
       "        }}\n",
       "}});\n",
       "\n",
       "// Listen for the removal of the full notebook cells\n",
       "var notebookContainer = gd.closest('#notebook-container');\n",
       "if (notebookContainer) {{\n",
       "    x.observe(notebookContainer, {childList: true});\n",
       "}}\n",
       "\n",
       "// Listen for the clearing of the current output cell\n",
       "var outputEl = gd.closest('.output');\n",
       "if (outputEl) {{\n",
       "    x.observe(outputEl, {childList: true});\n",
       "}}\n",
       "\n",
       "                        })                };                });            </script>        </div>"
      ]
     },
     "metadata": {},
     "output_type": "display_data"
    }
   ],
   "source": [
    "df['month'] = df['datetime'].apply(lambda x: x.month)\n",
    "dfmonth = df.groupby(pd.Grouper(key='month')).mean()\n",
    "\n",
    "dfmonth.sort_index(inplace=True)\n",
    "fig = px.line(dfmonth, y=[\"heating_temperature\",\"cooling_temperature\"])\n",
    "fig.show()"
   ]
  },
  {
   "cell_type": "code",
   "execution_count": 168,
   "metadata": {},
   "outputs": [
    {
     "data": {
      "application/vnd.plotly.v1+json": {
       "config": {
        "plotlyServerURL": "https://plot.ly"
       },
       "data": [
        {
         "hovertemplate": "variable=heating_temperature<br>hour=%{x}<br>value=%{y}<extra></extra>",
         "legendgroup": "heating_temperature",
         "line": {
          "color": "#636efa",
          "dash": "solid"
         },
         "mode": "lines",
         "name": "heating_temperature",
         "orientation": "v",
         "showlegend": true,
         "type": "scatter",
         "x": [
          0,
          1,
          2,
          3,
          4,
          5,
          6,
          7,
          8,
          9,
          10,
          11,
          12,
          13,
          14,
          15,
          16,
          17,
          18,
          19,
          20,
          21,
          22,
          23
         ],
         "xaxis": "x",
         "y": [
          35.660000000000004,
          35.91333333333333,
          36.29090909090909,
          37.03333333333333,
          37.16666666666667,
          36.84444444444445,
          36.730000000000004,
          33.80714285714286,
          29.30740740740741,
          29.19574468085106,
          30.099999999999998,
          31.35192307692307,
          32.56530612244899,
          33.235593220338984,
          33.12833333333332,
          33.6015873015873,
          33.809999999999995,
          33.82439024390244,
          34.15294117647059,
          34.2,
          34.650000000000006,
          34.68181818181819,
          34.81666666666667,
          35.266666666666666
         ],
         "yaxis": "y"
        },
        {
         "hovertemplate": "variable=cooling_temperature<br>hour=%{x}<br>value=%{y}<extra></extra>",
         "legendgroup": "cooling_temperature",
         "line": {
          "color": "#EF553B",
          "dash": "solid"
         },
         "mode": "lines",
         "name": "cooling_temperature",
         "orientation": "v",
         "showlegend": true,
         "type": "scatter",
         "x": [
          0,
          1,
          2,
          3,
          4,
          5,
          6,
          7,
          8,
          9,
          10,
          11,
          12,
          13,
          14,
          15,
          16,
          17,
          18,
          19,
          20,
          21,
          22,
          23
         ],
         "xaxis": "x",
         "y": [
          null,
          null,
          null,
          null,
          null,
          null,
          null,
          22,
          21.65333333333334,
          22.374358974358973,
          18.036842105263155,
          22.06774193548387,
          20.904166666666672,
          21.735,
          22.893103448275863,
          21.450000000000003,
          23.466666666666665,
          22.589473684210525,
          20.025,
          17.566666666666666,
          15,
          23.5,
          15.033333333333333,
          15
         ],
         "yaxis": "y"
        }
       ],
       "layout": {
        "legend": {
         "title": {
          "text": "variable"
         },
         "tracegroupgap": 0
        },
        "margin": {
         "t": 60
        },
        "template": {
         "data": {
          "bar": [
           {
            "error_x": {
             "color": "#2a3f5f"
            },
            "error_y": {
             "color": "#2a3f5f"
            },
            "marker": {
             "line": {
              "color": "#E5ECF6",
              "width": 0.5
             },
             "pattern": {
              "fillmode": "overlay",
              "size": 10,
              "solidity": 0.2
             }
            },
            "type": "bar"
           }
          ],
          "barpolar": [
           {
            "marker": {
             "line": {
              "color": "#E5ECF6",
              "width": 0.5
             },
             "pattern": {
              "fillmode": "overlay",
              "size": 10,
              "solidity": 0.2
             }
            },
            "type": "barpolar"
           }
          ],
          "carpet": [
           {
            "aaxis": {
             "endlinecolor": "#2a3f5f",
             "gridcolor": "white",
             "linecolor": "white",
             "minorgridcolor": "white",
             "startlinecolor": "#2a3f5f"
            },
            "baxis": {
             "endlinecolor": "#2a3f5f",
             "gridcolor": "white",
             "linecolor": "white",
             "minorgridcolor": "white",
             "startlinecolor": "#2a3f5f"
            },
            "type": "carpet"
           }
          ],
          "choropleth": [
           {
            "colorbar": {
             "outlinewidth": 0,
             "ticks": ""
            },
            "type": "choropleth"
           }
          ],
          "contour": [
           {
            "colorbar": {
             "outlinewidth": 0,
             "ticks": ""
            },
            "colorscale": [
             [
              0,
              "#0d0887"
             ],
             [
              0.1111111111111111,
              "#46039f"
             ],
             [
              0.2222222222222222,
              "#7201a8"
             ],
             [
              0.3333333333333333,
              "#9c179e"
             ],
             [
              0.4444444444444444,
              "#bd3786"
             ],
             [
              0.5555555555555556,
              "#d8576b"
             ],
             [
              0.6666666666666666,
              "#ed7953"
             ],
             [
              0.7777777777777778,
              "#fb9f3a"
             ],
             [
              0.8888888888888888,
              "#fdca26"
             ],
             [
              1,
              "#f0f921"
             ]
            ],
            "type": "contour"
           }
          ],
          "contourcarpet": [
           {
            "colorbar": {
             "outlinewidth": 0,
             "ticks": ""
            },
            "type": "contourcarpet"
           }
          ],
          "heatmap": [
           {
            "colorbar": {
             "outlinewidth": 0,
             "ticks": ""
            },
            "colorscale": [
             [
              0,
              "#0d0887"
             ],
             [
              0.1111111111111111,
              "#46039f"
             ],
             [
              0.2222222222222222,
              "#7201a8"
             ],
             [
              0.3333333333333333,
              "#9c179e"
             ],
             [
              0.4444444444444444,
              "#bd3786"
             ],
             [
              0.5555555555555556,
              "#d8576b"
             ],
             [
              0.6666666666666666,
              "#ed7953"
             ],
             [
              0.7777777777777778,
              "#fb9f3a"
             ],
             [
              0.8888888888888888,
              "#fdca26"
             ],
             [
              1,
              "#f0f921"
             ]
            ],
            "type": "heatmap"
           }
          ],
          "heatmapgl": [
           {
            "colorbar": {
             "outlinewidth": 0,
             "ticks": ""
            },
            "colorscale": [
             [
              0,
              "#0d0887"
             ],
             [
              0.1111111111111111,
              "#46039f"
             ],
             [
              0.2222222222222222,
              "#7201a8"
             ],
             [
              0.3333333333333333,
              "#9c179e"
             ],
             [
              0.4444444444444444,
              "#bd3786"
             ],
             [
              0.5555555555555556,
              "#d8576b"
             ],
             [
              0.6666666666666666,
              "#ed7953"
             ],
             [
              0.7777777777777778,
              "#fb9f3a"
             ],
             [
              0.8888888888888888,
              "#fdca26"
             ],
             [
              1,
              "#f0f921"
             ]
            ],
            "type": "heatmapgl"
           }
          ],
          "histogram": [
           {
            "marker": {
             "pattern": {
              "fillmode": "overlay",
              "size": 10,
              "solidity": 0.2
             }
            },
            "type": "histogram"
           }
          ],
          "histogram2d": [
           {
            "colorbar": {
             "outlinewidth": 0,
             "ticks": ""
            },
            "colorscale": [
             [
              0,
              "#0d0887"
             ],
             [
              0.1111111111111111,
              "#46039f"
             ],
             [
              0.2222222222222222,
              "#7201a8"
             ],
             [
              0.3333333333333333,
              "#9c179e"
             ],
             [
              0.4444444444444444,
              "#bd3786"
             ],
             [
              0.5555555555555556,
              "#d8576b"
             ],
             [
              0.6666666666666666,
              "#ed7953"
             ],
             [
              0.7777777777777778,
              "#fb9f3a"
             ],
             [
              0.8888888888888888,
              "#fdca26"
             ],
             [
              1,
              "#f0f921"
             ]
            ],
            "type": "histogram2d"
           }
          ],
          "histogram2dcontour": [
           {
            "colorbar": {
             "outlinewidth": 0,
             "ticks": ""
            },
            "colorscale": [
             [
              0,
              "#0d0887"
             ],
             [
              0.1111111111111111,
              "#46039f"
             ],
             [
              0.2222222222222222,
              "#7201a8"
             ],
             [
              0.3333333333333333,
              "#9c179e"
             ],
             [
              0.4444444444444444,
              "#bd3786"
             ],
             [
              0.5555555555555556,
              "#d8576b"
             ],
             [
              0.6666666666666666,
              "#ed7953"
             ],
             [
              0.7777777777777778,
              "#fb9f3a"
             ],
             [
              0.8888888888888888,
              "#fdca26"
             ],
             [
              1,
              "#f0f921"
             ]
            ],
            "type": "histogram2dcontour"
           }
          ],
          "mesh3d": [
           {
            "colorbar": {
             "outlinewidth": 0,
             "ticks": ""
            },
            "type": "mesh3d"
           }
          ],
          "parcoords": [
           {
            "line": {
             "colorbar": {
              "outlinewidth": 0,
              "ticks": ""
             }
            },
            "type": "parcoords"
           }
          ],
          "pie": [
           {
            "automargin": true,
            "type": "pie"
           }
          ],
          "scatter": [
           {
            "marker": {
             "colorbar": {
              "outlinewidth": 0,
              "ticks": ""
             }
            },
            "type": "scatter"
           }
          ],
          "scatter3d": [
           {
            "line": {
             "colorbar": {
              "outlinewidth": 0,
              "ticks": ""
             }
            },
            "marker": {
             "colorbar": {
              "outlinewidth": 0,
              "ticks": ""
             }
            },
            "type": "scatter3d"
           }
          ],
          "scattercarpet": [
           {
            "marker": {
             "colorbar": {
              "outlinewidth": 0,
              "ticks": ""
             }
            },
            "type": "scattercarpet"
           }
          ],
          "scattergeo": [
           {
            "marker": {
             "colorbar": {
              "outlinewidth": 0,
              "ticks": ""
             }
            },
            "type": "scattergeo"
           }
          ],
          "scattergl": [
           {
            "marker": {
             "colorbar": {
              "outlinewidth": 0,
              "ticks": ""
             }
            },
            "type": "scattergl"
           }
          ],
          "scattermapbox": [
           {
            "marker": {
             "colorbar": {
              "outlinewidth": 0,
              "ticks": ""
             }
            },
            "type": "scattermapbox"
           }
          ],
          "scatterpolar": [
           {
            "marker": {
             "colorbar": {
              "outlinewidth": 0,
              "ticks": ""
             }
            },
            "type": "scatterpolar"
           }
          ],
          "scatterpolargl": [
           {
            "marker": {
             "colorbar": {
              "outlinewidth": 0,
              "ticks": ""
             }
            },
            "type": "scatterpolargl"
           }
          ],
          "scatterternary": [
           {
            "marker": {
             "colorbar": {
              "outlinewidth": 0,
              "ticks": ""
             }
            },
            "type": "scatterternary"
           }
          ],
          "surface": [
           {
            "colorbar": {
             "outlinewidth": 0,
             "ticks": ""
            },
            "colorscale": [
             [
              0,
              "#0d0887"
             ],
             [
              0.1111111111111111,
              "#46039f"
             ],
             [
              0.2222222222222222,
              "#7201a8"
             ],
             [
              0.3333333333333333,
              "#9c179e"
             ],
             [
              0.4444444444444444,
              "#bd3786"
             ],
             [
              0.5555555555555556,
              "#d8576b"
             ],
             [
              0.6666666666666666,
              "#ed7953"
             ],
             [
              0.7777777777777778,
              "#fb9f3a"
             ],
             [
              0.8888888888888888,
              "#fdca26"
             ],
             [
              1,
              "#f0f921"
             ]
            ],
            "type": "surface"
           }
          ],
          "table": [
           {
            "cells": {
             "fill": {
              "color": "#EBF0F8"
             },
             "line": {
              "color": "white"
             }
            },
            "header": {
             "fill": {
              "color": "#C8D4E3"
             },
             "line": {
              "color": "white"
             }
            },
            "type": "table"
           }
          ]
         },
         "layout": {
          "annotationdefaults": {
           "arrowcolor": "#2a3f5f",
           "arrowhead": 0,
           "arrowwidth": 1
          },
          "autotypenumbers": "strict",
          "coloraxis": {
           "colorbar": {
            "outlinewidth": 0,
            "ticks": ""
           }
          },
          "colorscale": {
           "diverging": [
            [
             0,
             "#8e0152"
            ],
            [
             0.1,
             "#c51b7d"
            ],
            [
             0.2,
             "#de77ae"
            ],
            [
             0.3,
             "#f1b6da"
            ],
            [
             0.4,
             "#fde0ef"
            ],
            [
             0.5,
             "#f7f7f7"
            ],
            [
             0.6,
             "#e6f5d0"
            ],
            [
             0.7,
             "#b8e186"
            ],
            [
             0.8,
             "#7fbc41"
            ],
            [
             0.9,
             "#4d9221"
            ],
            [
             1,
             "#276419"
            ]
           ],
           "sequential": [
            [
             0,
             "#0d0887"
            ],
            [
             0.1111111111111111,
             "#46039f"
            ],
            [
             0.2222222222222222,
             "#7201a8"
            ],
            [
             0.3333333333333333,
             "#9c179e"
            ],
            [
             0.4444444444444444,
             "#bd3786"
            ],
            [
             0.5555555555555556,
             "#d8576b"
            ],
            [
             0.6666666666666666,
             "#ed7953"
            ],
            [
             0.7777777777777778,
             "#fb9f3a"
            ],
            [
             0.8888888888888888,
             "#fdca26"
            ],
            [
             1,
             "#f0f921"
            ]
           ],
           "sequentialminus": [
            [
             0,
             "#0d0887"
            ],
            [
             0.1111111111111111,
             "#46039f"
            ],
            [
             0.2222222222222222,
             "#7201a8"
            ],
            [
             0.3333333333333333,
             "#9c179e"
            ],
            [
             0.4444444444444444,
             "#bd3786"
            ],
            [
             0.5555555555555556,
             "#d8576b"
            ],
            [
             0.6666666666666666,
             "#ed7953"
            ],
            [
             0.7777777777777778,
             "#fb9f3a"
            ],
            [
             0.8888888888888888,
             "#fdca26"
            ],
            [
             1,
             "#f0f921"
            ]
           ]
          },
          "colorway": [
           "#636efa",
           "#EF553B",
           "#00cc96",
           "#ab63fa",
           "#FFA15A",
           "#19d3f3",
           "#FF6692",
           "#B6E880",
           "#FF97FF",
           "#FECB52"
          ],
          "font": {
           "color": "#2a3f5f"
          },
          "geo": {
           "bgcolor": "white",
           "lakecolor": "white",
           "landcolor": "#E5ECF6",
           "showlakes": true,
           "showland": true,
           "subunitcolor": "white"
          },
          "hoverlabel": {
           "align": "left"
          },
          "hovermode": "closest",
          "mapbox": {
           "style": "light"
          },
          "paper_bgcolor": "white",
          "plot_bgcolor": "#E5ECF6",
          "polar": {
           "angularaxis": {
            "gridcolor": "white",
            "linecolor": "white",
            "ticks": ""
           },
           "bgcolor": "#E5ECF6",
           "radialaxis": {
            "gridcolor": "white",
            "linecolor": "white",
            "ticks": ""
           }
          },
          "scene": {
           "xaxis": {
            "backgroundcolor": "#E5ECF6",
            "gridcolor": "white",
            "gridwidth": 2,
            "linecolor": "white",
            "showbackground": true,
            "ticks": "",
            "zerolinecolor": "white"
           },
           "yaxis": {
            "backgroundcolor": "#E5ECF6",
            "gridcolor": "white",
            "gridwidth": 2,
            "linecolor": "white",
            "showbackground": true,
            "ticks": "",
            "zerolinecolor": "white"
           },
           "zaxis": {
            "backgroundcolor": "#E5ECF6",
            "gridcolor": "white",
            "gridwidth": 2,
            "linecolor": "white",
            "showbackground": true,
            "ticks": "",
            "zerolinecolor": "white"
           }
          },
          "shapedefaults": {
           "line": {
            "color": "#2a3f5f"
           }
          },
          "ternary": {
           "aaxis": {
            "gridcolor": "white",
            "linecolor": "white",
            "ticks": ""
           },
           "baxis": {
            "gridcolor": "white",
            "linecolor": "white",
            "ticks": ""
           },
           "bgcolor": "#E5ECF6",
           "caxis": {
            "gridcolor": "white",
            "linecolor": "white",
            "ticks": ""
           }
          },
          "title": {
           "x": 0.05
          },
          "xaxis": {
           "automargin": true,
           "gridcolor": "white",
           "linecolor": "white",
           "ticks": "",
           "title": {
            "standoff": 15
           },
           "zerolinecolor": "white",
           "zerolinewidth": 2
          },
          "yaxis": {
           "automargin": true,
           "gridcolor": "white",
           "linecolor": "white",
           "ticks": "",
           "title": {
            "standoff": 15
           },
           "zerolinecolor": "white",
           "zerolinewidth": 2
          }
         }
        },
        "xaxis": {
         "anchor": "y",
         "domain": [
          0,
          1
         ],
         "title": {
          "text": "hour"
         }
        },
        "yaxis": {
         "anchor": "x",
         "domain": [
          0,
          1
         ],
         "title": {
          "text": "value"
         }
        }
       }
      },
      "text/html": [
       "<div>                            <div id=\"d6e08685-16c9-41ac-ab22-336e98d7da6e\" class=\"plotly-graph-div\" style=\"height:525px; width:100%;\"></div>            <script type=\"text/javascript\">                require([\"plotly\"], function(Plotly) {                    window.PLOTLYENV=window.PLOTLYENV || {};                                    if (document.getElementById(\"d6e08685-16c9-41ac-ab22-336e98d7da6e\")) {                    Plotly.newPlot(                        \"d6e08685-16c9-41ac-ab22-336e98d7da6e\",                        [{\"hovertemplate\":\"variable=heating_temperature<br>hour=%{x}<br>value=%{y}<extra></extra>\",\"legendgroup\":\"heating_temperature\",\"line\":{\"color\":\"#636efa\",\"dash\":\"solid\"},\"mode\":\"lines\",\"name\":\"heating_temperature\",\"orientation\":\"v\",\"showlegend\":true,\"type\":\"scatter\",\"x\":[0,1,2,3,4,5,6,7,8,9,10,11,12,13,14,15,16,17,18,19,20,21,22,23],\"xaxis\":\"x\",\"y\":[35.660000000000004,35.91333333333333,36.29090909090909,37.03333333333333,37.16666666666667,36.84444444444445,36.730000000000004,33.80714285714286,29.30740740740741,29.19574468085106,30.099999999999998,31.35192307692307,32.56530612244899,33.235593220338984,33.12833333333332,33.6015873015873,33.809999999999995,33.82439024390244,34.15294117647059,34.2,34.650000000000006,34.68181818181819,34.81666666666667,35.266666666666666],\"yaxis\":\"y\"},{\"hovertemplate\":\"variable=cooling_temperature<br>hour=%{x}<br>value=%{y}<extra></extra>\",\"legendgroup\":\"cooling_temperature\",\"line\":{\"color\":\"#EF553B\",\"dash\":\"solid\"},\"mode\":\"lines\",\"name\":\"cooling_temperature\",\"orientation\":\"v\",\"showlegend\":true,\"type\":\"scatter\",\"x\":[0,1,2,3,4,5,6,7,8,9,10,11,12,13,14,15,16,17,18,19,20,21,22,23],\"xaxis\":\"x\",\"y\":[null,null,null,null,null,null,null,22.0,21.65333333333334,22.374358974358973,18.036842105263155,22.06774193548387,20.904166666666672,21.735,22.893103448275863,21.450000000000003,23.466666666666665,22.589473684210525,20.025,17.566666666666666,15.0,23.5,15.033333333333333,15.0],\"yaxis\":\"y\"}],                        {\"legend\":{\"title\":{\"text\":\"variable\"},\"tracegroupgap\":0},\"margin\":{\"t\":60},\"template\":{\"data\":{\"bar\":[{\"error_x\":{\"color\":\"#2a3f5f\"},\"error_y\":{\"color\":\"#2a3f5f\"},\"marker\":{\"line\":{\"color\":\"#E5ECF6\",\"width\":0.5},\"pattern\":{\"fillmode\":\"overlay\",\"size\":10,\"solidity\":0.2}},\"type\":\"bar\"}],\"barpolar\":[{\"marker\":{\"line\":{\"color\":\"#E5ECF6\",\"width\":0.5},\"pattern\":{\"fillmode\":\"overlay\",\"size\":10,\"solidity\":0.2}},\"type\":\"barpolar\"}],\"carpet\":[{\"aaxis\":{\"endlinecolor\":\"#2a3f5f\",\"gridcolor\":\"white\",\"linecolor\":\"white\",\"minorgridcolor\":\"white\",\"startlinecolor\":\"#2a3f5f\"},\"baxis\":{\"endlinecolor\":\"#2a3f5f\",\"gridcolor\":\"white\",\"linecolor\":\"white\",\"minorgridcolor\":\"white\",\"startlinecolor\":\"#2a3f5f\"},\"type\":\"carpet\"}],\"choropleth\":[{\"colorbar\":{\"outlinewidth\":0,\"ticks\":\"\"},\"type\":\"choropleth\"}],\"contour\":[{\"colorbar\":{\"outlinewidth\":0,\"ticks\":\"\"},\"colorscale\":[[0.0,\"#0d0887\"],[0.1111111111111111,\"#46039f\"],[0.2222222222222222,\"#7201a8\"],[0.3333333333333333,\"#9c179e\"],[0.4444444444444444,\"#bd3786\"],[0.5555555555555556,\"#d8576b\"],[0.6666666666666666,\"#ed7953\"],[0.7777777777777778,\"#fb9f3a\"],[0.8888888888888888,\"#fdca26\"],[1.0,\"#f0f921\"]],\"type\":\"contour\"}],\"contourcarpet\":[{\"colorbar\":{\"outlinewidth\":0,\"ticks\":\"\"},\"type\":\"contourcarpet\"}],\"heatmap\":[{\"colorbar\":{\"outlinewidth\":0,\"ticks\":\"\"},\"colorscale\":[[0.0,\"#0d0887\"],[0.1111111111111111,\"#46039f\"],[0.2222222222222222,\"#7201a8\"],[0.3333333333333333,\"#9c179e\"],[0.4444444444444444,\"#bd3786\"],[0.5555555555555556,\"#d8576b\"],[0.6666666666666666,\"#ed7953\"],[0.7777777777777778,\"#fb9f3a\"],[0.8888888888888888,\"#fdca26\"],[1.0,\"#f0f921\"]],\"type\":\"heatmap\"}],\"heatmapgl\":[{\"colorbar\":{\"outlinewidth\":0,\"ticks\":\"\"},\"colorscale\":[[0.0,\"#0d0887\"],[0.1111111111111111,\"#46039f\"],[0.2222222222222222,\"#7201a8\"],[0.3333333333333333,\"#9c179e\"],[0.4444444444444444,\"#bd3786\"],[0.5555555555555556,\"#d8576b\"],[0.6666666666666666,\"#ed7953\"],[0.7777777777777778,\"#fb9f3a\"],[0.8888888888888888,\"#fdca26\"],[1.0,\"#f0f921\"]],\"type\":\"heatmapgl\"}],\"histogram\":[{\"marker\":{\"pattern\":{\"fillmode\":\"overlay\",\"size\":10,\"solidity\":0.2}},\"type\":\"histogram\"}],\"histogram2d\":[{\"colorbar\":{\"outlinewidth\":0,\"ticks\":\"\"},\"colorscale\":[[0.0,\"#0d0887\"],[0.1111111111111111,\"#46039f\"],[0.2222222222222222,\"#7201a8\"],[0.3333333333333333,\"#9c179e\"],[0.4444444444444444,\"#bd3786\"],[0.5555555555555556,\"#d8576b\"],[0.6666666666666666,\"#ed7953\"],[0.7777777777777778,\"#fb9f3a\"],[0.8888888888888888,\"#fdca26\"],[1.0,\"#f0f921\"]],\"type\":\"histogram2d\"}],\"histogram2dcontour\":[{\"colorbar\":{\"outlinewidth\":0,\"ticks\":\"\"},\"colorscale\":[[0.0,\"#0d0887\"],[0.1111111111111111,\"#46039f\"],[0.2222222222222222,\"#7201a8\"],[0.3333333333333333,\"#9c179e\"],[0.4444444444444444,\"#bd3786\"],[0.5555555555555556,\"#d8576b\"],[0.6666666666666666,\"#ed7953\"],[0.7777777777777778,\"#fb9f3a\"],[0.8888888888888888,\"#fdca26\"],[1.0,\"#f0f921\"]],\"type\":\"histogram2dcontour\"}],\"mesh3d\":[{\"colorbar\":{\"outlinewidth\":0,\"ticks\":\"\"},\"type\":\"mesh3d\"}],\"parcoords\":[{\"line\":{\"colorbar\":{\"outlinewidth\":0,\"ticks\":\"\"}},\"type\":\"parcoords\"}],\"pie\":[{\"automargin\":true,\"type\":\"pie\"}],\"scatter\":[{\"marker\":{\"colorbar\":{\"outlinewidth\":0,\"ticks\":\"\"}},\"type\":\"scatter\"}],\"scatter3d\":[{\"line\":{\"colorbar\":{\"outlinewidth\":0,\"ticks\":\"\"}},\"marker\":{\"colorbar\":{\"outlinewidth\":0,\"ticks\":\"\"}},\"type\":\"scatter3d\"}],\"scattercarpet\":[{\"marker\":{\"colorbar\":{\"outlinewidth\":0,\"ticks\":\"\"}},\"type\":\"scattercarpet\"}],\"scattergeo\":[{\"marker\":{\"colorbar\":{\"outlinewidth\":0,\"ticks\":\"\"}},\"type\":\"scattergeo\"}],\"scattergl\":[{\"marker\":{\"colorbar\":{\"outlinewidth\":0,\"ticks\":\"\"}},\"type\":\"scattergl\"}],\"scattermapbox\":[{\"marker\":{\"colorbar\":{\"outlinewidth\":0,\"ticks\":\"\"}},\"type\":\"scattermapbox\"}],\"scatterpolar\":[{\"marker\":{\"colorbar\":{\"outlinewidth\":0,\"ticks\":\"\"}},\"type\":\"scatterpolar\"}],\"scatterpolargl\":[{\"marker\":{\"colorbar\":{\"outlinewidth\":0,\"ticks\":\"\"}},\"type\":\"scatterpolargl\"}],\"scatterternary\":[{\"marker\":{\"colorbar\":{\"outlinewidth\":0,\"ticks\":\"\"}},\"type\":\"scatterternary\"}],\"surface\":[{\"colorbar\":{\"outlinewidth\":0,\"ticks\":\"\"},\"colorscale\":[[0.0,\"#0d0887\"],[0.1111111111111111,\"#46039f\"],[0.2222222222222222,\"#7201a8\"],[0.3333333333333333,\"#9c179e\"],[0.4444444444444444,\"#bd3786\"],[0.5555555555555556,\"#d8576b\"],[0.6666666666666666,\"#ed7953\"],[0.7777777777777778,\"#fb9f3a\"],[0.8888888888888888,\"#fdca26\"],[1.0,\"#f0f921\"]],\"type\":\"surface\"}],\"table\":[{\"cells\":{\"fill\":{\"color\":\"#EBF0F8\"},\"line\":{\"color\":\"white\"}},\"header\":{\"fill\":{\"color\":\"#C8D4E3\"},\"line\":{\"color\":\"white\"}},\"type\":\"table\"}]},\"layout\":{\"annotationdefaults\":{\"arrowcolor\":\"#2a3f5f\",\"arrowhead\":0,\"arrowwidth\":1},\"autotypenumbers\":\"strict\",\"coloraxis\":{\"colorbar\":{\"outlinewidth\":0,\"ticks\":\"\"}},\"colorscale\":{\"diverging\":[[0,\"#8e0152\"],[0.1,\"#c51b7d\"],[0.2,\"#de77ae\"],[0.3,\"#f1b6da\"],[0.4,\"#fde0ef\"],[0.5,\"#f7f7f7\"],[0.6,\"#e6f5d0\"],[0.7,\"#b8e186\"],[0.8,\"#7fbc41\"],[0.9,\"#4d9221\"],[1,\"#276419\"]],\"sequential\":[[0.0,\"#0d0887\"],[0.1111111111111111,\"#46039f\"],[0.2222222222222222,\"#7201a8\"],[0.3333333333333333,\"#9c179e\"],[0.4444444444444444,\"#bd3786\"],[0.5555555555555556,\"#d8576b\"],[0.6666666666666666,\"#ed7953\"],[0.7777777777777778,\"#fb9f3a\"],[0.8888888888888888,\"#fdca26\"],[1.0,\"#f0f921\"]],\"sequentialminus\":[[0.0,\"#0d0887\"],[0.1111111111111111,\"#46039f\"],[0.2222222222222222,\"#7201a8\"],[0.3333333333333333,\"#9c179e\"],[0.4444444444444444,\"#bd3786\"],[0.5555555555555556,\"#d8576b\"],[0.6666666666666666,\"#ed7953\"],[0.7777777777777778,\"#fb9f3a\"],[0.8888888888888888,\"#fdca26\"],[1.0,\"#f0f921\"]]},\"colorway\":[\"#636efa\",\"#EF553B\",\"#00cc96\",\"#ab63fa\",\"#FFA15A\",\"#19d3f3\",\"#FF6692\",\"#B6E880\",\"#FF97FF\",\"#FECB52\"],\"font\":{\"color\":\"#2a3f5f\"},\"geo\":{\"bgcolor\":\"white\",\"lakecolor\":\"white\",\"landcolor\":\"#E5ECF6\",\"showlakes\":true,\"showland\":true,\"subunitcolor\":\"white\"},\"hoverlabel\":{\"align\":\"left\"},\"hovermode\":\"closest\",\"mapbox\":{\"style\":\"light\"},\"paper_bgcolor\":\"white\",\"plot_bgcolor\":\"#E5ECF6\",\"polar\":{\"angularaxis\":{\"gridcolor\":\"white\",\"linecolor\":\"white\",\"ticks\":\"\"},\"bgcolor\":\"#E5ECF6\",\"radialaxis\":{\"gridcolor\":\"white\",\"linecolor\":\"white\",\"ticks\":\"\"}},\"scene\":{\"xaxis\":{\"backgroundcolor\":\"#E5ECF6\",\"gridcolor\":\"white\",\"gridwidth\":2,\"linecolor\":\"white\",\"showbackground\":true,\"ticks\":\"\",\"zerolinecolor\":\"white\"},\"yaxis\":{\"backgroundcolor\":\"#E5ECF6\",\"gridcolor\":\"white\",\"gridwidth\":2,\"linecolor\":\"white\",\"showbackground\":true,\"ticks\":\"\",\"zerolinecolor\":\"white\"},\"zaxis\":{\"backgroundcolor\":\"#E5ECF6\",\"gridcolor\":\"white\",\"gridwidth\":2,\"linecolor\":\"white\",\"showbackground\":true,\"ticks\":\"\",\"zerolinecolor\":\"white\"}},\"shapedefaults\":{\"line\":{\"color\":\"#2a3f5f\"}},\"ternary\":{\"aaxis\":{\"gridcolor\":\"white\",\"linecolor\":\"white\",\"ticks\":\"\"},\"baxis\":{\"gridcolor\":\"white\",\"linecolor\":\"white\",\"ticks\":\"\"},\"bgcolor\":\"#E5ECF6\",\"caxis\":{\"gridcolor\":\"white\",\"linecolor\":\"white\",\"ticks\":\"\"}},\"title\":{\"x\":0.05},\"xaxis\":{\"automargin\":true,\"gridcolor\":\"white\",\"linecolor\":\"white\",\"ticks\":\"\",\"title\":{\"standoff\":15},\"zerolinecolor\":\"white\",\"zerolinewidth\":2},\"yaxis\":{\"automargin\":true,\"gridcolor\":\"white\",\"linecolor\":\"white\",\"ticks\":\"\",\"title\":{\"standoff\":15},\"zerolinecolor\":\"white\",\"zerolinewidth\":2}}},\"xaxis\":{\"anchor\":\"y\",\"domain\":[0.0,1.0],\"title\":{\"text\":\"hour\"}},\"yaxis\":{\"anchor\":\"x\",\"domain\":[0.0,1.0],\"title\":{\"text\":\"value\"}}},                        {\"responsive\": true}                    ).then(function(){\n",
       "                            \n",
       "var gd = document.getElementById('d6e08685-16c9-41ac-ab22-336e98d7da6e');\n",
       "var x = new MutationObserver(function (mutations, observer) {{\n",
       "        var display = window.getComputedStyle(gd).display;\n",
       "        if (!display || display === 'none') {{\n",
       "            console.log([gd, 'removed!']);\n",
       "            Plotly.purge(gd);\n",
       "            observer.disconnect();\n",
       "        }}\n",
       "}});\n",
       "\n",
       "// Listen for the removal of the full notebook cells\n",
       "var notebookContainer = gd.closest('#notebook-container');\n",
       "if (notebookContainer) {{\n",
       "    x.observe(notebookContainer, {childList: true});\n",
       "}}\n",
       "\n",
       "// Listen for the clearing of the current output cell\n",
       "var outputEl = gd.closest('.output');\n",
       "if (outputEl) {{\n",
       "    x.observe(outputEl, {childList: true});\n",
       "}}\n",
       "\n",
       "                        })                };                });            </script>        </div>"
      ]
     },
     "metadata": {},
     "output_type": "display_data"
    }
   ],
   "source": [
    "import plotly.express as px\n",
    "\n",
    "df['hour'] = df['datetime'].apply(lambda x: x.hour)\n",
    "dfday = df.groupby(pd.Grouper(key='hour')).mean()\n",
    "dfday.sort_index(inplace=True)\n",
    "fig = px.line(dfday, y=[\"heating_temperature\",\"cooling_temperature\"])\n",
    "fig.show()"
   ]
  },
  {
   "cell_type": "markdown",
   "metadata": {},
   "source": [
    "<div class=\"alert alert-block alert-info\">\n",
    "<b>Note:</b> Seasonality not relevant at first place.\n",
    "</div>"
   ]
  },
  {
   "cell_type": "markdown",
   "metadata": {},
   "source": [
    "## 4. Summary\n",
    "- Gaps in time and temperature values (especially cooling temp.) are too large and frequent for any data interpolation to fill gaps\n",
    "- Any Fourier-transform based or (auto-)correlation based evaluation in the time domain is not possible due to unregular data points\n",
    "- Time variable (delta-t) is highly unbalanced 80% confined, 20% widely spread (maybe log transformation, or conversion to binary data)\n",
    "- There are clear patterns:\n",
    "    - mostly two consecutive non-NaN-cooling temperatures after iregular delta-t\n",
    "    - two patterns in heating/cooling scattering plot (hT ~ cT +2 °C and constant cT ~ 15°C)\n",
    "- Seasonality rather unimportant\n",
    "- Hypothesis: Only previous values determine the next ones"
   ]
  },
  {
   "cell_type": "code",
   "execution_count": null,
   "metadata": {},
   "outputs": [],
   "source": []
  }
 ],
 "metadata": {
  "kernelspec": {
   "display_name": "Python 3",
   "language": "python",
   "name": "python3"
  },
  "language_info": {
   "codemirror_mode": {
    "name": "ipython",
    "version": 3
   },
   "file_extension": ".py",
   "mimetype": "text/x-python",
   "name": "python",
   "nbconvert_exporter": "python",
   "pygments_lexer": "ipython3",
   "version": "3.7.4"
  }
 },
 "nbformat": 4,
 "nbformat_minor": 2
}
