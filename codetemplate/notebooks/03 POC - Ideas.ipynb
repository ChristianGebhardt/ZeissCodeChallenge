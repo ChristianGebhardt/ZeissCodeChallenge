{
 "cells": [
  {
   "cell_type": "markdown",
   "metadata": {},
   "source": [
    "## Overview\n",
    "I came up with three rough ideas what to do with the data\n",
    "1. Idea: model the data as markov process (only last state determines the following one)\n",
    "2. Idea: usage of unsupervised anomaly detection based on the data of two consecutive time stamps\n",
    "3. Idea: usage of knowledge on \"normal\" behaviour to label some data set and use supervised learning (good with more context information)"
   ]
  },
  {
   "cell_type": "markdown",
   "metadata": {},
   "source": [
    "## Idea 1\n",
    "There are some \"states\" in the time series with typical transitions.\n",
    "\n",
    "\n",
    "| State     | Specification           | Typical transition |\n",
    "| --- | --- | --- |\n",
    "| 1 \"start\" | time interval irrelevant<br />hT ~ cT+2 °C| 1->2<br />1->4|\n",
    "| 2 \"hc\" | heating hT~30-35 °C <br />cT ~ 15 °C| 2->3<br />2->1<br />2->4|\n",
    "| 2 \"h\" | heating hT~30-35 °C <br />cT  is NaN| 3->3<br />3->1<br />3->4|\n",
    "| 4 \"anomaly\" | none | all|\n",
    "\n",
    "This could be modelled by a hidden-markov-process with non-Gaussian emission distributions. There are 2 challenges:\n",
    "- How to deal with NaN-values? We could set them to a fix value\n",
    "- How to deal with the time-distribution? We could cap the time intervals to some value or go to a log-scale in time."
   ]
  },
  {
   "cell_type": "markdown",
   "metadata": {},
   "source": [
    "<div class=\"alert alert-block alert-info\">\n",
    "<b>Note:</b> This idea might reproduce the data very well and identify anomalies. However, the effort was beyond the scope of this coding challenge.\n",
    "</div>"
   ]
  },
  {
   "cell_type": "markdown",
   "metadata": {},
   "source": [
    "## Idea 2\n",
    "According to the previous thoughts (idea 1), all the necessary information is given by the current state and the previous state. We can combine the information at a time (time interval, heating temperature, cooling temperature) with the values of the previous time for unsupervised training (e.g. Isolation Forest)."
   ]
  },
  {
   "cell_type": "code",
   "execution_count": 151,
   "metadata": {
    "scrolled": true
   },
   "outputs": [
    {
     "data": {
      "text/html": [
       "<div>\n",
       "<style scoped>\n",
       "    .dataframe tbody tr th:only-of-type {\n",
       "        vertical-align: middle;\n",
       "    }\n",
       "\n",
       "    .dataframe tbody tr th {\n",
       "        vertical-align: top;\n",
       "    }\n",
       "\n",
       "    .dataframe thead th {\n",
       "        text-align: right;\n",
       "    }\n",
       "</style>\n",
       "<table border=\"1\" class=\"dataframe\">\n",
       "  <thead>\n",
       "    <tr style=\"text-align: right;\">\n",
       "      <th></th>\n",
       "      <th>datetime</th>\n",
       "      <th>heating_temperature</th>\n",
       "      <th>cooling_temperature</th>\n",
       "    </tr>\n",
       "  </thead>\n",
       "  <tbody>\n",
       "    <tr>\n",
       "      <th>0</th>\n",
       "      <td>2019-04-13 17:51:16</td>\n",
       "      <td>33.3</td>\n",
       "      <td>15.0</td>\n",
       "    </tr>\n",
       "    <tr>\n",
       "      <th>1</th>\n",
       "      <td>2019-04-13 18:51:18</td>\n",
       "      <td>34.0</td>\n",
       "      <td>NaN</td>\n",
       "    </tr>\n",
       "    <tr>\n",
       "      <th>2</th>\n",
       "      <td>2019-04-13 19:51:20</td>\n",
       "      <td>33.8</td>\n",
       "      <td>NaN</td>\n",
       "    </tr>\n",
       "    <tr>\n",
       "      <th>3</th>\n",
       "      <td>2019-04-13 20:51:21</td>\n",
       "      <td>34.2</td>\n",
       "      <td>NaN</td>\n",
       "    </tr>\n",
       "    <tr>\n",
       "      <th>4</th>\n",
       "      <td>2019-04-13 21:51:23</td>\n",
       "      <td>34.5</td>\n",
       "      <td>NaN</td>\n",
       "    </tr>\n",
       "  </tbody>\n",
       "</table>\n",
       "</div>"
      ],
      "text/plain": [
       "             datetime  heating_temperature  cooling_temperature\n",
       "0 2019-04-13 17:51:16                 33.3                 15.0\n",
       "1 2019-04-13 18:51:18                 34.0                  NaN\n",
       "2 2019-04-13 19:51:20                 33.8                  NaN\n",
       "3 2019-04-13 20:51:21                 34.2                  NaN\n",
       "4 2019-04-13 21:51:23                 34.5                  NaN"
      ]
     },
     "execution_count": 151,
     "metadata": {},
     "output_type": "execute_result"
    }
   ],
   "source": [
    "import pandas as pd\n",
    "\n",
    "df = pd.read_csv(\"../../data/\" + \"MICDEV001_2019-04-13_2020-01-24.csv\")\n",
    "df[\"datetime\"] = pd.to_datetime(df[\"datetime\"])\n",
    "\n",
    "df.head()"
   ]
  },
  {
   "cell_type": "markdown",
   "metadata": {},
   "source": [
    "- Convert data to delta-T \n",
    "- Duplicate & shift data by 1\n",
    "- Replace NaN-values and large delta-T"
   ]
  },
  {
   "cell_type": "code",
   "execution_count": 152,
   "metadata": {
    "scrolled": true
   },
   "outputs": [
    {
     "data": {
      "text/html": [
       "<div>\n",
       "<style scoped>\n",
       "    .dataframe tbody tr th:only-of-type {\n",
       "        vertical-align: middle;\n",
       "    }\n",
       "\n",
       "    .dataframe tbody tr th {\n",
       "        vertical-align: top;\n",
       "    }\n",
       "\n",
       "    .dataframe thead th {\n",
       "        text-align: right;\n",
       "    }\n",
       "</style>\n",
       "<table border=\"1\" class=\"dataframe\">\n",
       "  <thead>\n",
       "    <tr style=\"text-align: right;\">\n",
       "      <th></th>\n",
       "      <th>datetime</th>\n",
       "      <th>heating_temperature</th>\n",
       "      <th>cooling_temperature</th>\n",
       "      <th>delta_T</th>\n",
       "      <th>hT_prev</th>\n",
       "      <th>cT_prev</th>\n",
       "      <th>delta_T_prev</th>\n",
       "    </tr>\n",
       "  </thead>\n",
       "  <tbody>\n",
       "    <tr>\n",
       "      <th>0</th>\n",
       "      <td>2019-04-13 17:51:16</td>\n",
       "      <td>33.3</td>\n",
       "      <td>15.0</td>\n",
       "      <td>20000.0</td>\n",
       "      <td>51.0</td>\n",
       "      <td>-11.0</td>\n",
       "      <td>20000.0</td>\n",
       "    </tr>\n",
       "    <tr>\n",
       "      <th>1</th>\n",
       "      <td>2019-04-13 18:51:18</td>\n",
       "      <td>34.0</td>\n",
       "      <td>-11.0</td>\n",
       "      <td>3602.0</td>\n",
       "      <td>33.3</td>\n",
       "      <td>15.0</td>\n",
       "      <td>20000.0</td>\n",
       "    </tr>\n",
       "    <tr>\n",
       "      <th>2</th>\n",
       "      <td>2019-04-13 19:51:20</td>\n",
       "      <td>33.8</td>\n",
       "      <td>-11.0</td>\n",
       "      <td>3602.0</td>\n",
       "      <td>34.0</td>\n",
       "      <td>-11.0</td>\n",
       "      <td>3602.0</td>\n",
       "    </tr>\n",
       "    <tr>\n",
       "      <th>3</th>\n",
       "      <td>2019-04-13 20:51:21</td>\n",
       "      <td>34.2</td>\n",
       "      <td>-11.0</td>\n",
       "      <td>3601.0</td>\n",
       "      <td>33.8</td>\n",
       "      <td>-11.0</td>\n",
       "      <td>3602.0</td>\n",
       "    </tr>\n",
       "    <tr>\n",
       "      <th>4</th>\n",
       "      <td>2019-04-13 21:51:23</td>\n",
       "      <td>34.5</td>\n",
       "      <td>-11.0</td>\n",
       "      <td>3602.0</td>\n",
       "      <td>34.2</td>\n",
       "      <td>-11.0</td>\n",
       "      <td>3601.0</td>\n",
       "    </tr>\n",
       "  </tbody>\n",
       "</table>\n",
       "</div>"
      ],
      "text/plain": [
       "             datetime  heating_temperature  cooling_temperature  delta_T  \\\n",
       "0 2019-04-13 17:51:16                 33.3                 15.0  20000.0   \n",
       "1 2019-04-13 18:51:18                 34.0                -11.0   3602.0   \n",
       "2 2019-04-13 19:51:20                 33.8                -11.0   3602.0   \n",
       "3 2019-04-13 20:51:21                 34.2                -11.0   3601.0   \n",
       "4 2019-04-13 21:51:23                 34.5                -11.0   3602.0   \n",
       "\n",
       "   hT_prev  cT_prev  delta_T_prev  \n",
       "0     51.0    -11.0       20000.0  \n",
       "1     33.3     15.0       20000.0  \n",
       "2     34.0    -11.0        3602.0  \n",
       "3     33.8    -11.0        3602.0  \n",
       "4     34.2    -11.0        3601.0  "
      ]
     },
     "execution_count": 152,
     "metadata": {},
     "output_type": "execute_result"
    }
   ],
   "source": [
    "if_df = df.copy()\n",
    "\n",
    "maxVal = 20000 # set a maximum value for the time interval\n",
    "hTnan = 51     # replace NaN-value with constant far from distribution\n",
    "cTnan = -11    # replace NaN-value with constant far from distribution\n",
    "\n",
    "\n",
    "if_df['heating_temperature'] = if_df['heating_temperature'].fillna(hTnan)\n",
    "if_df['cooling_temperature'] = if_df['cooling_temperature'].fillna(-11)\n",
    "\n",
    "if_df['delta_T'] = if_df[\"datetime\"].diff() / np.timedelta64(1, 's')\n",
    "if_df['delta_T'] = if_df['delta_T'].fillna(maxVal)\n",
    "\n",
    "if_df[\"hT_prev\"] = if_df[\"heating_temperature\"].shift(1)\n",
    "if_df[\"cT_prev\"] = if_df[\"cooling_temperature\"].shift(1)\n",
    "if_df[\"delta_T_prev\"] = if_df['delta_T'].shift(1)\n",
    "\n",
    "if_df['hT_prev'] = if_df['hT_prev'].fillna(hTnan)\n",
    "if_df['cT_prev'] = if_df['cT_prev'].fillna(cTnan)\n",
    "if_df['delta_T_prev'] = if_df['delta_T_prev'].fillna(maxVal)\n",
    "\n",
    "if_df['delta_T'].clip(upper=maxVal)\n",
    "if_df['delta_T_prev'].clip(upper=maxVal)\n",
    "\n",
    "if_df.head()"
   ]
  },
  {
   "cell_type": "markdown",
   "metadata": {},
   "source": [
    "Use all information for fitting"
   ]
  },
  {
   "cell_type": "code",
   "execution_count": 167,
   "metadata": {
    "scrolled": false
   },
   "outputs": [
    {
     "data": {
      "text/html": [
       "<div>\n",
       "<style scoped>\n",
       "    .dataframe tbody tr th:only-of-type {\n",
       "        vertical-align: middle;\n",
       "    }\n",
       "\n",
       "    .dataframe tbody tr th {\n",
       "        vertical-align: top;\n",
       "    }\n",
       "\n",
       "    .dataframe thead th {\n",
       "        text-align: right;\n",
       "    }\n",
       "</style>\n",
       "<table border=\"1\" class=\"dataframe\">\n",
       "  <thead>\n",
       "    <tr style=\"text-align: right;\">\n",
       "      <th></th>\n",
       "      <th>datetime</th>\n",
       "      <th>heating_temperature</th>\n",
       "      <th>cooling_temperature</th>\n",
       "      <th>delta_T</th>\n",
       "      <th>hT_prev</th>\n",
       "      <th>cT_prev</th>\n",
       "      <th>delta_T_prev</th>\n",
       "      <th>result</th>\n",
       "    </tr>\n",
       "  </thead>\n",
       "  <tbody>\n",
       "    <tr>\n",
       "      <th>0</th>\n",
       "      <td>2019-04-13 17:51:16</td>\n",
       "      <td>33.3</td>\n",
       "      <td>15.0</td>\n",
       "      <td>20000.0</td>\n",
       "      <td>51.0</td>\n",
       "      <td>-11.0</td>\n",
       "      <td>20000.0</td>\n",
       "      <td>-1</td>\n",
       "    </tr>\n",
       "    <tr>\n",
       "      <th>1</th>\n",
       "      <td>2019-04-13 18:51:18</td>\n",
       "      <td>34.0</td>\n",
       "      <td>-11.0</td>\n",
       "      <td>3602.0</td>\n",
       "      <td>33.3</td>\n",
       "      <td>15.0</td>\n",
       "      <td>20000.0</td>\n",
       "      <td>1</td>\n",
       "    </tr>\n",
       "    <tr>\n",
       "      <th>2</th>\n",
       "      <td>2019-04-13 19:51:20</td>\n",
       "      <td>33.8</td>\n",
       "      <td>-11.0</td>\n",
       "      <td>3602.0</td>\n",
       "      <td>34.0</td>\n",
       "      <td>-11.0</td>\n",
       "      <td>3602.0</td>\n",
       "      <td>1</td>\n",
       "    </tr>\n",
       "    <tr>\n",
       "      <th>3</th>\n",
       "      <td>2019-04-13 20:51:21</td>\n",
       "      <td>34.2</td>\n",
       "      <td>-11.0</td>\n",
       "      <td>3601.0</td>\n",
       "      <td>33.8</td>\n",
       "      <td>-11.0</td>\n",
       "      <td>3602.0</td>\n",
       "      <td>1</td>\n",
       "    </tr>\n",
       "    <tr>\n",
       "      <th>4</th>\n",
       "      <td>2019-04-13 21:51:23</td>\n",
       "      <td>34.5</td>\n",
       "      <td>-11.0</td>\n",
       "      <td>3602.0</td>\n",
       "      <td>34.2</td>\n",
       "      <td>-11.0</td>\n",
       "      <td>3601.0</td>\n",
       "      <td>1</td>\n",
       "    </tr>\n",
       "  </tbody>\n",
       "</table>\n",
       "</div>"
      ],
      "text/plain": [
       "             datetime  heating_temperature  cooling_temperature  delta_T  \\\n",
       "0 2019-04-13 17:51:16                 33.3                 15.0  20000.0   \n",
       "1 2019-04-13 18:51:18                 34.0                -11.0   3602.0   \n",
       "2 2019-04-13 19:51:20                 33.8                -11.0   3602.0   \n",
       "3 2019-04-13 20:51:21                 34.2                -11.0   3601.0   \n",
       "4 2019-04-13 21:51:23                 34.5                -11.0   3602.0   \n",
       "\n",
       "   hT_prev  cT_prev  delta_T_prev  result  \n",
       "0     51.0    -11.0       20000.0      -1  \n",
       "1     33.3     15.0       20000.0       1  \n",
       "2     34.0    -11.0        3602.0       1  \n",
       "3     33.8    -11.0        3602.0       1  \n",
       "4     34.2    -11.0        3601.0       1  "
      ]
     },
     "execution_count": 167,
     "metadata": {},
     "output_type": "execute_result"
    }
   ],
   "source": [
    "from sklearn.ensemble import IsolationForest\n",
    "\n",
    "X = if_df[['delta_T','heating_temperature','cooling_temperature','delta_T_prev','hT_prev','cT_prev']].to_numpy()\n",
    "\n",
    "clf = IsolationForest(random_state=0).fit(X)\n",
    "result = clf.predict(X)\n",
    "\n",
    "if_df[\"result\"] = result\n",
    "\n",
    "if_df.head()"
   ]
  },
  {
   "cell_type": "markdown",
   "metadata": {},
   "source": [
    "Plot results"
   ]
  },
  {
   "cell_type": "code",
   "execution_count": 195,
   "metadata": {},
   "outputs": [
    {
     "data": {
      "image/png": "[encoded data removed]",
      "text/plain": [
       "<Figure size 432x288 with 1 Axes>"
      ]
     },
     "metadata": {
      "needs_background": "light"
     },
     "output_type": "display_data"
    }
   ],
   "source": [
    "import matplotlib.pyplot as plt\n",
    "import numpy as np\n",
    "\n",
    "max_x = 200  #zoom in data\n",
    "\n",
    "if_df['index'] = df.index\n",
    "\n",
    "x = if_df['index']\n",
    "y = if_df['heating_temperature']\n",
    "plt.plot(x, y, label=\"heating\")\n",
    "x = if_df['index']\n",
    "y = if_df['cooling_temperature']\n",
    "plt.plot(x, y, label=\"cooling\", ls='-.', linewidth=2)\n",
    "\n",
    "x = if_df[if_df[\"result\"]==-1]['index']\n",
    "y = if_df[if_df[\"result\"]==-1]['heating_temperature']\n",
    "plt.scatter(x, y, c='red')\n",
    "\n",
    "x = if_df[if_df[\"result\"]==-1]['index']\n",
    "y = if_df[if_df[\"result\"]==-1]['cooling_temperature']\n",
    "plt.scatter(x, y, c='red')\n",
    "plt.ylim(-15,60)\n",
    "plt.xlim(0,max_x)\n",
    "plt.legend(loc=\"upper right\")\n",
    "plt.ylabel(\"Temperature [°C]\")\n",
    "\n",
    "ax = plt.gca()\n",
    "ax.set_yticks([-11,0,10,20,30,40,51])\n",
    "ax.set_yticklabels([\"NaN\",0,10,20,30,40,\"NaN\"])\n",
    "\n",
    "plt.show()"
   ]
  },
  {
   "cell_type": "markdown",
   "metadata": {},
   "source": [
    "Ignore time information"
   ]
  },
  {
   "cell_type": "code",
   "execution_count": 166,
   "metadata": {},
   "outputs": [
    {
     "data": {
      "text/html": [
       "<div>\n",
       "<style scoped>\n",
       "    .dataframe tbody tr th:only-of-type {\n",
       "        vertical-align: middle;\n",
       "    }\n",
       "\n",
       "    .dataframe tbody tr th {\n",
       "        vertical-align: top;\n",
       "    }\n",
       "\n",
       "    .dataframe thead th {\n",
       "        text-align: right;\n",
       "    }\n",
       "</style>\n",
       "<table border=\"1\" class=\"dataframe\">\n",
       "  <thead>\n",
       "    <tr style=\"text-align: right;\">\n",
       "      <th></th>\n",
       "      <th>datetime</th>\n",
       "      <th>heating_temperature</th>\n",
       "      <th>cooling_temperature</th>\n",
       "      <th>delta_T</th>\n",
       "      <th>hT_prev</th>\n",
       "      <th>cT_prev</th>\n",
       "      <th>delta_T_prev</th>\n",
       "      <th>result</th>\n",
       "    </tr>\n",
       "  </thead>\n",
       "  <tbody>\n",
       "    <tr>\n",
       "      <th>0</th>\n",
       "      <td>2019-04-13 17:51:16</td>\n",
       "      <td>33.3</td>\n",
       "      <td>15.0</td>\n",
       "      <td>20000.0</td>\n",
       "      <td>51.0</td>\n",
       "      <td>-11.0</td>\n",
       "      <td>20000.0</td>\n",
       "      <td>-1</td>\n",
       "    </tr>\n",
       "    <tr>\n",
       "      <th>1</th>\n",
       "      <td>2019-04-13 18:51:18</td>\n",
       "      <td>34.0</td>\n",
       "      <td>-11.0</td>\n",
       "      <td>3602.0</td>\n",
       "      <td>33.3</td>\n",
       "      <td>15.0</td>\n",
       "      <td>20000.0</td>\n",
       "      <td>1</td>\n",
       "    </tr>\n",
       "    <tr>\n",
       "      <th>2</th>\n",
       "      <td>2019-04-13 19:51:20</td>\n",
       "      <td>33.8</td>\n",
       "      <td>-11.0</td>\n",
       "      <td>3602.0</td>\n",
       "      <td>34.0</td>\n",
       "      <td>-11.0</td>\n",
       "      <td>3602.0</td>\n",
       "      <td>1</td>\n",
       "    </tr>\n",
       "    <tr>\n",
       "      <th>3</th>\n",
       "      <td>2019-04-13 20:51:21</td>\n",
       "      <td>34.2</td>\n",
       "      <td>-11.0</td>\n",
       "      <td>3601.0</td>\n",
       "      <td>33.8</td>\n",
       "      <td>-11.0</td>\n",
       "      <td>3602.0</td>\n",
       "      <td>1</td>\n",
       "    </tr>\n",
       "    <tr>\n",
       "      <th>4</th>\n",
       "      <td>2019-04-13 21:51:23</td>\n",
       "      <td>34.5</td>\n",
       "      <td>-11.0</td>\n",
       "      <td>3602.0</td>\n",
       "      <td>34.2</td>\n",
       "      <td>-11.0</td>\n",
       "      <td>3601.0</td>\n",
       "      <td>1</td>\n",
       "    </tr>\n",
       "  </tbody>\n",
       "</table>\n",
       "</div>"
      ],
      "text/plain": [
       "             datetime  heating_temperature  cooling_temperature  delta_T  \\\n",
       "0 2019-04-13 17:51:16                 33.3                 15.0  20000.0   \n",
       "1 2019-04-13 18:51:18                 34.0                -11.0   3602.0   \n",
       "2 2019-04-13 19:51:20                 33.8                -11.0   3602.0   \n",
       "3 2019-04-13 20:51:21                 34.2                -11.0   3601.0   \n",
       "4 2019-04-13 21:51:23                 34.5                -11.0   3602.0   \n",
       "\n",
       "   hT_prev  cT_prev  delta_T_prev  result  \n",
       "0     51.0    -11.0       20000.0      -1  \n",
       "1     33.3     15.0       20000.0       1  \n",
       "2     34.0    -11.0        3602.0       1  \n",
       "3     33.8    -11.0        3602.0       1  \n",
       "4     34.2    -11.0        3601.0       1  "
      ]
     },
     "execution_count": 166,
     "metadata": {},
     "output_type": "execute_result"
    }
   ],
   "source": [
    "from sklearn.ensemble import IsolationForest\n",
    "\n",
    "X = if_df[['heating_temperature','cooling_temperature','hT_prev','cT_prev']].to_numpy()\n",
    "\n",
    "clf = IsolationForest(random_state=0).fit(X)\n",
    "result = clf.predict(X)\n",
    "\n",
    "if_df[\"result\"] = result\n",
    "\n",
    "if_df.head()"
   ]
  },
  {
   "cell_type": "code",
   "execution_count": null,
   "metadata": {},
   "outputs": [],
   "source": []
  },
  {
   "cell_type": "markdown",
   "metadata": {},
   "source": [
    "## Idea 3\n",
    "We use the gathered information to manually annotate the data in a small training set and apply this to future datasets.\n",
    "\n",
    "This version is useful, when we have additional context and information about the data. E.g. A typical use case could be that a machine is started on an irregular basis (unregular time jumps), there is a fixed heating/cooling temperature, which might be adjusted in other data sets, etc.\n",
    "Whenever we have such information, we should use it."
   ]
  },
  {
   "cell_type": "code",
   "execution_count": 155,
   "metadata": {},
   "outputs": [
    {
     "data": {
      "text/html": [
       "<div>\n",
       "<style scoped>\n",
       "    .dataframe tbody tr th:only-of-type {\n",
       "        vertical-align: middle;\n",
       "    }\n",
       "\n",
       "    .dataframe tbody tr th {\n",
       "        vertical-align: top;\n",
       "    }\n",
       "\n",
       "    .dataframe thead th {\n",
       "        text-align: right;\n",
       "    }\n",
       "</style>\n",
       "<table border=\"1\" class=\"dataframe\">\n",
       "  <thead>\n",
       "    <tr style=\"text-align: right;\">\n",
       "      <th></th>\n",
       "      <th>datetime</th>\n",
       "      <th>heating_temperature</th>\n",
       "      <th>cooling_temperature</th>\n",
       "    </tr>\n",
       "  </thead>\n",
       "  <tbody>\n",
       "    <tr>\n",
       "      <th>0</th>\n",
       "      <td>2019-04-13 17:51:16</td>\n",
       "      <td>33.3</td>\n",
       "      <td>15.0</td>\n",
       "    </tr>\n",
       "    <tr>\n",
       "      <th>1</th>\n",
       "      <td>2019-04-13 18:51:18</td>\n",
       "      <td>34.0</td>\n",
       "      <td>NaN</td>\n",
       "    </tr>\n",
       "    <tr>\n",
       "      <th>2</th>\n",
       "      <td>2019-04-13 19:51:20</td>\n",
       "      <td>33.8</td>\n",
       "      <td>NaN</td>\n",
       "    </tr>\n",
       "    <tr>\n",
       "      <th>3</th>\n",
       "      <td>2019-04-13 20:51:21</td>\n",
       "      <td>34.2</td>\n",
       "      <td>NaN</td>\n",
       "    </tr>\n",
       "    <tr>\n",
       "      <th>4</th>\n",
       "      <td>2019-04-13 21:51:23</td>\n",
       "      <td>34.5</td>\n",
       "      <td>NaN</td>\n",
       "    </tr>\n",
       "  </tbody>\n",
       "</table>\n",
       "</div>"
      ],
      "text/plain": [
       "             datetime  heating_temperature  cooling_temperature\n",
       "0 2019-04-13 17:51:16                 33.3                 15.0\n",
       "1 2019-04-13 18:51:18                 34.0                  NaN\n",
       "2 2019-04-13 19:51:20                 33.8                  NaN\n",
       "3 2019-04-13 20:51:21                 34.2                  NaN\n",
       "4 2019-04-13 21:51:23                 34.5                  NaN"
      ]
     },
     "execution_count": 155,
     "metadata": {},
     "output_type": "execute_result"
    }
   ],
   "source": [
    "import pandas as pd\n",
    "\n",
    "df = pd.read_csv(\"../../data/\" + \"MICDEV001_2019-04-13_2020-01-24.csv\")\n",
    "df[\"datetime\"] = pd.to_datetime(df[\"datetime\"])\n",
    "\n",
    "df.head()"
   ]
  },
  {
   "cell_type": "markdown",
   "metadata": {},
   "source": [
    "## Manual annotation\n",
    "Hard coded proof of principle for state-machine / supervised learning\n",
    "\n",
    "This is an example of a potential annotation, which uses my assumptions on a normal behaviour (this might be wrong). Since I don't know the context, it is just an example, how it might work. "
   ]
  },
  {
   "cell_type": "code",
   "execution_count": 156,
   "metadata": {},
   "outputs": [
    {
     "data": {
      "text/html": [
       "<div>\n",
       "<style scoped>\n",
       "    .dataframe tbody tr th:only-of-type {\n",
       "        vertical-align: middle;\n",
       "    }\n",
       "\n",
       "    .dataframe tbody tr th {\n",
       "        vertical-align: top;\n",
       "    }\n",
       "\n",
       "    .dataframe thead th {\n",
       "        text-align: right;\n",
       "    }\n",
       "</style>\n",
       "<table border=\"1\" class=\"dataframe\">\n",
       "  <thead>\n",
       "    <tr style=\"text-align: right;\">\n",
       "      <th></th>\n",
       "      <th>datetime</th>\n",
       "      <th>heating_temperature</th>\n",
       "      <th>cooling_temperature</th>\n",
       "      <th>delta_T</th>\n",
       "      <th>state</th>\n",
       "    </tr>\n",
       "  </thead>\n",
       "  <tbody>\n",
       "    <tr>\n",
       "      <th>0</th>\n",
       "      <td>2019-04-13 17:51:16</td>\n",
       "      <td>33.3</td>\n",
       "      <td>15.0</td>\n",
       "      <td>NaN</td>\n",
       "      <td>hc</td>\n",
       "    </tr>\n",
       "    <tr>\n",
       "      <th>1</th>\n",
       "      <td>2019-04-13 18:51:18</td>\n",
       "      <td>34.0</td>\n",
       "      <td>NaN</td>\n",
       "      <td>3602.0</td>\n",
       "      <td>h</td>\n",
       "    </tr>\n",
       "    <tr>\n",
       "      <th>2</th>\n",
       "      <td>2019-04-13 19:51:20</td>\n",
       "      <td>33.8</td>\n",
       "      <td>NaN</td>\n",
       "      <td>3602.0</td>\n",
       "      <td>h</td>\n",
       "    </tr>\n",
       "    <tr>\n",
       "      <th>3</th>\n",
       "      <td>2019-04-13 20:51:21</td>\n",
       "      <td>34.2</td>\n",
       "      <td>NaN</td>\n",
       "      <td>3601.0</td>\n",
       "      <td>h</td>\n",
       "    </tr>\n",
       "    <tr>\n",
       "      <th>4</th>\n",
       "      <td>2019-04-13 21:51:23</td>\n",
       "      <td>34.5</td>\n",
       "      <td>NaN</td>\n",
       "      <td>3602.0</td>\n",
       "      <td>h</td>\n",
       "    </tr>\n",
       "  </tbody>\n",
       "</table>\n",
       "</div>"
      ],
      "text/plain": [
       "             datetime  heating_temperature  cooling_temperature  delta_T state\n",
       "0 2019-04-13 17:51:16                 33.3                 15.0      NaN    hc\n",
       "1 2019-04-13 18:51:18                 34.0                  NaN   3602.0     h\n",
       "2 2019-04-13 19:51:20                 33.8                  NaN   3602.0     h\n",
       "3 2019-04-13 20:51:21                 34.2                  NaN   3601.0     h\n",
       "4 2019-04-13 21:51:23                 34.5                  NaN   3602.0     h"
      ]
     },
     "execution_count": 156,
     "metadata": {},
     "output_type": "execute_result"
    }
   ],
   "source": [
    "import math\n",
    "\n",
    "df['delta_T'] = df[\"datetime\"].diff() / np.timedelta64(1, 's')\n",
    "\n",
    "df[\"state\"] = \"anomaly\"\n",
    "\n",
    "last_state = \"\"\n",
    "for index, row in df.iterrows():\n",
    "    if index==0:\n",
    "        df.at[index,\"state\"] =\"hc\"\n",
    "    else:\n",
    "        dT = row[\"delta_T\"]\n",
    "        ht = row[\"heating_temperature\"]\n",
    "        ct = row[\"cooling_temperature\"]\n",
    "        if (dT<3695 or dT>3605) and abs(ht-ct-2)<2:\n",
    "            df.at[index,\"state\"] =\"start\"\n",
    "        elif last_state in (\"start\",\"hc\",\"h\",\"anomaly\") and (dT>=3595 and dT<=3605) and ht>27.5 and (ct>14 and ct<16):\n",
    "            df.at[index,\"state\"] =\"hc\"\n",
    "        elif last_state==\"start\":\n",
    "            df.at[index,\"state\"] =\"anomaly\"\n",
    "        elif last_state in (\"hc\", \"h\") and (dT>=3595 and dT<=12*3605) and ht>27.5 and math.isnan(ct):\n",
    "            df.at[index,\"state\"] = \"h\"\n",
    "        elif last_state in (\"hc\", \"h\"):\n",
    "            df.at[index,\"state\"] =\"anomaly\"\n",
    "    last_state = df.at[index,\"state\"]\n",
    "    \n",
    "pd.set_option('display.max_rows', None)\n",
    "\n",
    "df.head()"
   ]
  },
  {
   "cell_type": "markdown",
   "metadata": {},
   "source": [
    "- Convert data to delta-T \n",
    "- Duplicate & shift data by 1\n",
    "- Replace NaN-values and large delta-T"
   ]
  },
  {
   "cell_type": "code",
   "execution_count": 157,
   "metadata": {},
   "outputs": [
    {
     "data": {
      "text/html": [
       "<div>\n",
       "<style scoped>\n",
       "    .dataframe tbody tr th:only-of-type {\n",
       "        vertical-align: middle;\n",
       "    }\n",
       "\n",
       "    .dataframe tbody tr th {\n",
       "        vertical-align: top;\n",
       "    }\n",
       "\n",
       "    .dataframe thead th {\n",
       "        text-align: right;\n",
       "    }\n",
       "</style>\n",
       "<table border=\"1\" class=\"dataframe\">\n",
       "  <thead>\n",
       "    <tr style=\"text-align: right;\">\n",
       "      <th></th>\n",
       "      <th>datetime</th>\n",
       "      <th>heating_temperature</th>\n",
       "      <th>cooling_temperature</th>\n",
       "      <th>delta_T</th>\n",
       "      <th>state</th>\n",
       "      <th>hT_prev</th>\n",
       "      <th>cT_prev</th>\n",
       "      <th>delta_T_prev</th>\n",
       "    </tr>\n",
       "  </thead>\n",
       "  <tbody>\n",
       "    <tr>\n",
       "      <th>0</th>\n",
       "      <td>2019-04-13 17:51:16</td>\n",
       "      <td>33.3</td>\n",
       "      <td>15.0</td>\n",
       "      <td>20000.0</td>\n",
       "      <td>hc</td>\n",
       "      <td>51.0</td>\n",
       "      <td>-11.0</td>\n",
       "      <td>20000.0</td>\n",
       "    </tr>\n",
       "    <tr>\n",
       "      <th>1</th>\n",
       "      <td>2019-04-13 18:51:18</td>\n",
       "      <td>34.0</td>\n",
       "      <td>-11.0</td>\n",
       "      <td>3602.0</td>\n",
       "      <td>h</td>\n",
       "      <td>33.3</td>\n",
       "      <td>15.0</td>\n",
       "      <td>20000.0</td>\n",
       "    </tr>\n",
       "    <tr>\n",
       "      <th>2</th>\n",
       "      <td>2019-04-13 19:51:20</td>\n",
       "      <td>33.8</td>\n",
       "      <td>-11.0</td>\n",
       "      <td>3602.0</td>\n",
       "      <td>h</td>\n",
       "      <td>34.0</td>\n",
       "      <td>-11.0</td>\n",
       "      <td>3602.0</td>\n",
       "    </tr>\n",
       "    <tr>\n",
       "      <th>3</th>\n",
       "      <td>2019-04-13 20:51:21</td>\n",
       "      <td>34.2</td>\n",
       "      <td>-11.0</td>\n",
       "      <td>3601.0</td>\n",
       "      <td>h</td>\n",
       "      <td>33.8</td>\n",
       "      <td>-11.0</td>\n",
       "      <td>3602.0</td>\n",
       "    </tr>\n",
       "    <tr>\n",
       "      <th>4</th>\n",
       "      <td>2019-04-13 21:51:23</td>\n",
       "      <td>34.5</td>\n",
       "      <td>-11.0</td>\n",
       "      <td>3602.0</td>\n",
       "      <td>h</td>\n",
       "      <td>34.2</td>\n",
       "      <td>-11.0</td>\n",
       "      <td>3601.0</td>\n",
       "    </tr>\n",
       "  </tbody>\n",
       "</table>\n",
       "</div>"
      ],
      "text/plain": [
       "             datetime  heating_temperature  cooling_temperature  delta_T  \\\n",
       "0 2019-04-13 17:51:16                 33.3                 15.0  20000.0   \n",
       "1 2019-04-13 18:51:18                 34.0                -11.0   3602.0   \n",
       "2 2019-04-13 19:51:20                 33.8                -11.0   3602.0   \n",
       "3 2019-04-13 20:51:21                 34.2                -11.0   3601.0   \n",
       "4 2019-04-13 21:51:23                 34.5                -11.0   3602.0   \n",
       "\n",
       "  state  hT_prev  cT_prev  delta_T_prev  \n",
       "0    hc     51.0    -11.0       20000.0  \n",
       "1     h     33.3     15.0       20000.0  \n",
       "2     h     34.0    -11.0        3602.0  \n",
       "3     h     33.8    -11.0        3602.0  \n",
       "4     h     34.2    -11.0        3601.0  "
      ]
     },
     "execution_count": 157,
     "metadata": {},
     "output_type": "execute_result"
    }
   ],
   "source": [
    "dt_df = df.copy()\n",
    "\n",
    "maxVal = 20000 # set a maximum value for the time interval\n",
    "hTnan = 51     # replace NaN-value with constant far from distribution\n",
    "cTnan = -11    # replace NaN-value with constant far from distribution\n",
    "\n",
    "\n",
    "dt_df['heating_temperature'] = dt_df['heating_temperature'].fillna(hTnan)\n",
    "dt_df['cooling_temperature'] = dt_df['cooling_temperature'].fillna(-11)\n",
    "\n",
    "dt_df['delta_T'] = dt_df[\"datetime\"].diff() / np.timedelta64(1, 's')\n",
    "dt_df['delta_T'] = dt_df['delta_T'].fillna(maxVal)\n",
    "\n",
    "dt_df[\"hT_prev\"] = dt_df[\"heating_temperature\"].shift(1)\n",
    "dt_df[\"cT_prev\"] = dt_df[\"cooling_temperature\"].shift(1)\n",
    "dt_df[\"delta_T_prev\"] = dt_df['delta_T'].shift(1)\n",
    "\n",
    "dt_df['hT_prev'] = dt_df['hT_prev'].fillna(hTnan)\n",
    "dt_df['cT_prev'] = dt_df['cT_prev'].fillna(cTnan)\n",
    "dt_df['delta_T_prev'] = dt_df['delta_T_prev'].fillna(maxVal)\n",
    "\n",
    "dt_df['delta_T'].clip(upper=maxVal)\n",
    "dt_df['delta_T_prev'].clip(upper=maxVal)\n",
    "\n",
    "dt_df.head()"
   ]
  },
  {
   "cell_type": "markdown",
   "metadata": {},
   "source": [
    "Train decision tree"
   ]
  },
  {
   "cell_type": "code",
   "execution_count": 158,
   "metadata": {},
   "outputs": [],
   "source": [
    "from sklearn.tree import DecisionTreeClassifier\n",
    "\n",
    "\n",
    "X = dt_df[['delta_T','heating_temperature','cooling_temperature','delta_T_prev','hT_prev','cT_prev']].to_numpy()\n",
    "\n",
    "y = dt_df['state'].to_numpy()\n",
    "\n",
    "split = round(0.2*len(X))\n",
    "X_train = X[split:]\n",
    "y_train = y[split:]\n",
    "X_test = X[:split]\n",
    "y_test = y[:split]\n",
    "\n",
    "clf = DecisionTreeClassifier(random_state=0).fit(X_train,y_train)\n",
    "\n",
    "result = clf.predict(X_test)"
   ]
  },
  {
   "cell_type": "code",
   "execution_count": 159,
   "metadata": {},
   "outputs": [
    {
     "data": {
      "text/html": [
       "<div>\n",
       "<style scoped>\n",
       "    .dataframe tbody tr th:only-of-type {\n",
       "        vertical-align: middle;\n",
       "    }\n",
       "\n",
       "    .dataframe tbody tr th {\n",
       "        vertical-align: top;\n",
       "    }\n",
       "\n",
       "    .dataframe thead th {\n",
       "        text-align: right;\n",
       "    }\n",
       "</style>\n",
       "<table border=\"1\" class=\"dataframe\">\n",
       "  <thead>\n",
       "    <tr style=\"text-align: right;\">\n",
       "      <th>Predicted</th>\n",
       "      <th>anomaly</th>\n",
       "      <th>h</th>\n",
       "      <th>hc</th>\n",
       "      <th>start</th>\n",
       "    </tr>\n",
       "    <tr>\n",
       "      <th>Actual</th>\n",
       "      <th></th>\n",
       "      <th></th>\n",
       "      <th></th>\n",
       "      <th></th>\n",
       "    </tr>\n",
       "  </thead>\n",
       "  <tbody>\n",
       "    <tr>\n",
       "      <th>anomaly</th>\n",
       "      <td>8</td>\n",
       "      <td>1</td>\n",
       "      <td>3</td>\n",
       "      <td>0</td>\n",
       "    </tr>\n",
       "    <tr>\n",
       "      <th>h</th>\n",
       "      <td>19</td>\n",
       "      <td>63</td>\n",
       "      <td>0</td>\n",
       "      <td>0</td>\n",
       "    </tr>\n",
       "    <tr>\n",
       "      <th>hc</th>\n",
       "      <td>1</td>\n",
       "      <td>0</td>\n",
       "      <td>26</td>\n",
       "      <td>0</td>\n",
       "    </tr>\n",
       "    <tr>\n",
       "      <th>start</th>\n",
       "      <td>1</td>\n",
       "      <td>0</td>\n",
       "      <td>0</td>\n",
       "      <td>21</td>\n",
       "    </tr>\n",
       "  </tbody>\n",
       "</table>\n",
       "</div>"
      ],
      "text/plain": [
       "Predicted  anomaly   h  hc  start\n",
       "Actual                           \n",
       "anomaly          8   1   3      0\n",
       "h               19  63   0      0\n",
       "hc               1   0  26      0\n",
       "start            1   0   0     21"
      ]
     },
     "execution_count": 159,
     "metadata": {},
     "output_type": "execute_result"
    }
   ],
   "source": [
    "df_actual = pd.DataFrame(y_test, columns=[\"Actual\"])\n",
    "df_predict = pd.DataFrame(result, columns=[\"Predicted\"])\n",
    "confusion_matrix = pd.crosstab(df_actual['Actual'], df_predict['Predicted'], rownames=['Actual'], colnames=['Predicted'])\n",
    "confusion_matrix"
   ]
  },
  {
   "cell_type": "code",
   "execution_count": 165,
   "metadata": {},
   "outputs": [
    {
     "data": {
      "application/vnd.plotly.v1+json": {
       "config": {
        "plotlyServerURL": "https://plot.ly"
       },
       "data": [
        {
         "hovertemplate": "state=hc<br>index=%{x}<br>value=%{y}<extra></extra>",
         "legendgroup": "hc",
         "marker": {
          "color": "#636EFA",
          "symbol": "circle"
         },
         "mode": "markers",
         "name": "hc",
         "orientation": "v",
         "showlegend": true,
         "type": "scatter",
         "x": [
          0,
          20,
          23,
          24,
          37,
          43,
          55,
          64,
          67,
          72,
          73,
          74,
          76,
          77,
          78,
          81,
          90,
          93,
          104,
          115,
          122,
          124,
          127,
          128,
          130,
          135,
          137,
          147,
          149,
          161,
          167,
          170,
          177,
          182,
          183,
          186,
          187,
          190,
          193,
          197,
          199,
          200,
          207,
          213,
          218,
          224,
          225,
          226,
          229,
          230,
          231,
          233,
          235,
          236,
          241,
          246,
          247,
          252,
          259,
          284,
          289,
          293,
          299,
          302,
          311,
          312,
          314,
          316,
          320,
          325,
          335,
          340,
          342,
          347,
          348,
          360,
          370,
          383,
          400,
          415,
          422,
          427,
          429,
          438,
          443,
          447,
          449,
          450,
          454,
          456,
          465,
          469,
          471,
          476,
          497,
          499,
          500,
          503,
          505,
          506,
          515,
          522,
          523,
          525,
          530,
          532,
          533,
          534,
          541,
          546,
          548,
          552,
          557,
          564,
          570,
          573,
          578,
          584,
          619,
          628,
          651,
          652,
          703,
          709
         ],
         "xaxis": "x",
         "y": [
          33.3,
          33.7,
          36.1,
          36.4,
          34.8,
          34.8,
          34.1,
          30.7,
          29.5,
          34.7,
          34.9,
          35.1,
          30.5,
          32.2,
          33.3,
          28.6,
          34.7,
          29.7,
          29.4,
          28,
          34.6,
          33,
          30.2,
          32.2,
          33.9,
          34.3,
          30.2,
          34.2,
          33.7,
          34.7,
          30.8,
          34.2,
          29.7,
          34,
          34.1,
          29.5,
          32.4,
          33.7,
          35,
          28.7,
          33.3,
          34.1,
          33.9,
          29.1,
          35,
          28.2,
          31.5,
          33.3,
          34.5,
          34.4,
          34.5,
          28.3,
          32.9,
          33.7,
          28.2,
          34.1,
          34.6,
          28.7,
          32.5,
          28.2,
          33.2,
          28.2,
          34.3,
          28.5,
          28.6,
          31.8,
          29.4,
          32.8,
          32.5,
          29.4,
          33.8,
          35.2,
          35.4,
          35,
          34.9,
          35.6,
          35.3,
          35.4,
          32.3,
          31.7,
          33.7,
          34.2,
          28.6,
          30.3,
          30.9,
          28.3,
          32.4,
          33.6,
          34.6,
          28.7,
          34.1,
          28.8,
          33,
          31.8,
          34.3,
          34.7,
          34.5,
          34.9,
          27.9,
          31,
          34,
          28.4,
          31.6,
          33.5,
          32.9,
          28.5,
          31.8,
          33,
          33,
          34.1,
          28.6,
          34.2,
          30.2,
          31.1,
          29.3,
          34.2,
          28.5,
          28.3,
          35.7,
          36,
          34.3,
          34.6,
          32,
          33.9
         ],
         "yaxis": "y"
        },
        {
         "hovertemplate": "state=h<br>index=%{x}<br>value=%{y}<extra></extra>",
         "legendgroup": "h",
         "marker": {
          "color": "#00CC96",
          "symbol": "circle"
         },
         "mode": "markers",
         "name": "h",
         "orientation": "v",
         "showlegend": true,
         "type": "scatter",
         "x": [
          1,
          2,
          3,
          4,
          5,
          6,
          7,
          8,
          9,
          10,
          11,
          21,
          22,
          25,
          26,
          27,
          28,
          29,
          30,
          31,
          32,
          33,
          34,
          35,
          38,
          39,
          40,
          41,
          44,
          45,
          46,
          47,
          48,
          49,
          50,
          51,
          52,
          53,
          56,
          57,
          58,
          59,
          60,
          65,
          68,
          69,
          70,
          82,
          83,
          84,
          85,
          94,
          95,
          96,
          97,
          98,
          99,
          100,
          101,
          102,
          105,
          106,
          107,
          108,
          109,
          110,
          111,
          112,
          113,
          116,
          117,
          118,
          119,
          120,
          131,
          132,
          133,
          138,
          139,
          140,
          141,
          142,
          143,
          150,
          151,
          152,
          153,
          154,
          155,
          156,
          157,
          158,
          159,
          162,
          163,
          164,
          165,
          168,
          171,
          172,
          173,
          174,
          175,
          178,
          179,
          180,
          181,
          184,
          188,
          194,
          195,
          198,
          201,
          208,
          209,
          210,
          211,
          214,
          215,
          216,
          219,
          220,
          221,
          222,
          227,
          234,
          237,
          242,
          243,
          244,
          245,
          248,
          249,
          250,
          253,
          254,
          255,
          256,
          260,
          261,
          262,
          263,
          264,
          265,
          266,
          267,
          268,
          269,
          270,
          271,
          272,
          273,
          274,
          275,
          276,
          277,
          278,
          279,
          280,
          281,
          282,
          285,
          286,
          287,
          290,
          291,
          294,
          295,
          296,
          297,
          300,
          303,
          304,
          305,
          306,
          307,
          308,
          309,
          317,
          318,
          321,
          322,
          326,
          327,
          328,
          329,
          330,
          331,
          332,
          336,
          337,
          338,
          343,
          344,
          345,
          346,
          349,
          350,
          351,
          352,
          353,
          354,
          355,
          356,
          357,
          358,
          361,
          362,
          363,
          364,
          365,
          366,
          367,
          368,
          369,
          384,
          401,
          402,
          403,
          439,
          440,
          441,
          444,
          457,
          458,
          459,
          460,
          461,
          462,
          463,
          466,
          467,
          470,
          472,
          473,
          477,
          478,
          479,
          480,
          481,
          482,
          483,
          484,
          485,
          486,
          487,
          488,
          489,
          490,
          491,
          492,
          493,
          498,
          501,
          507,
          508,
          509,
          510,
          511,
          512,
          513,
          516,
          517,
          518,
          519,
          520,
          524,
          526,
          527,
          535,
          536,
          537,
          542,
          543,
          549,
          550,
          553,
          558,
          559,
          560,
          561,
          562,
          565,
          566,
          567,
          571,
          574,
          575,
          576,
          579,
          580,
          581,
          582,
          585,
          586,
          620,
          621,
          622,
          623,
          624,
          625,
          629,
          630,
          631,
          632,
          653,
          654,
          655,
          656,
          657,
          658,
          659,
          660,
          661,
          662,
          663,
          664,
          665,
          666,
          667,
          668,
          669,
          670,
          671,
          672,
          673,
          674,
          675,
          676,
          677,
          678,
          679,
          680,
          681,
          682,
          683,
          684,
          685,
          686,
          687,
          688,
          689,
          704,
          705,
          710,
          711,
          712,
          713,
          714
         ],
         "xaxis": "x",
         "y": [
          34,
          33.8,
          34.2,
          34.5,
          34.7,
          34.8,
          34.9,
          35,
          35.1,
          34.4,
          34.6,
          34.9,
          35.7,
          36.5,
          36.4,
          36.3,
          36.2,
          36.1,
          36,
          35.9,
          36,
          35.7,
          35,
          34.7,
          35.1,
          35.3,
          35.1,
          35,
          34.6,
          34.7,
          34.8,
          34.5,
          35,
          35.3,
          35.5,
          35.4,
          35.3,
          34.7,
          34.7,
          35,
          35.2,
          34.8,
          34.7,
          32.7,
          32.1,
          33.3,
          34.3,
          31.6,
          33.3,
          34.1,
          34.2,
          32,
          33.5,
          34.1,
          34.4,
          34.3,
          34.7,
          35.1,
          34.8,
          34.5,
          32.1,
          33.5,
          33.9,
          34.4,
          34.7,
          34.3,
          34.5,
          34,
          34.2,
          31.3,
          32.4,
          33.4,
          34.2,
          34.4,
          34.5,
          34.4,
          34.5,
          32.4,
          33,
          33.8,
          34.2,
          34.3,
          34.7,
          34.8,
          35.7,
          36.3,
          36.7,
          37,
          37.2,
          37.4,
          35.6,
          35.3,
          35.2,
          34.9,
          34.6,
          34.9,
          35,
          32.8,
          34.6,
          34.5,
          35.1,
          35.2,
          34.8,
          32,
          33.4,
          33.5,
          33.9,
          34.6,
          33.8,
          34.9,
          35.3,
          31.6,
          34.3,
          34.6,
          34.8,
          35.2,
          35.5,
          32.2,
          33.7,
          34.2,
          34.4,
          34.3,
          34.5,
          34.1,
          34,
          31.5,
          34.3,
          31.4,
          32.7,
          33.6,
          34.2,
          34.2,
          34.5,
          34.1,
          31.8,
          33.2,
          33.8,
          34,
          33.2,
          33.8,
          34.4,
          34.6,
          34.9,
          35.6,
          36.2,
          36.6,
          36.7,
          37,
          37.2,
          37.1,
          35.4,
          35.2,
          35.1,
          34.1,
          34.6,
          34.1,
          34.3,
          34.5,
          34.2,
          34.7,
          34.2,
          31.2,
          32.8,
          33.4,
          34.2,
          34.5,
          31.4,
          33,
          33.4,
          33.7,
          34.4,
          31.8,
          33.5,
          34.1,
          34.5,
          34.8,
          34.6,
          34.8,
          34.1,
          34.4,
          33,
          33.6,
          32.2,
          33,
          33.5,
          34.2,
          34,
          34.3,
          34.6,
          34.5,
          35.2,
          34.8,
          34.7,
          34.5,
          34.8,
          35.2,
          35.9,
          37,
          37.8,
          38.4,
          38.8,
          39.1,
          39.4,
          37.8,
          36.6,
          35.6,
          35.4,
          35.6,
          35.1,
          35.4,
          35.2,
          34.9,
          35.3,
          35.5,
          35.4,
          35.3,
          33.2,
          33.8,
          34.8,
          32.6,
          33.8,
          34.1,
          33,
          31.8,
          32.7,
          33.4,
          34,
          33.8,
          34.5,
          34,
          34.7,
          35.3,
          32,
          34.1,
          34.6,
          32.8,
          33.8,
          34.1,
          34,
          34.5,
          34.6,
          34.5,
          34.8,
          35.8,
          36.6,
          37.2,
          37.7,
          37.9,
          38.2,
          38.3,
          35.7,
          35.5,
          34.6,
          34.7,
          32.8,
          33.2,
          34,
          34.4,
          34.8,
          35,
          35.2,
          33.9,
          34.2,
          34.4,
          34,
          34.3,
          32.8,
          34.3,
          34.5,
          33.8,
          34.9,
          34.8,
          33.6,
          34,
          31.7,
          33,
          34.5,
          32.1,
          33.1,
          34,
          34.1,
          34.4,
          32.5,
          33.5,
          34.2,
          32.3,
          34.6,
          35,
          34.7,
          31.3,
          32.6,
          33.5,
          34.1,
          31.4,
          32.6,
          35.9,
          35.8,
          35.6,
          35.5,
          35.4,
          35.5,
          36.5,
          36.8,
          35.8,
          34.9,
          34.5,
          35,
          34.8,
          35.1,
          35.2,
          34.2,
          34.5,
          34.4,
          34.1,
          34.5,
          34.2,
          34.3,
          34.1,
          34.5,
          34.3,
          34.5,
          34.6,
          34.7,
          34.3,
          34.2,
          34.6,
          34.4,
          34.2,
          34.4,
          34.3,
          34.1,
          34.4,
          34.2,
          34.6,
          34.8,
          35.1,
          35.2,
          35.4,
          35.6,
          35.8,
          35,
          35.1,
          32.9,
          33.5,
          34.4,
          34.3,
          34,
          34.1,
          34.4
         ],
         "yaxis": "y"
        },
        {
         "hovertemplate": "state=anomaly<br>index=%{x}<br>value=%{y}<extra></extra>",
         "legendgroup": "anomaly",
         "marker": {
          "color": "#EF553B",
          "symbol": "circle"
         },
         "mode": "markers",
         "name": "anomaly",
         "orientation": "v",
         "showlegend": true,
         "type": "scatter",
         "x": [
          12,
          13,
          15,
          16,
          17,
          18,
          36,
          42,
          87,
          88,
          89,
          126,
          191,
          192,
          204,
          205,
          206,
          217,
          228,
          238,
          239,
          258,
          298,
          333,
          339,
          359,
          371,
          372,
          373,
          374,
          375,
          376,
          377,
          378,
          379,
          380,
          381,
          382,
          389,
          390,
          391,
          394,
          414,
          418,
          421,
          423,
          432,
          433,
          445,
          451,
          452,
          453,
          495,
          496,
          540,
          555,
          572,
          589,
          590,
          591,
          592,
          593,
          594,
          595,
          596,
          597,
          598,
          599,
          600,
          601,
          602,
          603,
          604,
          605,
          606,
          607,
          608,
          609,
          610,
          611,
          612,
          613,
          614,
          617,
          618,
          633,
          634,
          635,
          636,
          637,
          638,
          639,
          640,
          641,
          642,
          643,
          644,
          645,
          646,
          647,
          648,
          649,
          650,
          690,
          691,
          692,
          693,
          694,
          695,
          697,
          698,
          699,
          700,
          701,
          706,
          707,
          708
         ],
         "xaxis": "x",
         "y": [
          34.2,
          34.5,
          null,
          null,
          34.8,
          34.5,
          34.5,
          null,
          34.2,
          34.8,
          34.4,
          26.2,
          33.6,
          33.8,
          28.7,
          32,
          null,
          null,
          33.6,
          null,
          null,
          30.3,
          33.6,
          34.2,
          null,
          35.2,
          null,
          36.1,
          36.9,
          37.5,
          37.8,
          38.1,
          38.3,
          38.4,
          38.2,
          36.2,
          35.8,
          35.5,
          32,
          32.4,
          32.8,
          null,
          28.7,
          32.3,
          31.7,
          33.4,
          32.4,
          null,
          32.7,
          null,
          34.3,
          33.9,
          null,
          34.7,
          30.6,
          25.5,
          33.4,
          33.6,
          34.1,
          34,
          34.3,
          34.7,
          null,
          null,
          35.3,
          35.2,
          35.8,
          36.4,
          36.8,
          37.1,
          37.3,
          37.5,
          37.1,
          36.2,
          35.7,
          36,
          35.2,
          35.2,
          34.7,
          34.9,
          34.6,
          34.3,
          34.6,
          35.5,
          35.1,
          35.3,
          35.8,
          36.1,
          36.4,
          36.5,
          36.7,
          36.8,
          35.5,
          35.6,
          35.4,
          31.6,
          32.8,
          33.7,
          34.3,
          32.5,
          33.5,
          34.4,
          34.1,
          36.4,
          36.5,
          36.1,
          35.3,
          35.1,
          35,
          34.4,
          34.3,
          34.5,
          34.3,
          34.4,
          33.8,
          null,
          null
         ],
         "yaxis": "y"
        },
        {
         "hovertemplate": "state=start<br>index=%{x}<br>value=%{y}<extra></extra>",
         "legendgroup": "start",
         "marker": {
          "color": "#AB63FA",
          "symbol": "circle"
         },
         "mode": "markers",
         "name": "start",
         "orientation": "v",
         "showlegend": true,
         "type": "scatter",
         "x": [
          14,
          19,
          54,
          61,
          62,
          63,
          66,
          71,
          75,
          79,
          80,
          86,
          91,
          92,
          103,
          114,
          121,
          123,
          125,
          129,
          134,
          136,
          144,
          145,
          146,
          148,
          160,
          166,
          169,
          176,
          185,
          189,
          196,
          202,
          203,
          212,
          223,
          232,
          240,
          251,
          257,
          283,
          288,
          292,
          301,
          310,
          313,
          315,
          319,
          323,
          324,
          334,
          341,
          385,
          386,
          387,
          388,
          392,
          393,
          395,
          396,
          397,
          398,
          399,
          404,
          405,
          406,
          407,
          408,
          409,
          410,
          411,
          412,
          413,
          416,
          417,
          419,
          420,
          424,
          425,
          426,
          428,
          430,
          431,
          434,
          435,
          436,
          437,
          442,
          446,
          448,
          455,
          464,
          468,
          474,
          475,
          494,
          502,
          504,
          514,
          521,
          528,
          529,
          531,
          538,
          539,
          544,
          545,
          547,
          551,
          554,
          556,
          563,
          568,
          569,
          577,
          583,
          587,
          588,
          615,
          616,
          626,
          627,
          696,
          702,
          715
         ],
         "xaxis": "x",
         "y": [
          33.9,
          32.4,
          32.9,
          23.1,
          23.7,
          27,
          24.3,
          33.6,
          26.8,
          31.1,
          23.3,
          33.4,
          23.6,
          25,
          24.8,
          22.2,
          33.4,
          31.3,
          22.8,
          32.6,
          33.7,
          25.8,
          34,
          33.5,
          33,
          32.9,
          33.8,
          27,
          32.5,
          25.1,
          24.6,
          32.1,
          23.1,
          32.3,
          33.2,
          24.2,
          22.7,
          22.7,
          22.9,
          23,
          29.6,
          22.5,
          32.4,
          22.4,
          22.9,
          22.7,
          24.5,
          30.9,
          32.6,
          29.5,
          25.4,
          32.2,
          34.2,
          34.4,
          33.4,
          33,
          31.9,
          32.5,
          32.2,
          22.7,
          31.7,
          32.2,
          26.5,
          29.8,
          32.8,
          33.1,
          32.8,
          33,
          33.2,
          33,
          22.2,
          23.2,
          24.9,
          27.5,
          32,
          32.5,
          29.7,
          30.7,
          33.6,
          33.1,
          32.9,
          22.6,
          31.1,
          32.3,
          32.8,
          32.9,
          23.3,
          26.2,
          26.8,
          22.7,
          29.9,
          23.3,
          32.9,
          23.2,
          31.4,
          29.6,
          34,
          34.2,
          22.3,
          32.6,
          22.5,
          23.5,
          31.4,
          23.2,
          23.3,
          29.7,
          33.5,
          33.4,
          23,
          32.7,
          22.9,
          25.8,
          27.4,
          30.6,
          24.8,
          22.7,
          22.2,
          32,
          22.7,
          22.3,
          31.6,
          34.4,
          34.6,
          22.1,
          29.2,
          21.7
         ],
         "yaxis": "y"
        }
       ],
       "layout": {
        "legend": {
         "title": {
          "text": "state"
         },
         "tracegroupgap": 0
        },
        "margin": {
         "t": 60
        },
        "template": {
         "data": {
          "bar": [
           {
            "error_x": {
             "color": "#2a3f5f"
            },
            "error_y": {
             "color": "#2a3f5f"
            },
            "marker": {
             "line": {
              "color": "#E5ECF6",
              "width": 0.5
             },
             "pattern": {
              "fillmode": "overlay",
              "size": 10,
              "solidity": 0.2
             }
            },
            "type": "bar"
           }
          ],
          "barpolar": [
           {
            "marker": {
             "line": {
              "color": "#E5ECF6",
              "width": 0.5
             },
             "pattern": {
              "fillmode": "overlay",
              "size": 10,
              "solidity": 0.2
             }
            },
            "type": "barpolar"
           }
          ],
          "carpet": [
           {
            "aaxis": {
             "endlinecolor": "#2a3f5f",
             "gridcolor": "white",
             "linecolor": "white",
             "minorgridcolor": "white",
             "startlinecolor": "#2a3f5f"
            },
            "baxis": {
             "endlinecolor": "#2a3f5f",
             "gridcolor": "white",
             "linecolor": "white",
             "minorgridcolor": "white",
             "startlinecolor": "#2a3f5f"
            },
            "type": "carpet"
           }
          ],
          "choropleth": [
           {
            "colorbar": {
             "outlinewidth": 0,
             "ticks": ""
            },
            "type": "choropleth"
           }
          ],
          "contour": [
           {
            "colorbar": {
             "outlinewidth": 0,
             "ticks": ""
            },
            "colorscale": [
             [
              0,
              "#0d0887"
             ],
             [
              0.1111111111111111,
              "#46039f"
             ],
             [
              0.2222222222222222,
              "#7201a8"
             ],
             [
              0.3333333333333333,
              "#9c179e"
             ],
             [
              0.4444444444444444,
              "#bd3786"
             ],
             [
              0.5555555555555556,
              "#d8576b"
             ],
             [
              0.6666666666666666,
              "#ed7953"
             ],
             [
              0.7777777777777778,
              "#fb9f3a"
             ],
             [
              0.8888888888888888,
              "#fdca26"
             ],
             [
              1,
              "#f0f921"
             ]
            ],
            "type": "contour"
           }
          ],
          "contourcarpet": [
           {
            "colorbar": {
             "outlinewidth": 0,
             "ticks": ""
            },
            "type": "contourcarpet"
           }
          ],
          "heatmap": [
           {
            "colorbar": {
             "outlinewidth": 0,
             "ticks": ""
            },
            "colorscale": [
             [
              0,
              "#0d0887"
             ],
             [
              0.1111111111111111,
              "#46039f"
             ],
             [
              0.2222222222222222,
              "#7201a8"
             ],
             [
              0.3333333333333333,
              "#9c179e"
             ],
             [
              0.4444444444444444,
              "#bd3786"
             ],
             [
              0.5555555555555556,
              "#d8576b"
             ],
             [
              0.6666666666666666,
              "#ed7953"
             ],
             [
              0.7777777777777778,
              "#fb9f3a"
             ],
             [
              0.8888888888888888,
              "#fdca26"
             ],
             [
              1,
              "#f0f921"
             ]
            ],
            "type": "heatmap"
           }
          ],
          "heatmapgl": [
           {
            "colorbar": {
             "outlinewidth": 0,
             "ticks": ""
            },
            "colorscale": [
             [
              0,
              "#0d0887"
             ],
             [
              0.1111111111111111,
              "#46039f"
             ],
             [
              0.2222222222222222,
              "#7201a8"
             ],
             [
              0.3333333333333333,
              "#9c179e"
             ],
             [
              0.4444444444444444,
              "#bd3786"
             ],
             [
              0.5555555555555556,
              "#d8576b"
             ],
             [
              0.6666666666666666,
              "#ed7953"
             ],
             [
              0.7777777777777778,
              "#fb9f3a"
             ],
             [
              0.8888888888888888,
              "#fdca26"
             ],
             [
              1,
              "#f0f921"
             ]
            ],
            "type": "heatmapgl"
           }
          ],
          "histogram": [
           {
            "marker": {
             "pattern": {
              "fillmode": "overlay",
              "size": 10,
              "solidity": 0.2
             }
            },
            "type": "histogram"
           }
          ],
          "histogram2d": [
           {
            "colorbar": {
             "outlinewidth": 0,
             "ticks": ""
            },
            "colorscale": [
             [
              0,
              "#0d0887"
             ],
             [
              0.1111111111111111,
              "#46039f"
             ],
             [
              0.2222222222222222,
              "#7201a8"
             ],
             [
              0.3333333333333333,
              "#9c179e"
             ],
             [
              0.4444444444444444,
              "#bd3786"
             ],
             [
              0.5555555555555556,
              "#d8576b"
             ],
             [
              0.6666666666666666,
              "#ed7953"
             ],
             [
              0.7777777777777778,
              "#fb9f3a"
             ],
             [
              0.8888888888888888,
              "#fdca26"
             ],
             [
              1,
              "#f0f921"
             ]
            ],
            "type": "histogram2d"
           }
          ],
          "histogram2dcontour": [
           {
            "colorbar": {
             "outlinewidth": 0,
             "ticks": ""
            },
            "colorscale": [
             [
              0,
              "#0d0887"
             ],
             [
              0.1111111111111111,
              "#46039f"
             ],
             [
              0.2222222222222222,
              "#7201a8"
             ],
             [
              0.3333333333333333,
              "#9c179e"
             ],
             [
              0.4444444444444444,
              "#bd3786"
             ],
             [
              0.5555555555555556,
              "#d8576b"
             ],
             [
              0.6666666666666666,
              "#ed7953"
             ],
             [
              0.7777777777777778,
              "#fb9f3a"
             ],
             [
              0.8888888888888888,
              "#fdca26"
             ],
             [
              1,
              "#f0f921"
             ]
            ],
            "type": "histogram2dcontour"
           }
          ],
          "mesh3d": [
           {
            "colorbar": {
             "outlinewidth": 0,
             "ticks": ""
            },
            "type": "mesh3d"
           }
          ],
          "parcoords": [
           {
            "line": {
             "colorbar": {
              "outlinewidth": 0,
              "ticks": ""
             }
            },
            "type": "parcoords"
           }
          ],
          "pie": [
           {
            "automargin": true,
            "type": "pie"
           }
          ],
          "scatter": [
           {
            "marker": {
             "colorbar": {
              "outlinewidth": 0,
              "ticks": ""
             }
            },
            "type": "scatter"
           }
          ],
          "scatter3d": [
           {
            "line": {
             "colorbar": {
              "outlinewidth": 0,
              "ticks": ""
             }
            },
            "marker": {
             "colorbar": {
              "outlinewidth": 0,
              "ticks": ""
             }
            },
            "type": "scatter3d"
           }
          ],
          "scattercarpet": [
           {
            "marker": {
             "colorbar": {
              "outlinewidth": 0,
              "ticks": ""
             }
            },
            "type": "scattercarpet"
           }
          ],
          "scattergeo": [
           {
            "marker": {
             "colorbar": {
              "outlinewidth": 0,
              "ticks": ""
             }
            },
            "type": "scattergeo"
           }
          ],
          "scattergl": [
           {
            "marker": {
             "colorbar": {
              "outlinewidth": 0,
              "ticks": ""
             }
            },
            "type": "scattergl"
           }
          ],
          "scattermapbox": [
           {
            "marker": {
             "colorbar": {
              "outlinewidth": 0,
              "ticks": ""
             }
            },
            "type": "scattermapbox"
           }
          ],
          "scatterpolar": [
           {
            "marker": {
             "colorbar": {
              "outlinewidth": 0,
              "ticks": ""
             }
            },
            "type": "scatterpolar"
           }
          ],
          "scatterpolargl": [
           {
            "marker": {
             "colorbar": {
              "outlinewidth": 0,
              "ticks": ""
             }
            },
            "type": "scatterpolargl"
           }
          ],
          "scatterternary": [
           {
            "marker": {
             "colorbar": {
              "outlinewidth": 0,
              "ticks": ""
             }
            },
            "type": "scatterternary"
           }
          ],
          "surface": [
           {
            "colorbar": {
             "outlinewidth": 0,
             "ticks": ""
            },
            "colorscale": [
             [
              0,
              "#0d0887"
             ],
             [
              0.1111111111111111,
              "#46039f"
             ],
             [
              0.2222222222222222,
              "#7201a8"
             ],
             [
              0.3333333333333333,
              "#9c179e"
             ],
             [
              0.4444444444444444,
              "#bd3786"
             ],
             [
              0.5555555555555556,
              "#d8576b"
             ],
             [
              0.6666666666666666,
              "#ed7953"
             ],
             [
              0.7777777777777778,
              "#fb9f3a"
             ],
             [
              0.8888888888888888,
              "#fdca26"
             ],
             [
              1,
              "#f0f921"
             ]
            ],
            "type": "surface"
           }
          ],
          "table": [
           {
            "cells": {
             "fill": {
              "color": "#EBF0F8"
             },
             "line": {
              "color": "white"
             }
            },
            "header": {
             "fill": {
              "color": "#C8D4E3"
             },
             "line": {
              "color": "white"
             }
            },
            "type": "table"
           }
          ]
         },
         "layout": {
          "annotationdefaults": {
           "arrowcolor": "#2a3f5f",
           "arrowhead": 0,
           "arrowwidth": 1
          },
          "autotypenumbers": "strict",
          "coloraxis": {
           "colorbar": {
            "outlinewidth": 0,
            "ticks": ""
           }
          },
          "colorscale": {
           "diverging": [
            [
             0,
             "#8e0152"
            ],
            [
             0.1,
             "#c51b7d"
            ],
            [
             0.2,
             "#de77ae"
            ],
            [
             0.3,
             "#f1b6da"
            ],
            [
             0.4,
             "#fde0ef"
            ],
            [
             0.5,
             "#f7f7f7"
            ],
            [
             0.6,
             "#e6f5d0"
            ],
            [
             0.7,
             "#b8e186"
            ],
            [
             0.8,
             "#7fbc41"
            ],
            [
             0.9,
             "#4d9221"
            ],
            [
             1,
             "#276419"
            ]
           ],
           "sequential": [
            [
             0,
             "#0d0887"
            ],
            [
             0.1111111111111111,
             "#46039f"
            ],
            [
             0.2222222222222222,
             "#7201a8"
            ],
            [
             0.3333333333333333,
             "#9c179e"
            ],
            [
             0.4444444444444444,
             "#bd3786"
            ],
            [
             0.5555555555555556,
             "#d8576b"
            ],
            [
             0.6666666666666666,
             "#ed7953"
            ],
            [
             0.7777777777777778,
             "#fb9f3a"
            ],
            [
             0.8888888888888888,
             "#fdca26"
            ],
            [
             1,
             "#f0f921"
            ]
           ],
           "sequentialminus": [
            [
             0,
             "#0d0887"
            ],
            [
             0.1111111111111111,
             "#46039f"
            ],
            [
             0.2222222222222222,
             "#7201a8"
            ],
            [
             0.3333333333333333,
             "#9c179e"
            ],
            [
             0.4444444444444444,
             "#bd3786"
            ],
            [
             0.5555555555555556,
             "#d8576b"
            ],
            [
             0.6666666666666666,
             "#ed7953"
            ],
            [
             0.7777777777777778,
             "#fb9f3a"
            ],
            [
             0.8888888888888888,
             "#fdca26"
            ],
            [
             1,
             "#f0f921"
            ]
           ]
          },
          "colorway": [
           "#636efa",
           "#EF553B",
           "#00cc96",
           "#ab63fa",
           "#FFA15A",
           "#19d3f3",
           "#FF6692",
           "#B6E880",
           "#FF97FF",
           "#FECB52"
          ],
          "font": {
           "color": "#2a3f5f"
          },
          "geo": {
           "bgcolor": "white",
           "lakecolor": "white",
           "landcolor": "#E5ECF6",
           "showlakes": true,
           "showland": true,
           "subunitcolor": "white"
          },
          "hoverlabel": {
           "align": "left"
          },
          "hovermode": "closest",
          "mapbox": {
           "style": "light"
          },
          "paper_bgcolor": "white",
          "plot_bgcolor": "#E5ECF6",
          "polar": {
           "angularaxis": {
            "gridcolor": "white",
            "linecolor": "white",
            "ticks": ""
           },
           "bgcolor": "#E5ECF6",
           "radialaxis": {
            "gridcolor": "white",
            "linecolor": "white",
            "ticks": ""
           }
          },
          "scene": {
           "xaxis": {
            "backgroundcolor": "#E5ECF6",
            "gridcolor": "white",
            "gridwidth": 2,
            "linecolor": "white",
            "showbackground": true,
            "ticks": "",
            "zerolinecolor": "white"
           },
           "yaxis": {
            "backgroundcolor": "#E5ECF6",
            "gridcolor": "white",
            "gridwidth": 2,
            "linecolor": "white",
            "showbackground": true,
            "ticks": "",
            "zerolinecolor": "white"
           },
           "zaxis": {
            "backgroundcolor": "#E5ECF6",
            "gridcolor": "white",
            "gridwidth": 2,
            "linecolor": "white",
            "showbackground": true,
            "ticks": "",
            "zerolinecolor": "white"
           }
          },
          "shapedefaults": {
           "line": {
            "color": "#2a3f5f"
           }
          },
          "ternary": {
           "aaxis": {
            "gridcolor": "white",
            "linecolor": "white",
            "ticks": ""
           },
           "baxis": {
            "gridcolor": "white",
            "linecolor": "white",
            "ticks": ""
           },
           "bgcolor": "#E5ECF6",
           "caxis": {
            "gridcolor": "white",
            "linecolor": "white",
            "ticks": ""
           }
          },
          "title": {
           "x": 0.05
          },
          "xaxis": {
           "automargin": true,
           "gridcolor": "white",
           "linecolor": "white",
           "ticks": "",
           "title": {
            "standoff": 15
           },
           "zerolinecolor": "white",
           "zerolinewidth": 2
          },
          "yaxis": {
           "automargin": true,
           "gridcolor": "white",
           "linecolor": "white",
           "ticks": "",
           "title": {
            "standoff": 15
           },
           "zerolinecolor": "white",
           "zerolinewidth": 2
          }
         }
        },
        "xaxis": {
         "anchor": "y",
         "domain": [
          0,
          1
         ],
         "title": {
          "text": "index"
         }
        },
        "yaxis": {
         "anchor": "x",
         "domain": [
          0,
          1
         ],
         "title": {
          "text": "value"
         }
        }
       }
      },
      "text/html": [
       "<div>                            <div id=\"b7ec7ecd-c33a-4d50-adbe-2a7975786107\" class=\"plotly-graph-div\" style=\"height:525px; width:100%;\"></div>            <script type=\"text/javascript\">                require([\"plotly\"], function(Plotly) {                    window.PLOTLYENV=window.PLOTLYENV || {};                                    if (document.getElementById(\"b7ec7ecd-c33a-4d50-adbe-2a7975786107\")) {                    Plotly.newPlot(                        \"b7ec7ecd-c33a-4d50-adbe-2a7975786107\",                        [{\"hovertemplate\":\"state=hc<br>index=%{x}<br>value=%{y}<extra></extra>\",\"legendgroup\":\"hc\",\"marker\":{\"color\":\"#636EFA\",\"symbol\":\"circle\"},\"mode\":\"markers\",\"name\":\"hc\",\"orientation\":\"v\",\"showlegend\":true,\"type\":\"scatter\",\"x\":[0,20,23,24,37,43,55,64,67,72,73,74,76,77,78,81,90,93,104,115,122,124,127,128,130,135,137,147,149,161,167,170,177,182,183,186,187,190,193,197,199,200,207,213,218,224,225,226,229,230,231,233,235,236,241,246,247,252,259,284,289,293,299,302,311,312,314,316,320,325,335,340,342,347,348,360,370,383,400,415,422,427,429,438,443,447,449,450,454,456,465,469,471,476,497,499,500,503,505,506,515,522,523,525,530,532,533,534,541,546,548,552,557,564,570,573,578,584,619,628,651,652,703,709],\"xaxis\":\"x\",\"y\":[33.3,33.7,36.1,36.4,34.8,34.8,34.1,30.7,29.5,34.7,34.9,35.1,30.5,32.2,33.3,28.6,34.7,29.7,29.4,28.0,34.6,33.0,30.2,32.2,33.9,34.3,30.2,34.2,33.7,34.7,30.8,34.2,29.7,34.0,34.1,29.5,32.4,33.7,35.0,28.7,33.3,34.1,33.9,29.1,35.0,28.2,31.5,33.3,34.5,34.4,34.5,28.3,32.9,33.7,28.2,34.1,34.6,28.7,32.5,28.2,33.2,28.2,34.3,28.5,28.6,31.8,29.4,32.8,32.5,29.4,33.8,35.2,35.4,35.0,34.9,35.6,35.3,35.4,32.3,31.7,33.7,34.2,28.6,30.3,30.9,28.3,32.4,33.6,34.6,28.7,34.1,28.8,33.0,31.8,34.3,34.7,34.5,34.9,27.9,31.0,34.0,28.4,31.6,33.5,32.9,28.5,31.8,33.0,33.0,34.1,28.6,34.2,30.2,31.1,29.3,34.2,28.5,28.3,35.7,36.0,34.3,34.6,32.0,33.9],\"yaxis\":\"y\"},{\"hovertemplate\":\"state=h<br>index=%{x}<br>value=%{y}<extra></extra>\",\"legendgroup\":\"h\",\"marker\":{\"color\":\"#00CC96\",\"symbol\":\"circle\"},\"mode\":\"markers\",\"name\":\"h\",\"orientation\":\"v\",\"showlegend\":true,\"type\":\"scatter\",\"x\":[1,2,3,4,5,6,7,8,9,10,11,21,22,25,26,27,28,29,30,31,32,33,34,35,38,39,40,41,44,45,46,47,48,49,50,51,52,53,56,57,58,59,60,65,68,69,70,82,83,84,85,94,95,96,97,98,99,100,101,102,105,106,107,108,109,110,111,112,113,116,117,118,119,120,131,132,133,138,139,140,141,142,143,150,151,152,153,154,155,156,157,158,159,162,163,164,165,168,171,172,173,174,175,178,179,180,181,184,188,194,195,198,201,208,209,210,211,214,215,216,219,220,221,222,227,234,237,242,243,244,245,248,249,250,253,254,255,256,260,261,262,263,264,265,266,267,268,269,270,271,272,273,274,275,276,277,278,279,280,281,282,285,286,287,290,291,294,295,296,297,300,303,304,305,306,307,308,309,317,318,321,322,326,327,328,329,330,331,332,336,337,338,343,344,345,346,349,350,351,352,353,354,355,356,357,358,361,362,363,364,365,366,367,368,369,384,401,402,403,439,440,441,444,457,458,459,460,461,462,463,466,467,470,472,473,477,478,479,480,481,482,483,484,485,486,487,488,489,490,491,492,493,498,501,507,508,509,510,511,512,513,516,517,518,519,520,524,526,527,535,536,537,542,543,549,550,553,558,559,560,561,562,565,566,567,571,574,575,576,579,580,581,582,585,586,620,621,622,623,624,625,629,630,631,632,653,654,655,656,657,658,659,660,661,662,663,664,665,666,667,668,669,670,671,672,673,674,675,676,677,678,679,680,681,682,683,684,685,686,687,688,689,704,705,710,711,712,713,714],\"xaxis\":\"x\",\"y\":[34.0,33.8,34.2,34.5,34.7,34.8,34.9,35.0,35.1,34.4,34.6,34.9,35.7,36.5,36.4,36.3,36.2,36.1,36.0,35.9,36.0,35.7,35.0,34.7,35.1,35.3,35.1,35.0,34.6,34.7,34.8,34.5,35.0,35.3,35.5,35.4,35.3,34.7,34.7,35.0,35.2,34.8,34.7,32.7,32.1,33.3,34.3,31.6,33.3,34.1,34.2,32.0,33.5,34.1,34.4,34.3,34.7,35.1,34.8,34.5,32.1,33.5,33.9,34.4,34.7,34.3,34.5,34.0,34.2,31.3,32.4,33.4,34.2,34.4,34.5,34.4,34.5,32.4,33.0,33.8,34.2,34.3,34.7,34.8,35.7,36.3,36.7,37.0,37.2,37.4,35.6,35.3,35.2,34.9,34.6,34.9,35.0,32.8,34.6,34.5,35.1,35.2,34.8,32.0,33.4,33.5,33.9,34.6,33.8,34.9,35.3,31.6,34.3,34.6,34.8,35.2,35.5,32.2,33.7,34.2,34.4,34.3,34.5,34.1,34.0,31.5,34.3,31.4,32.7,33.6,34.2,34.2,34.5,34.1,31.8,33.2,33.8,34.0,33.2,33.8,34.4,34.6,34.9,35.6,36.2,36.6,36.7,37.0,37.2,37.1,35.4,35.2,35.1,34.1,34.6,34.1,34.3,34.5,34.2,34.7,34.2,31.2,32.8,33.4,34.2,34.5,31.4,33.0,33.4,33.7,34.4,31.8,33.5,34.1,34.5,34.8,34.6,34.8,34.1,34.4,33.0,33.6,32.2,33.0,33.5,34.2,34.0,34.3,34.6,34.5,35.2,34.8,34.7,34.5,34.8,35.2,35.9,37.0,37.8,38.4,38.8,39.1,39.4,37.8,36.6,35.6,35.4,35.6,35.1,35.4,35.2,34.9,35.3,35.5,35.4,35.3,33.2,33.8,34.8,32.6,33.8,34.1,33.0,31.8,32.7,33.4,34.0,33.8,34.5,34.0,34.7,35.3,32.0,34.1,34.6,32.8,33.8,34.1,34.0,34.5,34.6,34.5,34.8,35.8,36.6,37.2,37.7,37.9,38.2,38.3,35.7,35.5,34.6,34.7,32.8,33.2,34.0,34.4,34.8,35.0,35.2,33.9,34.2,34.4,34.0,34.3,32.8,34.3,34.5,33.8,34.9,34.8,33.6,34.0,31.7,33.0,34.5,32.1,33.1,34.0,34.1,34.4,32.5,33.5,34.2,32.3,34.6,35.0,34.7,31.3,32.6,33.5,34.1,31.4,32.6,35.9,35.8,35.6,35.5,35.4,35.5,36.5,36.8,35.8,34.9,34.5,35.0,34.8,35.1,35.2,34.2,34.5,34.4,34.1,34.5,34.2,34.3,34.1,34.5,34.3,34.5,34.6,34.7,34.3,34.2,34.6,34.4,34.2,34.4,34.3,34.1,34.4,34.2,34.6,34.8,35.1,35.2,35.4,35.6,35.8,35.0,35.1,32.9,33.5,34.4,34.3,34.0,34.1,34.4],\"yaxis\":\"y\"},{\"hovertemplate\":\"state=anomaly<br>index=%{x}<br>value=%{y}<extra></extra>\",\"legendgroup\":\"anomaly\",\"marker\":{\"color\":\"#EF553B\",\"symbol\":\"circle\"},\"mode\":\"markers\",\"name\":\"anomaly\",\"orientation\":\"v\",\"showlegend\":true,\"type\":\"scatter\",\"x\":[12,13,15,16,17,18,36,42,87,88,89,126,191,192,204,205,206,217,228,238,239,258,298,333,339,359,371,372,373,374,375,376,377,378,379,380,381,382,389,390,391,394,414,418,421,423,432,433,445,451,452,453,495,496,540,555,572,589,590,591,592,593,594,595,596,597,598,599,600,601,602,603,604,605,606,607,608,609,610,611,612,613,614,617,618,633,634,635,636,637,638,639,640,641,642,643,644,645,646,647,648,649,650,690,691,692,693,694,695,697,698,699,700,701,706,707,708],\"xaxis\":\"x\",\"y\":[34.2,34.5,null,null,34.8,34.5,34.5,null,34.2,34.8,34.4,26.2,33.6,33.8,28.7,32.0,null,null,33.6,null,null,30.3,33.6,34.2,null,35.2,null,36.1,36.9,37.5,37.8,38.1,38.3,38.4,38.2,36.2,35.8,35.5,32.0,32.4,32.8,null,28.7,32.3,31.7,33.4,32.4,null,32.7,null,34.3,33.9,null,34.7,30.6,25.5,33.4,33.6,34.1,34.0,34.3,34.7,null,null,35.3,35.2,35.8,36.4,36.8,37.1,37.3,37.5,37.1,36.2,35.7,36.0,35.2,35.2,34.7,34.9,34.6,34.3,34.6,35.5,35.1,35.3,35.8,36.1,36.4,36.5,36.7,36.8,35.5,35.6,35.4,31.6,32.8,33.7,34.3,32.5,33.5,34.4,34.1,36.4,36.5,36.1,35.3,35.1,35.0,34.4,34.3,34.5,34.3,34.4,33.8,null,null],\"yaxis\":\"y\"},{\"hovertemplate\":\"state=start<br>index=%{x}<br>value=%{y}<extra></extra>\",\"legendgroup\":\"start\",\"marker\":{\"color\":\"#AB63FA\",\"symbol\":\"circle\"},\"mode\":\"markers\",\"name\":\"start\",\"orientation\":\"v\",\"showlegend\":true,\"type\":\"scatter\",\"x\":[14,19,54,61,62,63,66,71,75,79,80,86,91,92,103,114,121,123,125,129,134,136,144,145,146,148,160,166,169,176,185,189,196,202,203,212,223,232,240,251,257,283,288,292,301,310,313,315,319,323,324,334,341,385,386,387,388,392,393,395,396,397,398,399,404,405,406,407,408,409,410,411,412,413,416,417,419,420,424,425,426,428,430,431,434,435,436,437,442,446,448,455,464,468,474,475,494,502,504,514,521,528,529,531,538,539,544,545,547,551,554,556,563,568,569,577,583,587,588,615,616,626,627,696,702,715],\"xaxis\":\"x\",\"y\":[33.9,32.4,32.9,23.1,23.7,27.0,24.3,33.6,26.8,31.1,23.3,33.4,23.6,25.0,24.8,22.2,33.4,31.3,22.8,32.6,33.7,25.8,34.0,33.5,33.0,32.9,33.8,27.0,32.5,25.1,24.6,32.1,23.1,32.3,33.2,24.2,22.7,22.7,22.9,23.0,29.6,22.5,32.4,22.4,22.9,22.7,24.5,30.9,32.6,29.5,25.4,32.2,34.2,34.4,33.4,33.0,31.9,32.5,32.2,22.7,31.7,32.2,26.5,29.8,32.8,33.1,32.8,33.0,33.2,33.0,22.2,23.2,24.9,27.5,32.0,32.5,29.7,30.7,33.6,33.1,32.9,22.6,31.1,32.3,32.8,32.9,23.3,26.2,26.8,22.7,29.9,23.3,32.9,23.2,31.4,29.6,34.0,34.2,22.3,32.6,22.5,23.5,31.4,23.2,23.3,29.7,33.5,33.4,23.0,32.7,22.9,25.8,27.4,30.6,24.8,22.7,22.2,32.0,22.7,22.3,31.6,34.4,34.6,22.1,29.2,21.7],\"yaxis\":\"y\"}],                        {\"legend\":{\"title\":{\"text\":\"state\"},\"tracegroupgap\":0},\"margin\":{\"t\":60},\"template\":{\"data\":{\"bar\":[{\"error_x\":{\"color\":\"#2a3f5f\"},\"error_y\":{\"color\":\"#2a3f5f\"},\"marker\":{\"line\":{\"color\":\"#E5ECF6\",\"width\":0.5},\"pattern\":{\"fillmode\":\"overlay\",\"size\":10,\"solidity\":0.2}},\"type\":\"bar\"}],\"barpolar\":[{\"marker\":{\"line\":{\"color\":\"#E5ECF6\",\"width\":0.5},\"pattern\":{\"fillmode\":\"overlay\",\"size\":10,\"solidity\":0.2}},\"type\":\"barpolar\"}],\"carpet\":[{\"aaxis\":{\"endlinecolor\":\"#2a3f5f\",\"gridcolor\":\"white\",\"linecolor\":\"white\",\"minorgridcolor\":\"white\",\"startlinecolor\":\"#2a3f5f\"},\"baxis\":{\"endlinecolor\":\"#2a3f5f\",\"gridcolor\":\"white\",\"linecolor\":\"white\",\"minorgridcolor\":\"white\",\"startlinecolor\":\"#2a3f5f\"},\"type\":\"carpet\"}],\"choropleth\":[{\"colorbar\":{\"outlinewidth\":0,\"ticks\":\"\"},\"type\":\"choropleth\"}],\"contour\":[{\"colorbar\":{\"outlinewidth\":0,\"ticks\":\"\"},\"colorscale\":[[0.0,\"#0d0887\"],[0.1111111111111111,\"#46039f\"],[0.2222222222222222,\"#7201a8\"],[0.3333333333333333,\"#9c179e\"],[0.4444444444444444,\"#bd3786\"],[0.5555555555555556,\"#d8576b\"],[0.6666666666666666,\"#ed7953\"],[0.7777777777777778,\"#fb9f3a\"],[0.8888888888888888,\"#fdca26\"],[1.0,\"#f0f921\"]],\"type\":\"contour\"}],\"contourcarpet\":[{\"colorbar\":{\"outlinewidth\":0,\"ticks\":\"\"},\"type\":\"contourcarpet\"}],\"heatmap\":[{\"colorbar\":{\"outlinewidth\":0,\"ticks\":\"\"},\"colorscale\":[[0.0,\"#0d0887\"],[0.1111111111111111,\"#46039f\"],[0.2222222222222222,\"#7201a8\"],[0.3333333333333333,\"#9c179e\"],[0.4444444444444444,\"#bd3786\"],[0.5555555555555556,\"#d8576b\"],[0.6666666666666666,\"#ed7953\"],[0.7777777777777778,\"#fb9f3a\"],[0.8888888888888888,\"#fdca26\"],[1.0,\"#f0f921\"]],\"type\":\"heatmap\"}],\"heatmapgl\":[{\"colorbar\":{\"outlinewidth\":0,\"ticks\":\"\"},\"colorscale\":[[0.0,\"#0d0887\"],[0.1111111111111111,\"#46039f\"],[0.2222222222222222,\"#7201a8\"],[0.3333333333333333,\"#9c179e\"],[0.4444444444444444,\"#bd3786\"],[0.5555555555555556,\"#d8576b\"],[0.6666666666666666,\"#ed7953\"],[0.7777777777777778,\"#fb9f3a\"],[0.8888888888888888,\"#fdca26\"],[1.0,\"#f0f921\"]],\"type\":\"heatmapgl\"}],\"histogram\":[{\"marker\":{\"pattern\":{\"fillmode\":\"overlay\",\"size\":10,\"solidity\":0.2}},\"type\":\"histogram\"}],\"histogram2d\":[{\"colorbar\":{\"outlinewidth\":0,\"ticks\":\"\"},\"colorscale\":[[0.0,\"#0d0887\"],[0.1111111111111111,\"#46039f\"],[0.2222222222222222,\"#7201a8\"],[0.3333333333333333,\"#9c179e\"],[0.4444444444444444,\"#bd3786\"],[0.5555555555555556,\"#d8576b\"],[0.6666666666666666,\"#ed7953\"],[0.7777777777777778,\"#fb9f3a\"],[0.8888888888888888,\"#fdca26\"],[1.0,\"#f0f921\"]],\"type\":\"histogram2d\"}],\"histogram2dcontour\":[{\"colorbar\":{\"outlinewidth\":0,\"ticks\":\"\"},\"colorscale\":[[0.0,\"#0d0887\"],[0.1111111111111111,\"#46039f\"],[0.2222222222222222,\"#7201a8\"],[0.3333333333333333,\"#9c179e\"],[0.4444444444444444,\"#bd3786\"],[0.5555555555555556,\"#d8576b\"],[0.6666666666666666,\"#ed7953\"],[0.7777777777777778,\"#fb9f3a\"],[0.8888888888888888,\"#fdca26\"],[1.0,\"#f0f921\"]],\"type\":\"histogram2dcontour\"}],\"mesh3d\":[{\"colorbar\":{\"outlinewidth\":0,\"ticks\":\"\"},\"type\":\"mesh3d\"}],\"parcoords\":[{\"line\":{\"colorbar\":{\"outlinewidth\":0,\"ticks\":\"\"}},\"type\":\"parcoords\"}],\"pie\":[{\"automargin\":true,\"type\":\"pie\"}],\"scatter\":[{\"marker\":{\"colorbar\":{\"outlinewidth\":0,\"ticks\":\"\"}},\"type\":\"scatter\"}],\"scatter3d\":[{\"line\":{\"colorbar\":{\"outlinewidth\":0,\"ticks\":\"\"}},\"marker\":{\"colorbar\":{\"outlinewidth\":0,\"ticks\":\"\"}},\"type\":\"scatter3d\"}],\"scattercarpet\":[{\"marker\":{\"colorbar\":{\"outlinewidth\":0,\"ticks\":\"\"}},\"type\":\"scattercarpet\"}],\"scattergeo\":[{\"marker\":{\"colorbar\":{\"outlinewidth\":0,\"ticks\":\"\"}},\"type\":\"scattergeo\"}],\"scattergl\":[{\"marker\":{\"colorbar\":{\"outlinewidth\":0,\"ticks\":\"\"}},\"type\":\"scattergl\"}],\"scattermapbox\":[{\"marker\":{\"colorbar\":{\"outlinewidth\":0,\"ticks\":\"\"}},\"type\":\"scattermapbox\"}],\"scatterpolar\":[{\"marker\":{\"colorbar\":{\"outlinewidth\":0,\"ticks\":\"\"}},\"type\":\"scatterpolar\"}],\"scatterpolargl\":[{\"marker\":{\"colorbar\":{\"outlinewidth\":0,\"ticks\":\"\"}},\"type\":\"scatterpolargl\"}],\"scatterternary\":[{\"marker\":{\"colorbar\":{\"outlinewidth\":0,\"ticks\":\"\"}},\"type\":\"scatterternary\"}],\"surface\":[{\"colorbar\":{\"outlinewidth\":0,\"ticks\":\"\"},\"colorscale\":[[0.0,\"#0d0887\"],[0.1111111111111111,\"#46039f\"],[0.2222222222222222,\"#7201a8\"],[0.3333333333333333,\"#9c179e\"],[0.4444444444444444,\"#bd3786\"],[0.5555555555555556,\"#d8576b\"],[0.6666666666666666,\"#ed7953\"],[0.7777777777777778,\"#fb9f3a\"],[0.8888888888888888,\"#fdca26\"],[1.0,\"#f0f921\"]],\"type\":\"surface\"}],\"table\":[{\"cells\":{\"fill\":{\"color\":\"#EBF0F8\"},\"line\":{\"color\":\"white\"}},\"header\":{\"fill\":{\"color\":\"#C8D4E3\"},\"line\":{\"color\":\"white\"}},\"type\":\"table\"}]},\"layout\":{\"annotationdefaults\":{\"arrowcolor\":\"#2a3f5f\",\"arrowhead\":0,\"arrowwidth\":1},\"autotypenumbers\":\"strict\",\"coloraxis\":{\"colorbar\":{\"outlinewidth\":0,\"ticks\":\"\"}},\"colorscale\":{\"diverging\":[[0,\"#8e0152\"],[0.1,\"#c51b7d\"],[0.2,\"#de77ae\"],[0.3,\"#f1b6da\"],[0.4,\"#fde0ef\"],[0.5,\"#f7f7f7\"],[0.6,\"#e6f5d0\"],[0.7,\"#b8e186\"],[0.8,\"#7fbc41\"],[0.9,\"#4d9221\"],[1,\"#276419\"]],\"sequential\":[[0.0,\"#0d0887\"],[0.1111111111111111,\"#46039f\"],[0.2222222222222222,\"#7201a8\"],[0.3333333333333333,\"#9c179e\"],[0.4444444444444444,\"#bd3786\"],[0.5555555555555556,\"#d8576b\"],[0.6666666666666666,\"#ed7953\"],[0.7777777777777778,\"#fb9f3a\"],[0.8888888888888888,\"#fdca26\"],[1.0,\"#f0f921\"]],\"sequentialminus\":[[0.0,\"#0d0887\"],[0.1111111111111111,\"#46039f\"],[0.2222222222222222,\"#7201a8\"],[0.3333333333333333,\"#9c179e\"],[0.4444444444444444,\"#bd3786\"],[0.5555555555555556,\"#d8576b\"],[0.6666666666666666,\"#ed7953\"],[0.7777777777777778,\"#fb9f3a\"],[0.8888888888888888,\"#fdca26\"],[1.0,\"#f0f921\"]]},\"colorway\":[\"#636efa\",\"#EF553B\",\"#00cc96\",\"#ab63fa\",\"#FFA15A\",\"#19d3f3\",\"#FF6692\",\"#B6E880\",\"#FF97FF\",\"#FECB52\"],\"font\":{\"color\":\"#2a3f5f\"},\"geo\":{\"bgcolor\":\"white\",\"lakecolor\":\"white\",\"landcolor\":\"#E5ECF6\",\"showlakes\":true,\"showland\":true,\"subunitcolor\":\"white\"},\"hoverlabel\":{\"align\":\"left\"},\"hovermode\":\"closest\",\"mapbox\":{\"style\":\"light\"},\"paper_bgcolor\":\"white\",\"plot_bgcolor\":\"#E5ECF6\",\"polar\":{\"angularaxis\":{\"gridcolor\":\"white\",\"linecolor\":\"white\",\"ticks\":\"\"},\"bgcolor\":\"#E5ECF6\",\"radialaxis\":{\"gridcolor\":\"white\",\"linecolor\":\"white\",\"ticks\":\"\"}},\"scene\":{\"xaxis\":{\"backgroundcolor\":\"#E5ECF6\",\"gridcolor\":\"white\",\"gridwidth\":2,\"linecolor\":\"white\",\"showbackground\":true,\"ticks\":\"\",\"zerolinecolor\":\"white\"},\"yaxis\":{\"backgroundcolor\":\"#E5ECF6\",\"gridcolor\":\"white\",\"gridwidth\":2,\"linecolor\":\"white\",\"showbackground\":true,\"ticks\":\"\",\"zerolinecolor\":\"white\"},\"zaxis\":{\"backgroundcolor\":\"#E5ECF6\",\"gridcolor\":\"white\",\"gridwidth\":2,\"linecolor\":\"white\",\"showbackground\":true,\"ticks\":\"\",\"zerolinecolor\":\"white\"}},\"shapedefaults\":{\"line\":{\"color\":\"#2a3f5f\"}},\"ternary\":{\"aaxis\":{\"gridcolor\":\"white\",\"linecolor\":\"white\",\"ticks\":\"\"},\"baxis\":{\"gridcolor\":\"white\",\"linecolor\":\"white\",\"ticks\":\"\"},\"bgcolor\":\"#E5ECF6\",\"caxis\":{\"gridcolor\":\"white\",\"linecolor\":\"white\",\"ticks\":\"\"}},\"title\":{\"x\":0.05},\"xaxis\":{\"automargin\":true,\"gridcolor\":\"white\",\"linecolor\":\"white\",\"ticks\":\"\",\"title\":{\"standoff\":15},\"zerolinecolor\":\"white\",\"zerolinewidth\":2},\"yaxis\":{\"automargin\":true,\"gridcolor\":\"white\",\"linecolor\":\"white\",\"ticks\":\"\",\"title\":{\"standoff\":15},\"zerolinecolor\":\"white\",\"zerolinewidth\":2}}},\"xaxis\":{\"anchor\":\"y\",\"domain\":[0.0,1.0],\"title\":{\"text\":\"index\"}},\"yaxis\":{\"anchor\":\"x\",\"domain\":[0.0,1.0],\"title\":{\"text\":\"value\"}}},                        {\"responsive\": true}                    ).then(function(){\n",
       "                            \n",
       "var gd = document.getElementById('b7ec7ecd-c33a-4d50-adbe-2a7975786107');\n",
       "var x = new MutationObserver(function (mutations, observer) {{\n",
       "        var display = window.getComputedStyle(gd).display;\n",
       "        if (!display || display === 'none') {{\n",
       "            console.log([gd, 'removed!']);\n",
       "            Plotly.purge(gd);\n",
       "            observer.disconnect();\n",
       "        }}\n",
       "}});\n",
       "\n",
       "// Listen for the removal of the full notebook cells\n",
       "var notebookContainer = gd.closest('#notebook-container');\n",
       "if (notebookContainer) {{\n",
       "    x.observe(notebookContainer, {childList: true});\n",
       "}}\n",
       "\n",
       "// Listen for the clearing of the current output cell\n",
       "var outputEl = gd.closest('.output');\n",
       "if (outputEl) {{\n",
       "    x.observe(outputEl, {childList: true});\n",
       "}}\n",
       "\n",
       "                        })                };                });            </script>        </div>"
      ]
     },
     "metadata": {},
     "output_type": "display_data"
    },
    {
     "data": {
      "application/vnd.plotly.v1+json": {
       "config": {
        "plotlyServerURL": "https://plot.ly"
       },
       "data": [
        {
         "hovertemplate": "state=hc<br>index=%{x}<br>value=%{y}<extra></extra>",
         "legendgroup": "hc",
         "marker": {
          "color": "#636EFA",
          "symbol": "circle"
         },
         "mode": "markers",
         "name": "hc",
         "orientation": "v",
         "showlegend": true,
         "type": "scatter",
         "x": [
          0,
          20,
          23,
          24,
          37,
          43,
          55,
          64,
          67,
          72,
          73,
          74,
          76,
          77,
          78,
          81,
          90,
          93,
          104,
          115,
          122,
          124,
          127,
          128,
          130,
          135,
          137,
          147,
          149,
          161,
          167,
          170,
          177,
          182,
          183,
          186,
          187,
          190,
          193,
          197,
          199,
          200,
          207,
          213,
          218,
          224,
          225,
          226,
          229,
          230,
          231,
          233,
          235,
          236,
          241,
          246,
          247,
          252,
          259,
          284,
          289,
          293,
          299,
          302,
          311,
          312,
          314,
          316,
          320,
          325,
          335,
          340,
          342,
          347,
          348,
          360,
          370,
          383,
          400,
          415,
          422,
          427,
          429,
          438,
          443,
          447,
          449,
          450,
          454,
          456,
          465,
          469,
          471,
          476,
          497,
          499,
          500,
          503,
          505,
          506,
          515,
          522,
          523,
          525,
          530,
          532,
          533,
          534,
          541,
          546,
          548,
          552,
          557,
          564,
          570,
          573,
          578,
          584,
          619,
          628,
          651,
          652,
          703,
          709
         ],
         "xaxis": "x",
         "y": [
          15,
          15,
          15.1,
          15,
          15,
          15,
          15,
          15,
          15,
          15,
          15.1,
          15,
          15,
          15.1,
          15,
          15,
          15,
          15,
          15,
          15,
          15,
          15,
          15.1,
          15,
          15,
          15,
          15,
          15,
          15,
          15,
          15,
          15,
          15,
          15.1,
          15,
          15.1,
          15,
          15,
          15,
          15,
          15.1,
          15,
          15,
          15,
          15,
          15,
          15.1,
          15,
          15,
          15.1,
          15,
          15,
          15.1,
          15,
          15,
          15.1,
          15,
          15,
          15,
          15,
          15,
          15,
          15,
          15,
          15,
          15.1,
          15,
          15,
          15,
          15,
          15,
          15,
          15,
          15.1,
          15,
          15,
          15.1,
          15,
          15,
          15,
          15,
          15,
          15.1,
          15,
          15,
          15,
          15.1,
          15,
          15,
          15,
          15,
          15.1,
          15,
          15,
          15,
          15.1,
          15,
          15,
          15.1,
          15,
          15,
          15,
          15.1,
          15,
          15,
          15,
          15.1,
          15,
          15,
          15,
          15,
          15,
          15,
          15,
          15,
          15,
          15,
          15,
          15,
          15,
          14.9,
          15,
          15,
          15
         ],
         "yaxis": "y"
        },
        {
         "hovertemplate": "state=h<br>index=%{x}<br>value=%{y}<extra></extra>",
         "legendgroup": "h",
         "marker": {
          "color": "#00CC96",
          "symbol": "circle"
         },
         "mode": "markers",
         "name": "h",
         "orientation": "v",
         "showlegend": true,
         "type": "scatter",
         "x": [
          1,
          2,
          3,
          4,
          5,
          6,
          7,
          8,
          9,
          10,
          11,
          21,
          22,
          25,
          26,
          27,
          28,
          29,
          30,
          31,
          32,
          33,
          34,
          35,
          38,
          39,
          40,
          41,
          44,
          45,
          46,
          47,
          48,
          49,
          50,
          51,
          52,
          53,
          56,
          57,
          58,
          59,
          60,
          65,
          68,
          69,
          70,
          82,
          83,
          84,
          85,
          94,
          95,
          96,
          97,
          98,
          99,
          100,
          101,
          102,
          105,
          106,
          107,
          108,
          109,
          110,
          111,
          112,
          113,
          116,
          117,
          118,
          119,
          120,
          131,
          132,
          133,
          138,
          139,
          140,
          141,
          142,
          143,
          150,
          151,
          152,
          153,
          154,
          155,
          156,
          157,
          158,
          159,
          162,
          163,
          164,
          165,
          168,
          171,
          172,
          173,
          174,
          175,
          178,
          179,
          180,
          181,
          184,
          188,
          194,
          195,
          198,
          201,
          208,
          209,
          210,
          211,
          214,
          215,
          216,
          219,
          220,
          221,
          222,
          227,
          234,
          237,
          242,
          243,
          244,
          245,
          248,
          249,
          250,
          253,
          254,
          255,
          256,
          260,
          261,
          262,
          263,
          264,
          265,
          266,
          267,
          268,
          269,
          270,
          271,
          272,
          273,
          274,
          275,
          276,
          277,
          278,
          279,
          280,
          281,
          282,
          285,
          286,
          287,
          290,
          291,
          294,
          295,
          296,
          297,
          300,
          303,
          304,
          305,
          306,
          307,
          308,
          309,
          317,
          318,
          321,
          322,
          326,
          327,
          328,
          329,
          330,
          331,
          332,
          336,
          337,
          338,
          343,
          344,
          345,
          346,
          349,
          350,
          351,
          352,
          353,
          354,
          355,
          356,
          357,
          358,
          361,
          362,
          363,
          364,
          365,
          366,
          367,
          368,
          369,
          384,
          401,
          402,
          403,
          439,
          440,
          441,
          444,
          457,
          458,
          459,
          460,
          461,
          462,
          463,
          466,
          467,
          470,
          472,
          473,
          477,
          478,
          479,
          480,
          481,
          482,
          483,
          484,
          485,
          486,
          487,
          488,
          489,
          490,
          491,
          492,
          493,
          498,
          501,
          507,
          508,
          509,
          510,
          511,
          512,
          513,
          516,
          517,
          518,
          519,
          520,
          524,
          526,
          527,
          535,
          536,
          537,
          542,
          543,
          549,
          550,
          553,
          558,
          559,
          560,
          561,
          562,
          565,
          566,
          567,
          571,
          574,
          575,
          576,
          579,
          580,
          581,
          582,
          585,
          586,
          620,
          621,
          622,
          623,
          624,
          625,
          629,
          630,
          631,
          632,
          653,
          654,
          655,
          656,
          657,
          658,
          659,
          660,
          661,
          662,
          663,
          664,
          665,
          666,
          667,
          668,
          669,
          670,
          671,
          672,
          673,
          674,
          675,
          676,
          677,
          678,
          679,
          680,
          681,
          682,
          683,
          684,
          685,
          686,
          687,
          688,
          689,
          704,
          705,
          710,
          711,
          712,
          713,
          714
         ],
         "xaxis": "x",
         "y": [
          null,
          null,
          null,
          null,
          null,
          null,
          null,
          null,
          null,
          null,
          null,
          null,
          null,
          null,
          null,
          null,
          null,
          null,
          null,
          null,
          null,
          null,
          null,
          null,
          null,
          null,
          null,
          null,
          null,
          null,
          null,
          null,
          null,
          null,
          null,
          null,
          null,
          null,
          null,
          null,
          null,
          null,
          null,
          null,
          null,
          null,
          null,
          null,
          null,
          null,
          null,
          null,
          null,
          null,
          null,
          null,
          null,
          null,
          null,
          null,
          null,
          null,
          null,
          null,
          null,
          null,
          null,
          null,
          null,
          null,
          null,
          null,
          null,
          null,
          null,
          null,
          null,
          null,
          null,
          null,
          null,
          null,
          null,
          null,
          null,
          null,
          null,
          null,
          null,
          null,
          null,
          null,
          null,
          null,
          null,
          null,
          null,
          null,
          null,
          null,
          null,
          null,
          null,
          null,
          null,
          null,
          null,
          null,
          null,
          null,
          null,
          null,
          null,
          null,
          null,
          null,
          null,
          null,
          null,
          null,
          null,
          null,
          null,
          null,
          null,
          null,
          null,
          null,
          null,
          null,
          null,
          null,
          null,
          null,
          null,
          null,
          null,
          null,
          null,
          null,
          null,
          null,
          null,
          null,
          null,
          null,
          null,
          null,
          null,
          null,
          null,
          null,
          null,
          null,
          null,
          null,
          null,
          null,
          null,
          null,
          null,
          null,
          null,
          null,
          null,
          null,
          null,
          null,
          null,
          null,
          null,
          null,
          null,
          null,
          null,
          null,
          null,
          null,
          null,
          null,
          null,
          null,
          null,
          null,
          null,
          null,
          null,
          null,
          null,
          null,
          null,
          null,
          null,
          null,
          null,
          null,
          null,
          null,
          null,
          null,
          null,
          null,
          null,
          null,
          null,
          null,
          null,
          null,
          null,
          null,
          null,
          null,
          null,
          null,
          null,
          null,
          null,
          null,
          null,
          null,
          null,
          null,
          null,
          null,
          null,
          null,
          null,
          null,
          null,
          null,
          null,
          null,
          null,
          null,
          null,
          null,
          null,
          null,
          null,
          null,
          null,
          null,
          null,
          null,
          null,
          null,
          null,
          null,
          null,
          null,
          null,
          null,
          null,
          null,
          null,
          null,
          null,
          null,
          null,
          null,
          null,
          null,
          null,
          null,
          null,
          null,
          null,
          null,
          null,
          null,
          null,
          null,
          null,
          null,
          null,
          null,
          null,
          null,
          null,
          null,
          null,
          null,
          null,
          null,
          null,
          null,
          null,
          null,
          null,
          null,
          null,
          null,
          null,
          null,
          null,
          null,
          null,
          null,
          null,
          null,
          null,
          null,
          null,
          null,
          null,
          null,
          null,
          null,
          null,
          null,
          null,
          null,
          null,
          null,
          null,
          null,
          null,
          null,
          null,
          null,
          null,
          null,
          null,
          null,
          null,
          null,
          null,
          null,
          null,
          null,
          null,
          null,
          null,
          null,
          null,
          null,
          null,
          null,
          null,
          null,
          null,
          null,
          null,
          null,
          null,
          null,
          null,
          null,
          null
         ],
         "yaxis": "y"
        },
        {
         "hovertemplate": "state=anomaly<br>index=%{x}<br>value=%{y}<extra></extra>",
         "legendgroup": "anomaly",
         "marker": {
          "color": "#EF553B",
          "symbol": "circle"
         },
         "mode": "markers",
         "name": "anomaly",
         "orientation": "v",
         "showlegend": true,
         "type": "scatter",
         "x": [
          12,
          13,
          15,
          16,
          17,
          18,
          36,
          42,
          87,
          88,
          89,
          126,
          191,
          192,
          204,
          205,
          206,
          217,
          228,
          238,
          239,
          258,
          298,
          333,
          339,
          359,
          371,
          372,
          373,
          374,
          375,
          376,
          377,
          378,
          379,
          380,
          381,
          382,
          389,
          390,
          391,
          394,
          414,
          418,
          421,
          423,
          432,
          433,
          445,
          451,
          452,
          453,
          495,
          496,
          540,
          555,
          572,
          589,
          590,
          591,
          592,
          593,
          594,
          595,
          596,
          597,
          598,
          599,
          600,
          601,
          602,
          603,
          604,
          605,
          606,
          607,
          608,
          609,
          610,
          611,
          612,
          613,
          614,
          617,
          618,
          633,
          634,
          635,
          636,
          637,
          638,
          639,
          640,
          641,
          642,
          643,
          644,
          645,
          646,
          647,
          648,
          649,
          650,
          690,
          691,
          692,
          693,
          694,
          695,
          697,
          698,
          699,
          700,
          701,
          706,
          707,
          708
         ],
         "xaxis": "x",
         "y": [
          20.9,
          20.4,
          32.4,
          31.7,
          15,
          17,
          19.7,
          14.9,
          15,
          null,
          23.8,
          20.9,
          19.5,
          20.6,
          15,
          null,
          29,
          22.1,
          26,
          15.1,
          15,
          21.4,
          20.8,
          23.3,
          25.3,
          25.8,
          15,
          null,
          null,
          null,
          null,
          null,
          null,
          null,
          null,
          null,
          null,
          21.3,
          null,
          25.1,
          19.9,
          31.1,
          21.3,
          null,
          25.5,
          20,
          null,
          30.3,
          24.7,
          32.5,
          20.3,
          29.2,
          30.8,
          14.9,
          22.1,
          21.2,
          19.6,
          15,
          null,
          null,
          null,
          null,
          15.1,
          15,
          null,
          null,
          null,
          null,
          null,
          null,
          null,
          null,
          null,
          null,
          null,
          null,
          null,
          null,
          null,
          null,
          null,
          null,
          null,
          null,
          23.9,
          null,
          null,
          null,
          null,
          null,
          null,
          null,
          null,
          null,
          null,
          15,
          null,
          null,
          null,
          15,
          null,
          null,
          null,
          null,
          null,
          null,
          null,
          null,
          null,
          null,
          null,
          null,
          null,
          null,
          18.9,
          15,
          19.5
         ],
         "yaxis": "y"
        },
        {
         "hovertemplate": "state=start<br>index=%{x}<br>value=%{y}<extra></extra>",
         "legendgroup": "start",
         "marker": {
          "color": "#AB63FA",
          "symbol": "circle"
         },
         "mode": "markers",
         "name": "start",
         "orientation": "v",
         "showlegend": true,
         "type": "scatter",
         "x": [
          14,
          19,
          54,
          61,
          62,
          63,
          66,
          71,
          75,
          79,
          80,
          86,
          91,
          92,
          103,
          114,
          121,
          123,
          125,
          129,
          134,
          136,
          144,
          145,
          146,
          148,
          160,
          166,
          169,
          176,
          185,
          189,
          196,
          202,
          203,
          212,
          223,
          232,
          240,
          251,
          257,
          283,
          288,
          292,
          301,
          310,
          313,
          315,
          319,
          323,
          324,
          334,
          341,
          385,
          386,
          387,
          388,
          392,
          393,
          395,
          396,
          397,
          398,
          399,
          404,
          405,
          406,
          407,
          408,
          409,
          410,
          411,
          412,
          413,
          416,
          417,
          419,
          420,
          424,
          425,
          426,
          428,
          430,
          431,
          434,
          435,
          436,
          437,
          442,
          446,
          448,
          455,
          464,
          468,
          474,
          475,
          494,
          502,
          504,
          514,
          521,
          528,
          529,
          531,
          538,
          539,
          544,
          545,
          547,
          551,
          554,
          556,
          563,
          568,
          569,
          577,
          583,
          587,
          588,
          615,
          616,
          626,
          627,
          696,
          702,
          715
         ],
         "xaxis": "x",
         "y": [
          32.3,
          31.6,
          31.8,
          21.6,
          21.1,
          26,
          23.1,
          32,
          25.8,
          30.1,
          22.2,
          32.3,
          22.4,
          24,
          23.6,
          20.9,
          31.9,
          30.3,
          21.5,
          31,
          32.2,
          24.6,
          32.6,
          32.3,
          31.4,
          31.9,
          32.4,
          25.9,
          31,
          24.1,
          23.2,
          31.2,
          22.1,
          31.5,
          32.3,
          23.2,
          21.6,
          21.7,
          21.5,
          21.6,
          28.8,
          21.2,
          31.4,
          21.2,
          21.6,
          21.5,
          23.5,
          29.8,
          31.4,
          28.5,
          24.2,
          31.4,
          33.1,
          33.2,
          32.6,
          32.1,
          30.8,
          31.4,
          31.2,
          21.5,
          30.7,
          31.2,
          25.5,
          28.8,
          31.8,
          32.1,
          31.8,
          32,
          32.2,
          32.1,
          21.2,
          20.9,
          24.2,
          26.7,
          29.9,
          31.4,
          29.1,
          27.8,
          31.4,
          32,
          32.1,
          21.7,
          30.2,
          31.5,
          31.4,
          31.8,
          22.3,
          23.1,
          25.9,
          21.8,
          29.2,
          22.5,
          32,
          22.3,
          30.6,
          28.9,
          33,
          33,
          21.2,
          31.8,
          21.3,
          22.4,
          30.6,
          22.1,
          22.2,
          28.8,
          32.6,
          32.4,
          21.9,
          31.3,
          21.8,
          24.8,
          26.5,
          29.8,
          23.9,
          21.6,
          21.1,
          31.1,
          21.6,
          21.2,
          30.8,
          33.4,
          33.6,
          21,
          28.5,
          20.6
         ],
         "yaxis": "y"
        }
       ],
       "layout": {
        "legend": {
         "title": {
          "text": "state"
         },
         "tracegroupgap": 0
        },
        "margin": {
         "t": 60
        },
        "template": {
         "data": {
          "bar": [
           {
            "error_x": {
             "color": "#2a3f5f"
            },
            "error_y": {
             "color": "#2a3f5f"
            },
            "marker": {
             "line": {
              "color": "#E5ECF6",
              "width": 0.5
             },
             "pattern": {
              "fillmode": "overlay",
              "size": 10,
              "solidity": 0.2
             }
            },
            "type": "bar"
           }
          ],
          "barpolar": [
           {
            "marker": {
             "line": {
              "color": "#E5ECF6",
              "width": 0.5
             },
             "pattern": {
              "fillmode": "overlay",
              "size": 10,
              "solidity": 0.2
             }
            },
            "type": "barpolar"
           }
          ],
          "carpet": [
           {
            "aaxis": {
             "endlinecolor": "#2a3f5f",
             "gridcolor": "white",
             "linecolor": "white",
             "minorgridcolor": "white",
             "startlinecolor": "#2a3f5f"
            },
            "baxis": {
             "endlinecolor": "#2a3f5f",
             "gridcolor": "white",
             "linecolor": "white",
             "minorgridcolor": "white",
             "startlinecolor": "#2a3f5f"
            },
            "type": "carpet"
           }
          ],
          "choropleth": [
           {
            "colorbar": {
             "outlinewidth": 0,
             "ticks": ""
            },
            "type": "choropleth"
           }
          ],
          "contour": [
           {
            "colorbar": {
             "outlinewidth": 0,
             "ticks": ""
            },
            "colorscale": [
             [
              0,
              "#0d0887"
             ],
             [
              0.1111111111111111,
              "#46039f"
             ],
             [
              0.2222222222222222,
              "#7201a8"
             ],
             [
              0.3333333333333333,
              "#9c179e"
             ],
             [
              0.4444444444444444,
              "#bd3786"
             ],
             [
              0.5555555555555556,
              "#d8576b"
             ],
             [
              0.6666666666666666,
              "#ed7953"
             ],
             [
              0.7777777777777778,
              "#fb9f3a"
             ],
             [
              0.8888888888888888,
              "#fdca26"
             ],
             [
              1,
              "#f0f921"
             ]
            ],
            "type": "contour"
           }
          ],
          "contourcarpet": [
           {
            "colorbar": {
             "outlinewidth": 0,
             "ticks": ""
            },
            "type": "contourcarpet"
           }
          ],
          "heatmap": [
           {
            "colorbar": {
             "outlinewidth": 0,
             "ticks": ""
            },
            "colorscale": [
             [
              0,
              "#0d0887"
             ],
             [
              0.1111111111111111,
              "#46039f"
             ],
             [
              0.2222222222222222,
              "#7201a8"
             ],
             [
              0.3333333333333333,
              "#9c179e"
             ],
             [
              0.4444444444444444,
              "#bd3786"
             ],
             [
              0.5555555555555556,
              "#d8576b"
             ],
             [
              0.6666666666666666,
              "#ed7953"
             ],
             [
              0.7777777777777778,
              "#fb9f3a"
             ],
             [
              0.8888888888888888,
              "#fdca26"
             ],
             [
              1,
              "#f0f921"
             ]
            ],
            "type": "heatmap"
           }
          ],
          "heatmapgl": [
           {
            "colorbar": {
             "outlinewidth": 0,
             "ticks": ""
            },
            "colorscale": [
             [
              0,
              "#0d0887"
             ],
             [
              0.1111111111111111,
              "#46039f"
             ],
             [
              0.2222222222222222,
              "#7201a8"
             ],
             [
              0.3333333333333333,
              "#9c179e"
             ],
             [
              0.4444444444444444,
              "#bd3786"
             ],
             [
              0.5555555555555556,
              "#d8576b"
             ],
             [
              0.6666666666666666,
              "#ed7953"
             ],
             [
              0.7777777777777778,
              "#fb9f3a"
             ],
             [
              0.8888888888888888,
              "#fdca26"
             ],
             [
              1,
              "#f0f921"
             ]
            ],
            "type": "heatmapgl"
           }
          ],
          "histogram": [
           {
            "marker": {
             "pattern": {
              "fillmode": "overlay",
              "size": 10,
              "solidity": 0.2
             }
            },
            "type": "histogram"
           }
          ],
          "histogram2d": [
           {
            "colorbar": {
             "outlinewidth": 0,
             "ticks": ""
            },
            "colorscale": [
             [
              0,
              "#0d0887"
             ],
             [
              0.1111111111111111,
              "#46039f"
             ],
             [
              0.2222222222222222,
              "#7201a8"
             ],
             [
              0.3333333333333333,
              "#9c179e"
             ],
             [
              0.4444444444444444,
              "#bd3786"
             ],
             [
              0.5555555555555556,
              "#d8576b"
             ],
             [
              0.6666666666666666,
              "#ed7953"
             ],
             [
              0.7777777777777778,
              "#fb9f3a"
             ],
             [
              0.8888888888888888,
              "#fdca26"
             ],
             [
              1,
              "#f0f921"
             ]
            ],
            "type": "histogram2d"
           }
          ],
          "histogram2dcontour": [
           {
            "colorbar": {
             "outlinewidth": 0,
             "ticks": ""
            },
            "colorscale": [
             [
              0,
              "#0d0887"
             ],
             [
              0.1111111111111111,
              "#46039f"
             ],
             [
              0.2222222222222222,
              "#7201a8"
             ],
             [
              0.3333333333333333,
              "#9c179e"
             ],
             [
              0.4444444444444444,
              "#bd3786"
             ],
             [
              0.5555555555555556,
              "#d8576b"
             ],
             [
              0.6666666666666666,
              "#ed7953"
             ],
             [
              0.7777777777777778,
              "#fb9f3a"
             ],
             [
              0.8888888888888888,
              "#fdca26"
             ],
             [
              1,
              "#f0f921"
             ]
            ],
            "type": "histogram2dcontour"
           }
          ],
          "mesh3d": [
           {
            "colorbar": {
             "outlinewidth": 0,
             "ticks": ""
            },
            "type": "mesh3d"
           }
          ],
          "parcoords": [
           {
            "line": {
             "colorbar": {
              "outlinewidth": 0,
              "ticks": ""
             }
            },
            "type": "parcoords"
           }
          ],
          "pie": [
           {
            "automargin": true,
            "type": "pie"
           }
          ],
          "scatter": [
           {
            "marker": {
             "colorbar": {
              "outlinewidth": 0,
              "ticks": ""
             }
            },
            "type": "scatter"
           }
          ],
          "scatter3d": [
           {
            "line": {
             "colorbar": {
              "outlinewidth": 0,
              "ticks": ""
             }
            },
            "marker": {
             "colorbar": {
              "outlinewidth": 0,
              "ticks": ""
             }
            },
            "type": "scatter3d"
           }
          ],
          "scattercarpet": [
           {
            "marker": {
             "colorbar": {
              "outlinewidth": 0,
              "ticks": ""
             }
            },
            "type": "scattercarpet"
           }
          ],
          "scattergeo": [
           {
            "marker": {
             "colorbar": {
              "outlinewidth": 0,
              "ticks": ""
             }
            },
            "type": "scattergeo"
           }
          ],
          "scattergl": [
           {
            "marker": {
             "colorbar": {
              "outlinewidth": 0,
              "ticks": ""
             }
            },
            "type": "scattergl"
           }
          ],
          "scattermapbox": [
           {
            "marker": {
             "colorbar": {
              "outlinewidth": 0,
              "ticks": ""
             }
            },
            "type": "scattermapbox"
           }
          ],
          "scatterpolar": [
           {
            "marker": {
             "colorbar": {
              "outlinewidth": 0,
              "ticks": ""
             }
            },
            "type": "scatterpolar"
           }
          ],
          "scatterpolargl": [
           {
            "marker": {
             "colorbar": {
              "outlinewidth": 0,
              "ticks": ""
             }
            },
            "type": "scatterpolargl"
           }
          ],
          "scatterternary": [
           {
            "marker": {
             "colorbar": {
              "outlinewidth": 0,
              "ticks": ""
             }
            },
            "type": "scatterternary"
           }
          ],
          "surface": [
           {
            "colorbar": {
             "outlinewidth": 0,
             "ticks": ""
            },
            "colorscale": [
             [
              0,
              "#0d0887"
             ],
             [
              0.1111111111111111,
              "#46039f"
             ],
             [
              0.2222222222222222,
              "#7201a8"
             ],
             [
              0.3333333333333333,
              "#9c179e"
             ],
             [
              0.4444444444444444,
              "#bd3786"
             ],
             [
              0.5555555555555556,
              "#d8576b"
             ],
             [
              0.6666666666666666,
              "#ed7953"
             ],
             [
              0.7777777777777778,
              "#fb9f3a"
             ],
             [
              0.8888888888888888,
              "#fdca26"
             ],
             [
              1,
              "#f0f921"
             ]
            ],
            "type": "surface"
           }
          ],
          "table": [
           {
            "cells": {
             "fill": {
              "color": "#EBF0F8"
             },
             "line": {
              "color": "white"
             }
            },
            "header": {
             "fill": {
              "color": "#C8D4E3"
             },
             "line": {
              "color": "white"
             }
            },
            "type": "table"
           }
          ]
         },
         "layout": {
          "annotationdefaults": {
           "arrowcolor": "#2a3f5f",
           "arrowhead": 0,
           "arrowwidth": 1
          },
          "autotypenumbers": "strict",
          "coloraxis": {
           "colorbar": {
            "outlinewidth": 0,
            "ticks": ""
           }
          },
          "colorscale": {
           "diverging": [
            [
             0,
             "#8e0152"
            ],
            [
             0.1,
             "#c51b7d"
            ],
            [
             0.2,
             "#de77ae"
            ],
            [
             0.3,
             "#f1b6da"
            ],
            [
             0.4,
             "#fde0ef"
            ],
            [
             0.5,
             "#f7f7f7"
            ],
            [
             0.6,
             "#e6f5d0"
            ],
            [
             0.7,
             "#b8e186"
            ],
            [
             0.8,
             "#7fbc41"
            ],
            [
             0.9,
             "#4d9221"
            ],
            [
             1,
             "#276419"
            ]
           ],
           "sequential": [
            [
             0,
             "#0d0887"
            ],
            [
             0.1111111111111111,
             "#46039f"
            ],
            [
             0.2222222222222222,
             "#7201a8"
            ],
            [
             0.3333333333333333,
             "#9c179e"
            ],
            [
             0.4444444444444444,
             "#bd3786"
            ],
            [
             0.5555555555555556,
             "#d8576b"
            ],
            [
             0.6666666666666666,
             "#ed7953"
            ],
            [
             0.7777777777777778,
             "#fb9f3a"
            ],
            [
             0.8888888888888888,
             "#fdca26"
            ],
            [
             1,
             "#f0f921"
            ]
           ],
           "sequentialminus": [
            [
             0,
             "#0d0887"
            ],
            [
             0.1111111111111111,
             "#46039f"
            ],
            [
             0.2222222222222222,
             "#7201a8"
            ],
            [
             0.3333333333333333,
             "#9c179e"
            ],
            [
             0.4444444444444444,
             "#bd3786"
            ],
            [
             0.5555555555555556,
             "#d8576b"
            ],
            [
             0.6666666666666666,
             "#ed7953"
            ],
            [
             0.7777777777777778,
             "#fb9f3a"
            ],
            [
             0.8888888888888888,
             "#fdca26"
            ],
            [
             1,
             "#f0f921"
            ]
           ]
          },
          "colorway": [
           "#636efa",
           "#EF553B",
           "#00cc96",
           "#ab63fa",
           "#FFA15A",
           "#19d3f3",
           "#FF6692",
           "#B6E880",
           "#FF97FF",
           "#FECB52"
          ],
          "font": {
           "color": "#2a3f5f"
          },
          "geo": {
           "bgcolor": "white",
           "lakecolor": "white",
           "landcolor": "#E5ECF6",
           "showlakes": true,
           "showland": true,
           "subunitcolor": "white"
          },
          "hoverlabel": {
           "align": "left"
          },
          "hovermode": "closest",
          "mapbox": {
           "style": "light"
          },
          "paper_bgcolor": "white",
          "plot_bgcolor": "#E5ECF6",
          "polar": {
           "angularaxis": {
            "gridcolor": "white",
            "linecolor": "white",
            "ticks": ""
           },
           "bgcolor": "#E5ECF6",
           "radialaxis": {
            "gridcolor": "white",
            "linecolor": "white",
            "ticks": ""
           }
          },
          "scene": {
           "xaxis": {
            "backgroundcolor": "#E5ECF6",
            "gridcolor": "white",
            "gridwidth": 2,
            "linecolor": "white",
            "showbackground": true,
            "ticks": "",
            "zerolinecolor": "white"
           },
           "yaxis": {
            "backgroundcolor": "#E5ECF6",
            "gridcolor": "white",
            "gridwidth": 2,
            "linecolor": "white",
            "showbackground": true,
            "ticks": "",
            "zerolinecolor": "white"
           },
           "zaxis": {
            "backgroundcolor": "#E5ECF6",
            "gridcolor": "white",
            "gridwidth": 2,
            "linecolor": "white",
            "showbackground": true,
            "ticks": "",
            "zerolinecolor": "white"
           }
          },
          "shapedefaults": {
           "line": {
            "color": "#2a3f5f"
           }
          },
          "ternary": {
           "aaxis": {
            "gridcolor": "white",
            "linecolor": "white",
            "ticks": ""
           },
           "baxis": {
            "gridcolor": "white",
            "linecolor": "white",
            "ticks": ""
           },
           "bgcolor": "#E5ECF6",
           "caxis": {
            "gridcolor": "white",
            "linecolor": "white",
            "ticks": ""
           }
          },
          "title": {
           "x": 0.05
          },
          "xaxis": {
           "automargin": true,
           "gridcolor": "white",
           "linecolor": "white",
           "ticks": "",
           "title": {
            "standoff": 15
           },
           "zerolinecolor": "white",
           "zerolinewidth": 2
          },
          "yaxis": {
           "automargin": true,
           "gridcolor": "white",
           "linecolor": "white",
           "ticks": "",
           "title": {
            "standoff": 15
           },
           "zerolinecolor": "white",
           "zerolinewidth": 2
          }
         }
        },
        "xaxis": {
         "anchor": "y",
         "domain": [
          0,
          1
         ],
         "title": {
          "text": "index"
         }
        },
        "yaxis": {
         "anchor": "x",
         "domain": [
          0,
          1
         ],
         "title": {
          "text": "value"
         }
        }
       }
      },
      "text/html": [
       "<div>                            <div id=\"fd5c9e37-2bb8-4d15-90b4-95facf968ee0\" class=\"plotly-graph-div\" style=\"height:525px; width:100%;\"></div>            <script type=\"text/javascript\">                require([\"plotly\"], function(Plotly) {                    window.PLOTLYENV=window.PLOTLYENV || {};                                    if (document.getElementById(\"fd5c9e37-2bb8-4d15-90b4-95facf968ee0\")) {                    Plotly.newPlot(                        \"fd5c9e37-2bb8-4d15-90b4-95facf968ee0\",                        [{\"hovertemplate\":\"state=hc<br>index=%{x}<br>value=%{y}<extra></extra>\",\"legendgroup\":\"hc\",\"marker\":{\"color\":\"#636EFA\",\"symbol\":\"circle\"},\"mode\":\"markers\",\"name\":\"hc\",\"orientation\":\"v\",\"showlegend\":true,\"type\":\"scatter\",\"x\":[0,20,23,24,37,43,55,64,67,72,73,74,76,77,78,81,90,93,104,115,122,124,127,128,130,135,137,147,149,161,167,170,177,182,183,186,187,190,193,197,199,200,207,213,218,224,225,226,229,230,231,233,235,236,241,246,247,252,259,284,289,293,299,302,311,312,314,316,320,325,335,340,342,347,348,360,370,383,400,415,422,427,429,438,443,447,449,450,454,456,465,469,471,476,497,499,500,503,505,506,515,522,523,525,530,532,533,534,541,546,548,552,557,564,570,573,578,584,619,628,651,652,703,709],\"xaxis\":\"x\",\"y\":[15.0,15.0,15.1,15.0,15.0,15.0,15.0,15.0,15.0,15.0,15.1,15.0,15.0,15.1,15.0,15.0,15.0,15.0,15.0,15.0,15.0,15.0,15.1,15.0,15.0,15.0,15.0,15.0,15.0,15.0,15.0,15.0,15.0,15.1,15.0,15.1,15.0,15.0,15.0,15.0,15.1,15.0,15.0,15.0,15.0,15.0,15.1,15.0,15.0,15.1,15.0,15.0,15.1,15.0,15.0,15.1,15.0,15.0,15.0,15.0,15.0,15.0,15.0,15.0,15.0,15.1,15.0,15.0,15.0,15.0,15.0,15.0,15.0,15.1,15.0,15.0,15.1,15.0,15.0,15.0,15.0,15.0,15.1,15.0,15.0,15.0,15.1,15.0,15.0,15.0,15.0,15.1,15.0,15.0,15.0,15.1,15.0,15.0,15.1,15.0,15.0,15.0,15.1,15.0,15.0,15.0,15.1,15.0,15.0,15.0,15.0,15.0,15.0,15.0,15.0,15.0,15.0,15.0,15.0,15.0,14.9,15.0,15.0,15.0],\"yaxis\":\"y\"},{\"hovertemplate\":\"state=h<br>index=%{x}<br>value=%{y}<extra></extra>\",\"legendgroup\":\"h\",\"marker\":{\"color\":\"#00CC96\",\"symbol\":\"circle\"},\"mode\":\"markers\",\"name\":\"h\",\"orientation\":\"v\",\"showlegend\":true,\"type\":\"scatter\",\"x\":[1,2,3,4,5,6,7,8,9,10,11,21,22,25,26,27,28,29,30,31,32,33,34,35,38,39,40,41,44,45,46,47,48,49,50,51,52,53,56,57,58,59,60,65,68,69,70,82,83,84,85,94,95,96,97,98,99,100,101,102,105,106,107,108,109,110,111,112,113,116,117,118,119,120,131,132,133,138,139,140,141,142,143,150,151,152,153,154,155,156,157,158,159,162,163,164,165,168,171,172,173,174,175,178,179,180,181,184,188,194,195,198,201,208,209,210,211,214,215,216,219,220,221,222,227,234,237,242,243,244,245,248,249,250,253,254,255,256,260,261,262,263,264,265,266,267,268,269,270,271,272,273,274,275,276,277,278,279,280,281,282,285,286,287,290,291,294,295,296,297,300,303,304,305,306,307,308,309,317,318,321,322,326,327,328,329,330,331,332,336,337,338,343,344,345,346,349,350,351,352,353,354,355,356,357,358,361,362,363,364,365,366,367,368,369,384,401,402,403,439,440,441,444,457,458,459,460,461,462,463,466,467,470,472,473,477,478,479,480,481,482,483,484,485,486,487,488,489,490,491,492,493,498,501,507,508,509,510,511,512,513,516,517,518,519,520,524,526,527,535,536,537,542,543,549,550,553,558,559,560,561,562,565,566,567,571,574,575,576,579,580,581,582,585,586,620,621,622,623,624,625,629,630,631,632,653,654,655,656,657,658,659,660,661,662,663,664,665,666,667,668,669,670,671,672,673,674,675,676,677,678,679,680,681,682,683,684,685,686,687,688,689,704,705,710,711,712,713,714],\"xaxis\":\"x\",\"y\":[null,null,null,null,null,null,null,null,null,null,null,null,null,null,null,null,null,null,null,null,null,null,null,null,null,null,null,null,null,null,null,null,null,null,null,null,null,null,null,null,null,null,null,null,null,null,null,null,null,null,null,null,null,null,null,null,null,null,null,null,null,null,null,null,null,null,null,null,null,null,null,null,null,null,null,null,null,null,null,null,null,null,null,null,null,null,null,null,null,null,null,null,null,null,null,null,null,null,null,null,null,null,null,null,null,null,null,null,null,null,null,null,null,null,null,null,null,null,null,null,null,null,null,null,null,null,null,null,null,null,null,null,null,null,null,null,null,null,null,null,null,null,null,null,null,null,null,null,null,null,null,null,null,null,null,null,null,null,null,null,null,null,null,null,null,null,null,null,null,null,null,null,null,null,null,null,null,null,null,null,null,null,null,null,null,null,null,null,null,null,null,null,null,null,null,null,null,null,null,null,null,null,null,null,null,null,null,null,null,null,null,null,null,null,null,null,null,null,null,null,null,null,null,null,null,null,null,null,null,null,null,null,null,null,null,null,null,null,null,null,null,null,null,null,null,null,null,null,null,null,null,null,null,null,null,null,null,null,null,null,null,null,null,null,null,null,null,null,null,null,null,null,null,null,null,null,null,null,null,null,null,null,null,null,null,null,null,null,null,null,null,null,null,null,null,null,null,null,null,null,null,null,null,null,null,null,null,null,null,null,null,null,null,null,null,null,null,null,null,null,null,null,null,null,null,null,null,null,null,null,null,null,null,null,null,null,null,null,null,null,null,null,null,null,null,null,null,null,null],\"yaxis\":\"y\"},{\"hovertemplate\":\"state=anomaly<br>index=%{x}<br>value=%{y}<extra></extra>\",\"legendgroup\":\"anomaly\",\"marker\":{\"color\":\"#EF553B\",\"symbol\":\"circle\"},\"mode\":\"markers\",\"name\":\"anomaly\",\"orientation\":\"v\",\"showlegend\":true,\"type\":\"scatter\",\"x\":[12,13,15,16,17,18,36,42,87,88,89,126,191,192,204,205,206,217,228,238,239,258,298,333,339,359,371,372,373,374,375,376,377,378,379,380,381,382,389,390,391,394,414,418,421,423,432,433,445,451,452,453,495,496,540,555,572,589,590,591,592,593,594,595,596,597,598,599,600,601,602,603,604,605,606,607,608,609,610,611,612,613,614,617,618,633,634,635,636,637,638,639,640,641,642,643,644,645,646,647,648,649,650,690,691,692,693,694,695,697,698,699,700,701,706,707,708],\"xaxis\":\"x\",\"y\":[20.9,20.4,32.4,31.7,15.0,17.0,19.7,14.9,15.0,null,23.8,20.9,19.5,20.6,15.0,null,29.0,22.1,26.0,15.1,15.0,21.4,20.8,23.3,25.3,25.8,15.0,null,null,null,null,null,null,null,null,null,null,21.3,null,25.1,19.9,31.1,21.3,null,25.5,20.0,null,30.3,24.7,32.5,20.3,29.2,30.8,14.9,22.1,21.2,19.6,15.0,null,null,null,null,15.1,15.0,null,null,null,null,null,null,null,null,null,null,null,null,null,null,null,null,null,null,null,null,23.9,null,null,null,null,null,null,null,null,null,null,15.0,null,null,null,15.0,null,null,null,null,null,null,null,null,null,null,null,null,null,null,18.9,15.0,19.5],\"yaxis\":\"y\"},{\"hovertemplate\":\"state=start<br>index=%{x}<br>value=%{y}<extra></extra>\",\"legendgroup\":\"start\",\"marker\":{\"color\":\"#AB63FA\",\"symbol\":\"circle\"},\"mode\":\"markers\",\"name\":\"start\",\"orientation\":\"v\",\"showlegend\":true,\"type\":\"scatter\",\"x\":[14,19,54,61,62,63,66,71,75,79,80,86,91,92,103,114,121,123,125,129,134,136,144,145,146,148,160,166,169,176,185,189,196,202,203,212,223,232,240,251,257,283,288,292,301,310,313,315,319,323,324,334,341,385,386,387,388,392,393,395,396,397,398,399,404,405,406,407,408,409,410,411,412,413,416,417,419,420,424,425,426,428,430,431,434,435,436,437,442,446,448,455,464,468,474,475,494,502,504,514,521,528,529,531,538,539,544,545,547,551,554,556,563,568,569,577,583,587,588,615,616,626,627,696,702,715],\"xaxis\":\"x\",\"y\":[32.3,31.6,31.8,21.6,21.1,26.0,23.1,32.0,25.8,30.1,22.2,32.3,22.4,24.0,23.6,20.9,31.9,30.3,21.5,31.0,32.2,24.6,32.6,32.3,31.4,31.9,32.4,25.9,31.0,24.1,23.2,31.2,22.1,31.5,32.3,23.2,21.6,21.7,21.5,21.6,28.8,21.2,31.4,21.2,21.6,21.5,23.5,29.8,31.4,28.5,24.2,31.4,33.1,33.2,32.6,32.1,30.8,31.4,31.2,21.5,30.7,31.2,25.5,28.8,31.8,32.1,31.8,32.0,32.2,32.1,21.2,20.9,24.2,26.7,29.9,31.4,29.1,27.8,31.4,32.0,32.1,21.7,30.2,31.5,31.4,31.8,22.3,23.1,25.9,21.8,29.2,22.5,32.0,22.3,30.6,28.9,33.0,33.0,21.2,31.8,21.3,22.4,30.6,22.1,22.2,28.8,32.6,32.4,21.9,31.3,21.8,24.8,26.5,29.8,23.9,21.6,21.1,31.1,21.6,21.2,30.8,33.4,33.6,21.0,28.5,20.6],\"yaxis\":\"y\"}],                        {\"legend\":{\"title\":{\"text\":\"state\"},\"tracegroupgap\":0},\"margin\":{\"t\":60},\"template\":{\"data\":{\"bar\":[{\"error_x\":{\"color\":\"#2a3f5f\"},\"error_y\":{\"color\":\"#2a3f5f\"},\"marker\":{\"line\":{\"color\":\"#E5ECF6\",\"width\":0.5},\"pattern\":{\"fillmode\":\"overlay\",\"size\":10,\"solidity\":0.2}},\"type\":\"bar\"}],\"barpolar\":[{\"marker\":{\"line\":{\"color\":\"#E5ECF6\",\"width\":0.5},\"pattern\":{\"fillmode\":\"overlay\",\"size\":10,\"solidity\":0.2}},\"type\":\"barpolar\"}],\"carpet\":[{\"aaxis\":{\"endlinecolor\":\"#2a3f5f\",\"gridcolor\":\"white\",\"linecolor\":\"white\",\"minorgridcolor\":\"white\",\"startlinecolor\":\"#2a3f5f\"},\"baxis\":{\"endlinecolor\":\"#2a3f5f\",\"gridcolor\":\"white\",\"linecolor\":\"white\",\"minorgridcolor\":\"white\",\"startlinecolor\":\"#2a3f5f\"},\"type\":\"carpet\"}],\"choropleth\":[{\"colorbar\":{\"outlinewidth\":0,\"ticks\":\"\"},\"type\":\"choropleth\"}],\"contour\":[{\"colorbar\":{\"outlinewidth\":0,\"ticks\":\"\"},\"colorscale\":[[0.0,\"#0d0887\"],[0.1111111111111111,\"#46039f\"],[0.2222222222222222,\"#7201a8\"],[0.3333333333333333,\"#9c179e\"],[0.4444444444444444,\"#bd3786\"],[0.5555555555555556,\"#d8576b\"],[0.6666666666666666,\"#ed7953\"],[0.7777777777777778,\"#fb9f3a\"],[0.8888888888888888,\"#fdca26\"],[1.0,\"#f0f921\"]],\"type\":\"contour\"}],\"contourcarpet\":[{\"colorbar\":{\"outlinewidth\":0,\"ticks\":\"\"},\"type\":\"contourcarpet\"}],\"heatmap\":[{\"colorbar\":{\"outlinewidth\":0,\"ticks\":\"\"},\"colorscale\":[[0.0,\"#0d0887\"],[0.1111111111111111,\"#46039f\"],[0.2222222222222222,\"#7201a8\"],[0.3333333333333333,\"#9c179e\"],[0.4444444444444444,\"#bd3786\"],[0.5555555555555556,\"#d8576b\"],[0.6666666666666666,\"#ed7953\"],[0.7777777777777778,\"#fb9f3a\"],[0.8888888888888888,\"#fdca26\"],[1.0,\"#f0f921\"]],\"type\":\"heatmap\"}],\"heatmapgl\":[{\"colorbar\":{\"outlinewidth\":0,\"ticks\":\"\"},\"colorscale\":[[0.0,\"#0d0887\"],[0.1111111111111111,\"#46039f\"],[0.2222222222222222,\"#7201a8\"],[0.3333333333333333,\"#9c179e\"],[0.4444444444444444,\"#bd3786\"],[0.5555555555555556,\"#d8576b\"],[0.6666666666666666,\"#ed7953\"],[0.7777777777777778,\"#fb9f3a\"],[0.8888888888888888,\"#fdca26\"],[1.0,\"#f0f921\"]],\"type\":\"heatmapgl\"}],\"histogram\":[{\"marker\":{\"pattern\":{\"fillmode\":\"overlay\",\"size\":10,\"solidity\":0.2}},\"type\":\"histogram\"}],\"histogram2d\":[{\"colorbar\":{\"outlinewidth\":0,\"ticks\":\"\"},\"colorscale\":[[0.0,\"#0d0887\"],[0.1111111111111111,\"#46039f\"],[0.2222222222222222,\"#7201a8\"],[0.3333333333333333,\"#9c179e\"],[0.4444444444444444,\"#bd3786\"],[0.5555555555555556,\"#d8576b\"],[0.6666666666666666,\"#ed7953\"],[0.7777777777777778,\"#fb9f3a\"],[0.8888888888888888,\"#fdca26\"],[1.0,\"#f0f921\"]],\"type\":\"histogram2d\"}],\"histogram2dcontour\":[{\"colorbar\":{\"outlinewidth\":0,\"ticks\":\"\"},\"colorscale\":[[0.0,\"#0d0887\"],[0.1111111111111111,\"#46039f\"],[0.2222222222222222,\"#7201a8\"],[0.3333333333333333,\"#9c179e\"],[0.4444444444444444,\"#bd3786\"],[0.5555555555555556,\"#d8576b\"],[0.6666666666666666,\"#ed7953\"],[0.7777777777777778,\"#fb9f3a\"],[0.8888888888888888,\"#fdca26\"],[1.0,\"#f0f921\"]],\"type\":\"histogram2dcontour\"}],\"mesh3d\":[{\"colorbar\":{\"outlinewidth\":0,\"ticks\":\"\"},\"type\":\"mesh3d\"}],\"parcoords\":[{\"line\":{\"colorbar\":{\"outlinewidth\":0,\"ticks\":\"\"}},\"type\":\"parcoords\"}],\"pie\":[{\"automargin\":true,\"type\":\"pie\"}],\"scatter\":[{\"marker\":{\"colorbar\":{\"outlinewidth\":0,\"ticks\":\"\"}},\"type\":\"scatter\"}],\"scatter3d\":[{\"line\":{\"colorbar\":{\"outlinewidth\":0,\"ticks\":\"\"}},\"marker\":{\"colorbar\":{\"outlinewidth\":0,\"ticks\":\"\"}},\"type\":\"scatter3d\"}],\"scattercarpet\":[{\"marker\":{\"colorbar\":{\"outlinewidth\":0,\"ticks\":\"\"}},\"type\":\"scattercarpet\"}],\"scattergeo\":[{\"marker\":{\"colorbar\":{\"outlinewidth\":0,\"ticks\":\"\"}},\"type\":\"scattergeo\"}],\"scattergl\":[{\"marker\":{\"colorbar\":{\"outlinewidth\":0,\"ticks\":\"\"}},\"type\":\"scattergl\"}],\"scattermapbox\":[{\"marker\":{\"colorbar\":{\"outlinewidth\":0,\"ticks\":\"\"}},\"type\":\"scattermapbox\"}],\"scatterpolar\":[{\"marker\":{\"colorbar\":{\"outlinewidth\":0,\"ticks\":\"\"}},\"type\":\"scatterpolar\"}],\"scatterpolargl\":[{\"marker\":{\"colorbar\":{\"outlinewidth\":0,\"ticks\":\"\"}},\"type\":\"scatterpolargl\"}],\"scatterternary\":[{\"marker\":{\"colorbar\":{\"outlinewidth\":0,\"ticks\":\"\"}},\"type\":\"scatterternary\"}],\"surface\":[{\"colorbar\":{\"outlinewidth\":0,\"ticks\":\"\"},\"colorscale\":[[0.0,\"#0d0887\"],[0.1111111111111111,\"#46039f\"],[0.2222222222222222,\"#7201a8\"],[0.3333333333333333,\"#9c179e\"],[0.4444444444444444,\"#bd3786\"],[0.5555555555555556,\"#d8576b\"],[0.6666666666666666,\"#ed7953\"],[0.7777777777777778,\"#fb9f3a\"],[0.8888888888888888,\"#fdca26\"],[1.0,\"#f0f921\"]],\"type\":\"surface\"}],\"table\":[{\"cells\":{\"fill\":{\"color\":\"#EBF0F8\"},\"line\":{\"color\":\"white\"}},\"header\":{\"fill\":{\"color\":\"#C8D4E3\"},\"line\":{\"color\":\"white\"}},\"type\":\"table\"}]},\"layout\":{\"annotationdefaults\":{\"arrowcolor\":\"#2a3f5f\",\"arrowhead\":0,\"arrowwidth\":1},\"autotypenumbers\":\"strict\",\"coloraxis\":{\"colorbar\":{\"outlinewidth\":0,\"ticks\":\"\"}},\"colorscale\":{\"diverging\":[[0,\"#8e0152\"],[0.1,\"#c51b7d\"],[0.2,\"#de77ae\"],[0.3,\"#f1b6da\"],[0.4,\"#fde0ef\"],[0.5,\"#f7f7f7\"],[0.6,\"#e6f5d0\"],[0.7,\"#b8e186\"],[0.8,\"#7fbc41\"],[0.9,\"#4d9221\"],[1,\"#276419\"]],\"sequential\":[[0.0,\"#0d0887\"],[0.1111111111111111,\"#46039f\"],[0.2222222222222222,\"#7201a8\"],[0.3333333333333333,\"#9c179e\"],[0.4444444444444444,\"#bd3786\"],[0.5555555555555556,\"#d8576b\"],[0.6666666666666666,\"#ed7953\"],[0.7777777777777778,\"#fb9f3a\"],[0.8888888888888888,\"#fdca26\"],[1.0,\"#f0f921\"]],\"sequentialminus\":[[0.0,\"#0d0887\"],[0.1111111111111111,\"#46039f\"],[0.2222222222222222,\"#7201a8\"],[0.3333333333333333,\"#9c179e\"],[0.4444444444444444,\"#bd3786\"],[0.5555555555555556,\"#d8576b\"],[0.6666666666666666,\"#ed7953\"],[0.7777777777777778,\"#fb9f3a\"],[0.8888888888888888,\"#fdca26\"],[1.0,\"#f0f921\"]]},\"colorway\":[\"#636efa\",\"#EF553B\",\"#00cc96\",\"#ab63fa\",\"#FFA15A\",\"#19d3f3\",\"#FF6692\",\"#B6E880\",\"#FF97FF\",\"#FECB52\"],\"font\":{\"color\":\"#2a3f5f\"},\"geo\":{\"bgcolor\":\"white\",\"lakecolor\":\"white\",\"landcolor\":\"#E5ECF6\",\"showlakes\":true,\"showland\":true,\"subunitcolor\":\"white\"},\"hoverlabel\":{\"align\":\"left\"},\"hovermode\":\"closest\",\"mapbox\":{\"style\":\"light\"},\"paper_bgcolor\":\"white\",\"plot_bgcolor\":\"#E5ECF6\",\"polar\":{\"angularaxis\":{\"gridcolor\":\"white\",\"linecolor\":\"white\",\"ticks\":\"\"},\"bgcolor\":\"#E5ECF6\",\"radialaxis\":{\"gridcolor\":\"white\",\"linecolor\":\"white\",\"ticks\":\"\"}},\"scene\":{\"xaxis\":{\"backgroundcolor\":\"#E5ECF6\",\"gridcolor\":\"white\",\"gridwidth\":2,\"linecolor\":\"white\",\"showbackground\":true,\"ticks\":\"\",\"zerolinecolor\":\"white\"},\"yaxis\":{\"backgroundcolor\":\"#E5ECF6\",\"gridcolor\":\"white\",\"gridwidth\":2,\"linecolor\":\"white\",\"showbackground\":true,\"ticks\":\"\",\"zerolinecolor\":\"white\"},\"zaxis\":{\"backgroundcolor\":\"#E5ECF6\",\"gridcolor\":\"white\",\"gridwidth\":2,\"linecolor\":\"white\",\"showbackground\":true,\"ticks\":\"\",\"zerolinecolor\":\"white\"}},\"shapedefaults\":{\"line\":{\"color\":\"#2a3f5f\"}},\"ternary\":{\"aaxis\":{\"gridcolor\":\"white\",\"linecolor\":\"white\",\"ticks\":\"\"},\"baxis\":{\"gridcolor\":\"white\",\"linecolor\":\"white\",\"ticks\":\"\"},\"bgcolor\":\"#E5ECF6\",\"caxis\":{\"gridcolor\":\"white\",\"linecolor\":\"white\",\"ticks\":\"\"}},\"title\":{\"x\":0.05},\"xaxis\":{\"automargin\":true,\"gridcolor\":\"white\",\"linecolor\":\"white\",\"ticks\":\"\",\"title\":{\"standoff\":15},\"zerolinecolor\":\"white\",\"zerolinewidth\":2},\"yaxis\":{\"automargin\":true,\"gridcolor\":\"white\",\"linecolor\":\"white\",\"ticks\":\"\",\"title\":{\"standoff\":15},\"zerolinecolor\":\"white\",\"zerolinewidth\":2}}},\"xaxis\":{\"anchor\":\"y\",\"domain\":[0.0,1.0],\"title\":{\"text\":\"index\"}},\"yaxis\":{\"anchor\":\"x\",\"domain\":[0.0,1.0],\"title\":{\"text\":\"value\"}}},                        {\"responsive\": true}                    ).then(function(){\n",
       "                            \n",
       "var gd = document.getElementById('fd5c9e37-2bb8-4d15-90b4-95facf968ee0');\n",
       "var x = new MutationObserver(function (mutations, observer) {{\n",
       "        var display = window.getComputedStyle(gd).display;\n",
       "        if (!display || display === 'none') {{\n",
       "            console.log([gd, 'removed!']);\n",
       "            Plotly.purge(gd);\n",
       "            observer.disconnect();\n",
       "        }}\n",
       "}});\n",
       "\n",
       "// Listen for the removal of the full notebook cells\n",
       "var notebookContainer = gd.closest('#notebook-container');\n",
       "if (notebookContainer) {{\n",
       "    x.observe(notebookContainer, {childList: true});\n",
       "}}\n",
       "\n",
       "// Listen for the clearing of the current output cell\n",
       "var outputEl = gd.closest('.output');\n",
       "if (outputEl) {{\n",
       "    x.observe(outputEl, {childList: true});\n",
       "}}\n",
       "\n",
       "                        })                };                });            </script>        </div>"
      ]
     },
     "metadata": {},
     "output_type": "display_data"
    }
   ],
   "source": [
    "import plotly.express as px\n",
    "\n",
    "fig = px.scatter(df, y=[\"heating_temperature\"], color=\"state\", color_discrete_sequence=['#636EFA', '#00CC96', '#EF553B', '#AB63FA'])\n",
    "fig.show()\n",
    "fig = px.scatter(df, y=[\"cooling_temperature\"], color=\"state\", color_discrete_sequence=['#636EFA', '#00CC96', '#EF553B', '#AB63FA'])\n",
    "fig.show()"
   ]
  },
  {
   "cell_type": "code",
   "execution_count": null,
   "metadata": {},
   "outputs": [],
   "source": []
  }
 ],
 "metadata": {
  "kernelspec": {
   "display_name": "Python 3",
   "language": "python",
   "name": "python3"
  },
  "language_info": {
   "codemirror_mode": {
    "name": "ipython",
    "version": 3
   },
   "file_extension": ".py",
   "mimetype": "text/x-python",
   "name": "python",
   "nbconvert_exporter": "python",
   "pygments_lexer": "ipython3",
   "version": "3.7.4"
  }
 },
 "nbformat": 4,
 "nbformat_minor": 2
}
